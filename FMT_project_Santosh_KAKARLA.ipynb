{
 "cells": [
  {
   "cell_type": "code",
   "execution_count": 216,
   "metadata": {},
   "outputs": [],
   "source": [
    "# Import standard libraries\n",
    "import pandas as pd\n",
    "import numpy as np\n",
    "import seaborn as sns\n",
    "import matplotlib.pyplot as plt\n",
    "import json\n",
    "from datetime import datetime\n",
    "import pickle\n",
    "%matplotlib inline\n",
    "\n",
    "# Import data preparation libraries\n",
    "from matplotlib.cbook import boxplot_stats  \n",
    "from sklearn.model_selection import train_test_split\n",
    "from scipy.stats import zscore\n",
    "from sklearn.impute import SimpleImputer\n",
    "from sklearn.pipeline import Pipeline \n",
    "from sklearn.utils import resample\n",
    "\n",
    "# Import machine learning libraries\n",
    "from sklearn.linear_model import LogisticRegression\n",
    "from sklearn.ensemble import RandomForestClassifier\n",
    "from xgboost import XGBClassifier\n",
    "from sklearn.decomposition import PCA\n",
    "from sklearn import metrics\n",
    "from sklearn.model_selection import KFold\n",
    "from sklearn.model_selection import RepeatedStratifiedKFold\n",
    "from sklearn.model_selection import cross_val_score\n",
    "from sklearn.model_selection import GridSearchCV\n",
    "from imblearn.over_sampling import SMOTE "
   ]
  },
  {
   "cell_type": "markdown",
   "metadata": {},
   "source": [
    "<span style=\"font-family: Arial; font-weight:bold;font-size:2em;color:#00b3e5;\">  1. Import and explore data:"
   ]
  },
  {
   "cell_type": "code",
   "execution_count": 217,
   "metadata": {},
   "outputs": [
    {
     "name": "stdout",
     "output_type": "stream",
     "text": [
      "927664\n",
      "(1567, 592)\n"
     ]
    }
   ],
   "source": [
    "data_raw = pd.read_csv('signal-data.csv')\n",
    "print(data_raw.size)\n",
    "print(data_raw.shape)"
   ]
  },
  {
   "cell_type": "code",
   "execution_count": 218,
   "metadata": {},
   "outputs": [
    {
     "name": "stdout",
     "output_type": "stream",
     "text": [
      "<class 'pandas.core.frame.DataFrame'>\n",
      "RangeIndex: 1567 entries, 0 to 1566\n",
      "Columns: 592 entries, Time to Pass/Fail\n",
      "dtypes: float64(590), int64(1), object(1)\n",
      "memory usage: 7.1+ MB\n"
     ]
    }
   ],
   "source": [
    "data_raw.info()"
   ]
  },
  {
   "cell_type": "code",
   "execution_count": 219,
   "metadata": {},
   "outputs": [
    {
     "data": {
      "text/plain": [
       "Time          object\n",
       "0            float64\n",
       "1            float64\n",
       "2            float64\n",
       "3            float64\n",
       "              ...   \n",
       "586          float64\n",
       "587          float64\n",
       "588          float64\n",
       "589          float64\n",
       "Pass/Fail      int64\n",
       "Length: 592, dtype: object"
      ]
     },
     "execution_count": 219,
     "metadata": {},
     "output_type": "execute_result"
    }
   ],
   "source": [
    "data_raw.dtypes"
   ]
  },
  {
   "cell_type": "markdown",
   "metadata": {},
   "source": [
    "- There are 590 columns of float64 datatype, 1 column titled 'Pass/Fail' of int64 datatype and 1 time series object.\n",
    "- Since it is given that several of these features are just noise, we try to identify the critical features before applying the machine learning algorithms."
   ]
  },
  {
   "cell_type": "code",
   "execution_count": 220,
   "metadata": {},
   "outputs": [
    {
     "data": {
      "text/html": [
       "<div>\n",
       "<style scoped>\n",
       "    .dataframe tbody tr th:only-of-type {\n",
       "        vertical-align: middle;\n",
       "    }\n",
       "\n",
       "    .dataframe tbody tr th {\n",
       "        vertical-align: top;\n",
       "    }\n",
       "\n",
       "    .dataframe thead th {\n",
       "        text-align: right;\n",
       "    }\n",
       "</style>\n",
       "<table border=\"1\" class=\"dataframe\">\n",
       "  <thead>\n",
       "    <tr style=\"text-align: right;\">\n",
       "      <th></th>\n",
       "      <th>Time</th>\n",
       "      <th>0</th>\n",
       "      <th>1</th>\n",
       "      <th>2</th>\n",
       "      <th>3</th>\n",
       "      <th>4</th>\n",
       "      <th>5</th>\n",
       "      <th>6</th>\n",
       "      <th>7</th>\n",
       "      <th>8</th>\n",
       "      <th>...</th>\n",
       "      <th>581</th>\n",
       "      <th>582</th>\n",
       "      <th>583</th>\n",
       "      <th>584</th>\n",
       "      <th>585</th>\n",
       "      <th>586</th>\n",
       "      <th>587</th>\n",
       "      <th>588</th>\n",
       "      <th>589</th>\n",
       "      <th>Pass/Fail</th>\n",
       "    </tr>\n",
       "  </thead>\n",
       "  <tbody>\n",
       "    <tr>\n",
       "      <th>0</th>\n",
       "      <td>2008-07-19 11:55:00</td>\n",
       "      <td>3030.93</td>\n",
       "      <td>2564.00</td>\n",
       "      <td>2187.7333</td>\n",
       "      <td>1411.1265</td>\n",
       "      <td>1.3602</td>\n",
       "      <td>100.0</td>\n",
       "      <td>97.6133</td>\n",
       "      <td>0.1242</td>\n",
       "      <td>1.5005</td>\n",
       "      <td>...</td>\n",
       "      <td>NaN</td>\n",
       "      <td>0.5005</td>\n",
       "      <td>0.0118</td>\n",
       "      <td>0.0035</td>\n",
       "      <td>2.3630</td>\n",
       "      <td>NaN</td>\n",
       "      <td>NaN</td>\n",
       "      <td>NaN</td>\n",
       "      <td>NaN</td>\n",
       "      <td>-1</td>\n",
       "    </tr>\n",
       "    <tr>\n",
       "      <th>1</th>\n",
       "      <td>2008-07-19 12:32:00</td>\n",
       "      <td>3095.78</td>\n",
       "      <td>2465.14</td>\n",
       "      <td>2230.4222</td>\n",
       "      <td>1463.6606</td>\n",
       "      <td>0.8294</td>\n",
       "      <td>100.0</td>\n",
       "      <td>102.3433</td>\n",
       "      <td>0.1247</td>\n",
       "      <td>1.4966</td>\n",
       "      <td>...</td>\n",
       "      <td>208.2045</td>\n",
       "      <td>0.5019</td>\n",
       "      <td>0.0223</td>\n",
       "      <td>0.0055</td>\n",
       "      <td>4.4447</td>\n",
       "      <td>0.0096</td>\n",
       "      <td>0.0201</td>\n",
       "      <td>0.0060</td>\n",
       "      <td>208.2045</td>\n",
       "      <td>-1</td>\n",
       "    </tr>\n",
       "    <tr>\n",
       "      <th>2</th>\n",
       "      <td>2008-07-19 13:17:00</td>\n",
       "      <td>2932.61</td>\n",
       "      <td>2559.94</td>\n",
       "      <td>2186.4111</td>\n",
       "      <td>1698.0172</td>\n",
       "      <td>1.5102</td>\n",
       "      <td>100.0</td>\n",
       "      <td>95.4878</td>\n",
       "      <td>0.1241</td>\n",
       "      <td>1.4436</td>\n",
       "      <td>...</td>\n",
       "      <td>82.8602</td>\n",
       "      <td>0.4958</td>\n",
       "      <td>0.0157</td>\n",
       "      <td>0.0039</td>\n",
       "      <td>3.1745</td>\n",
       "      <td>0.0584</td>\n",
       "      <td>0.0484</td>\n",
       "      <td>0.0148</td>\n",
       "      <td>82.8602</td>\n",
       "      <td>1</td>\n",
       "    </tr>\n",
       "    <tr>\n",
       "      <th>3</th>\n",
       "      <td>2008-07-19 14:43:00</td>\n",
       "      <td>2988.72</td>\n",
       "      <td>2479.90</td>\n",
       "      <td>2199.0333</td>\n",
       "      <td>909.7926</td>\n",
       "      <td>1.3204</td>\n",
       "      <td>100.0</td>\n",
       "      <td>104.2367</td>\n",
       "      <td>0.1217</td>\n",
       "      <td>1.4882</td>\n",
       "      <td>...</td>\n",
       "      <td>73.8432</td>\n",
       "      <td>0.4990</td>\n",
       "      <td>0.0103</td>\n",
       "      <td>0.0025</td>\n",
       "      <td>2.0544</td>\n",
       "      <td>0.0202</td>\n",
       "      <td>0.0149</td>\n",
       "      <td>0.0044</td>\n",
       "      <td>73.8432</td>\n",
       "      <td>-1</td>\n",
       "    </tr>\n",
       "    <tr>\n",
       "      <th>4</th>\n",
       "      <td>2008-07-19 15:22:00</td>\n",
       "      <td>3032.24</td>\n",
       "      <td>2502.87</td>\n",
       "      <td>2233.3667</td>\n",
       "      <td>1326.5200</td>\n",
       "      <td>1.5334</td>\n",
       "      <td>100.0</td>\n",
       "      <td>100.3967</td>\n",
       "      <td>0.1235</td>\n",
       "      <td>1.5031</td>\n",
       "      <td>...</td>\n",
       "      <td>NaN</td>\n",
       "      <td>0.4800</td>\n",
       "      <td>0.4766</td>\n",
       "      <td>0.1045</td>\n",
       "      <td>99.3032</td>\n",
       "      <td>0.0202</td>\n",
       "      <td>0.0149</td>\n",
       "      <td>0.0044</td>\n",
       "      <td>73.8432</td>\n",
       "      <td>-1</td>\n",
       "    </tr>\n",
       "  </tbody>\n",
       "</table>\n",
       "<p>5 rows × 592 columns</p>\n",
       "</div>"
      ],
      "text/plain": [
       "                  Time        0        1          2          3       4      5  \\\n",
       "0  2008-07-19 11:55:00  3030.93  2564.00  2187.7333  1411.1265  1.3602  100.0   \n",
       "1  2008-07-19 12:32:00  3095.78  2465.14  2230.4222  1463.6606  0.8294  100.0   \n",
       "2  2008-07-19 13:17:00  2932.61  2559.94  2186.4111  1698.0172  1.5102  100.0   \n",
       "3  2008-07-19 14:43:00  2988.72  2479.90  2199.0333   909.7926  1.3204  100.0   \n",
       "4  2008-07-19 15:22:00  3032.24  2502.87  2233.3667  1326.5200  1.5334  100.0   \n",
       "\n",
       "          6       7       8  ...       581     582     583     584      585  \\\n",
       "0   97.6133  0.1242  1.5005  ...       NaN  0.5005  0.0118  0.0035   2.3630   \n",
       "1  102.3433  0.1247  1.4966  ...  208.2045  0.5019  0.0223  0.0055   4.4447   \n",
       "2   95.4878  0.1241  1.4436  ...   82.8602  0.4958  0.0157  0.0039   3.1745   \n",
       "3  104.2367  0.1217  1.4882  ...   73.8432  0.4990  0.0103  0.0025   2.0544   \n",
       "4  100.3967  0.1235  1.5031  ...       NaN  0.4800  0.4766  0.1045  99.3032   \n",
       "\n",
       "      586     587     588       589  Pass/Fail  \n",
       "0     NaN     NaN     NaN       NaN         -1  \n",
       "1  0.0096  0.0201  0.0060  208.2045         -1  \n",
       "2  0.0584  0.0484  0.0148   82.8602          1  \n",
       "3  0.0202  0.0149  0.0044   73.8432         -1  \n",
       "4  0.0202  0.0149  0.0044   73.8432         -1  \n",
       "\n",
       "[5 rows x 592 columns]"
      ]
     },
     "execution_count": 220,
     "metadata": {},
     "output_type": "execute_result"
    }
   ],
   "source": [
    "data_raw.head()"
   ]
  },
  {
   "cell_type": "code",
   "execution_count": 221,
   "metadata": {},
   "outputs": [
    {
     "data": {
      "text/plain": [
       "Time         1534\n",
       "0            1520\n",
       "1            1504\n",
       "2             507\n",
       "3             518\n",
       "             ... \n",
       "586           322\n",
       "587           260\n",
       "588           120\n",
       "589           611\n",
       "Pass/Fail       2\n",
       "Length: 592, dtype: int64"
      ]
     },
     "execution_count": 221,
     "metadata": {},
     "output_type": "execute_result"
    }
   ],
   "source": [
    "data_raw.nunique()"
   ]
  },
  {
   "cell_type": "code",
   "execution_count": 222,
   "metadata": {},
   "outputs": [
    {
     "data": {
      "text/plain": [
       "Time          0\n",
       "0             6\n",
       "1             7\n",
       "2            14\n",
       "3            14\n",
       "             ..\n",
       "586           1\n",
       "587           1\n",
       "588           1\n",
       "589           1\n",
       "Pass/Fail     0\n",
       "Length: 592, dtype: int64"
      ]
     },
     "execution_count": 222,
     "metadata": {},
     "output_type": "execute_result"
    }
   ],
   "source": [
    "data_raw.isna().sum()"
   ]
  },
  {
   "cell_type": "code",
   "execution_count": 223,
   "metadata": {},
   "outputs": [
    {
     "data": {
      "text/plain": [
       "Time          0\n",
       "0             6\n",
       "1             7\n",
       "2            14\n",
       "3            14\n",
       "             ..\n",
       "586           1\n",
       "587           1\n",
       "588           1\n",
       "589           1\n",
       "Pass/Fail     0\n",
       "Length: 592, dtype: int64"
      ]
     },
     "execution_count": 223,
     "metadata": {},
     "output_type": "execute_result"
    }
   ],
   "source": [
    "data_raw.isnull().sum()"
   ]
  },
  {
   "cell_type": "markdown",
   "metadata": {},
   "source": [
    "- Null values will be imputed in the next step."
   ]
  },
  {
   "cell_type": "markdown",
   "metadata": {},
   "source": [
    "<span style=\"font-family: Arial; font-weight:bold;font-size:2em;color:#00b3e5;\">  2. Data cleansing"
   ]
  },
  {
   "cell_type": "code",
   "execution_count": 1,
   "metadata": {},
   "outputs": [
    {
     "ename": "NameError",
     "evalue": "name 'data_raw' is not defined",
     "output_type": "error",
     "traceback": [
      "\u001b[1;31m---------------------------------------------------------------------------\u001b[0m",
      "\u001b[1;31mNameError\u001b[0m                                 Traceback (most recent call last)",
      "\u001b[1;32m<ipython-input-1-b8cdaae631e0>\u001b[0m in \u001b[0;36m<module>\u001b[1;34m\u001b[0m\n\u001b[1;32m----> 1\u001b[1;33m \u001b[0mtime_data\u001b[0m \u001b[1;33m=\u001b[0m \u001b[0mdata_raw\u001b[0m\u001b[1;33m[\u001b[0m\u001b[1;34m'Time'\u001b[0m\u001b[1;33m]\u001b[0m\u001b[1;33m\u001b[0m\u001b[1;33m\u001b[0m\u001b[0m\n\u001b[0m\u001b[0;32m      2\u001b[0m \u001b[0mdata_raw\u001b[0m \u001b[1;33m=\u001b[0m \u001b[0mdata_raw\u001b[0m\u001b[1;33m.\u001b[0m\u001b[0mdrop\u001b[0m\u001b[1;33m(\u001b[0m\u001b[1;33m[\u001b[0m\u001b[1;34m'Time'\u001b[0m\u001b[1;33m]\u001b[0m\u001b[1;33m,\u001b[0m\u001b[0maxis\u001b[0m\u001b[1;33m=\u001b[0m\u001b[1;36m1\u001b[0m\u001b[1;33m)\u001b[0m\u001b[1;33m\u001b[0m\u001b[1;33m\u001b[0m\u001b[0m\n",
      "\u001b[1;31mNameError\u001b[0m: name 'data_raw' is not defined"
     ]
    }
   ],
   "source": [
    "time_data = data_raw['Time']\n",
    "data_raw = data_raw.drop(['Time'],axis=1)"
   ]
  },
  {
   "cell_type": "code",
   "execution_count": 225,
   "metadata": {},
   "outputs": [
    {
     "data": {
      "text/plain": [
       "28"
      ]
     },
     "execution_count": 225,
     "metadata": {},
     "output_type": "execute_result"
    }
   ],
   "source": [
    "len(data_raw.columns[data_raw.isna().mean()>0.50])"
   ]
  },
  {
   "cell_type": "markdown",
   "metadata": {},
   "source": [
    "- We observed that atleast 50% of the data is missing in 28 columns.\n",
    "- We remove this columns in the next step."
   ]
  },
  {
   "cell_type": "code",
   "execution_count": 226,
   "metadata": {},
   "outputs": [
    {
     "name": "stdout",
     "output_type": "stream",
     "text": [
      "Index(['72', '73', '85', '109', '110', '111', '157', '158', '220', '244',\n",
      "       '245', '246', '292', '293', '345', '346', '358', '382', '383', '384',\n",
      "       '492', '516', '517', '518', '578', '579', '580', '581'],\n",
      "      dtype='object')\n"
     ]
    }
   ],
   "source": [
    "drop_missing_val_cols = data_raw.columns[data_raw.isna().mean()>=0.50]\n",
    "print(drop_missing_val_cols)\n",
    "data_raw = data_raw.drop(drop_missing_val_cols,axis=1)"
   ]
  },
  {
   "cell_type": "code",
   "execution_count": 227,
   "metadata": {},
   "outputs": [
    {
     "data": {
      "text/plain": [
       "(1567, 563)"
      ]
     },
     "execution_count": 227,
     "metadata": {},
     "output_type": "execute_result"
    }
   ],
   "source": [
    "data_raw.shape"
   ]
  },
  {
   "cell_type": "markdown",
   "metadata": {},
   "source": [
    "- We reduced to 563 features by dropping 28 columns in which atleast 50% of the data is missing."
   ]
  },
  {
   "cell_type": "code",
   "execution_count": 228,
   "metadata": {},
   "outputs": [],
   "source": [
    "# Impute the null values using the median values in the respective column\n",
    "columns = data_raw.columns\n",
    "imputer = SimpleImputer(missing_values = np.nan, strategy ='median',copy=False)\n",
    "data_raw = pd.DataFrame(imputer.fit_transform(data_raw))\n",
    "data_raw.columns = columns"
   ]
  },
  {
   "cell_type": "code",
   "execution_count": 229,
   "metadata": {},
   "outputs": [],
   "source": [
    "# We replace class represntation of pass category with '1' and the fail category with '0'\n",
    "data_raw['Pass/Fail'] = data_raw['Pass/Fail'].replace(1,0)\n",
    "data_raw['Pass/Fail'] = data_raw['Pass/Fail'].replace(-1,1)"
   ]
  },
  {
   "cell_type": "code",
   "execution_count": 230,
   "metadata": {},
   "outputs": [
    {
     "data": {
      "text/plain": [
       "1.0    1463\n",
       "0.0     104\n",
       "Name: Pass/Fail, dtype: int64"
      ]
     },
     "execution_count": 230,
     "metadata": {},
     "output_type": "execute_result"
    }
   ],
   "source": [
    "data_raw['Pass/Fail'].value_counts()"
   ]
  },
  {
   "cell_type": "markdown",
   "metadata": {},
   "source": [
    "<span style=\"font-family: Arial; font-weight:bold;font-size:2em;color:#00b3e5;\">  3. Data analysis & visualization"
   ]
  },
  {
   "cell_type": "code",
   "execution_count": 231,
   "metadata": {},
   "outputs": [
    {
     "data": {
      "text/html": [
       "<div>\n",
       "<style scoped>\n",
       "    .dataframe tbody tr th:only-of-type {\n",
       "        vertical-align: middle;\n",
       "    }\n",
       "\n",
       "    .dataframe tbody tr th {\n",
       "        vertical-align: top;\n",
       "    }\n",
       "\n",
       "    .dataframe thead th {\n",
       "        text-align: right;\n",
       "    }\n",
       "</style>\n",
       "<table border=\"1\" class=\"dataframe\">\n",
       "  <thead>\n",
       "    <tr style=\"text-align: right;\">\n",
       "      <th></th>\n",
       "      <th>count</th>\n",
       "      <th>mean</th>\n",
       "      <th>std</th>\n",
       "      <th>min</th>\n",
       "      <th>25%</th>\n",
       "      <th>50%</th>\n",
       "      <th>75%</th>\n",
       "      <th>max</th>\n",
       "    </tr>\n",
       "  </thead>\n",
       "  <tbody>\n",
       "    <tr>\n",
       "      <th>0</th>\n",
       "      <td>1567.0</td>\n",
       "      <td>3014.441551</td>\n",
       "      <td>73.480841</td>\n",
       "      <td>2743.2400</td>\n",
       "      <td>2966.66500</td>\n",
       "      <td>3011.4900</td>\n",
       "      <td>3056.5400</td>\n",
       "      <td>3356.3500</td>\n",
       "    </tr>\n",
       "    <tr>\n",
       "      <th>1</th>\n",
       "      <td>1567.0</td>\n",
       "      <td>2495.866110</td>\n",
       "      <td>80.228143</td>\n",
       "      <td>2158.7500</td>\n",
       "      <td>2452.88500</td>\n",
       "      <td>2499.4050</td>\n",
       "      <td>2538.7450</td>\n",
       "      <td>2846.4400</td>\n",
       "    </tr>\n",
       "    <tr>\n",
       "      <th>2</th>\n",
       "      <td>1567.0</td>\n",
       "      <td>2200.551958</td>\n",
       "      <td>29.380973</td>\n",
       "      <td>2060.6600</td>\n",
       "      <td>2181.09995</td>\n",
       "      <td>2201.0667</td>\n",
       "      <td>2218.0555</td>\n",
       "      <td>2315.2667</td>\n",
       "    </tr>\n",
       "    <tr>\n",
       "      <th>3</th>\n",
       "      <td>1567.0</td>\n",
       "      <td>1395.383474</td>\n",
       "      <td>439.837330</td>\n",
       "      <td>0.0000</td>\n",
       "      <td>1083.88580</td>\n",
       "      <td>1285.2144</td>\n",
       "      <td>1590.1699</td>\n",
       "      <td>3715.0417</td>\n",
       "    </tr>\n",
       "    <tr>\n",
       "      <th>4</th>\n",
       "      <td>1567.0</td>\n",
       "      <td>4.171281</td>\n",
       "      <td>56.103721</td>\n",
       "      <td>0.6815</td>\n",
       "      <td>1.01770</td>\n",
       "      <td>1.3168</td>\n",
       "      <td>1.5188</td>\n",
       "      <td>1114.5366</td>\n",
       "    </tr>\n",
       "    <tr>\n",
       "      <th>...</th>\n",
       "      <td>...</td>\n",
       "      <td>...</td>\n",
       "      <td>...</td>\n",
       "      <td>...</td>\n",
       "      <td>...</td>\n",
       "      <td>...</td>\n",
       "      <td>...</td>\n",
       "      <td>...</td>\n",
       "    </tr>\n",
       "    <tr>\n",
       "      <th>586</th>\n",
       "      <td>1567.0</td>\n",
       "      <td>0.021458</td>\n",
       "      <td>0.012354</td>\n",
       "      <td>-0.0169</td>\n",
       "      <td>0.01345</td>\n",
       "      <td>0.0205</td>\n",
       "      <td>0.0276</td>\n",
       "      <td>0.1028</td>\n",
       "    </tr>\n",
       "    <tr>\n",
       "      <th>587</th>\n",
       "      <td>1567.0</td>\n",
       "      <td>0.016474</td>\n",
       "      <td>0.008805</td>\n",
       "      <td>0.0032</td>\n",
       "      <td>0.01060</td>\n",
       "      <td>0.0148</td>\n",
       "      <td>0.0203</td>\n",
       "      <td>0.0799</td>\n",
       "    </tr>\n",
       "    <tr>\n",
       "      <th>588</th>\n",
       "      <td>1567.0</td>\n",
       "      <td>0.005283</td>\n",
       "      <td>0.002866</td>\n",
       "      <td>0.0010</td>\n",
       "      <td>0.00330</td>\n",
       "      <td>0.0046</td>\n",
       "      <td>0.0064</td>\n",
       "      <td>0.0286</td>\n",
       "    </tr>\n",
       "    <tr>\n",
       "      <th>589</th>\n",
       "      <td>1567.0</td>\n",
       "      <td>99.652345</td>\n",
       "      <td>93.864558</td>\n",
       "      <td>0.0000</td>\n",
       "      <td>44.36860</td>\n",
       "      <td>71.9005</td>\n",
       "      <td>114.7497</td>\n",
       "      <td>737.3048</td>\n",
       "    </tr>\n",
       "    <tr>\n",
       "      <th>Pass/Fail</th>\n",
       "      <td>1567.0</td>\n",
       "      <td>0.933631</td>\n",
       "      <td>0.249005</td>\n",
       "      <td>0.0000</td>\n",
       "      <td>1.00000</td>\n",
       "      <td>1.0000</td>\n",
       "      <td>1.0000</td>\n",
       "      <td>1.0000</td>\n",
       "    </tr>\n",
       "  </tbody>\n",
       "</table>\n",
       "<p>563 rows × 8 columns</p>\n",
       "</div>"
      ],
      "text/plain": [
       "            count         mean         std        min         25%        50%  \\\n",
       "0          1567.0  3014.441551   73.480841  2743.2400  2966.66500  3011.4900   \n",
       "1          1567.0  2495.866110   80.228143  2158.7500  2452.88500  2499.4050   \n",
       "2          1567.0  2200.551958   29.380973  2060.6600  2181.09995  2201.0667   \n",
       "3          1567.0  1395.383474  439.837330     0.0000  1083.88580  1285.2144   \n",
       "4          1567.0     4.171281   56.103721     0.6815     1.01770     1.3168   \n",
       "...           ...          ...         ...        ...         ...        ...   \n",
       "586        1567.0     0.021458    0.012354    -0.0169     0.01345     0.0205   \n",
       "587        1567.0     0.016474    0.008805     0.0032     0.01060     0.0148   \n",
       "588        1567.0     0.005283    0.002866     0.0010     0.00330     0.0046   \n",
       "589        1567.0    99.652345   93.864558     0.0000    44.36860    71.9005   \n",
       "Pass/Fail  1567.0     0.933631    0.249005     0.0000     1.00000     1.0000   \n",
       "\n",
       "                 75%        max  \n",
       "0          3056.5400  3356.3500  \n",
       "1          2538.7450  2846.4400  \n",
       "2          2218.0555  2315.2667  \n",
       "3          1590.1699  3715.0417  \n",
       "4             1.5188  1114.5366  \n",
       "...              ...        ...  \n",
       "586           0.0276     0.1028  \n",
       "587           0.0203     0.0799  \n",
       "588           0.0064     0.0286  \n",
       "589         114.7497   737.3048  \n",
       "Pass/Fail     1.0000     1.0000  \n",
       "\n",
       "[563 rows x 8 columns]"
      ]
     },
     "execution_count": 231,
     "metadata": {},
     "output_type": "execute_result"
    }
   ],
   "source": [
    "# Statistical analysis of the data\n",
    "data_raw.describe().transpose()"
   ]
  },
  {
   "cell_type": "code",
   "execution_count": 232,
   "metadata": {},
   "outputs": [
    {
     "data": {
      "text/plain": [
       "116"
      ]
     },
     "execution_count": 232,
     "metadata": {},
     "output_type": "execute_result"
    }
   ],
   "source": [
    "np.sum(data_raw.describe().transpose()['min'].values==data_raw.describe().transpose()['max'].values)"
   ]
  },
  {
   "cell_type": "markdown",
   "metadata": {},
   "source": [
    "- We observe that 116 columns have constant data.\n",
    "- We drop these columns as there is no variance in the data."
   ]
  },
  {
   "cell_type": "code",
   "execution_count": 233,
   "metadata": {},
   "outputs": [],
   "source": [
    "drop_constant_values_cols = data_raw.describe().transpose()[data_raw.describe().transpose()['min'].values==data_raw.describe().transpose()['max'].values].index"
   ]
  },
  {
   "cell_type": "code",
   "execution_count": 234,
   "metadata": {},
   "outputs": [
    {
     "data": {
      "text/plain": [
       "Index(['5', '13', '42', '49', '52', '69', '97', '141', '149', '178',\n",
       "       ...\n",
       "       '529', '530', '531', '532', '533', '534', '535', '536', '537', '538'],\n",
       "      dtype='object', length=116)"
      ]
     },
     "execution_count": 234,
     "metadata": {},
     "output_type": "execute_result"
    }
   ],
   "source": [
    "drop_constant_values_cols"
   ]
  },
  {
   "cell_type": "code",
   "execution_count": 235,
   "metadata": {},
   "outputs": [],
   "source": [
    "data_raw=data_raw.drop(drop_constant_values_cols,axis=1)"
   ]
  },
  {
   "cell_type": "code",
   "execution_count": 236,
   "metadata": {},
   "outputs": [
    {
     "data": {
      "text/plain": [
       "(1567, 447)"
      ]
     },
     "execution_count": 236,
     "metadata": {},
     "output_type": "execute_result"
    }
   ],
   "source": [
    "data_raw.shape"
   ]
  },
  {
   "cell_type": "markdown",
   "metadata": {},
   "source": [
    "- Now we came down to 447 features."
   ]
  },
  {
   "cell_type": "code",
   "execution_count": 237,
   "metadata": {},
   "outputs": [],
   "source": [
    "#data_raw.corr().style.background_gradient(cmap='BuGn')"
   ]
  },
  {
   "cell_type": "markdown",
   "metadata": {},
   "source": [
    "- In the next step, we identify the highly correlated features and drop the corresponding columns.\n",
    "- We define the highly correlated features as the ones that have correlation coefficient greater than 0.7"
   ]
  },
  {
   "cell_type": "code",
   "execution_count": 238,
   "metadata": {},
   "outputs": [],
   "source": [
    "corr_mat = data_raw.corr()"
   ]
  },
  {
   "cell_type": "code",
   "execution_count": 239,
   "metadata": {},
   "outputs": [],
   "source": [
    "threshold = 0.7\n",
    "drop_corr_cols = [(corr_mat.columns.values[j]) for j in range(len(corr_mat.columns)-1) for i in range(len(corr_mat.index.values)-1) if i!=j and corr_mat.iloc[i,j]>threshold]"
   ]
  },
  {
   "cell_type": "code",
   "execution_count": 240,
   "metadata": {},
   "outputs": [
    {
     "data": {
      "text/plain": [
       "330"
      ]
     },
     "execution_count": 240,
     "metadata": {},
     "output_type": "execute_result"
    }
   ],
   "source": [
    "drop_corr_cols = set(drop_corr_cols)\n",
    "len(drop_corr_cols)"
   ]
  },
  {
   "cell_type": "markdown",
   "metadata": {},
   "source": [
    "- We observe that 330 columns are highly correlated with the rest of the columns."
   ]
  },
  {
   "cell_type": "code",
   "execution_count": 241,
   "metadata": {},
   "outputs": [
    {
     "data": {
      "text/html": [
       "<div>\n",
       "<style scoped>\n",
       "    .dataframe tbody tr th:only-of-type {\n",
       "        vertical-align: middle;\n",
       "    }\n",
       "\n",
       "    .dataframe tbody tr th {\n",
       "        vertical-align: top;\n",
       "    }\n",
       "\n",
       "    .dataframe thead th {\n",
       "        text-align: right;\n",
       "    }\n",
       "</style>\n",
       "<table border=\"1\" class=\"dataframe\">\n",
       "  <thead>\n",
       "    <tr style=\"text-align: right;\">\n",
       "      <th></th>\n",
       "      <th>0</th>\n",
       "      <th>1</th>\n",
       "      <th>2</th>\n",
       "      <th>3</th>\n",
       "      <th>6</th>\n",
       "      <th>7</th>\n",
       "      <th>8</th>\n",
       "      <th>9</th>\n",
       "      <th>10</th>\n",
       "      <th>12</th>\n",
       "      <th>...</th>\n",
       "      <th>548</th>\n",
       "      <th>558</th>\n",
       "      <th>562</th>\n",
       "      <th>563</th>\n",
       "      <th>570</th>\n",
       "      <th>571</th>\n",
       "      <th>582</th>\n",
       "      <th>586</th>\n",
       "      <th>589</th>\n",
       "      <th>Pass/Fail</th>\n",
       "    </tr>\n",
       "  </thead>\n",
       "  <tbody>\n",
       "    <tr>\n",
       "      <th>0</th>\n",
       "      <td>3030.93</td>\n",
       "      <td>2564.00</td>\n",
       "      <td>2187.7333</td>\n",
       "      <td>1411.1265</td>\n",
       "      <td>97.6133</td>\n",
       "      <td>0.1242</td>\n",
       "      <td>1.5005</td>\n",
       "      <td>0.0162</td>\n",
       "      <td>-0.0034</td>\n",
       "      <td>202.4396</td>\n",
       "      <td>...</td>\n",
       "      <td>75.752</td>\n",
       "      <td>1.0344</td>\n",
       "      <td>264.272</td>\n",
       "      <td>0.6510</td>\n",
       "      <td>533.8500</td>\n",
       "      <td>2.1113</td>\n",
       "      <td>0.5005</td>\n",
       "      <td>0.0205</td>\n",
       "      <td>71.9005</td>\n",
       "      <td>1.0</td>\n",
       "    </tr>\n",
       "    <tr>\n",
       "      <th>1</th>\n",
       "      <td>3095.78</td>\n",
       "      <td>2465.14</td>\n",
       "      <td>2230.4222</td>\n",
       "      <td>1463.6606</td>\n",
       "      <td>102.3433</td>\n",
       "      <td>0.1247</td>\n",
       "      <td>1.4966</td>\n",
       "      <td>-0.0005</td>\n",
       "      <td>-0.0148</td>\n",
       "      <td>200.5470</td>\n",
       "      <td>...</td>\n",
       "      <td>74.640</td>\n",
       "      <td>0.9634</td>\n",
       "      <td>264.272</td>\n",
       "      <td>0.6510</td>\n",
       "      <td>535.0164</td>\n",
       "      <td>2.4335</td>\n",
       "      <td>0.5019</td>\n",
       "      <td>0.0096</td>\n",
       "      <td>208.2045</td>\n",
       "      <td>1.0</td>\n",
       "    </tr>\n",
       "    <tr>\n",
       "      <th>2</th>\n",
       "      <td>2932.61</td>\n",
       "      <td>2559.94</td>\n",
       "      <td>2186.4111</td>\n",
       "      <td>1698.0172</td>\n",
       "      <td>95.4878</td>\n",
       "      <td>0.1241</td>\n",
       "      <td>1.4436</td>\n",
       "      <td>0.0041</td>\n",
       "      <td>0.0013</td>\n",
       "      <td>202.0179</td>\n",
       "      <td>...</td>\n",
       "      <td>74.654</td>\n",
       "      <td>1.5021</td>\n",
       "      <td>267.064</td>\n",
       "      <td>0.9032</td>\n",
       "      <td>535.0245</td>\n",
       "      <td>2.0293</td>\n",
       "      <td>0.4958</td>\n",
       "      <td>0.0584</td>\n",
       "      <td>82.8602</td>\n",
       "      <td>0.0</td>\n",
       "    </tr>\n",
       "    <tr>\n",
       "      <th>3</th>\n",
       "      <td>2988.72</td>\n",
       "      <td>2479.90</td>\n",
       "      <td>2199.0333</td>\n",
       "      <td>909.7926</td>\n",
       "      <td>104.2367</td>\n",
       "      <td>0.1217</td>\n",
       "      <td>1.4882</td>\n",
       "      <td>-0.0124</td>\n",
       "      <td>-0.0033</td>\n",
       "      <td>201.8482</td>\n",
       "      <td>...</td>\n",
       "      <td>72.442</td>\n",
       "      <td>1.1613</td>\n",
       "      <td>268.228</td>\n",
       "      <td>0.6511</td>\n",
       "      <td>530.5682</td>\n",
       "      <td>2.0253</td>\n",
       "      <td>0.4990</td>\n",
       "      <td>0.0202</td>\n",
       "      <td>73.8432</td>\n",
       "      <td>1.0</td>\n",
       "    </tr>\n",
       "    <tr>\n",
       "      <th>4</th>\n",
       "      <td>3032.24</td>\n",
       "      <td>2502.87</td>\n",
       "      <td>2233.3667</td>\n",
       "      <td>1326.5200</td>\n",
       "      <td>100.3967</td>\n",
       "      <td>0.1235</td>\n",
       "      <td>1.5031</td>\n",
       "      <td>-0.0031</td>\n",
       "      <td>-0.0072</td>\n",
       "      <td>201.9424</td>\n",
       "      <td>...</td>\n",
       "      <td>79.156</td>\n",
       "      <td>0.9778</td>\n",
       "      <td>264.272</td>\n",
       "      <td>0.6510</td>\n",
       "      <td>532.0155</td>\n",
       "      <td>2.0275</td>\n",
       "      <td>0.4800</td>\n",
       "      <td>0.0202</td>\n",
       "      <td>73.8432</td>\n",
       "      <td>1.0</td>\n",
       "    </tr>\n",
       "  </tbody>\n",
       "</table>\n",
       "<p>5 rows × 117 columns</p>\n",
       "</div>"
      ],
      "text/plain": [
       "         0        1          2          3         6       7       8       9  \\\n",
       "0  3030.93  2564.00  2187.7333  1411.1265   97.6133  0.1242  1.5005  0.0162   \n",
       "1  3095.78  2465.14  2230.4222  1463.6606  102.3433  0.1247  1.4966 -0.0005   \n",
       "2  2932.61  2559.94  2186.4111  1698.0172   95.4878  0.1241  1.4436  0.0041   \n",
       "3  2988.72  2479.90  2199.0333   909.7926  104.2367  0.1217  1.4882 -0.0124   \n",
       "4  3032.24  2502.87  2233.3667  1326.5200  100.3967  0.1235  1.5031 -0.0031   \n",
       "\n",
       "       10        12  ...     548     558      562     563       570     571  \\\n",
       "0 -0.0034  202.4396  ...  75.752  1.0344  264.272  0.6510  533.8500  2.1113   \n",
       "1 -0.0148  200.5470  ...  74.640  0.9634  264.272  0.6510  535.0164  2.4335   \n",
       "2  0.0013  202.0179  ...  74.654  1.5021  267.064  0.9032  535.0245  2.0293   \n",
       "3 -0.0033  201.8482  ...  72.442  1.1613  268.228  0.6511  530.5682  2.0253   \n",
       "4 -0.0072  201.9424  ...  79.156  0.9778  264.272  0.6510  532.0155  2.0275   \n",
       "\n",
       "      582     586       589  Pass/Fail  \n",
       "0  0.5005  0.0205   71.9005        1.0  \n",
       "1  0.5019  0.0096  208.2045        1.0  \n",
       "2  0.4958  0.0584   82.8602        0.0  \n",
       "3  0.4990  0.0202   73.8432        1.0  \n",
       "4  0.4800  0.0202   73.8432        1.0  \n",
       "\n",
       "[5 rows x 117 columns]"
      ]
     },
     "execution_count": 241,
     "metadata": {},
     "output_type": "execute_result"
    }
   ],
   "source": [
    "data_raw=data_raw.drop(drop_corr_cols,axis=1)\n",
    "data_raw.head()"
   ]
  },
  {
   "cell_type": "code",
   "execution_count": 242,
   "metadata": {},
   "outputs": [
    {
     "data": {
      "text/plain": [
       "(1567, 117)"
      ]
     },
     "execution_count": 242,
     "metadata": {},
     "output_type": "execute_result"
    }
   ],
   "source": [
    "data_raw.shape"
   ]
  },
  {
   "cell_type": "markdown",
   "metadata": {},
   "source": [
    "- We identified 117 critical features at this stage."
   ]
  },
  {
   "cell_type": "code",
   "execution_count": 243,
   "metadata": {},
   "outputs": [],
   "source": [
    "# We process the time series data in this step\n",
    "data_raw['Time'] = time_data\n",
    "\n",
    "data_raw['year'] = pd.DatetimeIndex(data_raw['Time']).year\n",
    "data_raw['month'] = pd.DatetimeIndex(data_raw['Time']).month\n",
    "data_raw['date'] = pd.DatetimeIndex(data_raw['Time']).day\n",
    "data_raw['week_day'] = pd.DatetimeIndex(data_raw['Time']).weekday\n",
    "data_raw['hour'] = pd.DatetimeIndex(data_raw['Time']).hour\n",
    "data_raw['min'] = pd.DatetimeIndex(data_raw['Time']).minute"
   ]
  },
  {
   "cell_type": "code",
   "execution_count": 244,
   "metadata": {},
   "outputs": [],
   "source": [
    "data_raw = data_raw.drop(['Time'],axis=1)"
   ]
  },
  {
   "cell_type": "code",
   "execution_count": 245,
   "metadata": {},
   "outputs": [
    {
     "data": {
      "text/html": [
       "<div>\n",
       "<style scoped>\n",
       "    .dataframe tbody tr th:only-of-type {\n",
       "        vertical-align: middle;\n",
       "    }\n",
       "\n",
       "    .dataframe tbody tr th {\n",
       "        vertical-align: top;\n",
       "    }\n",
       "\n",
       "    .dataframe thead th {\n",
       "        text-align: right;\n",
       "    }\n",
       "</style>\n",
       "<table border=\"1\" class=\"dataframe\">\n",
       "  <thead>\n",
       "    <tr style=\"text-align: right;\">\n",
       "      <th></th>\n",
       "      <th>0</th>\n",
       "      <th>1</th>\n",
       "      <th>2</th>\n",
       "      <th>3</th>\n",
       "      <th>6</th>\n",
       "      <th>7</th>\n",
       "      <th>8</th>\n",
       "      <th>9</th>\n",
       "      <th>10</th>\n",
       "      <th>12</th>\n",
       "      <th>...</th>\n",
       "      <th>582</th>\n",
       "      <th>586</th>\n",
       "      <th>589</th>\n",
       "      <th>Pass/Fail</th>\n",
       "      <th>year</th>\n",
       "      <th>month</th>\n",
       "      <th>date</th>\n",
       "      <th>week_day</th>\n",
       "      <th>hour</th>\n",
       "      <th>min</th>\n",
       "    </tr>\n",
       "  </thead>\n",
       "  <tbody>\n",
       "    <tr>\n",
       "      <th>0</th>\n",
       "      <td>3030.93</td>\n",
       "      <td>2564.00</td>\n",
       "      <td>2187.7333</td>\n",
       "      <td>1411.1265</td>\n",
       "      <td>97.6133</td>\n",
       "      <td>0.1242</td>\n",
       "      <td>1.5005</td>\n",
       "      <td>0.0162</td>\n",
       "      <td>-0.0034</td>\n",
       "      <td>202.4396</td>\n",
       "      <td>...</td>\n",
       "      <td>0.5005</td>\n",
       "      <td>0.0205</td>\n",
       "      <td>71.9005</td>\n",
       "      <td>1.0</td>\n",
       "      <td>2008</td>\n",
       "      <td>7</td>\n",
       "      <td>19</td>\n",
       "      <td>5</td>\n",
       "      <td>11</td>\n",
       "      <td>55</td>\n",
       "    </tr>\n",
       "    <tr>\n",
       "      <th>1</th>\n",
       "      <td>3095.78</td>\n",
       "      <td>2465.14</td>\n",
       "      <td>2230.4222</td>\n",
       "      <td>1463.6606</td>\n",
       "      <td>102.3433</td>\n",
       "      <td>0.1247</td>\n",
       "      <td>1.4966</td>\n",
       "      <td>-0.0005</td>\n",
       "      <td>-0.0148</td>\n",
       "      <td>200.5470</td>\n",
       "      <td>...</td>\n",
       "      <td>0.5019</td>\n",
       "      <td>0.0096</td>\n",
       "      <td>208.2045</td>\n",
       "      <td>1.0</td>\n",
       "      <td>2008</td>\n",
       "      <td>7</td>\n",
       "      <td>19</td>\n",
       "      <td>5</td>\n",
       "      <td>12</td>\n",
       "      <td>32</td>\n",
       "    </tr>\n",
       "    <tr>\n",
       "      <th>2</th>\n",
       "      <td>2932.61</td>\n",
       "      <td>2559.94</td>\n",
       "      <td>2186.4111</td>\n",
       "      <td>1698.0172</td>\n",
       "      <td>95.4878</td>\n",
       "      <td>0.1241</td>\n",
       "      <td>1.4436</td>\n",
       "      <td>0.0041</td>\n",
       "      <td>0.0013</td>\n",
       "      <td>202.0179</td>\n",
       "      <td>...</td>\n",
       "      <td>0.4958</td>\n",
       "      <td>0.0584</td>\n",
       "      <td>82.8602</td>\n",
       "      <td>0.0</td>\n",
       "      <td>2008</td>\n",
       "      <td>7</td>\n",
       "      <td>19</td>\n",
       "      <td>5</td>\n",
       "      <td>13</td>\n",
       "      <td>17</td>\n",
       "    </tr>\n",
       "    <tr>\n",
       "      <th>3</th>\n",
       "      <td>2988.72</td>\n",
       "      <td>2479.90</td>\n",
       "      <td>2199.0333</td>\n",
       "      <td>909.7926</td>\n",
       "      <td>104.2367</td>\n",
       "      <td>0.1217</td>\n",
       "      <td>1.4882</td>\n",
       "      <td>-0.0124</td>\n",
       "      <td>-0.0033</td>\n",
       "      <td>201.8482</td>\n",
       "      <td>...</td>\n",
       "      <td>0.4990</td>\n",
       "      <td>0.0202</td>\n",
       "      <td>73.8432</td>\n",
       "      <td>1.0</td>\n",
       "      <td>2008</td>\n",
       "      <td>7</td>\n",
       "      <td>19</td>\n",
       "      <td>5</td>\n",
       "      <td>14</td>\n",
       "      <td>43</td>\n",
       "    </tr>\n",
       "    <tr>\n",
       "      <th>4</th>\n",
       "      <td>3032.24</td>\n",
       "      <td>2502.87</td>\n",
       "      <td>2233.3667</td>\n",
       "      <td>1326.5200</td>\n",
       "      <td>100.3967</td>\n",
       "      <td>0.1235</td>\n",
       "      <td>1.5031</td>\n",
       "      <td>-0.0031</td>\n",
       "      <td>-0.0072</td>\n",
       "      <td>201.9424</td>\n",
       "      <td>...</td>\n",
       "      <td>0.4800</td>\n",
       "      <td>0.0202</td>\n",
       "      <td>73.8432</td>\n",
       "      <td>1.0</td>\n",
       "      <td>2008</td>\n",
       "      <td>7</td>\n",
       "      <td>19</td>\n",
       "      <td>5</td>\n",
       "      <td>15</td>\n",
       "      <td>22</td>\n",
       "    </tr>\n",
       "  </tbody>\n",
       "</table>\n",
       "<p>5 rows × 123 columns</p>\n",
       "</div>"
      ],
      "text/plain": [
       "         0        1          2          3         6       7       8       9  \\\n",
       "0  3030.93  2564.00  2187.7333  1411.1265   97.6133  0.1242  1.5005  0.0162   \n",
       "1  3095.78  2465.14  2230.4222  1463.6606  102.3433  0.1247  1.4966 -0.0005   \n",
       "2  2932.61  2559.94  2186.4111  1698.0172   95.4878  0.1241  1.4436  0.0041   \n",
       "3  2988.72  2479.90  2199.0333   909.7926  104.2367  0.1217  1.4882 -0.0124   \n",
       "4  3032.24  2502.87  2233.3667  1326.5200  100.3967  0.1235  1.5031 -0.0031   \n",
       "\n",
       "       10        12  ...     582     586       589  Pass/Fail  year  month  \\\n",
       "0 -0.0034  202.4396  ...  0.5005  0.0205   71.9005        1.0  2008      7   \n",
       "1 -0.0148  200.5470  ...  0.5019  0.0096  208.2045        1.0  2008      7   \n",
       "2  0.0013  202.0179  ...  0.4958  0.0584   82.8602        0.0  2008      7   \n",
       "3 -0.0033  201.8482  ...  0.4990  0.0202   73.8432        1.0  2008      7   \n",
       "4 -0.0072  201.9424  ...  0.4800  0.0202   73.8432        1.0  2008      7   \n",
       "\n",
       "   date  week_day  hour  min  \n",
       "0    19         5    11   55  \n",
       "1    19         5    12   32  \n",
       "2    19         5    13   17  \n",
       "3    19         5    14   43  \n",
       "4    19         5    15   22  \n",
       "\n",
       "[5 rows x 123 columns]"
      ]
     },
     "execution_count": 245,
     "metadata": {},
     "output_type": "execute_result"
    }
   ],
   "source": [
    "data_raw.head()"
   ]
  },
  {
   "cell_type": "code",
   "execution_count": 246,
   "metadata": {},
   "outputs": [
    {
     "data": {
      "text/plain": [
       "array([2008], dtype=int64)"
      ]
     },
     "execution_count": 246,
     "metadata": {},
     "output_type": "execute_result"
    }
   ],
   "source": [
    "data_raw['year'].unique()"
   ]
  },
  {
   "cell_type": "code",
   "execution_count": 247,
   "metadata": {},
   "outputs": [
    {
     "data": {
      "text/plain": [
       "array([ 7,  1,  2,  3,  4,  5,  6,  8,  9, 10, 11, 12], dtype=int64)"
      ]
     },
     "execution_count": 247,
     "metadata": {},
     "output_type": "execute_result"
    }
   ],
   "source": [
    "data_raw['month'].unique()"
   ]
  },
  {
   "cell_type": "code",
   "execution_count": 248,
   "metadata": {},
   "outputs": [
    {
     "data": {
      "text/plain": [
       "array([19, 20, 21, 22, 23, 25, 27, 28, 29, 30, 31,  8, 13, 15, 16, 17, 18,\n",
       "       24,  9, 14, 26, 10], dtype=int64)"
      ]
     },
     "execution_count": 248,
     "metadata": {},
     "output_type": "execute_result"
    }
   ],
   "source": [
    "data_raw['date'].unique()"
   ]
  },
  {
   "cell_type": "code",
   "execution_count": 249,
   "metadata": {},
   "outputs": [
    {
     "data": {
      "text/plain": [
       "array([5, 6, 0, 1, 2, 4, 3], dtype=int64)"
      ]
     },
     "execution_count": 249,
     "metadata": {},
     "output_type": "execute_result"
    }
   ],
   "source": [
    "data_raw['week_day'].unique()"
   ]
  },
  {
   "cell_type": "code",
   "execution_count": 250,
   "metadata": {},
   "outputs": [
    {
     "data": {
      "text/plain": [
       "array([11, 12, 13, 14, 15, 17, 19, 20, 21, 22,  3,  8,  0,  2,  5,  4,  9,\n",
       "       16, 23,  6, 18,  7, 10,  1], dtype=int64)"
      ]
     },
     "execution_count": 250,
     "metadata": {},
     "output_type": "execute_result"
    }
   ],
   "source": [
    "data_raw['hour'].unique()"
   ]
  },
  {
   "cell_type": "code",
   "execution_count": 251,
   "metadata": {},
   "outputs": [
    {
     "data": {
      "text/plain": [
       "array([55, 32, 17, 43, 22, 53, 44, 45, 24, 35, 57, 52, 21,  3, 59, 41, 47,\n",
       "        0, 30, 15, 23, 18, 37, 10, 46,  6, 49, 28, 14, 31, 48, 36, 11,  8,\n",
       "       16, 19,  5,  7,  2, 29, 20, 26, 39,  9, 25, 27, 58,  4, 51, 33, 12,\n",
       "       54, 50, 38, 40, 56, 34, 13, 42,  1], dtype=int64)"
      ]
     },
     "execution_count": 251,
     "metadata": {},
     "output_type": "execute_result"
    }
   ],
   "source": [
    "data_raw['min'].unique()"
   ]
  },
  {
   "cell_type": "markdown",
   "metadata": {},
   "source": [
    "- We observe that the given data corresponds to all the months of the year 2008, so we can drop this column.\n",
    "- It also seems that the data is not collected in the first week of every month.\n",
    "- However, the data is collected on all the days of the weeks of collection."
   ]
  },
  {
   "cell_type": "code",
   "execution_count": 252,
   "metadata": {},
   "outputs": [
    {
     "data": {
      "text/plain": [
       "array(['0', '1', '2', '3', '6', '7', '8', '9', '10', '12', '14', '15',\n",
       "       '18', '19', '20', '21', '22', '23', '24', '28', '31', '33', '36',\n",
       "       '37', '38', '40', '41', '44', '48', '55', '56', '57', '58', '59',\n",
       "       '61', '63', '68', '71', '75', '76', '77', '78', '79', '80', '81',\n",
       "       '82', '83', '84', '86', '87', '88', '90', '91', '92', '93', '95',\n",
       "       '96', '99', '100', '102', '103', '104', '105', '106', '107', '108',\n",
       "       '112', '113', '115', '116', '118', '119', '120', '126', '128',\n",
       "       '129', '130', '131', '132', '133', '134', '418', '419', '423',\n",
       "       '432', '433', '438', '460', '468', '472', '476', '482', '483',\n",
       "       '484', '485', '486', '487', '488', '489', '499', '500', '510',\n",
       "       '511', '521', '542', '544', '547', '548', '558', '562', '563',\n",
       "       '570', '571', '582', '586', '589', 'Pass/Fail', 'month', 'date',\n",
       "       'week_day', 'hour', 'min'], dtype=object)"
      ]
     },
     "execution_count": 252,
     "metadata": {},
     "output_type": "execute_result"
    }
   ],
   "source": [
    "data_raw = data_raw.drop(['year'],axis=1)\n",
    "data_raw.columns.values"
   ]
  },
  {
   "cell_type": "code",
   "execution_count": 253,
   "metadata": {},
   "outputs": [
    {
     "data": {
      "image/png": "[encoded data removed]",
      "text/plain": [
       "<Figure size 1440x7200 with 122 Axes>"
      ]
     },
     "metadata": {
      "needs_background": "light"
     },
     "output_type": "display_data"
    }
   ],
   "source": [
    "fig=plt.figure(figsize=(20,100))\n",
    "[data_raw[data_raw.columns.values[i]].hist(bins=10,ax=fig.add_subplot(46,3,(i+1))) for i in range(0,data_raw.shape[1])];"
   ]
  },
  {
   "cell_type": "markdown",
   "metadata": {},
   "source": [
    "Observations:\n",
    "   - there is very low standard deviation in several features,\n",
    "   - there are significant outliers outside both 25% and 75% qurantiles, i,e., the data is both left and right skewed,\n",
    "   - very few features are normally distributed.\n",
    "   \n",
    "Mitigating measures:\n",
    "   - drop the features if the standard deviation is less than 0.3,\n",
    "   - identify the outliers and replace them with mean values."
   ]
  },
  {
   "cell_type": "code",
   "execution_count": 254,
   "metadata": {},
   "outputs": [
    {
     "data": {
      "text/html": [
       "<div>\n",
       "<style scoped>\n",
       "    .dataframe tbody tr th:only-of-type {\n",
       "        vertical-align: middle;\n",
       "    }\n",
       "\n",
       "    .dataframe tbody tr th {\n",
       "        vertical-align: top;\n",
       "    }\n",
       "\n",
       "    .dataframe thead th {\n",
       "        text-align: right;\n",
       "    }\n",
       "</style>\n",
       "<table border=\"1\" class=\"dataframe\">\n",
       "  <thead>\n",
       "    <tr style=\"text-align: right;\">\n",
       "      <th></th>\n",
       "      <th>0</th>\n",
       "      <th>1</th>\n",
       "      <th>2</th>\n",
       "      <th>3</th>\n",
       "      <th>6</th>\n",
       "      <th>12</th>\n",
       "      <th>14</th>\n",
       "      <th>15</th>\n",
       "      <th>18</th>\n",
       "      <th>21</th>\n",
       "      <th>...</th>\n",
       "      <th>548</th>\n",
       "      <th>562</th>\n",
       "      <th>570</th>\n",
       "      <th>589</th>\n",
       "      <th>Pass/Fail</th>\n",
       "      <th>month</th>\n",
       "      <th>date</th>\n",
       "      <th>week_day</th>\n",
       "      <th>hour</th>\n",
       "      <th>min</th>\n",
       "    </tr>\n",
       "  </thead>\n",
       "  <tbody>\n",
       "    <tr>\n",
       "      <th>0</th>\n",
       "      <td>3030.93</td>\n",
       "      <td>2564.00</td>\n",
       "      <td>2187.7333</td>\n",
       "      <td>1411.1265</td>\n",
       "      <td>97.6133</td>\n",
       "      <td>202.4396</td>\n",
       "      <td>7.9558</td>\n",
       "      <td>414.8710</td>\n",
       "      <td>192.3963</td>\n",
       "      <td>-5419.00</td>\n",
       "      <td>...</td>\n",
       "      <td>75.752</td>\n",
       "      <td>264.272</td>\n",
       "      <td>533.8500</td>\n",
       "      <td>71.9005</td>\n",
       "      <td>1.0</td>\n",
       "      <td>7</td>\n",
       "      <td>19</td>\n",
       "      <td>5</td>\n",
       "      <td>11</td>\n",
       "      <td>55</td>\n",
       "    </tr>\n",
       "    <tr>\n",
       "      <th>1</th>\n",
       "      <td>3095.78</td>\n",
       "      <td>2465.14</td>\n",
       "      <td>2230.4222</td>\n",
       "      <td>1463.6606</td>\n",
       "      <td>102.3433</td>\n",
       "      <td>200.5470</td>\n",
       "      <td>10.1548</td>\n",
       "      <td>414.7347</td>\n",
       "      <td>191.2872</td>\n",
       "      <td>-5441.50</td>\n",
       "      <td>...</td>\n",
       "      <td>74.640</td>\n",
       "      <td>264.272</td>\n",
       "      <td>535.0164</td>\n",
       "      <td>208.2045</td>\n",
       "      <td>1.0</td>\n",
       "      <td>7</td>\n",
       "      <td>19</td>\n",
       "      <td>5</td>\n",
       "      <td>12</td>\n",
       "      <td>32</td>\n",
       "    </tr>\n",
       "    <tr>\n",
       "      <th>2</th>\n",
       "      <td>2932.61</td>\n",
       "      <td>2559.94</td>\n",
       "      <td>2186.4111</td>\n",
       "      <td>1698.0172</td>\n",
       "      <td>95.4878</td>\n",
       "      <td>202.0179</td>\n",
       "      <td>9.5157</td>\n",
       "      <td>416.7075</td>\n",
       "      <td>192.7035</td>\n",
       "      <td>-5447.75</td>\n",
       "      <td>...</td>\n",
       "      <td>74.654</td>\n",
       "      <td>267.064</td>\n",
       "      <td>535.0245</td>\n",
       "      <td>82.8602</td>\n",
       "      <td>0.0</td>\n",
       "      <td>7</td>\n",
       "      <td>19</td>\n",
       "      <td>5</td>\n",
       "      <td>13</td>\n",
       "      <td>17</td>\n",
       "    </tr>\n",
       "    <tr>\n",
       "      <th>3</th>\n",
       "      <td>2988.72</td>\n",
       "      <td>2479.90</td>\n",
       "      <td>2199.0333</td>\n",
       "      <td>909.7926</td>\n",
       "      <td>104.2367</td>\n",
       "      <td>201.8482</td>\n",
       "      <td>9.6052</td>\n",
       "      <td>422.2894</td>\n",
       "      <td>192.1557</td>\n",
       "      <td>-5468.25</td>\n",
       "      <td>...</td>\n",
       "      <td>72.442</td>\n",
       "      <td>268.228</td>\n",
       "      <td>530.5682</td>\n",
       "      <td>73.8432</td>\n",
       "      <td>1.0</td>\n",
       "      <td>7</td>\n",
       "      <td>19</td>\n",
       "      <td>5</td>\n",
       "      <td>14</td>\n",
       "      <td>43</td>\n",
       "    </tr>\n",
       "    <tr>\n",
       "      <th>4</th>\n",
       "      <td>3032.24</td>\n",
       "      <td>2502.87</td>\n",
       "      <td>2233.3667</td>\n",
       "      <td>1326.5200</td>\n",
       "      <td>100.3967</td>\n",
       "      <td>201.9424</td>\n",
       "      <td>10.5661</td>\n",
       "      <td>420.5925</td>\n",
       "      <td>191.6037</td>\n",
       "      <td>-5476.25</td>\n",
       "      <td>...</td>\n",
       "      <td>79.156</td>\n",
       "      <td>264.272</td>\n",
       "      <td>532.0155</td>\n",
       "      <td>73.8432</td>\n",
       "      <td>1.0</td>\n",
       "      <td>7</td>\n",
       "      <td>19</td>\n",
       "      <td>5</td>\n",
       "      <td>15</td>\n",
       "      <td>22</td>\n",
       "    </tr>\n",
       "  </tbody>\n",
       "</table>\n",
       "<p>5 rows × 68 columns</p>\n",
       "</div>"
      ],
      "text/plain": [
       "         0        1          2          3         6        12       14  \\\n",
       "0  3030.93  2564.00  2187.7333  1411.1265   97.6133  202.4396   7.9558   \n",
       "1  3095.78  2465.14  2230.4222  1463.6606  102.3433  200.5470  10.1548   \n",
       "2  2932.61  2559.94  2186.4111  1698.0172   95.4878  202.0179   9.5157   \n",
       "3  2988.72  2479.90  2199.0333   909.7926  104.2367  201.8482   9.6052   \n",
       "4  3032.24  2502.87  2233.3667  1326.5200  100.3967  201.9424  10.5661   \n",
       "\n",
       "         15        18       21  ...     548      562       570       589  \\\n",
       "0  414.8710  192.3963 -5419.00  ...  75.752  264.272  533.8500   71.9005   \n",
       "1  414.7347  191.2872 -5441.50  ...  74.640  264.272  535.0164  208.2045   \n",
       "2  416.7075  192.7035 -5447.75  ...  74.654  267.064  535.0245   82.8602   \n",
       "3  422.2894  192.1557 -5468.25  ...  72.442  268.228  530.5682   73.8432   \n",
       "4  420.5925  191.6037 -5476.25  ...  79.156  264.272  532.0155   73.8432   \n",
       "\n",
       "   Pass/Fail  month  date  week_day  hour  min  \n",
       "0        1.0      7    19         5    11   55  \n",
       "1        1.0      7    19         5    12   32  \n",
       "2        0.0      7    19         5    13   17  \n",
       "3        1.0      7    19         5    14   43  \n",
       "4        1.0      7    19         5    15   22  \n",
       "\n",
       "[5 rows x 68 columns]"
      ]
     },
     "execution_count": 254,
     "metadata": {},
     "output_type": "execute_result"
    }
   ],
   "source": [
    "# Drop the features based on low standard deviation\n",
    "data_raw = data_raw.drop(data_raw.iloc[:,:-7].std()[data_raw.iloc[:,:-7].std() < 0.3].index.values, axis=1)\n",
    "data_raw.head()"
   ]
  },
  {
   "cell_type": "code",
   "execution_count": 255,
   "metadata": {},
   "outputs": [
    {
     "data": {
      "text/plain": [
       "(1567, 68)"
      ]
     },
     "execution_count": 255,
     "metadata": {},
     "output_type": "execute_result"
    }
   ],
   "source": [
    "data_raw.shape"
   ]
  },
  {
   "cell_type": "markdown",
   "metadata": {},
   "source": [
    "- We finally identified 68 critical columns which we will use for the machine learning process in the next step."
   ]
  },
  {
   "cell_type": "code",
   "execution_count": 256,
   "metadata": {},
   "outputs": [
    {
     "data": {
      "text/html": [
       "<div>\n",
       "<style scoped>\n",
       "    .dataframe tbody tr th:only-of-type {\n",
       "        vertical-align: middle;\n",
       "    }\n",
       "\n",
       "    .dataframe tbody tr th {\n",
       "        vertical-align: top;\n",
       "    }\n",
       "\n",
       "    .dataframe thead th {\n",
       "        text-align: right;\n",
       "    }\n",
       "</style>\n",
       "<table border=\"1\" class=\"dataframe\">\n",
       "  <thead>\n",
       "    <tr style=\"text-align: right;\">\n",
       "      <th></th>\n",
       "      <th>0</th>\n",
       "      <th>1</th>\n",
       "      <th>2</th>\n",
       "      <th>3</th>\n",
       "      <th>6</th>\n",
       "      <th>12</th>\n",
       "      <th>14</th>\n",
       "      <th>15</th>\n",
       "      <th>18</th>\n",
       "      <th>21</th>\n",
       "      <th>...</th>\n",
       "      <th>548</th>\n",
       "      <th>562</th>\n",
       "      <th>570</th>\n",
       "      <th>589</th>\n",
       "      <th>Pass/Fail</th>\n",
       "      <th>month</th>\n",
       "      <th>date</th>\n",
       "      <th>week_day</th>\n",
       "      <th>hour</th>\n",
       "      <th>min</th>\n",
       "    </tr>\n",
       "  </thead>\n",
       "  <tbody>\n",
       "    <tr>\n",
       "      <th>0</th>\n",
       "      <td>3030.93</td>\n",
       "      <td>2564.00</td>\n",
       "      <td>2187.7333</td>\n",
       "      <td>1411.1265</td>\n",
       "      <td>97.6133</td>\n",
       "      <td>202.4396</td>\n",
       "      <td>7.9558</td>\n",
       "      <td>414.8710</td>\n",
       "      <td>192.3963</td>\n",
       "      <td>-5419.00</td>\n",
       "      <td>...</td>\n",
       "      <td>75.752</td>\n",
       "      <td>264.272</td>\n",
       "      <td>533.8500</td>\n",
       "      <td>71.9005</td>\n",
       "      <td>1.0</td>\n",
       "      <td>7</td>\n",
       "      <td>19</td>\n",
       "      <td>5</td>\n",
       "      <td>11</td>\n",
       "      <td>55</td>\n",
       "    </tr>\n",
       "    <tr>\n",
       "      <th>1</th>\n",
       "      <td>3095.78</td>\n",
       "      <td>2465.14</td>\n",
       "      <td>2230.4222</td>\n",
       "      <td>1463.6606</td>\n",
       "      <td>102.3433</td>\n",
       "      <td>200.5470</td>\n",
       "      <td>10.1548</td>\n",
       "      <td>414.7347</td>\n",
       "      <td>191.2872</td>\n",
       "      <td>-5441.50</td>\n",
       "      <td>...</td>\n",
       "      <td>74.640</td>\n",
       "      <td>264.272</td>\n",
       "      <td>535.0164</td>\n",
       "      <td>208.2045</td>\n",
       "      <td>1.0</td>\n",
       "      <td>7</td>\n",
       "      <td>19</td>\n",
       "      <td>5</td>\n",
       "      <td>12</td>\n",
       "      <td>32</td>\n",
       "    </tr>\n",
       "    <tr>\n",
       "      <th>2</th>\n",
       "      <td>2932.61</td>\n",
       "      <td>2559.94</td>\n",
       "      <td>2186.4111</td>\n",
       "      <td>1698.0172</td>\n",
       "      <td>95.4878</td>\n",
       "      <td>202.0179</td>\n",
       "      <td>9.5157</td>\n",
       "      <td>416.7075</td>\n",
       "      <td>192.7035</td>\n",
       "      <td>-5447.75</td>\n",
       "      <td>...</td>\n",
       "      <td>74.654</td>\n",
       "      <td>267.064</td>\n",
       "      <td>535.0245</td>\n",
       "      <td>82.8602</td>\n",
       "      <td>0.0</td>\n",
       "      <td>7</td>\n",
       "      <td>19</td>\n",
       "      <td>5</td>\n",
       "      <td>13</td>\n",
       "      <td>17</td>\n",
       "    </tr>\n",
       "    <tr>\n",
       "      <th>3</th>\n",
       "      <td>2988.72</td>\n",
       "      <td>2479.90</td>\n",
       "      <td>2199.0333</td>\n",
       "      <td>909.7926</td>\n",
       "      <td>104.2367</td>\n",
       "      <td>201.8482</td>\n",
       "      <td>9.6052</td>\n",
       "      <td>422.2894</td>\n",
       "      <td>192.1557</td>\n",
       "      <td>-5468.25</td>\n",
       "      <td>...</td>\n",
       "      <td>72.442</td>\n",
       "      <td>268.228</td>\n",
       "      <td>530.5682</td>\n",
       "      <td>73.8432</td>\n",
       "      <td>1.0</td>\n",
       "      <td>7</td>\n",
       "      <td>19</td>\n",
       "      <td>5</td>\n",
       "      <td>14</td>\n",
       "      <td>43</td>\n",
       "    </tr>\n",
       "    <tr>\n",
       "      <th>4</th>\n",
       "      <td>3032.24</td>\n",
       "      <td>2502.87</td>\n",
       "      <td>2233.3667</td>\n",
       "      <td>1326.5200</td>\n",
       "      <td>100.3967</td>\n",
       "      <td>201.9424</td>\n",
       "      <td>10.5661</td>\n",
       "      <td>420.5925</td>\n",
       "      <td>191.6037</td>\n",
       "      <td>-5476.25</td>\n",
       "      <td>...</td>\n",
       "      <td>79.156</td>\n",
       "      <td>264.272</td>\n",
       "      <td>532.0155</td>\n",
       "      <td>73.8432</td>\n",
       "      <td>1.0</td>\n",
       "      <td>7</td>\n",
       "      <td>19</td>\n",
       "      <td>5</td>\n",
       "      <td>15</td>\n",
       "      <td>22</td>\n",
       "    </tr>\n",
       "  </tbody>\n",
       "</table>\n",
       "<p>5 rows × 68 columns</p>\n",
       "</div>"
      ],
      "text/plain": [
       "         0        1          2          3         6        12       14  \\\n",
       "0  3030.93  2564.00  2187.7333  1411.1265   97.6133  202.4396   7.9558   \n",
       "1  3095.78  2465.14  2230.4222  1463.6606  102.3433  200.5470  10.1548   \n",
       "2  2932.61  2559.94  2186.4111  1698.0172   95.4878  202.0179   9.5157   \n",
       "3  2988.72  2479.90  2199.0333   909.7926  104.2367  201.8482   9.6052   \n",
       "4  3032.24  2502.87  2233.3667  1326.5200  100.3967  201.9424  10.5661   \n",
       "\n",
       "         15        18       21  ...     548      562       570       589  \\\n",
       "0  414.8710  192.3963 -5419.00  ...  75.752  264.272  533.8500   71.9005   \n",
       "1  414.7347  191.2872 -5441.50  ...  74.640  264.272  535.0164  208.2045   \n",
       "2  416.7075  192.7035 -5447.75  ...  74.654  267.064  535.0245   82.8602   \n",
       "3  422.2894  192.1557 -5468.25  ...  72.442  268.228  530.5682   73.8432   \n",
       "4  420.5925  191.6037 -5476.25  ...  79.156  264.272  532.0155   73.8432   \n",
       "\n",
       "   Pass/Fail  month  date  week_day  hour  min  \n",
       "0        1.0      7    19         5    11   55  \n",
       "1        1.0      7    19         5    12   32  \n",
       "2        0.0      7    19         5    13   17  \n",
       "3        1.0      7    19         5    14   43  \n",
       "4        1.0      7    19         5    15   22  \n",
       "\n",
       "[5 rows x 68 columns]"
      ]
     },
     "execution_count": 256,
     "metadata": {},
     "output_type": "execute_result"
    }
   ],
   "source": [
    "data_raw.head()"
   ]
  },
  {
   "cell_type": "code",
   "execution_count": 257,
   "metadata": {},
   "outputs": [
    {
     "name": "stdout",
     "output_type": "stream",
     "text": [
      "0            89.87500\n",
      "1            85.86000\n",
      "2            36.95555\n",
      "3           506.28410\n",
      "6             6.59220\n",
      "              ...    \n",
      "month         2.00000\n",
      "date         13.00000\n",
      "week_day      4.00000\n",
      "hour         12.00000\n",
      "min          30.00000\n",
      "Length: 68, dtype: float64\n"
     ]
    }
   ],
   "source": [
    "# Replace the outliers with the mean values\n",
    "Q1 = data_raw.quantile(0.25)\n",
    "Q3 = data_raw.quantile(0.75)\n",
    "IQR = Q3 - Q1\n",
    "print(IQR)"
   ]
  },
  {
   "cell_type": "code",
   "execution_count": 258,
   "metadata": {},
   "outputs": [
    {
     "data": {
      "text/plain": [
       "(70, 68)"
      ]
     },
     "execution_count": 258,
     "metadata": {},
     "output_type": "execute_result"
    }
   ],
   "source": [
    "data_raw[~((data_raw < (Q1 - 1.5 * IQR)) | (data_raw > (Q3 + 1.5 * IQR))).any(axis=1)].shape"
   ]
  },
  {
   "cell_type": "markdown",
   "metadata": {},
   "source": [
    "- We observe that 70 rows have outlier in atleast 1 feature."
   ]
  },
  {
   "cell_type": "code",
   "execution_count": 259,
   "metadata": {},
   "outputs": [],
   "source": [
    "means = data_raw.describe().loc['mean',:].values"
   ]
  },
  {
   "cell_type": "code",
   "execution_count": 260,
   "metadata": {},
   "outputs": [],
   "source": [
    "for j in range(len(data_raw.columns)-7):\n",
    "    for i in range(len(data_raw.index)-7):\n",
    "        if ((data_raw.iloc[i,j] < (Q1.iloc[j] - 1.5 * IQR.iloc[j])) | (data_raw.iloc[i,j] > (Q3.iloc[j] + 1.5 * IQR.iloc[j]))):\n",
    "            data_raw.iloc[i,j] = means[j]"
   ]
  },
  {
   "cell_type": "code",
   "execution_count": 261,
   "metadata": {},
   "outputs": [
    {
     "data": {
      "text/html": [
       "<div>\n",
       "<style scoped>\n",
       "    .dataframe tbody tr th:only-of-type {\n",
       "        vertical-align: middle;\n",
       "    }\n",
       "\n",
       "    .dataframe tbody tr th {\n",
       "        vertical-align: top;\n",
       "    }\n",
       "\n",
       "    .dataframe thead th {\n",
       "        text-align: right;\n",
       "    }\n",
       "</style>\n",
       "<table border=\"1\" class=\"dataframe\">\n",
       "  <thead>\n",
       "    <tr style=\"text-align: right;\">\n",
       "      <th></th>\n",
       "      <th>0</th>\n",
       "      <th>1</th>\n",
       "      <th>2</th>\n",
       "      <th>3</th>\n",
       "      <th>6</th>\n",
       "      <th>12</th>\n",
       "      <th>14</th>\n",
       "      <th>15</th>\n",
       "      <th>18</th>\n",
       "      <th>21</th>\n",
       "      <th>...</th>\n",
       "      <th>548</th>\n",
       "      <th>562</th>\n",
       "      <th>570</th>\n",
       "      <th>589</th>\n",
       "      <th>Pass/Fail</th>\n",
       "      <th>month</th>\n",
       "      <th>date</th>\n",
       "      <th>week_day</th>\n",
       "      <th>hour</th>\n",
       "      <th>min</th>\n",
       "    </tr>\n",
       "  </thead>\n",
       "  <tbody>\n",
       "    <tr>\n",
       "      <th>0</th>\n",
       "      <td>3030.93</td>\n",
       "      <td>2564.00</td>\n",
       "      <td>2187.7333</td>\n",
       "      <td>1411.1265</td>\n",
       "      <td>97.6133</td>\n",
       "      <td>202.4396</td>\n",
       "      <td>7.9558</td>\n",
       "      <td>414.8710</td>\n",
       "      <td>192.3963</td>\n",
       "      <td>-5419.00</td>\n",
       "      <td>...</td>\n",
       "      <td>75.752</td>\n",
       "      <td>264.272</td>\n",
       "      <td>533.8500</td>\n",
       "      <td>71.9005</td>\n",
       "      <td>1.0</td>\n",
       "      <td>7</td>\n",
       "      <td>19</td>\n",
       "      <td>5</td>\n",
       "      <td>11</td>\n",
       "      <td>55</td>\n",
       "    </tr>\n",
       "    <tr>\n",
       "      <th>1</th>\n",
       "      <td>3095.78</td>\n",
       "      <td>2465.14</td>\n",
       "      <td>2230.4222</td>\n",
       "      <td>1463.6606</td>\n",
       "      <td>102.3433</td>\n",
       "      <td>200.5470</td>\n",
       "      <td>10.1548</td>\n",
       "      <td>414.7347</td>\n",
       "      <td>191.2872</td>\n",
       "      <td>-5441.50</td>\n",
       "      <td>...</td>\n",
       "      <td>74.640</td>\n",
       "      <td>264.272</td>\n",
       "      <td>535.0164</td>\n",
       "      <td>208.2045</td>\n",
       "      <td>1.0</td>\n",
       "      <td>7</td>\n",
       "      <td>19</td>\n",
       "      <td>5</td>\n",
       "      <td>12</td>\n",
       "      <td>32</td>\n",
       "    </tr>\n",
       "    <tr>\n",
       "      <th>2</th>\n",
       "      <td>2932.61</td>\n",
       "      <td>2559.94</td>\n",
       "      <td>2186.4111</td>\n",
       "      <td>1698.0172</td>\n",
       "      <td>95.4878</td>\n",
       "      <td>202.0179</td>\n",
       "      <td>9.5157</td>\n",
       "      <td>416.7075</td>\n",
       "      <td>192.7035</td>\n",
       "      <td>-5447.75</td>\n",
       "      <td>...</td>\n",
       "      <td>74.654</td>\n",
       "      <td>267.064</td>\n",
       "      <td>535.0245</td>\n",
       "      <td>82.8602</td>\n",
       "      <td>0.0</td>\n",
       "      <td>7</td>\n",
       "      <td>19</td>\n",
       "      <td>5</td>\n",
       "      <td>13</td>\n",
       "      <td>17</td>\n",
       "    </tr>\n",
       "    <tr>\n",
       "      <th>3</th>\n",
       "      <td>2988.72</td>\n",
       "      <td>2479.90</td>\n",
       "      <td>2199.0333</td>\n",
       "      <td>909.7926</td>\n",
       "      <td>104.2367</td>\n",
       "      <td>201.8482</td>\n",
       "      <td>9.6052</td>\n",
       "      <td>422.2894</td>\n",
       "      <td>192.1557</td>\n",
       "      <td>-5468.25</td>\n",
       "      <td>...</td>\n",
       "      <td>72.442</td>\n",
       "      <td>268.228</td>\n",
       "      <td>530.5682</td>\n",
       "      <td>73.8432</td>\n",
       "      <td>1.0</td>\n",
       "      <td>7</td>\n",
       "      <td>19</td>\n",
       "      <td>5</td>\n",
       "      <td>14</td>\n",
       "      <td>43</td>\n",
       "    </tr>\n",
       "    <tr>\n",
       "      <th>4</th>\n",
       "      <td>3032.24</td>\n",
       "      <td>2502.87</td>\n",
       "      <td>2233.3667</td>\n",
       "      <td>1326.5200</td>\n",
       "      <td>100.3967</td>\n",
       "      <td>201.9424</td>\n",
       "      <td>10.5661</td>\n",
       "      <td>420.5925</td>\n",
       "      <td>191.6037</td>\n",
       "      <td>-5476.25</td>\n",
       "      <td>...</td>\n",
       "      <td>79.156</td>\n",
       "      <td>264.272</td>\n",
       "      <td>532.0155</td>\n",
       "      <td>73.8432</td>\n",
       "      <td>1.0</td>\n",
       "      <td>7</td>\n",
       "      <td>19</td>\n",
       "      <td>5</td>\n",
       "      <td>15</td>\n",
       "      <td>22</td>\n",
       "    </tr>\n",
       "    <tr>\n",
       "      <th>...</th>\n",
       "      <td>...</td>\n",
       "      <td>...</td>\n",
       "      <td>...</td>\n",
       "      <td>...</td>\n",
       "      <td>...</td>\n",
       "      <td>...</td>\n",
       "      <td>...</td>\n",
       "      <td>...</td>\n",
       "      <td>...</td>\n",
       "      <td>...</td>\n",
       "      <td>...</td>\n",
       "      <td>...</td>\n",
       "      <td>...</td>\n",
       "      <td>...</td>\n",
       "      <td>...</td>\n",
       "      <td>...</td>\n",
       "      <td>...</td>\n",
       "      <td>...</td>\n",
       "      <td>...</td>\n",
       "      <td>...</td>\n",
       "      <td>...</td>\n",
       "    </tr>\n",
       "    <tr>\n",
       "      <th>1562</th>\n",
       "      <td>2899.41</td>\n",
       "      <td>2464.36</td>\n",
       "      <td>2179.7333</td>\n",
       "      <td>3085.3781</td>\n",
       "      <td>82.2467</td>\n",
       "      <td>203.9867</td>\n",
       "      <td>11.7692</td>\n",
       "      <td>419.3404</td>\n",
       "      <td>193.7470</td>\n",
       "      <td>-5418.75</td>\n",
       "      <td>...</td>\n",
       "      <td>77.166</td>\n",
       "      <td>264.272</td>\n",
       "      <td>536.3418</td>\n",
       "      <td>203.1720</td>\n",
       "      <td>1.0</td>\n",
       "      <td>10</td>\n",
       "      <td>16</td>\n",
       "      <td>3</td>\n",
       "      <td>15</td>\n",
       "      <td>13</td>\n",
       "    </tr>\n",
       "    <tr>\n",
       "      <th>1563</th>\n",
       "      <td>3052.31</td>\n",
       "      <td>2522.55</td>\n",
       "      <td>2198.5667</td>\n",
       "      <td>1124.6595</td>\n",
       "      <td>98.4689</td>\n",
       "      <td>204.0173</td>\n",
       "      <td>9.1620</td>\n",
       "      <td>405.8178</td>\n",
       "      <td>193.7889</td>\n",
       "      <td>-6408.75</td>\n",
       "      <td>...</td>\n",
       "      <td>73.254</td>\n",
       "      <td>266.832</td>\n",
       "      <td>537.9264</td>\n",
       "      <td>203.1720</td>\n",
       "      <td>1.0</td>\n",
       "      <td>10</td>\n",
       "      <td>16</td>\n",
       "      <td>3</td>\n",
       "      <td>20</td>\n",
       "      <td>49</td>\n",
       "    </tr>\n",
       "    <tr>\n",
       "      <th>1564</th>\n",
       "      <td>2978.81</td>\n",
       "      <td>2379.78</td>\n",
       "      <td>2206.3000</td>\n",
       "      <td>1110.4967</td>\n",
       "      <td>99.4122</td>\n",
       "      <td>199.5356</td>\n",
       "      <td>8.9670</td>\n",
       "      <td>412.2191</td>\n",
       "      <td>189.6642</td>\n",
       "      <td>-5153.25</td>\n",
       "      <td>...</td>\n",
       "      <td>74.156</td>\n",
       "      <td>256.730</td>\n",
       "      <td>530.3709</td>\n",
       "      <td>43.5231</td>\n",
       "      <td>1.0</td>\n",
       "      <td>10</td>\n",
       "      <td>17</td>\n",
       "      <td>4</td>\n",
       "      <td>5</td>\n",
       "      <td>26</td>\n",
       "    </tr>\n",
       "    <tr>\n",
       "      <th>1565</th>\n",
       "      <td>2894.92</td>\n",
       "      <td>2532.01</td>\n",
       "      <td>2177.0333</td>\n",
       "      <td>1183.7287</td>\n",
       "      <td>98.7978</td>\n",
       "      <td>197.2448</td>\n",
       "      <td>9.7354</td>\n",
       "      <td>401.9153</td>\n",
       "      <td>187.3818</td>\n",
       "      <td>-5271.75</td>\n",
       "      <td>...</td>\n",
       "      <td>73.254</td>\n",
       "      <td>264.272</td>\n",
       "      <td>534.3936</td>\n",
       "      <td>93.4941</td>\n",
       "      <td>1.0</td>\n",
       "      <td>10</td>\n",
       "      <td>17</td>\n",
       "      <td>4</td>\n",
       "      <td>6</td>\n",
       "      <td>1</td>\n",
       "    </tr>\n",
       "    <tr>\n",
       "      <th>1566</th>\n",
       "      <td>2944.92</td>\n",
       "      <td>2450.76</td>\n",
       "      <td>2195.4444</td>\n",
       "      <td>2914.1792</td>\n",
       "      <td>85.1011</td>\n",
       "      <td>199.5356</td>\n",
       "      <td>8.9670</td>\n",
       "      <td>412.2191</td>\n",
       "      <td>189.6642</td>\n",
       "      <td>-5319.50</td>\n",
       "      <td>...</td>\n",
       "      <td>73.254</td>\n",
       "      <td>257.974</td>\n",
       "      <td>528.7918</td>\n",
       "      <td>137.7844</td>\n",
       "      <td>1.0</td>\n",
       "      <td>10</td>\n",
       "      <td>17</td>\n",
       "      <td>4</td>\n",
       "      <td>6</td>\n",
       "      <td>7</td>\n",
       "    </tr>\n",
       "  </tbody>\n",
       "</table>\n",
       "<p>1567 rows × 68 columns</p>\n",
       "</div>"
      ],
      "text/plain": [
       "            0        1          2          3         6        12       14  \\\n",
       "0     3030.93  2564.00  2187.7333  1411.1265   97.6133  202.4396   7.9558   \n",
       "1     3095.78  2465.14  2230.4222  1463.6606  102.3433  200.5470  10.1548   \n",
       "2     2932.61  2559.94  2186.4111  1698.0172   95.4878  202.0179   9.5157   \n",
       "3     2988.72  2479.90  2199.0333   909.7926  104.2367  201.8482   9.6052   \n",
       "4     3032.24  2502.87  2233.3667  1326.5200  100.3967  201.9424  10.5661   \n",
       "...       ...      ...        ...        ...       ...       ...      ...   \n",
       "1562  2899.41  2464.36  2179.7333  3085.3781   82.2467  203.9867  11.7692   \n",
       "1563  3052.31  2522.55  2198.5667  1124.6595   98.4689  204.0173   9.1620   \n",
       "1564  2978.81  2379.78  2206.3000  1110.4967   99.4122  199.5356   8.9670   \n",
       "1565  2894.92  2532.01  2177.0333  1183.7287   98.7978  197.2448   9.7354   \n",
       "1566  2944.92  2450.76  2195.4444  2914.1792   85.1011  199.5356   8.9670   \n",
       "\n",
       "            15        18       21  ...     548      562       570       589  \\\n",
       "0     414.8710  192.3963 -5419.00  ...  75.752  264.272  533.8500   71.9005   \n",
       "1     414.7347  191.2872 -5441.50  ...  74.640  264.272  535.0164  208.2045   \n",
       "2     416.7075  192.7035 -5447.75  ...  74.654  267.064  535.0245   82.8602   \n",
       "3     422.2894  192.1557 -5468.25  ...  72.442  268.228  530.5682   73.8432   \n",
       "4     420.5925  191.6037 -5476.25  ...  79.156  264.272  532.0155   73.8432   \n",
       "...        ...       ...      ...  ...     ...      ...       ...       ...   \n",
       "1562  419.3404  193.7470 -5418.75  ...  77.166  264.272  536.3418  203.1720   \n",
       "1563  405.8178  193.7889 -6408.75  ...  73.254  266.832  537.9264  203.1720   \n",
       "1564  412.2191  189.6642 -5153.25  ...  74.156  256.730  530.3709   43.5231   \n",
       "1565  401.9153  187.3818 -5271.75  ...  73.254  264.272  534.3936   93.4941   \n",
       "1566  412.2191  189.6642 -5319.50  ...  73.254  257.974  528.7918  137.7844   \n",
       "\n",
       "      Pass/Fail  month  date  week_day  hour  min  \n",
       "0           1.0      7    19         5    11   55  \n",
       "1           1.0      7    19         5    12   32  \n",
       "2           0.0      7    19         5    13   17  \n",
       "3           1.0      7    19         5    14   43  \n",
       "4           1.0      7    19         5    15   22  \n",
       "...         ...    ...   ...       ...   ...  ...  \n",
       "1562        1.0     10    16         3    15   13  \n",
       "1563        1.0     10    16         3    20   49  \n",
       "1564        1.0     10    17         4     5   26  \n",
       "1565        1.0     10    17         4     6    1  \n",
       "1566        1.0     10    17         4     6    7  \n",
       "\n",
       "[1567 rows x 68 columns]"
      ]
     },
     "execution_count": 261,
     "metadata": {},
     "output_type": "execute_result"
    }
   ],
   "source": [
    "data_raw"
   ]
  },
  {
   "cell_type": "code",
   "execution_count": 262,
   "metadata": {},
   "outputs": [
    {
     "data": {
      "text/plain": [
       "(0, 100)"
      ]
     },
     "execution_count": 262,
     "metadata": {},
     "output_type": "execute_result"
    },
    {
     "data": {
      "image/png": "[encoded data removed]",
      "text/plain": [
       "<Figure size 411.875x360 with 1 Axes>"
      ]
     },
     "metadata": {
      "needs_background": "light"
     },
     "output_type": "display_data"
    }
   ],
   "source": [
    "month_pass_fail = data_raw.groupby('month')['Pass/Fail'].value_counts(normalize=True)\n",
    "month_pass_fail = month_pass_fail.mul(100)\n",
    "month_pass_fail = month_pass_fail.rename('percent').reset_index()\n",
    "\n",
    "g = sns.catplot(x='month',y='percent',hue='Pass/Fail',kind='bar',data=month_pass_fail,palette=['b','r'])\n",
    "g.ax.set_ylim(0,100)"
   ]
  },
  {
   "cell_type": "code",
   "execution_count": 263,
   "metadata": {},
   "outputs": [
    {
     "data": {
      "text/plain": [
       "array([ 7,  1,  2,  3,  4,  5,  6,  8,  9, 10, 11, 12], dtype=int64)"
      ]
     },
     "execution_count": 263,
     "metadata": {},
     "output_type": "execute_result"
    }
   ],
   "source": [
    "data_raw['month'].unique()"
   ]
  },
  {
   "cell_type": "code",
   "execution_count": 264,
   "metadata": {},
   "outputs": [
    {
     "data": {
      "text/plain": [
       "(0, 100)"
      ]
     },
     "execution_count": 264,
     "metadata": {},
     "output_type": "execute_result"
    },
    {
     "data": {
      "image/png": "[encoded data removed]",
      "text/plain": [
       "<Figure size 411.875x360 with 1 Axes>"
      ]
     },
     "metadata": {
      "needs_background": "light"
     },
     "output_type": "display_data"
    }
   ],
   "source": [
    "date_pass_fail = data_raw.groupby('date')['Pass/Fail'].value_counts(normalize=True)\n",
    "date_pass_fail = date_pass_fail.mul(100)\n",
    "date_pass_fail = date_pass_fail.rename('percent').reset_index()\n",
    "\n",
    "g = sns.catplot(x='date',y='percent',hue='Pass/Fail',kind='bar',data=date_pass_fail,palette=['b','r'])\n",
    "g.ax.set_ylim(0,100)"
   ]
  },
  {
   "cell_type": "code",
   "execution_count": 265,
   "metadata": {},
   "outputs": [
    {
     "data": {
      "text/plain": [
       "(0, 100)"
      ]
     },
     "execution_count": 265,
     "metadata": {},
     "output_type": "execute_result"
    },
    {
     "data": {
      "image/png": "[encoded data removed]",
      "text/plain": [
       "<Figure size 411.875x360 with 1 Axes>"
      ]
     },
     "metadata": {
      "needs_background": "light"
     },
     "output_type": "display_data"
    }
   ],
   "source": [
    "week_day_pass_fail = data_raw.groupby('week_day')['Pass/Fail'].value_counts(normalize=True)\n",
    "week_day_pass_fail = week_day_pass_fail.mul(100)\n",
    "week_day_pass_fail = week_day_pass_fail.rename('percent').reset_index()\n",
    "\n",
    "g = sns.catplot(x='week_day',y='percent',hue='Pass/Fail',kind='bar',data=week_day_pass_fail,palette=['b','r'])\n",
    "g.ax.set_ylim(0,100)"
   ]
  },
  {
   "cell_type": "code",
   "execution_count": 266,
   "metadata": {},
   "outputs": [
    {
     "data": {
      "text/plain": [
       "(0, 100)"
      ]
     },
     "execution_count": 266,
     "metadata": {},
     "output_type": "execute_result"
    },
    {
     "data": {
      "image/png": "[encoded data removed]",
      "text/plain": [
       "<Figure size 411.875x360 with 1 Axes>"
      ]
     },
     "metadata": {
      "needs_background": "light"
     },
     "output_type": "display_data"
    }
   ],
   "source": [
    "hour_pass_fail = data_raw.groupby('hour')['Pass/Fail'].value_counts(normalize=True)\n",
    "hour_pass_fail = hour_pass_fail.mul(100)\n",
    "hour_pass_fail = hour_pass_fail.rename('percent').reset_index()\n",
    "\n",
    "g = sns.catplot(x='hour',y='percent',hue='Pass/Fail',kind='bar',data=hour_pass_fail,palette=['b','r'])\n",
    "g.ax.set_ylim(0,100)"
   ]
  },
  {
   "cell_type": "markdown",
   "metadata": {},
   "source": [
    "We observed that more observations in the failed category recored in:\n",
    "   - the months of May, June, July and August,\n",
    "   - during the middle of every month; exceptionally high on 17th of every month,\n",
    "   - marginally in the middle of every week.   "
   ]
  },
  {
   "cell_type": "markdown",
   "metadata": {},
   "source": [
    "<span style=\"font-family: Arial; font-weight:bold;font-size:2em;color:#00b3e5;\">  4. Data pre-processing"
   ]
  },
  {
   "cell_type": "code",
   "execution_count": 267,
   "metadata": {},
   "outputs": [
    {
     "data": {
      "text/html": [
       "<div>\n",
       "<style scoped>\n",
       "    .dataframe tbody tr th:only-of-type {\n",
       "        vertical-align: middle;\n",
       "    }\n",
       "\n",
       "    .dataframe tbody tr th {\n",
       "        vertical-align: top;\n",
       "    }\n",
       "\n",
       "    .dataframe thead th {\n",
       "        text-align: right;\n",
       "    }\n",
       "</style>\n",
       "<table border=\"1\" class=\"dataframe\">\n",
       "  <thead>\n",
       "    <tr style=\"text-align: right;\">\n",
       "      <th></th>\n",
       "      <th>0</th>\n",
       "      <th>1</th>\n",
       "      <th>2</th>\n",
       "      <th>3</th>\n",
       "      <th>6</th>\n",
       "      <th>12</th>\n",
       "      <th>14</th>\n",
       "      <th>15</th>\n",
       "      <th>18</th>\n",
       "      <th>21</th>\n",
       "      <th>...</th>\n",
       "      <th>547</th>\n",
       "      <th>548</th>\n",
       "      <th>562</th>\n",
       "      <th>570</th>\n",
       "      <th>589</th>\n",
       "      <th>month</th>\n",
       "      <th>date</th>\n",
       "      <th>week_day</th>\n",
       "      <th>hour</th>\n",
       "      <th>min</th>\n",
       "    </tr>\n",
       "  </thead>\n",
       "  <tbody>\n",
       "    <tr>\n",
       "      <th>0</th>\n",
       "      <td>3030.93</td>\n",
       "      <td>2564.00</td>\n",
       "      <td>2187.7333</td>\n",
       "      <td>1411.1265</td>\n",
       "      <td>97.6133</td>\n",
       "      <td>202.4396</td>\n",
       "      <td>7.9558</td>\n",
       "      <td>414.8710</td>\n",
       "      <td>192.3963</td>\n",
       "      <td>-5419.00</td>\n",
       "      <td>...</td>\n",
       "      <td>395.570000</td>\n",
       "      <td>75.752</td>\n",
       "      <td>264.272</td>\n",
       "      <td>533.8500</td>\n",
       "      <td>71.9005</td>\n",
       "      <td>7</td>\n",
       "      <td>19</td>\n",
       "      <td>5</td>\n",
       "      <td>11</td>\n",
       "      <td>55</td>\n",
       "    </tr>\n",
       "    <tr>\n",
       "      <th>1</th>\n",
       "      <td>3095.78</td>\n",
       "      <td>2465.14</td>\n",
       "      <td>2230.4222</td>\n",
       "      <td>1463.6606</td>\n",
       "      <td>102.3433</td>\n",
       "      <td>200.5470</td>\n",
       "      <td>10.1548</td>\n",
       "      <td>414.7347</td>\n",
       "      <td>191.2872</td>\n",
       "      <td>-5441.50</td>\n",
       "      <td>...</td>\n",
       "      <td>408.798000</td>\n",
       "      <td>74.640</td>\n",
       "      <td>264.272</td>\n",
       "      <td>535.0164</td>\n",
       "      <td>208.2045</td>\n",
       "      <td>7</td>\n",
       "      <td>19</td>\n",
       "      <td>5</td>\n",
       "      <td>12</td>\n",
       "      <td>32</td>\n",
       "    </tr>\n",
       "    <tr>\n",
       "      <th>2</th>\n",
       "      <td>2932.61</td>\n",
       "      <td>2559.94</td>\n",
       "      <td>2186.4111</td>\n",
       "      <td>1698.0172</td>\n",
       "      <td>95.4878</td>\n",
       "      <td>202.0179</td>\n",
       "      <td>9.5157</td>\n",
       "      <td>416.7075</td>\n",
       "      <td>192.7035</td>\n",
       "      <td>-5447.75</td>\n",
       "      <td>...</td>\n",
       "      <td>411.136000</td>\n",
       "      <td>74.654</td>\n",
       "      <td>267.064</td>\n",
       "      <td>535.0245</td>\n",
       "      <td>82.8602</td>\n",
       "      <td>7</td>\n",
       "      <td>19</td>\n",
       "      <td>5</td>\n",
       "      <td>13</td>\n",
       "      <td>17</td>\n",
       "    </tr>\n",
       "    <tr>\n",
       "      <th>3</th>\n",
       "      <td>2988.72</td>\n",
       "      <td>2479.90</td>\n",
       "      <td>2199.0333</td>\n",
       "      <td>909.7926</td>\n",
       "      <td>104.2367</td>\n",
       "      <td>201.8482</td>\n",
       "      <td>9.6052</td>\n",
       "      <td>422.2894</td>\n",
       "      <td>192.1557</td>\n",
       "      <td>-5468.25</td>\n",
       "      <td>...</td>\n",
       "      <td>403.476047</td>\n",
       "      <td>72.442</td>\n",
       "      <td>268.228</td>\n",
       "      <td>530.5682</td>\n",
       "      <td>73.8432</td>\n",
       "      <td>7</td>\n",
       "      <td>19</td>\n",
       "      <td>5</td>\n",
       "      <td>14</td>\n",
       "      <td>43</td>\n",
       "    </tr>\n",
       "    <tr>\n",
       "      <th>4</th>\n",
       "      <td>3032.24</td>\n",
       "      <td>2502.87</td>\n",
       "      <td>2233.3667</td>\n",
       "      <td>1326.5200</td>\n",
       "      <td>100.3967</td>\n",
       "      <td>201.9424</td>\n",
       "      <td>10.5661</td>\n",
       "      <td>420.5925</td>\n",
       "      <td>191.6037</td>\n",
       "      <td>-5476.25</td>\n",
       "      <td>...</td>\n",
       "      <td>399.914000</td>\n",
       "      <td>79.156</td>\n",
       "      <td>264.272</td>\n",
       "      <td>532.0155</td>\n",
       "      <td>73.8432</td>\n",
       "      <td>7</td>\n",
       "      <td>19</td>\n",
       "      <td>5</td>\n",
       "      <td>15</td>\n",
       "      <td>22</td>\n",
       "    </tr>\n",
       "  </tbody>\n",
       "</table>\n",
       "<p>5 rows × 67 columns</p>\n",
       "</div>"
      ],
      "text/plain": [
       "         0        1          2          3         6        12       14  \\\n",
       "0  3030.93  2564.00  2187.7333  1411.1265   97.6133  202.4396   7.9558   \n",
       "1  3095.78  2465.14  2230.4222  1463.6606  102.3433  200.5470  10.1548   \n",
       "2  2932.61  2559.94  2186.4111  1698.0172   95.4878  202.0179   9.5157   \n",
       "3  2988.72  2479.90  2199.0333   909.7926  104.2367  201.8482   9.6052   \n",
       "4  3032.24  2502.87  2233.3667  1326.5200  100.3967  201.9424  10.5661   \n",
       "\n",
       "         15        18       21  ...         547     548      562       570  \\\n",
       "0  414.8710  192.3963 -5419.00  ...  395.570000  75.752  264.272  533.8500   \n",
       "1  414.7347  191.2872 -5441.50  ...  408.798000  74.640  264.272  535.0164   \n",
       "2  416.7075  192.7035 -5447.75  ...  411.136000  74.654  267.064  535.0245   \n",
       "3  422.2894  192.1557 -5468.25  ...  403.476047  72.442  268.228  530.5682   \n",
       "4  420.5925  191.6037 -5476.25  ...  399.914000  79.156  264.272  532.0155   \n",
       "\n",
       "        589  month  date  week_day  hour  min  \n",
       "0   71.9005      7    19         5    11   55  \n",
       "1  208.2045      7    19         5    12   32  \n",
       "2   82.8602      7    19         5    13   17  \n",
       "3   73.8432      7    19         5    14   43  \n",
       "4   73.8432      7    19         5    15   22  \n",
       "\n",
       "[5 rows x 67 columns]"
      ]
     },
     "execution_count": 267,
     "metadata": {},
     "output_type": "execute_result"
    }
   ],
   "source": [
    "# Segregate predictors vs target attributes\n",
    "X = data_raw.drop(['Pass/Fail',],axis=1)\n",
    "X.head()"
   ]
  },
  {
   "cell_type": "code",
   "execution_count": 268,
   "metadata": {},
   "outputs": [
    {
     "data": {
      "text/plain": [
       "0       1.0\n",
       "1       1.0\n",
       "2       0.0\n",
       "3       1.0\n",
       "4       1.0\n",
       "       ... \n",
       "1562    1.0\n",
       "1563    1.0\n",
       "1564    1.0\n",
       "1565    1.0\n",
       "1566    1.0\n",
       "Name: Pass/Fail, Length: 1567, dtype: float64"
      ]
     },
     "execution_count": 268,
     "metadata": {},
     "output_type": "execute_result"
    }
   ],
   "source": [
    "y = data_raw['Pass/Fail']\n",
    "y"
   ]
  },
  {
   "cell_type": "code",
   "execution_count": 269,
   "metadata": {},
   "outputs": [],
   "source": [
    "x_train, x_test, y_train, y_test = train_test_split(X, y, test_size = 0.3, random_state = 0)"
   ]
  },
  {
   "cell_type": "code",
   "execution_count": 270,
   "metadata": {},
   "outputs": [
    {
     "data": {
      "text/plain": [
       "1.0    0.928832\n",
       "0.0    0.071168\n",
       "Name: Pass/Fail, dtype: float64"
      ]
     },
     "execution_count": 270,
     "metadata": {},
     "output_type": "execute_result"
    }
   ],
   "source": [
    "# Check if the target column is well balanced\n",
    "y_train.value_counts(normalize='True')"
   ]
  },
  {
   "cell_type": "markdown",
   "metadata": {},
   "source": [
    "- We observe that there is significant imbalance in the target column.\n",
    "- This will be corrected in the later section."
   ]
  },
  {
   "cell_type": "code",
   "execution_count": 271,
   "metadata": {},
   "outputs": [
    {
     "data": {
      "text/html": [
       "<div>\n",
       "<style scoped>\n",
       "    .dataframe tbody tr th:only-of-type {\n",
       "        vertical-align: middle;\n",
       "    }\n",
       "\n",
       "    .dataframe tbody tr th {\n",
       "        vertical-align: top;\n",
       "    }\n",
       "\n",
       "    .dataframe thead th {\n",
       "        text-align: right;\n",
       "    }\n",
       "</style>\n",
       "<table border=\"1\" class=\"dataframe\">\n",
       "  <thead>\n",
       "    <tr style=\"text-align: right;\">\n",
       "      <th></th>\n",
       "      <th>count</th>\n",
       "      <th>mean</th>\n",
       "      <th>std</th>\n",
       "      <th>min</th>\n",
       "      <th>25%</th>\n",
       "      <th>50%</th>\n",
       "      <th>75%</th>\n",
       "      <th>max</th>\n",
       "    </tr>\n",
       "  </thead>\n",
       "  <tbody>\n",
       "    <tr>\n",
       "      <th>0</th>\n",
       "      <td>1096.0</td>\n",
       "      <td>3010.148900</td>\n",
       "      <td>60.851670</td>\n",
       "      <td>2831.9100</td>\n",
       "      <td>2970.100000</td>\n",
       "      <td>3012.830000</td>\n",
       "      <td>3051.500000</td>\n",
       "      <td>3190.7800</td>\n",
       "    </tr>\n",
       "    <tr>\n",
       "      <th>1</th>\n",
       "      <td>1096.0</td>\n",
       "      <td>2495.800510</td>\n",
       "      <td>58.019245</td>\n",
       "      <td>2326.5900</td>\n",
       "      <td>2459.807500</td>\n",
       "      <td>2495.866110</td>\n",
       "      <td>2531.787500</td>\n",
       "      <td>2664.5200</td>\n",
       "    </tr>\n",
       "    <tr>\n",
       "      <th>2</th>\n",
       "      <td>1096.0</td>\n",
       "      <td>2200.754461</td>\n",
       "      <td>25.873672</td>\n",
       "      <td>2126.6555</td>\n",
       "      <td>2183.311100</td>\n",
       "      <td>2200.551958</td>\n",
       "      <td>2216.874975</td>\n",
       "      <td>2270.2556</td>\n",
       "    </tr>\n",
       "    <tr>\n",
       "      <th>3</th>\n",
       "      <td>1096.0</td>\n",
       "      <td>1347.879789</td>\n",
       "      <td>341.412766</td>\n",
       "      <td>711.0258</td>\n",
       "      <td>1079.496700</td>\n",
       "      <td>1284.325600</td>\n",
       "      <td>1552.099975</td>\n",
       "      <td>3085.3781</td>\n",
       "    </tr>\n",
       "    <tr>\n",
       "      <th>6</th>\n",
       "      <td>1096.0</td>\n",
       "      <td>101.336990</td>\n",
       "      <td>4.591713</td>\n",
       "      <td>82.2467</td>\n",
       "      <td>98.777475</td>\n",
       "      <td>101.457800</td>\n",
       "      <td>104.198900</td>\n",
       "      <td>113.8833</td>\n",
       "    </tr>\n",
       "    <tr>\n",
       "      <th>...</th>\n",
       "      <td>...</td>\n",
       "      <td>...</td>\n",
       "      <td>...</td>\n",
       "      <td>...</td>\n",
       "      <td>...</td>\n",
       "      <td>...</td>\n",
       "      <td>...</td>\n",
       "      <td>...</td>\n",
       "    </tr>\n",
       "    <tr>\n",
       "      <th>month</th>\n",
       "      <td>1096.0</td>\n",
       "      <td>7.375000</td>\n",
       "      <td>2.595900</td>\n",
       "      <td>1.0000</td>\n",
       "      <td>6.000000</td>\n",
       "      <td>8.000000</td>\n",
       "      <td>9.000000</td>\n",
       "      <td>12.0000</td>\n",
       "    </tr>\n",
       "    <tr>\n",
       "      <th>date</th>\n",
       "      <td>1096.0</td>\n",
       "      <td>16.929745</td>\n",
       "      <td>7.544425</td>\n",
       "      <td>8.0000</td>\n",
       "      <td>10.000000</td>\n",
       "      <td>16.000000</td>\n",
       "      <td>22.000000</td>\n",
       "      <td>31.0000</td>\n",
       "    </tr>\n",
       "    <tr>\n",
       "      <th>week_day</th>\n",
       "      <td>1096.0</td>\n",
       "      <td>3.159672</td>\n",
       "      <td>1.980512</td>\n",
       "      <td>0.0000</td>\n",
       "      <td>1.000000</td>\n",
       "      <td>3.000000</td>\n",
       "      <td>5.000000</td>\n",
       "      <td>6.0000</td>\n",
       "    </tr>\n",
       "    <tr>\n",
       "      <th>hour</th>\n",
       "      <td>1096.0</td>\n",
       "      <td>11.836679</td>\n",
       "      <td>7.015167</td>\n",
       "      <td>0.0000</td>\n",
       "      <td>6.000000</td>\n",
       "      <td>12.000000</td>\n",
       "      <td>18.000000</td>\n",
       "      <td>23.0000</td>\n",
       "    </tr>\n",
       "    <tr>\n",
       "      <th>min</th>\n",
       "      <td>1096.0</td>\n",
       "      <td>29.627737</td>\n",
       "      <td>17.237638</td>\n",
       "      <td>0.0000</td>\n",
       "      <td>15.000000</td>\n",
       "      <td>29.000000</td>\n",
       "      <td>45.000000</td>\n",
       "      <td>59.0000</td>\n",
       "    </tr>\n",
       "  </tbody>\n",
       "</table>\n",
       "<p>67 rows × 8 columns</p>\n",
       "</div>"
      ],
      "text/plain": [
       "           count         mean         std        min          25%  \\\n",
       "0         1096.0  3010.148900   60.851670  2831.9100  2970.100000   \n",
       "1         1096.0  2495.800510   58.019245  2326.5900  2459.807500   \n",
       "2         1096.0  2200.754461   25.873672  2126.6555  2183.311100   \n",
       "3         1096.0  1347.879789  341.412766   711.0258  1079.496700   \n",
       "6         1096.0   101.336990    4.591713    82.2467    98.777475   \n",
       "...          ...          ...         ...        ...          ...   \n",
       "month     1096.0     7.375000    2.595900     1.0000     6.000000   \n",
       "date      1096.0    16.929745    7.544425     8.0000    10.000000   \n",
       "week_day  1096.0     3.159672    1.980512     0.0000     1.000000   \n",
       "hour      1096.0    11.836679    7.015167     0.0000     6.000000   \n",
       "min       1096.0    29.627737   17.237638     0.0000    15.000000   \n",
       "\n",
       "                  50%          75%        max  \n",
       "0         3012.830000  3051.500000  3190.7800  \n",
       "1         2495.866110  2531.787500  2664.5200  \n",
       "2         2200.551958  2216.874975  2270.2556  \n",
       "3         1284.325600  1552.099975  3085.3781  \n",
       "6          101.457800   104.198900   113.8833  \n",
       "...               ...          ...        ...  \n",
       "month        8.000000     9.000000    12.0000  \n",
       "date        16.000000    22.000000    31.0000  \n",
       "week_day     3.000000     5.000000     6.0000  \n",
       "hour        12.000000    18.000000    23.0000  \n",
       "min         29.000000    45.000000    59.0000  \n",
       "\n",
       "[67 rows x 8 columns]"
      ]
     },
     "execution_count": 271,
     "metadata": {},
     "output_type": "execute_result"
    }
   ],
   "source": [
    "# Check the statistics of the training data\n",
    "x_train.describe().transpose()"
   ]
  },
  {
   "cell_type": "code",
   "execution_count": 272,
   "metadata": {},
   "outputs": [
    {
     "data": {
      "text/html": [
       "<div>\n",
       "<style scoped>\n",
       "    .dataframe tbody tr th:only-of-type {\n",
       "        vertical-align: middle;\n",
       "    }\n",
       "\n",
       "    .dataframe tbody tr th {\n",
       "        vertical-align: top;\n",
       "    }\n",
       "\n",
       "    .dataframe thead th {\n",
       "        text-align: right;\n",
       "    }\n",
       "</style>\n",
       "<table border=\"1\" class=\"dataframe\">\n",
       "  <thead>\n",
       "    <tr style=\"text-align: right;\">\n",
       "      <th></th>\n",
       "      <th>count</th>\n",
       "      <th>mean</th>\n",
       "      <th>std</th>\n",
       "      <th>min</th>\n",
       "      <th>25%</th>\n",
       "      <th>50%</th>\n",
       "      <th>75%</th>\n",
       "      <th>max</th>\n",
       "    </tr>\n",
       "  </thead>\n",
       "  <tbody>\n",
       "    <tr>\n",
       "      <th>0</th>\n",
       "      <td>471.0</td>\n",
       "      <td>3009.387480</td>\n",
       "      <td>64.725847</td>\n",
       "      <td>2770.4000</td>\n",
       "      <td>2966.66500</td>\n",
       "      <td>3011.320000</td>\n",
       "      <td>3052.83500</td>\n",
       "      <td>3190.9700</td>\n",
       "    </tr>\n",
       "    <tr>\n",
       "      <th>1</th>\n",
       "      <td>471.0</td>\n",
       "      <td>2499.232692</td>\n",
       "      <td>63.050587</td>\n",
       "      <td>2327.2900</td>\n",
       "      <td>2460.03000</td>\n",
       "      <td>2499.350000</td>\n",
       "      <td>2539.48500</td>\n",
       "      <td>2666.0400</td>\n",
       "    </tr>\n",
       "    <tr>\n",
       "      <th>2</th>\n",
       "      <td>471.0</td>\n",
       "      <td>2201.564185</td>\n",
       "      <td>25.246780</td>\n",
       "      <td>2127.9555</td>\n",
       "      <td>2181.17220</td>\n",
       "      <td>2201.588900</td>\n",
       "      <td>2218.62780</td>\n",
       "      <td>2270.2556</td>\n",
       "    </tr>\n",
       "    <tr>\n",
       "      <th>3</th>\n",
       "      <td>471.0</td>\n",
       "      <td>1358.497117</td>\n",
       "      <td>340.243391</td>\n",
       "      <td>812.1294</td>\n",
       "      <td>1101.97975</td>\n",
       "      <td>1298.820700</td>\n",
       "      <td>1553.31580</td>\n",
       "      <td>2914.1792</td>\n",
       "    </tr>\n",
       "    <tr>\n",
       "      <th>6</th>\n",
       "      <td>471.0</td>\n",
       "      <td>101.467458</td>\n",
       "      <td>4.379920</td>\n",
       "      <td>85.1011</td>\n",
       "      <td>98.89000</td>\n",
       "      <td>101.116476</td>\n",
       "      <td>104.23055</td>\n",
       "      <td>112.5811</td>\n",
       "    </tr>\n",
       "    <tr>\n",
       "      <th>...</th>\n",
       "      <td>...</td>\n",
       "      <td>...</td>\n",
       "      <td>...</td>\n",
       "      <td>...</td>\n",
       "      <td>...</td>\n",
       "      <td>...</td>\n",
       "      <td>...</td>\n",
       "      <td>...</td>\n",
       "    </tr>\n",
       "    <tr>\n",
       "      <th>month</th>\n",
       "      <td>471.0</td>\n",
       "      <td>7.490446</td>\n",
       "      <td>2.456302</td>\n",
       "      <td>1.0000</td>\n",
       "      <td>7.00000</td>\n",
       "      <td>8.000000</td>\n",
       "      <td>9.00000</td>\n",
       "      <td>12.0000</td>\n",
       "    </tr>\n",
       "    <tr>\n",
       "      <th>date</th>\n",
       "      <td>471.0</td>\n",
       "      <td>17.991507</td>\n",
       "      <td>7.729739</td>\n",
       "      <td>8.0000</td>\n",
       "      <td>10.00000</td>\n",
       "      <td>18.000000</td>\n",
       "      <td>25.00000</td>\n",
       "      <td>31.0000</td>\n",
       "    </tr>\n",
       "    <tr>\n",
       "      <th>week_day</th>\n",
       "      <td>471.0</td>\n",
       "      <td>3.199575</td>\n",
       "      <td>2.009149</td>\n",
       "      <td>0.0000</td>\n",
       "      <td>1.00000</td>\n",
       "      <td>3.000000</td>\n",
       "      <td>5.00000</td>\n",
       "      <td>6.0000</td>\n",
       "    </tr>\n",
       "    <tr>\n",
       "      <th>hour</th>\n",
       "      <td>471.0</td>\n",
       "      <td>11.649682</td>\n",
       "      <td>6.562822</td>\n",
       "      <td>0.0000</td>\n",
       "      <td>6.00000</td>\n",
       "      <td>12.000000</td>\n",
       "      <td>17.00000</td>\n",
       "      <td>23.0000</td>\n",
       "    </tr>\n",
       "    <tr>\n",
       "      <th>min</th>\n",
       "      <td>471.0</td>\n",
       "      <td>29.104034</td>\n",
       "      <td>17.225408</td>\n",
       "      <td>0.0000</td>\n",
       "      <td>14.00000</td>\n",
       "      <td>29.000000</td>\n",
       "      <td>45.00000</td>\n",
       "      <td>59.0000</td>\n",
       "    </tr>\n",
       "  </tbody>\n",
       "</table>\n",
       "<p>67 rows × 8 columns</p>\n",
       "</div>"
      ],
      "text/plain": [
       "          count         mean         std        min         25%          50%  \\\n",
       "0         471.0  3009.387480   64.725847  2770.4000  2966.66500  3011.320000   \n",
       "1         471.0  2499.232692   63.050587  2327.2900  2460.03000  2499.350000   \n",
       "2         471.0  2201.564185   25.246780  2127.9555  2181.17220  2201.588900   \n",
       "3         471.0  1358.497117  340.243391   812.1294  1101.97975  1298.820700   \n",
       "6         471.0   101.467458    4.379920    85.1011    98.89000   101.116476   \n",
       "...         ...          ...         ...        ...         ...          ...   \n",
       "month     471.0     7.490446    2.456302     1.0000     7.00000     8.000000   \n",
       "date      471.0    17.991507    7.729739     8.0000    10.00000    18.000000   \n",
       "week_day  471.0     3.199575    2.009149     0.0000     1.00000     3.000000   \n",
       "hour      471.0    11.649682    6.562822     0.0000     6.00000    12.000000   \n",
       "min       471.0    29.104034   17.225408     0.0000    14.00000    29.000000   \n",
       "\n",
       "                 75%        max  \n",
       "0         3052.83500  3190.9700  \n",
       "1         2539.48500  2666.0400  \n",
       "2         2218.62780  2270.2556  \n",
       "3         1553.31580  2914.1792  \n",
       "6          104.23055   112.5811  \n",
       "...              ...        ...  \n",
       "month        9.00000    12.0000  \n",
       "date        25.00000    31.0000  \n",
       "week_day     5.00000     6.0000  \n",
       "hour        17.00000    23.0000  \n",
       "min         45.00000    59.0000  \n",
       "\n",
       "[67 rows x 8 columns]"
      ]
     },
     "execution_count": 272,
     "metadata": {},
     "output_type": "execute_result"
    }
   ],
   "source": [
    "# Check the statistics of the testing data\n",
    "x_test.describe().transpose()"
   ]
  },
  {
   "cell_type": "code",
   "execution_count": 273,
   "metadata": {},
   "outputs": [
    {
     "data": {
      "text/html": [
       "<div>\n",
       "<style scoped>\n",
       "    .dataframe tbody tr th:only-of-type {\n",
       "        vertical-align: middle;\n",
       "    }\n",
       "\n",
       "    .dataframe tbody tr th {\n",
       "        vertical-align: top;\n",
       "    }\n",
       "\n",
       "    .dataframe thead th {\n",
       "        text-align: right;\n",
       "    }\n",
       "</style>\n",
       "<table border=\"1\" class=\"dataframe\">\n",
       "  <thead>\n",
       "    <tr style=\"text-align: right;\">\n",
       "      <th></th>\n",
       "      <th>count</th>\n",
       "      <th>mean</th>\n",
       "      <th>std</th>\n",
       "      <th>min</th>\n",
       "      <th>25%</th>\n",
       "      <th>50%</th>\n",
       "      <th>75%</th>\n",
       "      <th>max</th>\n",
       "    </tr>\n",
       "  </thead>\n",
       "  <tbody>\n",
       "    <tr>\n",
       "      <th>0</th>\n",
       "      <td>1567.0</td>\n",
       "      <td>3009.920037</td>\n",
       "      <td>62.021755</td>\n",
       "      <td>2770.4000</td>\n",
       "      <td>2968.0400</td>\n",
       "      <td>3012.18000</td>\n",
       "      <td>3051.8400</td>\n",
       "      <td>3190.9700</td>\n",
       "    </tr>\n",
       "    <tr>\n",
       "      <th>1</th>\n",
       "      <td>1567.0</td>\n",
       "      <td>2496.832136</td>\n",
       "      <td>59.576692</td>\n",
       "      <td>2326.5900</td>\n",
       "      <td>2459.8700</td>\n",
       "      <td>2495.86611</td>\n",
       "      <td>2534.3250</td>\n",
       "      <td>2666.0400</td>\n",
       "    </tr>\n",
       "    <tr>\n",
       "      <th>2</th>\n",
       "      <td>1567.0</td>\n",
       "      <td>2200.997843</td>\n",
       "      <td>25.681494</td>\n",
       "      <td>2126.6555</td>\n",
       "      <td>2183.0556</td>\n",
       "      <td>2200.95560</td>\n",
       "      <td>2217.5778</td>\n",
       "      <td>2270.2556</td>\n",
       "    </tr>\n",
       "    <tr>\n",
       "      <th>3</th>\n",
       "      <td>1567.0</td>\n",
       "      <td>1351.071085</td>\n",
       "      <td>340.987862</td>\n",
       "      <td>711.0258</td>\n",
       "      <td>1084.3779</td>\n",
       "      <td>1285.21440</td>\n",
       "      <td>1553.3158</td>\n",
       "      <td>3085.3781</td>\n",
       "    </tr>\n",
       "    <tr>\n",
       "      <th>6</th>\n",
       "      <td>1567.0</td>\n",
       "      <td>101.376205</td>\n",
       "      <td>4.528097</td>\n",
       "      <td>82.2467</td>\n",
       "      <td>98.7911</td>\n",
       "      <td>101.35560</td>\n",
       "      <td>104.1989</td>\n",
       "      <td>113.8833</td>\n",
       "    </tr>\n",
       "    <tr>\n",
       "      <th>...</th>\n",
       "      <td>...</td>\n",
       "      <td>...</td>\n",
       "      <td>...</td>\n",
       "      <td>...</td>\n",
       "      <td>...</td>\n",
       "      <td>...</td>\n",
       "      <td>...</td>\n",
       "      <td>...</td>\n",
       "    </tr>\n",
       "    <tr>\n",
       "      <th>month</th>\n",
       "      <td>1567.0</td>\n",
       "      <td>7.409700</td>\n",
       "      <td>2.554511</td>\n",
       "      <td>1.0000</td>\n",
       "      <td>7.0000</td>\n",
       "      <td>8.00000</td>\n",
       "      <td>9.0000</td>\n",
       "      <td>12.0000</td>\n",
       "    </tr>\n",
       "    <tr>\n",
       "      <th>date</th>\n",
       "      <td>1567.0</td>\n",
       "      <td>17.248883</td>\n",
       "      <td>7.613716</td>\n",
       "      <td>8.0000</td>\n",
       "      <td>10.0000</td>\n",
       "      <td>17.00000</td>\n",
       "      <td>23.0000</td>\n",
       "      <td>31.0000</td>\n",
       "    </tr>\n",
       "    <tr>\n",
       "      <th>week_day</th>\n",
       "      <td>1567.0</td>\n",
       "      <td>3.171666</td>\n",
       "      <td>1.988605</td>\n",
       "      <td>0.0000</td>\n",
       "      <td>1.0000</td>\n",
       "      <td>3.00000</td>\n",
       "      <td>5.0000</td>\n",
       "      <td>6.0000</td>\n",
       "    </tr>\n",
       "    <tr>\n",
       "      <th>hour</th>\n",
       "      <td>1567.0</td>\n",
       "      <td>11.780472</td>\n",
       "      <td>6.880780</td>\n",
       "      <td>0.0000</td>\n",
       "      <td>6.0000</td>\n",
       "      <td>12.00000</td>\n",
       "      <td>18.0000</td>\n",
       "      <td>23.0000</td>\n",
       "    </tr>\n",
       "    <tr>\n",
       "      <th>min</th>\n",
       "      <td>1567.0</td>\n",
       "      <td>29.470325</td>\n",
       "      <td>17.230137</td>\n",
       "      <td>0.0000</td>\n",
       "      <td>15.0000</td>\n",
       "      <td>29.00000</td>\n",
       "      <td>45.0000</td>\n",
       "      <td>59.0000</td>\n",
       "    </tr>\n",
       "  </tbody>\n",
       "</table>\n",
       "<p>68 rows × 8 columns</p>\n",
       "</div>"
      ],
      "text/plain": [
       "           count         mean         std        min        25%         50%  \\\n",
       "0         1567.0  3009.920037   62.021755  2770.4000  2968.0400  3012.18000   \n",
       "1         1567.0  2496.832136   59.576692  2326.5900  2459.8700  2495.86611   \n",
       "2         1567.0  2200.997843   25.681494  2126.6555  2183.0556  2200.95560   \n",
       "3         1567.0  1351.071085  340.987862   711.0258  1084.3779  1285.21440   \n",
       "6         1567.0   101.376205    4.528097    82.2467    98.7911   101.35560   \n",
       "...          ...          ...         ...        ...        ...         ...   \n",
       "month     1567.0     7.409700    2.554511     1.0000     7.0000     8.00000   \n",
       "date      1567.0    17.248883    7.613716     8.0000    10.0000    17.00000   \n",
       "week_day  1567.0     3.171666    1.988605     0.0000     1.0000     3.00000   \n",
       "hour      1567.0    11.780472    6.880780     0.0000     6.0000    12.00000   \n",
       "min       1567.0    29.470325   17.230137     0.0000    15.0000    29.00000   \n",
       "\n",
       "                75%        max  \n",
       "0         3051.8400  3190.9700  \n",
       "1         2534.3250  2666.0400  \n",
       "2         2217.5778  2270.2556  \n",
       "3         1553.3158  3085.3781  \n",
       "6          104.1989   113.8833  \n",
       "...             ...        ...  \n",
       "month        9.0000    12.0000  \n",
       "date        23.0000    31.0000  \n",
       "week_day     5.0000     6.0000  \n",
       "hour        18.0000    23.0000  \n",
       "min         45.0000    59.0000  \n",
       "\n",
       "[68 rows x 8 columns]"
      ]
     },
     "execution_count": 273,
     "metadata": {},
     "output_type": "execute_result"
    }
   ],
   "source": [
    "data_raw.describe().transpose()"
   ]
  },
  {
   "cell_type": "markdown",
   "metadata": {},
   "source": [
    "- We observe that the statistical characteristics of the training data, testing data and the raw data are quite similar."
   ]
  },
  {
   "cell_type": "code",
   "execution_count": 274,
   "metadata": {},
   "outputs": [],
   "source": [
    "# Perform scaling on the traing and the testing data\n",
    "x_train = x_train.apply(zscore)\n",
    "x_test  = x_test.apply(zscore)"
   ]
  },
  {
   "cell_type": "markdown",
   "metadata": {},
   "source": [
    "<span style=\"font-family: Arial; font-weight:bold;font-size:2em;color:#00b3e5;\">  5. Model training, testing and tuning"
   ]
  },
  {
   "cell_type": "markdown",
   "metadata": {},
   "source": [
    "- Firstly, we use Logistic Regression model for the classification purpose.\n",
    "- Later, we also compare the results with RandomForest classifier and XG boost mrthods."
   ]
  },
  {
   "cell_type": "code",
   "execution_count": 275,
   "metadata": {},
   "outputs": [
    {
     "name": "stdout",
     "output_type": "stream",
     "text": [
      "Classification accuracy of the train data : 0.927007299270073\n",
      "Classification accuracy of the test data : 0.9278131634819533\n",
      "\n",
      "Classification report:\n",
      "              precision    recall  f1-score   support\n",
      "\n",
      "         0.0       0.17      0.08      0.11        26\n",
      "         1.0       0.95      0.98      0.96       445\n",
      "\n",
      "    accuracy                           0.93       471\n",
      "   macro avg       0.56      0.53      0.53       471\n",
      "weighted avg       0.90      0.93      0.92       471\n",
      "\n"
     ]
    },
    {
     "data": {
      "image/png": "[encoded data removed]",
      "text/plain": [
       "<Figure size 432x288 with 2 Axes>"
      ]
     },
     "metadata": {
      "needs_background": "light"
     },
     "output_type": "display_data"
    }
   ],
   "source": [
    "model_lr = LogisticRegression(solver=\"liblinear\")\n",
    "model_lr.fit(x_train, y_train)\n",
    "\n",
    "y_predict = model_lr.predict(x_test)\n",
    "\n",
    "print('Classification accuracy of the train data :',model_lr.score(x_train, y_train))\n",
    "print('Classification accuracy of the test data :',model_lr.score(x_test, y_test))\n",
    "\n",
    "conf_mat = metrics.confusion_matrix(y_test,y_predict)\n",
    "df_conf_mat = pd.DataFrame(conf_mat)\n",
    "sns.heatmap(df_conf_mat,annot=True,cmap='Blues',fmt='g')\n",
    "\n",
    "print('\\nClassification report:')\n",
    "print(metrics.classification_report(y_test,y_predict,digits=2))"
   ]
  },
  {
   "cell_type": "markdown",
   "metadata": {},
   "source": [
    "From the confusion matrix we can say that:\n",
    "1. True Positives (TP): we correctly predicted 435 pass category instances\n",
    "2. True Negatives (TN): we correctly predicted only 2 failed category instances\n",
    "3. False Positives (FP): we incorrectly predicted 24 pass category instances - Type I error\n",
    "4. False Negatives (FN): we incorrectly predicted 10 negative category instances - Type II error"
   ]
  },
  {
   "cell_type": "code",
   "execution_count": 276,
   "metadata": {},
   "outputs": [
    {
     "name": "stdout",
     "output_type": "stream",
     "text": [
      "\n",
      " KFold cross validation results: \n",
      " mean accuracy =  0.9273 \n",
      " standard deviation in accuracy = 0.0736\n",
      "\n",
      " Stratified KFold cross validation results: \n",
      " mean accuracy =  0.9273 \n",
      " standard deviation in accuracy = 0.0736\n"
     ]
    }
   ],
   "source": [
    "# Cross validation\n",
    "kfold = KFold(n_splits=50)\n",
    "cv_score = cross_val_score(model_lr, X, y, cv=kfold)\n",
    "print('\\n KFold cross validation results: \\n mean accuracy =  %.4f \\n standard deviation in accuracy = %.4f' % (cv_score.mean(), cv_score.std()))\n",
    "\n",
    "kfold_stratified = RepeatedStratifiedKFold(n_splits=10,n_repeats=3,random_state=1)\n",
    "stratified_cv_score = cross_val_score(model_lr, X, y, cv=kfold_stratified)\n",
    "print('\\n Stratified KFold cross validation results: \\n mean accuracy =  %.4f \\n standard deviation in accuracy = %.4f' % (cv_score.mean(), cv_score.std()))"
   ]
  },
  {
   "cell_type": "code",
   "execution_count": 277,
   "metadata": {},
   "outputs": [
    {
     "name": "stdout",
     "output_type": "stream",
     "text": [
      "Best solver:  newton-cg\n",
      "Best penalty:  l2\n",
      "Best c_values:  0.01\n",
      "Best accuracy:  0.9288407005838197\n"
     ]
    }
   ],
   "source": [
    "# Hyper-parameter tuning\n",
    "solvers = ['newton-cg', 'liblinear']\n",
    "c_values = [100,10,1,0.1,0.01]\n",
    "hyperparameters = dict(solver=solvers,C=c_values)\n",
    "\n",
    "grid_search = GridSearchCV(LogisticRegression(),hyperparameters,cv=kfold_stratified,scoring='accuracy')\n",
    "best_model = grid_search.fit(x_train,y_train)\n",
    "\n",
    "print('Best solver: ', (best_model.best_estimator_.get_params()['solver']))\n",
    "print('Best penalty: ', (best_model.best_estimator_.get_params()['penalty']))\n",
    "print('Best c_values: ', (best_model.best_estimator_.get_params()['C']))\n",
    "print('Best accuracy: ', (best_model.best_score_))"
   ]
  },
  {
   "cell_type": "markdown",
   "metadata": {},
   "source": [
    "- We observe that accuracy stays constant even with the model tuning."
   ]
  },
  {
   "cell_type": "code",
   "execution_count": 278,
   "metadata": {},
   "outputs": [
    {
     "name": "stdout",
     "output_type": "stream",
     "text": [
      "[0.06310928 0.03534947 0.03354279 0.03140793 0.02870037 0.02842082\n",
      " 0.02642778 0.02525722 0.02365757 0.02157866 0.02076432 0.02008227\n",
      " 0.01977052 0.0193982  0.01883724 0.01819605 0.01786613 0.01761949\n",
      " 0.017189   0.01698132 0.01667475 0.01611405 0.0159144  0.01586494\n",
      " 0.0154033  0.01517695 0.01485504 0.01473157 0.01436207 0.01424677\n",
      " 0.01413792 0.01377133 0.01361141 0.01330077 0.0132548  0.01299586\n",
      " 0.01287036 0.01239685 0.01228048 0.01186762 0.01182128 0.01162297\n",
      " 0.0115387  0.01142096 0.01127752 0.010721   0.01059588 0.0105009\n",
      " 0.01026978 0.00968759 0.00963427 0.00907643 0.00886094 0.00835599\n",
      " 0.00817805 0.00751854 0.00696261 0.00644409 0.00599453 0.00546696\n",
      " 0.00529605 0.00500134 0.00466722 0.00436006 0.00333186 0.00315387\n",
      " 0.00025294]\n"
     ]
    },
    {
     "data": {
      "image/png": "[encoded data removed]",
      "text/plain": [
       "<Figure size 432x288 with 1 Axes>"
      ]
     },
     "metadata": {
      "needs_background": "light"
     },
     "output_type": "display_data"
    },
    {
     "data": {
      "image/png": "[encoded data removed]",
      "text/plain": [
       "<Figure size 432x288 with 1 Axes>"
      ]
     },
     "metadata": {
      "needs_background": "light"
     },
     "output_type": "display_data"
    }
   ],
   "source": [
    "# Dimensionality reduction using PCA\n",
    "pca = PCA(n_components=X.shape[1])\n",
    "pca.fit(x_train)\n",
    "print(pca.explained_variance_ratio_)\n",
    "\n",
    "plt.bar(list(range(1,X.shape[1]+1)),pca.explained_variance_ratio_, align='center')\n",
    "plt.ylabel('Variation explained')\n",
    "plt.xlabel('eigen Value')\n",
    "plt.show()\n",
    "\n",
    "plt.step(list(range(1,X.shape[1]+1)),np.cumsum(pca.explained_variance_ratio_), where='mid')\n",
    "plt.ylabel('Cumulative of variation explained')\n",
    "plt.xlabel('eigen Value')\n",
    "plt.show()"
   ]
  },
  {
   "cell_type": "markdown",
   "metadata": {},
   "source": [
    "- We observe that first 5 principal components are more important than the other.\n",
    "- Also, the first 30 principal components explain around 60% of the variance."
   ]
  },
  {
   "cell_type": "code",
   "execution_count": 279,
   "metadata": {},
   "outputs": [
    {
     "name": "stdout",
     "output_type": "stream",
     "text": [
      "Imbalanced Target vector:\n",
      " 1.0    1018\n",
      "0.0      78\n",
      "Name: Pass/Fail, dtype: int64\n",
      "\n",
      "Balanced Target vector:\n",
      " 0.0    1018\n",
      "1.0    1018\n",
      "Name: Pass/Fail, dtype: int64\n"
     ]
    }
   ],
   "source": [
    "# Target balancing using SMOTE\n",
    "print('Imbalanced Target vector:\\n', y_train.value_counts())\n",
    "smote = SMOTE(random_state=7)\n",
    "x_train,y_train = smote.fit_resample(x_train,y_train)\n",
    "print('\\nBalanced Target vector:\\n', y_train.value_counts())"
   ]
  },
  {
   "cell_type": "code",
   "execution_count": 280,
   "metadata": {},
   "outputs": [
    {
     "name": "stdout",
     "output_type": "stream",
     "text": [
      "Classification accuracy of the train data : 0.8354616895874263\n",
      "Classification accuracy of the test data : 0.7409766454352441\n",
      "\n",
      " Classification report:\n",
      "              precision    recall  f1-score   support\n",
      "\n",
      "         0.0       0.11      0.50      0.18        26\n",
      "         1.0       0.96      0.76      0.85       445\n",
      "\n",
      "    accuracy                           0.74       471\n",
      "   macro avg       0.53      0.63      0.51       471\n",
      "weighted avg       0.92      0.74      0.81       471\n",
      "\n"
     ]
    },
    {
     "data": {
      "image/png": "[encoded data removed]",
      "text/plain": [
       "<Figure size 432x288 with 2 Axes>"
      ]
     },
     "metadata": {
      "needs_background": "light"
     },
     "output_type": "display_data"
    }
   ],
   "source": [
    "# We recheck the results of the Logistic Regression model using the balanced data\n",
    "model_lr_bal = LogisticRegression(solver=\"liblinear\")\n",
    "model_lr_bal.fit(x_train, y_train)\n",
    "\n",
    "y_predict = model_lr_bal.predict(x_test)\n",
    "\n",
    "print('Classification accuracy of the train data :', model_lr_bal.score(x_train, y_train))\n",
    "print('Classification accuracy of the test data :', model_lr_bal.score(x_test, y_test))\n",
    "\n",
    "conf_mat = metrics.confusion_matrix(y_test,y_predict)\n",
    "df_conf_mat = pd.DataFrame(conf_mat)\n",
    "sns.heatmap(df_conf_mat,annot=True,cmap='Blues',fmt='g')\n",
    "print('\\n Classification report:')\n",
    "print(metrics.classification_report(y_test,y_predict,digits=2))"
   ]
  },
  {
   "cell_type": "markdown",
   "metadata": {},
   "source": [
    "Comparing the confusion matrices before and after the target balancing, we can say that in the later case:\n",
    "1. True Positives (TP) is decreased,\n",
    "2. True Negatives (TN) is slightly increased,\n",
    "3. False Positives (FP) is slightly decreased, - Type I error\n",
    "4. False Negatives (FN) is drastically increased - Type II error"
   ]
  },
  {
   "cell_type": "code",
   "execution_count": 281,
   "metadata": {},
   "outputs": [
    {
     "name": "stdout",
     "output_type": "stream",
     "text": [
      "95.0 confidence interval 89.5% and 93.1%\n"
     ]
    },
    {
     "data": {
      "image/png": "[encoded data removed]",
      "text/plain": [
       "<Figure size 432x288 with 1 Axes>"
      ]
     },
     "metadata": {
      "needs_background": "light"
     },
     "output_type": "display_data"
    }
   ],
   "source": [
    "# Bootstrap sampling\n",
    "n_iter = 1000\n",
    "\n",
    "accuracy = []\n",
    "for i in range(n_iter):\n",
    "    data_train = resample(data_raw,n_samples=int(data_raw.shape[0]*0.7))\n",
    "    data_test_indices = np.array([x for x in data_raw.index.values if not x in data_train.index.values])\n",
    "    data_test  = data_raw.iloc[data_test_indices]\n",
    "    \n",
    "    x_train_resample = data_train.drop(['Pass/Fail'],axis=1).apply(zscore)\n",
    "    y_train_resample = data_train['Pass/Fail']\n",
    "    x_test_resample  = data_test.drop(['Pass/Fail'],axis=1).apply(zscore)\n",
    "    y_test_resample  = data_test['Pass/Fail']\n",
    "    \n",
    "    model_lr = LogisticRegression()\n",
    "    model_lr.fit(x_train_resample, y_train_resample)\n",
    "\n",
    "    y_predict_resample = model_lr.predict(x_test_resample)\n",
    "    out_of_sample_accuracy  = model_lr.score(x_test_resample, y_test_resample)\n",
    "    accuracy.append(out_of_sample_accuracy)\n",
    "\n",
    "dataframe_temp = pd.DataFrame(accuracy)\n",
    "dataframe_temp.columns = ['Accuracy']\n",
    "dataframe_temp.hist(bins=50)\n",
    "alpha = 0.95                             \n",
    "p = ((1.0-alpha)/2.0) * 100           \n",
    "lower = max(0.0, np.percentile(accuracy, p))  \n",
    "p = (alpha+((1.0-alpha)/2.0)) * 100\n",
    "upper = min(1.0, np.percentile(accuracy, p))\n",
    "print('%.1f confidence interval %.1f%% and %.1f%%' % (alpha*100, lower*100, upper*100))"
   ]
  },
  {
   "cell_type": "markdown",
   "metadata": {},
   "source": [
    "- From the above results, we can say with 95% confidence that, using the Logitic Regression model we can achieve an accuracy between 89.8% and 93.1%."
   ]
  },
  {
   "cell_type": "code",
   "execution_count": 282,
   "metadata": {},
   "outputs": [
    {
     "name": "stdout",
     "output_type": "stream",
     "text": [
      "Classification accuracy of the train data : 1.0\n",
      "Classification accuracy of the test data : 0.8980891719745223\n"
     ]
    }
   ],
   "source": [
    "# We apply all the above steps for the  Random Forest Classifier\n",
    "pipe_rf = Pipeline([('pca', PCA(n_components=30)), ('rf', RandomForestClassifier(n_estimators=50, random_state=1))]) \n",
    "pipe_rf.fit(x_train, y_train) \n",
    "\n",
    "print('Classification accuracy of the train data :',pipe_rf.score(x_train, y_train))\n",
    "print('Classification accuracy of the test data :',pipe_rf.score(x_test, y_test))"
   ]
  },
  {
   "cell_type": "markdown",
   "metadata": {},
   "source": [
    "- We observe that Random Forest Classifier model is overfitted."
   ]
  },
  {
   "cell_type": "code",
   "execution_count": 283,
   "metadata": {},
   "outputs": [
    {
     "name": "stdout",
     "output_type": "stream",
     "text": [
      "RandomForestClassifier(max_depth=15, n_estimators=300)\n",
      "Classification accuracy of the train data : 1.0\n",
      "Classification accuracy of the test data : 0.8895966029723992\n",
      "\n",
      " Classification report:\n",
      "              precision    recall  f1-score   support\n",
      "\n",
      "         0.0       0.14      0.19      0.16        26\n",
      "         1.0       0.95      0.93      0.94       445\n",
      "\n",
      "    accuracy                           0.89       471\n",
      "   macro avg       0.55      0.56      0.55       471\n",
      "weighted avg       0.91      0.89      0.90       471\n",
      "\n"
     ]
    },
    {
     "data": {
      "image/png": "[encoded data removed]",
      "text/plain": [
       "<Figure size 432x288 with 2 Axes>"
      ]
     },
     "metadata": {
      "needs_background": "light"
     },
     "output_type": "display_data"
    }
   ],
   "source": [
    "# Hyperparameter tuning for the Random Forest Classifier\n",
    "hyperparameters = {\"max_depth\":[ 3, 4, 5, 6, 8, 10, 12, 15],\"n_estimators\" : range(50, 400, 50)}\n",
    "grid_search_rf = GridSearchCV(RandomForestClassifier(),hyperparameters,n_jobs=4,scoring=\"accuracy\",cv=kfold_stratified)\n",
    "best_rf_model = grid_search_rf.fit(x_train,y_train)\n",
    "\n",
    "rf_clsf_best = best_rf_model.best_estimator_\n",
    "rf_clsf_best.fit(x_train, y_train)\n",
    "print(rf_clsf_best)\n",
    "y_pred_best_rf = rf_clsf_best.predict(x_test)\n",
    "\n",
    "print('Classification accuracy of the train data :', rf_clsf_best.score(x_train, y_train))\n",
    "print('Classification accuracy of the test data :', rf_clsf_best.score(x_test, y_test))\n",
    "\n",
    "conf_mat = metrics.confusion_matrix(y_test,y_pred_best_rf)\n",
    "df_conf_mat = pd.DataFrame(conf_mat)\n",
    "sns.heatmap(df_conf_mat,annot=True,cmap='Blues',fmt='g')\n",
    "print('\\n Classification report:')\n",
    "print(metrics.classification_report(y_test,y_pred_best_rf,digits=2))"
   ]
  },
  {
   "cell_type": "markdown",
   "metadata": {},
   "source": [
    "From the confusion matrix we can say that:\n",
    "1. True Positives (TP): we correctly predicted 412 pass category instances\n",
    "2. True Negatives (TN): we correctly predicted only 7 failed category instances\n",
    "3. False Positives (FP): we incorrectly predicted 19 pass category instances - Type I error\n",
    "4. False Negatives (FN): we incorrectly predicted 33 negative category instances - Type II error"
   ]
  },
  {
   "cell_type": "code",
   "execution_count": 284,
   "metadata": {},
   "outputs": [
    {
     "name": "stdout",
     "output_type": "stream",
     "text": [
      "Classification accuracy of the train data : 1.0\n",
      "Classification accuracy of the test data : 0.8980891719745223\n"
     ]
    }
   ],
   "source": [
    "# We apply all the above steps for the Xg boost method \n",
    "pipe_xgb = Pipeline([('pca', PCA(n_components=30)), ('xg',XGBClassifier(random_state=1))]) \n",
    "pipe_xgb.fit(x_train, y_train) \n",
    "\n",
    "print('Classification accuracy of the train data :',pipe_rf.score(x_train, y_train))\n",
    "print('Classification accuracy of the test data :',pipe_rf.score(x_test, y_test))"
   ]
  },
  {
   "cell_type": "markdown",
   "metadata": {},
   "source": [
    "- Agsin, we observe thatXg boost method is also overfitted."
   ]
  },
  {
   "cell_type": "code",
   "execution_count": 285,
   "metadata": {},
   "outputs": [
    {
     "name": "stdout",
     "output_type": "stream",
     "text": [
      "XGBClassifier(max_depth=12, n_estimators=300)\n",
      "Classification accuracy of the train data : 1.0\n",
      "Classification accuracy of the test data : 0.8067940552016986\n",
      "\n",
      " Classification report:\n",
      "              precision    recall  f1-score   support\n",
      "\n",
      "         0.0       0.11      0.35      0.17        26\n",
      "         1.0       0.96      0.83      0.89       445\n",
      "\n",
      "    accuracy                           0.81       471\n",
      "   macro avg       0.53      0.59      0.53       471\n",
      "weighted avg       0.91      0.81      0.85       471\n",
      "\n"
     ]
    },
    {
     "data": {
      "image/png": "[encoded data removed]",
      "text/plain": [
       "<Figure size 432x288 with 2 Axes>"
      ]
     },
     "metadata": {
      "needs_background": "light"
     },
     "output_type": "display_data"
    }
   ],
   "source": [
    "# Hyperparameter tuning for the Xg boost method \n",
    "hyperparameters = {\"max_depth\":[ 3, 4, 5, 6, 8, 10, 12, 15],\"n_estimators\" : range(50, 400, 50)}\n",
    "grid_search_xgb = GridSearchCV(XGBClassifier(),hyperparameters,n_jobs=4,scoring=\"accuracy\",cv=kfold_stratified)\n",
    "best_xgb_model = grid_search_xgb.fit(x_train,y_train)\n",
    "\n",
    "xg_clsf_best = best_xgb_model.best_estimator_\n",
    "xg_clsf_best.fit(x_train, y_train)\n",
    "print(xg_clsf_best)\n",
    "y_pred_best_xg = xg_clsf_best.predict(x_test)\n",
    "\n",
    "print('Classification accuracy of the train data :', xg_clsf_best.score(x_train, y_train))\n",
    "print('Classification accuracy of the test data :', xg_clsf_best.score(x_test, y_test))\n",
    "\n",
    "conf_mat = metrics.confusion_matrix(y_test,y_pred_best_xg)\n",
    "df_conf_mat = pd.DataFrame(conf_mat)\n",
    "sns.heatmap(df_conf_mat,annot=True,cmap='Blues',fmt='g')\n",
    "print('\\n Classification report:')\n",
    "print(metrics.classification_report(y_test,y_pred_best_xg,digits=2))"
   ]
  },
  {
   "cell_type": "markdown",
   "metadata": {},
   "source": [
    "From the confusion matrix we can say that:\n",
    "1. True Positives (TP): we correctly predicted 371 pass category instances\n",
    "2. True Negatives (TN): we correctly predicted only 9 failed category instances\n",
    "3. False Positives (FP): we incorrectly predicted 17 pass category instances - Type I error\n",
    "4. False Negatives (FN): we incorrectly predicted 74 negative category instances - Type II error"
   ]
  },
  {
   "cell_type": "markdown",
   "metadata": {},
   "source": [
    "Here, we note that the target of the machine learning implementation on the given dataset is to detect the failure of the components. Hence, for a given model, the 'Recall' metric of the class '0' is more important than the over all accuracy obtained by the model. Due to this reason, we select the Logistic Regression model that is trained on the data with the target balance as the best model because it has best recall rate among all the models that are used here on the data."
   ]
  },
  {
   "cell_type": "code",
   "execution_count": 286,
   "metadata": {},
   "outputs": [],
   "source": [
    "# Pickle the best model\n",
    "filename = 'LogisticRegression_model.sav'\n",
    "pickle.dump(model_lr_bal, open(filename, 'wb'))"
   ]
  },
  {
   "cell_type": "code",
   "execution_count": 287,
   "metadata": {},
   "outputs": [
    {
     "name": "stdout",
     "output_type": "stream",
     "text": [
      "10638\n",
      "(18, 591)\n"
     ]
    }
   ],
   "source": [
    "# Load the prediction data\n",
    "data_future_predictions = pd.read_excel('Future_predictions.xlsx')\n",
    "print(data_future_predictions.size)\n",
    "print(data_future_predictions.shape)"
   ]
  },
  {
   "cell_type": "code",
   "execution_count": 288,
   "metadata": {},
   "outputs": [],
   "source": [
    "time_data = data_future_predictions['Time']\n",
    "data_future_predictions = data_future_predictions.drop(['Time'],axis=1)"
   ]
  },
  {
   "cell_type": "code",
   "execution_count": 289,
   "metadata": {},
   "outputs": [
    {
     "data": {
      "text/plain": [
       "0      0\n",
       "1      0\n",
       "2      0\n",
       "3      0\n",
       "4      0\n",
       "      ..\n",
       "585    0\n",
       "586    1\n",
       "587    1\n",
       "588    1\n",
       "589    1\n",
       "Length: 590, dtype: int64"
      ]
     },
     "execution_count": 289,
     "metadata": {},
     "output_type": "execute_result"
    }
   ],
   "source": [
    "data_future_predictions.isna().sum()"
   ]
  },
  {
   "cell_type": "code",
   "execution_count": 290,
   "metadata": {},
   "outputs": [
    {
     "data": {
      "text/plain": [
       "24"
      ]
     },
     "execution_count": 290,
     "metadata": {},
     "output_type": "execute_result"
    }
   ],
   "source": [
    "len(data_future_predictions.columns[data_future_predictions.isna().mean()>0.50])"
   ]
  },
  {
   "cell_type": "code",
   "execution_count": 291,
   "metadata": {},
   "outputs": [
    {
     "name": "stdout",
     "output_type": "stream",
     "text": [
      "Index([ 72,  73,  85, 109, 110, 111, 157, 158, 220, 244, 245, 246, 292, 293,\n",
      "       345, 346, 358, 382, 383, 384, 492, 516, 517, 518],\n",
      "      dtype='object')\n"
     ]
    }
   ],
   "source": [
    "drop_missing_val_cols = data_future_predictions.columns[data_future_predictions.isna().mean()>=0.50]\n",
    "print(drop_missing_val_cols)\n",
    "data_future_predictions = data_future_predictions.drop(drop_missing_val_cols,axis=1)"
   ]
  },
  {
   "cell_type": "code",
   "execution_count": 292,
   "metadata": {},
   "outputs": [],
   "source": [
    "# Impute the null values using the median values in the respective column\n",
    "columns = data_future_predictions.columns\n",
    "imputer = SimpleImputer(missing_values = np.nan, strategy ='median',copy=False)\n",
    "data_future_predictions = pd.DataFrame(imputer.fit_transform(data_future_predictions))"
   ]
  },
  {
   "cell_type": "code",
   "execution_count": 293,
   "metadata": {},
   "outputs": [
    {
     "data": {
      "text/plain": [
       "370"
      ]
     },
     "execution_count": 293,
     "metadata": {},
     "output_type": "execute_result"
    }
   ],
   "source": [
    "corr_mat = data_future_predictions.corr()\n",
    "threshold = 0.7\n",
    "drop_corr_cols = [(corr_mat.columns.values[j]) for j in range(len(corr_mat.columns)-1) for i in range(len(corr_mat.index.values)-1) if i!=j and corr_mat.iloc[i,j]>threshold]\n",
    "drop_corr_cols = set(drop_corr_cols)\n",
    "len(drop_corr_cols)"
   ]
  },
  {
   "cell_type": "code",
   "execution_count": 294,
   "metadata": {},
   "outputs": [
    {
     "data": {
      "text/html": [
       "<div>\n",
       "<style scoped>\n",
       "    .dataframe tbody tr th:only-of-type {\n",
       "        vertical-align: middle;\n",
       "    }\n",
       "\n",
       "    .dataframe tbody tr th {\n",
       "        vertical-align: top;\n",
       "    }\n",
       "\n",
       "    .dataframe thead th {\n",
       "        text-align: right;\n",
       "    }\n",
       "</style>\n",
       "<table border=\"1\" class=\"dataframe\">\n",
       "  <thead>\n",
       "    <tr style=\"text-align: right;\">\n",
       "      <th></th>\n",
       "      <th>0</th>\n",
       "      <th>1</th>\n",
       "      <th>5</th>\n",
       "      <th>6</th>\n",
       "      <th>7</th>\n",
       "      <th>8</th>\n",
       "      <th>9</th>\n",
       "      <th>10</th>\n",
       "      <th>11</th>\n",
       "      <th>13</th>\n",
       "      <th>...</th>\n",
       "      <th>514</th>\n",
       "      <th>519</th>\n",
       "      <th>521</th>\n",
       "      <th>522</th>\n",
       "      <th>524</th>\n",
       "      <th>538</th>\n",
       "      <th>546</th>\n",
       "      <th>547</th>\n",
       "      <th>557</th>\n",
       "      <th>565</th>\n",
       "    </tr>\n",
       "  </thead>\n",
       "  <tbody>\n",
       "    <tr>\n",
       "      <th>0</th>\n",
       "      <td>3030.93</td>\n",
       "      <td>2564.00</td>\n",
       "      <td>100.0</td>\n",
       "      <td>97.6133</td>\n",
       "      <td>0.1242</td>\n",
       "      <td>1.5005</td>\n",
       "      <td>0.0162</td>\n",
       "      <td>-0.0034</td>\n",
       "      <td>0.9455</td>\n",
       "      <td>0.0</td>\n",
       "      <td>...</td>\n",
       "      <td>0.0</td>\n",
       "      <td>0.0078</td>\n",
       "      <td>7.116</td>\n",
       "      <td>1.0616</td>\n",
       "      <td>75.752</td>\n",
       "      <td>265.090</td>\n",
       "      <td>533.8500</td>\n",
       "      <td>2.1113</td>\n",
       "      <td>82.8602</td>\n",
       "      <td>82.0989</td>\n",
       "    </tr>\n",
       "    <tr>\n",
       "      <th>1</th>\n",
       "      <td>3095.78</td>\n",
       "      <td>2465.14</td>\n",
       "      <td>100.0</td>\n",
       "      <td>102.3433</td>\n",
       "      <td>0.1247</td>\n",
       "      <td>1.4966</td>\n",
       "      <td>-0.0005</td>\n",
       "      <td>-0.0148</td>\n",
       "      <td>0.9627</td>\n",
       "      <td>0.0</td>\n",
       "      <td>...</td>\n",
       "      <td>0.0</td>\n",
       "      <td>0.0078</td>\n",
       "      <td>7.116</td>\n",
       "      <td>1.3526</td>\n",
       "      <td>74.640</td>\n",
       "      <td>265.090</td>\n",
       "      <td>535.0164</td>\n",
       "      <td>2.4335</td>\n",
       "      <td>208.2045</td>\n",
       "      <td>208.2045</td>\n",
       "    </tr>\n",
       "    <tr>\n",
       "      <th>2</th>\n",
       "      <td>2932.61</td>\n",
       "      <td>2559.94</td>\n",
       "      <td>100.0</td>\n",
       "      <td>95.4878</td>\n",
       "      <td>0.1241</td>\n",
       "      <td>1.4436</td>\n",
       "      <td>0.0041</td>\n",
       "      <td>0.0013</td>\n",
       "      <td>0.9615</td>\n",
       "      <td>0.0</td>\n",
       "      <td>...</td>\n",
       "      <td>0.0</td>\n",
       "      <td>0.0078</td>\n",
       "      <td>7.116</td>\n",
       "      <td>0.7942</td>\n",
       "      <td>74.654</td>\n",
       "      <td>267.064</td>\n",
       "      <td>535.0245</td>\n",
       "      <td>2.0293</td>\n",
       "      <td>82.8602</td>\n",
       "      <td>82.8602</td>\n",
       "    </tr>\n",
       "    <tr>\n",
       "      <th>3</th>\n",
       "      <td>2988.72</td>\n",
       "      <td>2479.90</td>\n",
       "      <td>100.0</td>\n",
       "      <td>104.2367</td>\n",
       "      <td>0.1217</td>\n",
       "      <td>1.4882</td>\n",
       "      <td>-0.0124</td>\n",
       "      <td>-0.0033</td>\n",
       "      <td>0.9629</td>\n",
       "      <td>0.0</td>\n",
       "      <td>...</td>\n",
       "      <td>0.0</td>\n",
       "      <td>0.0078</td>\n",
       "      <td>7.116</td>\n",
       "      <td>1.1650</td>\n",
       "      <td>72.442</td>\n",
       "      <td>268.228</td>\n",
       "      <td>530.5682</td>\n",
       "      <td>2.0253</td>\n",
       "      <td>73.8432</td>\n",
       "      <td>73.8432</td>\n",
       "    </tr>\n",
       "    <tr>\n",
       "      <th>4</th>\n",
       "      <td>3032.24</td>\n",
       "      <td>2502.87</td>\n",
       "      <td>100.0</td>\n",
       "      <td>100.3967</td>\n",
       "      <td>0.1235</td>\n",
       "      <td>1.5031</td>\n",
       "      <td>-0.0031</td>\n",
       "      <td>-0.0072</td>\n",
       "      <td>0.9569</td>\n",
       "      <td>0.0</td>\n",
       "      <td>...</td>\n",
       "      <td>0.0</td>\n",
       "      <td>0.0078</td>\n",
       "      <td>7.116</td>\n",
       "      <td>1.4636</td>\n",
       "      <td>79.156</td>\n",
       "      <td>265.090</td>\n",
       "      <td>532.0155</td>\n",
       "      <td>2.0275</td>\n",
       "      <td>82.8602</td>\n",
       "      <td>73.8432</td>\n",
       "    </tr>\n",
       "  </tbody>\n",
       "</table>\n",
       "<p>5 rows × 196 columns</p>\n",
       "</div>"
      ],
      "text/plain": [
       "       0        1      5         6       7       8       9       10      11   \\\n",
       "0  3030.93  2564.00  100.0   97.6133  0.1242  1.5005  0.0162 -0.0034  0.9455   \n",
       "1  3095.78  2465.14  100.0  102.3433  0.1247  1.4966 -0.0005 -0.0148  0.9627   \n",
       "2  2932.61  2559.94  100.0   95.4878  0.1241  1.4436  0.0041  0.0013  0.9615   \n",
       "3  2988.72  2479.90  100.0  104.2367  0.1217  1.4882 -0.0124 -0.0033  0.9629   \n",
       "4  3032.24  2502.87  100.0  100.3967  0.1235  1.5031 -0.0031 -0.0072  0.9569   \n",
       "\n",
       "   13   ...  514     519    521     522     524      538       546     547  \\\n",
       "0  0.0  ...  0.0  0.0078  7.116  1.0616  75.752  265.090  533.8500  2.1113   \n",
       "1  0.0  ...  0.0  0.0078  7.116  1.3526  74.640  265.090  535.0164  2.4335   \n",
       "2  0.0  ...  0.0  0.0078  7.116  0.7942  74.654  267.064  535.0245  2.0293   \n",
       "3  0.0  ...  0.0  0.0078  7.116  1.1650  72.442  268.228  530.5682  2.0253   \n",
       "4  0.0  ...  0.0  0.0078  7.116  1.4636  79.156  265.090  532.0155  2.0275   \n",
       "\n",
       "        557       565  \n",
       "0   82.8602   82.0989  \n",
       "1  208.2045  208.2045  \n",
       "2   82.8602   82.8602  \n",
       "3   73.8432   73.8432  \n",
       "4   82.8602   73.8432  \n",
       "\n",
       "[5 rows x 196 columns]"
      ]
     },
     "execution_count": 294,
     "metadata": {},
     "output_type": "execute_result"
    }
   ],
   "source": [
    "data_future_predictions = data_future_predictions.drop(drop_corr_cols,axis=1)\n",
    "data_future_predictions.head()"
   ]
  },
  {
   "cell_type": "code",
   "execution_count": 295,
   "metadata": {},
   "outputs": [],
   "source": [
    "data_future_predictions['Time'] = time_data\n",
    "\n",
    "data_future_predictions['year'] = pd.DatetimeIndex(data_future_predictions['Time']).year\n",
    "data_future_predictions['month'] = pd.DatetimeIndex(data_future_predictions['Time']).month\n",
    "data_future_predictions['date'] = pd.DatetimeIndex(data_future_predictions['Time']).day\n",
    "data_future_predictions['week_day'] = pd.DatetimeIndex(data_future_predictions['Time']).weekday\n",
    "data_future_predictions['hour'] = pd.DatetimeIndex(data_future_predictions['Time']).hour\n",
    "data_future_predictions['min'] = pd.DatetimeIndex(data_future_predictions['Time']).minute"
   ]
  },
  {
   "cell_type": "code",
   "execution_count": 296,
   "metadata": {},
   "outputs": [
    {
     "data": {
      "text/plain": [
       "Index([         0,          1,          5,          6,          7,          8,\n",
       "                9,         10,         11,         13,\n",
       "       ...\n",
       "              547,        557,        565,     'Time',     'year',    'month',\n",
       "           'date', 'week_day',     'hour',      'min'],\n",
       "      dtype='object', length=203)"
      ]
     },
     "execution_count": 296,
     "metadata": {},
     "output_type": "execute_result"
    }
   ],
   "source": [
    "data_future_predictions.columns"
   ]
  },
  {
   "cell_type": "code",
   "execution_count": 297,
   "metadata": {},
   "outputs": [],
   "source": [
    "data_future_predictions = data_future_predictions.drop(['Time','year'],axis=1)"
   ]
  },
  {
   "cell_type": "code",
   "execution_count": 298,
   "metadata": {},
   "outputs": [
    {
     "data": {
      "text/html": [
       "<div>\n",
       "<style scoped>\n",
       "    .dataframe tbody tr th:only-of-type {\n",
       "        vertical-align: middle;\n",
       "    }\n",
       "\n",
       "    .dataframe tbody tr th {\n",
       "        vertical-align: top;\n",
       "    }\n",
       "\n",
       "    .dataframe thead th {\n",
       "        text-align: right;\n",
       "    }\n",
       "</style>\n",
       "<table border=\"1\" class=\"dataframe\">\n",
       "  <thead>\n",
       "    <tr style=\"text-align: right;\">\n",
       "      <th></th>\n",
       "      <th>0</th>\n",
       "      <th>1</th>\n",
       "      <th>6</th>\n",
       "      <th>14</th>\n",
       "      <th>15</th>\n",
       "      <th>24</th>\n",
       "      <th>28</th>\n",
       "      <th>37</th>\n",
       "      <th>41</th>\n",
       "      <th>71</th>\n",
       "      <th>...</th>\n",
       "      <th>538</th>\n",
       "      <th>546</th>\n",
       "      <th>547</th>\n",
       "      <th>557</th>\n",
       "      <th>565</th>\n",
       "      <th>month</th>\n",
       "      <th>date</th>\n",
       "      <th>week_day</th>\n",
       "      <th>hour</th>\n",
       "      <th>min</th>\n",
       "    </tr>\n",
       "  </thead>\n",
       "  <tbody>\n",
       "    <tr>\n",
       "      <th>0</th>\n",
       "      <td>3030.93</td>\n",
       "      <td>2564.00</td>\n",
       "      <td>97.6133</td>\n",
       "      <td>7.9558</td>\n",
       "      <td>414.8710</td>\n",
       "      <td>751.00</td>\n",
       "      <td>64.2333</td>\n",
       "      <td>66.3141</td>\n",
       "      <td>4.515</td>\n",
       "      <td>84.0793</td>\n",
       "      <td>...</td>\n",
       "      <td>265.090</td>\n",
       "      <td>533.8500</td>\n",
       "      <td>2.1113</td>\n",
       "      <td>82.8602</td>\n",
       "      <td>82.0989</td>\n",
       "      <td>7</td>\n",
       "      <td>19</td>\n",
       "      <td>5</td>\n",
       "      <td>11</td>\n",
       "      <td>55</td>\n",
       "    </tr>\n",
       "    <tr>\n",
       "      <th>1</th>\n",
       "      <td>3095.78</td>\n",
       "      <td>2465.14</td>\n",
       "      <td>102.3433</td>\n",
       "      <td>10.1548</td>\n",
       "      <td>414.7347</td>\n",
       "      <td>-1640.25</td>\n",
       "      <td>68.4222</td>\n",
       "      <td>64.9193</td>\n",
       "      <td>2.773</td>\n",
       "      <td>82.3494</td>\n",
       "      <td>...</td>\n",
       "      <td>265.090</td>\n",
       "      <td>535.0164</td>\n",
       "      <td>2.4335</td>\n",
       "      <td>208.2045</td>\n",
       "      <td>208.2045</td>\n",
       "      <td>7</td>\n",
       "      <td>19</td>\n",
       "      <td>5</td>\n",
       "      <td>12</td>\n",
       "      <td>32</td>\n",
       "    </tr>\n",
       "    <tr>\n",
       "      <th>2</th>\n",
       "      <td>2932.61</td>\n",
       "      <td>2559.94</td>\n",
       "      <td>95.4878</td>\n",
       "      <td>9.5157</td>\n",
       "      <td>416.7075</td>\n",
       "      <td>-1916.50</td>\n",
       "      <td>67.1333</td>\n",
       "      <td>65.8389</td>\n",
       "      <td>5.434</td>\n",
       "      <td>84.7681</td>\n",
       "      <td>...</td>\n",
       "      <td>267.064</td>\n",
       "      <td>535.0245</td>\n",
       "      <td>2.0293</td>\n",
       "      <td>82.8602</td>\n",
       "      <td>82.8602</td>\n",
       "      <td>7</td>\n",
       "      <td>19</td>\n",
       "      <td>5</td>\n",
       "      <td>13</td>\n",
       "      <td>17</td>\n",
       "    </tr>\n",
       "    <tr>\n",
       "      <th>3</th>\n",
       "      <td>2988.72</td>\n",
       "      <td>2479.90</td>\n",
       "      <td>104.2367</td>\n",
       "      <td>9.6052</td>\n",
       "      <td>422.2894</td>\n",
       "      <td>-1657.25</td>\n",
       "      <td>62.9333</td>\n",
       "      <td>65.1951</td>\n",
       "      <td>1.279</td>\n",
       "      <td>70.2289</td>\n",
       "      <td>...</td>\n",
       "      <td>268.228</td>\n",
       "      <td>530.5682</td>\n",
       "      <td>2.0253</td>\n",
       "      <td>73.8432</td>\n",
       "      <td>73.8432</td>\n",
       "      <td>7</td>\n",
       "      <td>19</td>\n",
       "      <td>5</td>\n",
       "      <td>14</td>\n",
       "      <td>43</td>\n",
       "    </tr>\n",
       "    <tr>\n",
       "      <th>4</th>\n",
       "      <td>3032.24</td>\n",
       "      <td>2502.87</td>\n",
       "      <td>100.3967</td>\n",
       "      <td>10.5661</td>\n",
       "      <td>420.5925</td>\n",
       "      <td>117.00</td>\n",
       "      <td>62.8333</td>\n",
       "      <td>66.1542</td>\n",
       "      <td>2.209</td>\n",
       "      <td>65.8417</td>\n",
       "      <td>...</td>\n",
       "      <td>265.090</td>\n",
       "      <td>532.0155</td>\n",
       "      <td>2.0275</td>\n",
       "      <td>82.8602</td>\n",
       "      <td>73.8432</td>\n",
       "      <td>7</td>\n",
       "      <td>19</td>\n",
       "      <td>5</td>\n",
       "      <td>15</td>\n",
       "      <td>22</td>\n",
       "    </tr>\n",
       "  </tbody>\n",
       "</table>\n",
       "<p>5 rows × 67 columns</p>\n",
       "</div>"
      ],
      "text/plain": [
       "         0        1         6       14        15       24       28       37  \\\n",
       "0  3030.93  2564.00   97.6133   7.9558  414.8710   751.00  64.2333  66.3141   \n",
       "1  3095.78  2465.14  102.3433  10.1548  414.7347 -1640.25  68.4222  64.9193   \n",
       "2  2932.61  2559.94   95.4878   9.5157  416.7075 -1916.50  67.1333  65.8389   \n",
       "3  2988.72  2479.90  104.2367   9.6052  422.2894 -1657.25  62.9333  65.1951   \n",
       "4  3032.24  2502.87  100.3967  10.5661  420.5925   117.00  62.8333  66.1542   \n",
       "\n",
       "      41       71  ...      538       546     547       557       565  month  \\\n",
       "0  4.515  84.0793  ...  265.090  533.8500  2.1113   82.8602   82.0989      7   \n",
       "1  2.773  82.3494  ...  265.090  535.0164  2.4335  208.2045  208.2045      7   \n",
       "2  5.434  84.7681  ...  267.064  535.0245  2.0293   82.8602   82.8602      7   \n",
       "3  1.279  70.2289  ...  268.228  530.5682  2.0253   73.8432   73.8432      7   \n",
       "4  2.209  65.8417  ...  265.090  532.0155  2.0275   82.8602   73.8432      7   \n",
       "\n",
       "   date  week_day  hour  min  \n",
       "0    19         5    11   55  \n",
       "1    19         5    12   32  \n",
       "2    19         5    13   17  \n",
       "3    19         5    14   43  \n",
       "4    19         5    15   22  \n",
       "\n",
       "[5 rows x 67 columns]"
      ]
     },
     "execution_count": 298,
     "metadata": {},
     "output_type": "execute_result"
    }
   ],
   "source": [
    "data_future_predictions = data_future_predictions.drop(data_future_predictions.iloc[:,:-6].std()[data_future_predictions.iloc[:,:-6].std() < 0.5].index.values[0:134], axis=1)\n",
    "data_future_predictions.head()"
   ]
  },
  {
   "cell_type": "code",
   "execution_count": 299,
   "metadata": {},
   "outputs": [],
   "source": [
    "# load the best model \n",
    "load_model_lr = pickle.load(open(filename, 'rb'))\n",
    "y_predict = load_model_lr.predict(data_future_predictions)\n"
   ]
  },
  {
   "cell_type": "code",
   "execution_count": 300,
   "metadata": {},
   "outputs": [
    {
     "data": {
      "text/plain": [
       "1.0    18\n",
       "Name: Pass_fail_predict, dtype: int64"
      ]
     },
     "execution_count": 300,
     "metadata": {},
     "output_type": "execute_result"
    }
   ],
   "source": [
    "data_future_predictions['Pass_fail_predict'] = y_predict\n",
    "data_future_predictions['Pass_fail_predict'].value_counts()"
   ]
  },
  {
   "cell_type": "code",
   "execution_count": 301,
   "metadata": {},
   "outputs": [
    {
     "data": {
      "text/html": [
       "<div>\n",
       "<style scoped>\n",
       "    .dataframe tbody tr th:only-of-type {\n",
       "        vertical-align: middle;\n",
       "    }\n",
       "\n",
       "    .dataframe tbody tr th {\n",
       "        vertical-align: top;\n",
       "    }\n",
       "\n",
       "    .dataframe thead th {\n",
       "        text-align: right;\n",
       "    }\n",
       "</style>\n",
       "<table border=\"1\" class=\"dataframe\">\n",
       "  <thead>\n",
       "    <tr style=\"text-align: right;\">\n",
       "      <th></th>\n",
       "      <th>0</th>\n",
       "      <th>1</th>\n",
       "      <th>6</th>\n",
       "      <th>14</th>\n",
       "      <th>15</th>\n",
       "      <th>24</th>\n",
       "      <th>28</th>\n",
       "      <th>37</th>\n",
       "      <th>41</th>\n",
       "      <th>71</th>\n",
       "      <th>...</th>\n",
       "      <th>546</th>\n",
       "      <th>547</th>\n",
       "      <th>557</th>\n",
       "      <th>565</th>\n",
       "      <th>month</th>\n",
       "      <th>date</th>\n",
       "      <th>week_day</th>\n",
       "      <th>hour</th>\n",
       "      <th>min</th>\n",
       "      <th>Pass_fail_predict</th>\n",
       "    </tr>\n",
       "  </thead>\n",
       "  <tbody>\n",
       "    <tr>\n",
       "      <th>0</th>\n",
       "      <td>3030.93</td>\n",
       "      <td>2564.00</td>\n",
       "      <td>97.6133</td>\n",
       "      <td>7.9558</td>\n",
       "      <td>414.8710</td>\n",
       "      <td>751.00</td>\n",
       "      <td>64.2333</td>\n",
       "      <td>66.3141</td>\n",
       "      <td>4.515</td>\n",
       "      <td>84.0793</td>\n",
       "      <td>...</td>\n",
       "      <td>533.8500</td>\n",
       "      <td>2.1113</td>\n",
       "      <td>82.8602</td>\n",
       "      <td>82.0989</td>\n",
       "      <td>7</td>\n",
       "      <td>19</td>\n",
       "      <td>5</td>\n",
       "      <td>11</td>\n",
       "      <td>55</td>\n",
       "      <td>1.0</td>\n",
       "    </tr>\n",
       "    <tr>\n",
       "      <th>1</th>\n",
       "      <td>3095.78</td>\n",
       "      <td>2465.14</td>\n",
       "      <td>102.3433</td>\n",
       "      <td>10.1548</td>\n",
       "      <td>414.7347</td>\n",
       "      <td>-1640.25</td>\n",
       "      <td>68.4222</td>\n",
       "      <td>64.9193</td>\n",
       "      <td>2.773</td>\n",
       "      <td>82.3494</td>\n",
       "      <td>...</td>\n",
       "      <td>535.0164</td>\n",
       "      <td>2.4335</td>\n",
       "      <td>208.2045</td>\n",
       "      <td>208.2045</td>\n",
       "      <td>7</td>\n",
       "      <td>19</td>\n",
       "      <td>5</td>\n",
       "      <td>12</td>\n",
       "      <td>32</td>\n",
       "      <td>1.0</td>\n",
       "    </tr>\n",
       "    <tr>\n",
       "      <th>2</th>\n",
       "      <td>2932.61</td>\n",
       "      <td>2559.94</td>\n",
       "      <td>95.4878</td>\n",
       "      <td>9.5157</td>\n",
       "      <td>416.7075</td>\n",
       "      <td>-1916.50</td>\n",
       "      <td>67.1333</td>\n",
       "      <td>65.8389</td>\n",
       "      <td>5.434</td>\n",
       "      <td>84.7681</td>\n",
       "      <td>...</td>\n",
       "      <td>535.0245</td>\n",
       "      <td>2.0293</td>\n",
       "      <td>82.8602</td>\n",
       "      <td>82.8602</td>\n",
       "      <td>7</td>\n",
       "      <td>19</td>\n",
       "      <td>5</td>\n",
       "      <td>13</td>\n",
       "      <td>17</td>\n",
       "      <td>1.0</td>\n",
       "    </tr>\n",
       "    <tr>\n",
       "      <th>3</th>\n",
       "      <td>2988.72</td>\n",
       "      <td>2479.90</td>\n",
       "      <td>104.2367</td>\n",
       "      <td>9.6052</td>\n",
       "      <td>422.2894</td>\n",
       "      <td>-1657.25</td>\n",
       "      <td>62.9333</td>\n",
       "      <td>65.1951</td>\n",
       "      <td>1.279</td>\n",
       "      <td>70.2289</td>\n",
       "      <td>...</td>\n",
       "      <td>530.5682</td>\n",
       "      <td>2.0253</td>\n",
       "      <td>73.8432</td>\n",
       "      <td>73.8432</td>\n",
       "      <td>7</td>\n",
       "      <td>19</td>\n",
       "      <td>5</td>\n",
       "      <td>14</td>\n",
       "      <td>43</td>\n",
       "      <td>1.0</td>\n",
       "    </tr>\n",
       "    <tr>\n",
       "      <th>4</th>\n",
       "      <td>3032.24</td>\n",
       "      <td>2502.87</td>\n",
       "      <td>100.3967</td>\n",
       "      <td>10.5661</td>\n",
       "      <td>420.5925</td>\n",
       "      <td>117.00</td>\n",
       "      <td>62.8333</td>\n",
       "      <td>66.1542</td>\n",
       "      <td>2.209</td>\n",
       "      <td>65.8417</td>\n",
       "      <td>...</td>\n",
       "      <td>532.0155</td>\n",
       "      <td>2.0275</td>\n",
       "      <td>82.8602</td>\n",
       "      <td>73.8432</td>\n",
       "      <td>7</td>\n",
       "      <td>19</td>\n",
       "      <td>5</td>\n",
       "      <td>15</td>\n",
       "      <td>22</td>\n",
       "      <td>1.0</td>\n",
       "    </tr>\n",
       "    <tr>\n",
       "      <th>5</th>\n",
       "      <td>2946.25</td>\n",
       "      <td>2432.84</td>\n",
       "      <td>100.3967</td>\n",
       "      <td>8.6617</td>\n",
       "      <td>414.2426</td>\n",
       "      <td>193.75</td>\n",
       "      <td>62.3778</td>\n",
       "      <td>66.2949</td>\n",
       "      <td>3.024</td>\n",
       "      <td>70.3707</td>\n",
       "      <td>...</td>\n",
       "      <td>534.2091</td>\n",
       "      <td>2.3236</td>\n",
       "      <td>44.0077</td>\n",
       "      <td>44.0077</td>\n",
       "      <td>7</td>\n",
       "      <td>19</td>\n",
       "      <td>5</td>\n",
       "      <td>17</td>\n",
       "      <td>53</td>\n",
       "      <td>1.0</td>\n",
       "    </tr>\n",
       "    <tr>\n",
       "      <th>6</th>\n",
       "      <td>3030.27</td>\n",
       "      <td>2430.12</td>\n",
       "      <td>102.3433</td>\n",
       "      <td>9.0350</td>\n",
       "      <td>415.8852</td>\n",
       "      <td>580.25</td>\n",
       "      <td>60.8000</td>\n",
       "      <td>66.2237</td>\n",
       "      <td>3.978</td>\n",
       "      <td>83.4997</td>\n",
       "      <td>...</td>\n",
       "      <td>541.9036</td>\n",
       "      <td>2.4229</td>\n",
       "      <td>82.8602</td>\n",
       "      <td>44.0077</td>\n",
       "      <td>7</td>\n",
       "      <td>19</td>\n",
       "      <td>5</td>\n",
       "      <td>19</td>\n",
       "      <td>44</td>\n",
       "      <td>1.0</td>\n",
       "    </tr>\n",
       "    <tr>\n",
       "      <th>7</th>\n",
       "      <td>3058.88</td>\n",
       "      <td>2690.15</td>\n",
       "      <td>106.2400</td>\n",
       "      <td>13.6872</td>\n",
       "      <td>408.4017</td>\n",
       "      <td>-737.00</td>\n",
       "      <td>67.3000</td>\n",
       "      <td>65.0665</td>\n",
       "      <td>2.671</td>\n",
       "      <td>57.0841</td>\n",
       "      <td>...</td>\n",
       "      <td>493.0054</td>\n",
       "      <td>2.2008</td>\n",
       "      <td>95.0310</td>\n",
       "      <td>95.0310</td>\n",
       "      <td>7</td>\n",
       "      <td>19</td>\n",
       "      <td>5</td>\n",
       "      <td>19</td>\n",
       "      <td>45</td>\n",
       "      <td>1.0</td>\n",
       "    </tr>\n",
       "    <tr>\n",
       "      <th>8</th>\n",
       "      <td>2967.68</td>\n",
       "      <td>2600.47</td>\n",
       "      <td>106.2400</td>\n",
       "      <td>12.6837</td>\n",
       "      <td>417.6009</td>\n",
       "      <td>622.75</td>\n",
       "      <td>62.8000</td>\n",
       "      <td>66.3322</td>\n",
       "      <td>3.217</td>\n",
       "      <td>74.3992</td>\n",
       "      <td>...</td>\n",
       "      <td>535.1818</td>\n",
       "      <td>2.2170</td>\n",
       "      <td>111.6525</td>\n",
       "      <td>111.6525</td>\n",
       "      <td>7</td>\n",
       "      <td>19</td>\n",
       "      <td>5</td>\n",
       "      <td>20</td>\n",
       "      <td>24</td>\n",
       "      <td>1.0</td>\n",
       "    </tr>\n",
       "    <tr>\n",
       "      <th>9</th>\n",
       "      <td>3016.11</td>\n",
       "      <td>2428.37</td>\n",
       "      <td>106.2400</td>\n",
       "      <td>12.4278</td>\n",
       "      <td>413.3677</td>\n",
       "      <td>873.75</td>\n",
       "      <td>67.0333</td>\n",
       "      <td>65.0665</td>\n",
       "      <td>2.671</td>\n",
       "      <td>65.5040</td>\n",
       "      <td>...</td>\n",
       "      <td>533.4200</td>\n",
       "      <td>2.2598</td>\n",
       "      <td>90.2294</td>\n",
       "      <td>90.2294</td>\n",
       "      <td>7</td>\n",
       "      <td>19</td>\n",
       "      <td>5</td>\n",
       "      <td>21</td>\n",
       "      <td>35</td>\n",
       "      <td>1.0</td>\n",
       "    </tr>\n",
       "    <tr>\n",
       "      <th>10</th>\n",
       "      <td>2994.05</td>\n",
       "      <td>2548.21</td>\n",
       "      <td>103.3400</td>\n",
       "      <td>11.8566</td>\n",
       "      <td>411.9572</td>\n",
       "      <td>360.50</td>\n",
       "      <td>68.7111</td>\n",
       "      <td>65.8389</td>\n",
       "      <td>5.434</td>\n",
       "      <td>112.0789</td>\n",
       "      <td>...</td>\n",
       "      <td>532.1764</td>\n",
       "      <td>1.8715</td>\n",
       "      <td>57.8122</td>\n",
       "      <td>57.8122</td>\n",
       "      <td>7</td>\n",
       "      <td>19</td>\n",
       "      <td>5</td>\n",
       "      <td>21</td>\n",
       "      <td>57</td>\n",
       "      <td>1.0</td>\n",
       "    </tr>\n",
       "    <tr>\n",
       "      <th>11</th>\n",
       "      <td>2928.84</td>\n",
       "      <td>2479.40</td>\n",
       "      <td>97.9156</td>\n",
       "      <td>9.1084</td>\n",
       "      <td>419.9018</td>\n",
       "      <td>752.50</td>\n",
       "      <td>64.7667</td>\n",
       "      <td>66.3322</td>\n",
       "      <td>3.217</td>\n",
       "      <td>63.7271</td>\n",
       "      <td>...</td>\n",
       "      <td>533.7464</td>\n",
       "      <td>2.1865</td>\n",
       "      <td>75.5077</td>\n",
       "      <td>75.5077</td>\n",
       "      <td>7</td>\n",
       "      <td>19</td>\n",
       "      <td>5</td>\n",
       "      <td>22</td>\n",
       "      <td>52</td>\n",
       "      <td>1.0</td>\n",
       "    </tr>\n",
       "    <tr>\n",
       "      <th>12</th>\n",
       "      <td>2920.07</td>\n",
       "      <td>2507.40</td>\n",
       "      <td>103.3400</td>\n",
       "      <td>8.4828</td>\n",
       "      <td>415.5185</td>\n",
       "      <td>-1933.25</td>\n",
       "      <td>63.3778</td>\n",
       "      <td>65.1951</td>\n",
       "      <td>1.279</td>\n",
       "      <td>80.1463</td>\n",
       "      <td>...</td>\n",
       "      <td>530.1800</td>\n",
       "      <td>1.9690</td>\n",
       "      <td>52.2039</td>\n",
       "      <td>52.2039</td>\n",
       "      <td>7</td>\n",
       "      <td>20</td>\n",
       "      <td>6</td>\n",
       "      <td>3</td>\n",
       "      <td>35</td>\n",
       "      <td>1.0</td>\n",
       "    </tr>\n",
       "    <tr>\n",
       "      <th>13</th>\n",
       "      <td>3051.44</td>\n",
       "      <td>2529.27</td>\n",
       "      <td>107.8711</td>\n",
       "      <td>9.7686</td>\n",
       "      <td>409.8885</td>\n",
       "      <td>833.75</td>\n",
       "      <td>67.9889</td>\n",
       "      <td>65.1111</td>\n",
       "      <td>3.872</td>\n",
       "      <td>104.6736</td>\n",
       "      <td>...</td>\n",
       "      <td>533.2464</td>\n",
       "      <td>2.2354</td>\n",
       "      <td>82.8602</td>\n",
       "      <td>52.2039</td>\n",
       "      <td>7</td>\n",
       "      <td>21</td>\n",
       "      <td>0</td>\n",
       "      <td>8</td>\n",
       "      <td>21</td>\n",
       "      <td>1.0</td>\n",
       "    </tr>\n",
       "    <tr>\n",
       "      <th>14</th>\n",
       "      <td>2963.97</td>\n",
       "      <td>2629.48</td>\n",
       "      <td>104.8489</td>\n",
       "      <td>9.7561</td>\n",
       "      <td>422.3675</td>\n",
       "      <td>131.75</td>\n",
       "      <td>62.5000</td>\n",
       "      <td>66.5050</td>\n",
       "      <td>1.946</td>\n",
       "      <td>78.7486</td>\n",
       "      <td>...</td>\n",
       "      <td>532.6446</td>\n",
       "      <td>2.2808</td>\n",
       "      <td>142.9080</td>\n",
       "      <td>142.9080</td>\n",
       "      <td>7</td>\n",
       "      <td>21</td>\n",
       "      <td>0</td>\n",
       "      <td>11</td>\n",
       "      <td>53</td>\n",
       "      <td>1.0</td>\n",
       "    </tr>\n",
       "    <tr>\n",
       "      <th>15</th>\n",
       "      <td>2988.31</td>\n",
       "      <td>2546.26</td>\n",
       "      <td>104.8489</td>\n",
       "      <td>12.4364</td>\n",
       "      <td>424.7536</td>\n",
       "      <td>81.25</td>\n",
       "      <td>61.2333</td>\n",
       "      <td>66.5050</td>\n",
       "      <td>1.946</td>\n",
       "      <td>112.0904</td>\n",
       "      <td>...</td>\n",
       "      <td>536.1118</td>\n",
       "      <td>2.3120</td>\n",
       "      <td>100.2745</td>\n",
       "      <td>100.2745</td>\n",
       "      <td>7</td>\n",
       "      <td>22</td>\n",
       "      <td>1</td>\n",
       "      <td>0</td>\n",
       "      <td>3</td>\n",
       "      <td>1.0</td>\n",
       "    </tr>\n",
       "    <tr>\n",
       "      <th>16</th>\n",
       "      <td>3028.02</td>\n",
       "      <td>2560.87</td>\n",
       "      <td>104.8078</td>\n",
       "      <td>12.1805</td>\n",
       "      <td>428.9826</td>\n",
       "      <td>-2445.00</td>\n",
       "      <td>63.3556</td>\n",
       "      <td>66.0625</td>\n",
       "      <td>3.860</td>\n",
       "      <td>92.1660</td>\n",
       "      <td>...</td>\n",
       "      <td>537.8145</td>\n",
       "      <td>2.1113</td>\n",
       "      <td>82.0989</td>\n",
       "      <td>82.0989</td>\n",
       "      <td>7</td>\n",
       "      <td>22</td>\n",
       "      <td>1</td>\n",
       "      <td>2</td>\n",
       "      <td>59</td>\n",
       "      <td>1.0</td>\n",
       "    </tr>\n",
       "    <tr>\n",
       "      <th>17</th>\n",
       "      <td>3032.73</td>\n",
       "      <td>2517.79</td>\n",
       "      <td>104.8078</td>\n",
       "      <td>10.0002</td>\n",
       "      <td>420.4726</td>\n",
       "      <td>514.75</td>\n",
       "      <td>60.2444</td>\n",
       "      <td>66.4424</td>\n",
       "      <td>4.768</td>\n",
       "      <td>110.5151</td>\n",
       "      <td>...</td>\n",
       "      <td>531.8418</td>\n",
       "      <td>2.1849</td>\n",
       "      <td>82.8602</td>\n",
       "      <td>82.0989</td>\n",
       "      <td>7</td>\n",
       "      <td>22</td>\n",
       "      <td>1</td>\n",
       "      <td>8</td>\n",
       "      <td>41</td>\n",
       "      <td>1.0</td>\n",
       "    </tr>\n",
       "  </tbody>\n",
       "</table>\n",
       "<p>18 rows × 68 columns</p>\n",
       "</div>"
      ],
      "text/plain": [
       "          0        1         6       14        15       24       28       37  \\\n",
       "0   3030.93  2564.00   97.6133   7.9558  414.8710   751.00  64.2333  66.3141   \n",
       "1   3095.78  2465.14  102.3433  10.1548  414.7347 -1640.25  68.4222  64.9193   \n",
       "2   2932.61  2559.94   95.4878   9.5157  416.7075 -1916.50  67.1333  65.8389   \n",
       "3   2988.72  2479.90  104.2367   9.6052  422.2894 -1657.25  62.9333  65.1951   \n",
       "4   3032.24  2502.87  100.3967  10.5661  420.5925   117.00  62.8333  66.1542   \n",
       "5   2946.25  2432.84  100.3967   8.6617  414.2426   193.75  62.3778  66.2949   \n",
       "6   3030.27  2430.12  102.3433   9.0350  415.8852   580.25  60.8000  66.2237   \n",
       "7   3058.88  2690.15  106.2400  13.6872  408.4017  -737.00  67.3000  65.0665   \n",
       "8   2967.68  2600.47  106.2400  12.6837  417.6009   622.75  62.8000  66.3322   \n",
       "9   3016.11  2428.37  106.2400  12.4278  413.3677   873.75  67.0333  65.0665   \n",
       "10  2994.05  2548.21  103.3400  11.8566  411.9572   360.50  68.7111  65.8389   \n",
       "11  2928.84  2479.40   97.9156   9.1084  419.9018   752.50  64.7667  66.3322   \n",
       "12  2920.07  2507.40  103.3400   8.4828  415.5185 -1933.25  63.3778  65.1951   \n",
       "13  3051.44  2529.27  107.8711   9.7686  409.8885   833.75  67.9889  65.1111   \n",
       "14  2963.97  2629.48  104.8489   9.7561  422.3675   131.75  62.5000  66.5050   \n",
       "15  2988.31  2546.26  104.8489  12.4364  424.7536    81.25  61.2333  66.5050   \n",
       "16  3028.02  2560.87  104.8078  12.1805  428.9826 -2445.00  63.3556  66.0625   \n",
       "17  3032.73  2517.79  104.8078  10.0002  420.4726   514.75  60.2444  66.4424   \n",
       "\n",
       "       41        71  ...       546     547       557       565  month  date  \\\n",
       "0   4.515   84.0793  ...  533.8500  2.1113   82.8602   82.0989      7    19   \n",
       "1   2.773   82.3494  ...  535.0164  2.4335  208.2045  208.2045      7    19   \n",
       "2   5.434   84.7681  ...  535.0245  2.0293   82.8602   82.8602      7    19   \n",
       "3   1.279   70.2289  ...  530.5682  2.0253   73.8432   73.8432      7    19   \n",
       "4   2.209   65.8417  ...  532.0155  2.0275   82.8602   73.8432      7    19   \n",
       "5   3.024   70.3707  ...  534.2091  2.3236   44.0077   44.0077      7    19   \n",
       "6   3.978   83.4997  ...  541.9036  2.4229   82.8602   44.0077      7    19   \n",
       "7   2.671   57.0841  ...  493.0054  2.2008   95.0310   95.0310      7    19   \n",
       "8   3.217   74.3992  ...  535.1818  2.2170  111.6525  111.6525      7    19   \n",
       "9   2.671   65.5040  ...  533.4200  2.2598   90.2294   90.2294      7    19   \n",
       "10  5.434  112.0789  ...  532.1764  1.8715   57.8122   57.8122      7    19   \n",
       "11  3.217   63.7271  ...  533.7464  2.1865   75.5077   75.5077      7    19   \n",
       "12  1.279   80.1463  ...  530.1800  1.9690   52.2039   52.2039      7    20   \n",
       "13  3.872  104.6736  ...  533.2464  2.2354   82.8602   52.2039      7    21   \n",
       "14  1.946   78.7486  ...  532.6446  2.2808  142.9080  142.9080      7    21   \n",
       "15  1.946  112.0904  ...  536.1118  2.3120  100.2745  100.2745      7    22   \n",
       "16  3.860   92.1660  ...  537.8145  2.1113   82.0989   82.0989      7    22   \n",
       "17  4.768  110.5151  ...  531.8418  2.1849   82.8602   82.0989      7    22   \n",
       "\n",
       "    week_day  hour  min  Pass_fail_predict  \n",
       "0          5    11   55                1.0  \n",
       "1          5    12   32                1.0  \n",
       "2          5    13   17                1.0  \n",
       "3          5    14   43                1.0  \n",
       "4          5    15   22                1.0  \n",
       "5          5    17   53                1.0  \n",
       "6          5    19   44                1.0  \n",
       "7          5    19   45                1.0  \n",
       "8          5    20   24                1.0  \n",
       "9          5    21   35                1.0  \n",
       "10         5    21   57                1.0  \n",
       "11         5    22   52                1.0  \n",
       "12         6     3   35                1.0  \n",
       "13         0     8   21                1.0  \n",
       "14         0    11   53                1.0  \n",
       "15         1     0    3                1.0  \n",
       "16         1     2   59                1.0  \n",
       "17         1     8   41                1.0  \n",
       "\n",
       "[18 rows x 68 columns]"
      ]
     },
     "execution_count": 301,
     "metadata": {},
     "output_type": "execute_result"
    }
   ],
   "source": [
    "# Prediction results\n",
    "data_future_predictions"
   ]
  },
  {
   "cell_type": "markdown",
   "metadata": {},
   "source": [
    "<span style=\"font-family: Arial; font-weight:bold;font-size:2em;color:#00b3e5;\">  6. Conclusion and improvisation"
   ]
  },
  {
   "cell_type": "markdown",
   "metadata": {},
   "source": [
    "Conclusions:\n",
    "   - the given dataset is acquired from certain critical and also non-crtical channels in the semiconductor manufacturing process, \n",
    "   - the target is the failure detection of the components,\n",
    "   - the challenge in preparing the given dataset for machine learning implementation lies in reducing the dimensionality,\n",
    "   - we use several statstical concepts to reduce the dimensionality of the data from 591 features to 67 features,\n",
    "   - firstly, we applied Logistic Regression to model the data,\n",
    "   - we observe that the obtained 'Recall' metric of the class '0' by applying the Logistic Regression model to the raw data is very low even  \n",
    "     after the CV and hyper-parameter tuning, \n",
    "   - however, the 'Recall' metric of the class '0' is improved after performing target balacing,\n",
    "   - the accuracy achieved with 95% confidence level is between 89.8% and 93.1%,\n",
    "   - we then apply CV and hyper-parameter tuning for the RandomForest clasifier and the Xgboost model,\n",
    "   - however, the true negativity rate is not improved,\n",
    "   - finally, we perform predictions on the unseen dataset using Logistic Regression model.\n",
    " \n",
    "Recomendations:\n",
    "   - we can improve the data by removing the noise based on domain knowledge combined with the statistical methods, \n",
    "   - the quality and the quantity of the data, that is the data channels and the number of observations, needs to be improved inorder to  \n",
    "     address the target imbalance issue present in the data."
   ]
  }
 ],
 "metadata": {
  "kernelspec": {
   "display_name": "Python 3",
   "language": "python",
   "name": "python3"
  },
  "language_info": {
   "codemirror_mode": {
    "name": "ipython",
    "version": 3
   },
   "file_extension": ".py",
   "mimetype": "text/x-python",
   "name": "python",
   "nbconvert_exporter": "python",
   "pygments_lexer": "ipython3",
   "version": "3.7.6"
  }
 },
 "nbformat": 4,
 "nbformat_minor": 4
}
