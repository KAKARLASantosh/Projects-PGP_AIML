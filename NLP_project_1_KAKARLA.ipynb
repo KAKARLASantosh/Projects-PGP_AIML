{
 "cells": [
  {
   "cell_type": "code",
   "execution_count": 261,
   "metadata": {},
   "outputs": [],
   "source": [
    "import numpy as np\n",
    "import nltk\n",
    "import json\n",
    "from langdetect import detect\n",
    "import tensorflow as tf\n",
    "from sklearn.preprocessing import LabelEncoder \n",
    "from sklearn.preprocessing import OneHotEncoder\n",
    "import pandas as pd\n",
    "from sklearn import svm\n",
    "import re\n",
    "from sklearn.preprocessing import StandardScaler\n",
    "from sklearn.preprocessing import MinMaxScaler\n",
    "from sklearn.preprocessing import MaxAbsScaler\n",
    "from sklearn.model_selection import train_test_split\n",
    "from sklearn.feature_extraction.text import TfidfVectorizer\n",
    "from sklearn.feature_extraction.text import TfidfTransformer\n",
    "from sklearn.feature_extraction.text import CountVectorizer\n",
    "from sklearn.linear_model import LogisticRegression\n",
    "from sklearn.multiclass import OneVsRestClassifier\n",
    "from sklearn.metrics import classification_report\n",
    "from sklearn.metrics import multilabel_confusion_matrix\n",
    "from sklearn.metrics import accuracy_score\n",
    "from sklearn.metrics import roc_auc_score\n",
    "from sklearn.ensemble import RandomForestClassifier\n",
    "from sklearn.model_selection import GridSearchCV"
   ]
  },
  {
   "cell_type": "markdown",
   "metadata": {},
   "source": [
    "<span style=\"font-family: Arial; font-weight:bold;font-size:2.5em;color:#00b3e5;\"> Part-1"
   ]
  },
  {
   "cell_type": "markdown",
   "metadata": {},
   "source": [
    "<span style=\"font-family: Arial; font-weight:bold;font-size:2em;color:#00b3e5;\"> 1. Read and Analyse Dataset"
   ]
  },
  {
   "cell_type": "code",
   "execution_count": 27,
   "metadata": {
    "tags": []
   },
   "outputs": [],
   "source": [
    "data_blog = pd.read_csv(\"./blogs/blogtext.csv\")"
   ]
  },
  {
   "cell_type": "markdown",
   "metadata": {},
   "source": [
    "<span style=\"font-family: Arial; font-weight:bold;font-size:1.5em;color:#00b3e5;\"> A. Clearly write outcome of data analysis"
   ]
  },
  {
   "cell_type": "markdown",
   "metadata": {},
   "source": [
    "- understand the shape and size of the data.\n",
    "- understand the data contained in the columns.\n",
    "- print the number of unique data points each columns.\n",
    "- print the number of data points in each class of the 'topic' column.\n",
    "- perform stastical analysis of the numeric data."
   ]
  },
  {
   "cell_type": "code",
   "execution_count": 28,
   "metadata": {},
   "outputs": [
    {
     "data": {
      "text/plain": [
       "(681284, 7)"
      ]
     },
     "execution_count": 28,
     "metadata": {},
     "output_type": "execute_result"
    }
   ],
   "source": [
    "data_blog.shape"
   ]
  },
  {
   "cell_type": "code",
   "execution_count": 29,
   "metadata": {},
   "outputs": [
    {
     "data": {
      "text/html": [
       "<div>\n",
       "<style scoped>\n",
       "    .dataframe tbody tr th:only-of-type {\n",
       "        vertical-align: middle;\n",
       "    }\n",
       "\n",
       "    .dataframe tbody tr th {\n",
       "        vertical-align: top;\n",
       "    }\n",
       "\n",
       "    .dataframe thead th {\n",
       "        text-align: right;\n",
       "    }\n",
       "</style>\n",
       "<table border=\"1\" class=\"dataframe\">\n",
       "  <thead>\n",
       "    <tr style=\"text-align: right;\">\n",
       "      <th></th>\n",
       "      <th>id</th>\n",
       "      <th>gender</th>\n",
       "      <th>age</th>\n",
       "      <th>topic</th>\n",
       "      <th>sign</th>\n",
       "      <th>date</th>\n",
       "      <th>text</th>\n",
       "    </tr>\n",
       "  </thead>\n",
       "  <tbody>\n",
       "    <tr>\n",
       "      <th>0</th>\n",
       "      <td>2059027</td>\n",
       "      <td>male</td>\n",
       "      <td>15</td>\n",
       "      <td>Student</td>\n",
       "      <td>Leo</td>\n",
       "      <td>14,May,2004</td>\n",
       "      <td>Info has been found (+/- 100 pages,...</td>\n",
       "    </tr>\n",
       "    <tr>\n",
       "      <th>1</th>\n",
       "      <td>2059027</td>\n",
       "      <td>male</td>\n",
       "      <td>15</td>\n",
       "      <td>Student</td>\n",
       "      <td>Leo</td>\n",
       "      <td>13,May,2004</td>\n",
       "      <td>These are the team members:   Drewe...</td>\n",
       "    </tr>\n",
       "    <tr>\n",
       "      <th>2</th>\n",
       "      <td>2059027</td>\n",
       "      <td>male</td>\n",
       "      <td>15</td>\n",
       "      <td>Student</td>\n",
       "      <td>Leo</td>\n",
       "      <td>12,May,2004</td>\n",
       "      <td>In het kader van kernfusie op aarde...</td>\n",
       "    </tr>\n",
       "    <tr>\n",
       "      <th>3</th>\n",
       "      <td>2059027</td>\n",
       "      <td>male</td>\n",
       "      <td>15</td>\n",
       "      <td>Student</td>\n",
       "      <td>Leo</td>\n",
       "      <td>12,May,2004</td>\n",
       "      <td>testing!!!  testing!!!</td>\n",
       "    </tr>\n",
       "    <tr>\n",
       "      <th>4</th>\n",
       "      <td>3581210</td>\n",
       "      <td>male</td>\n",
       "      <td>33</td>\n",
       "      <td>InvestmentBanking</td>\n",
       "      <td>Aquarius</td>\n",
       "      <td>11,June,2004</td>\n",
       "      <td>Thanks to Yahoo!'s Toolbar I can ...</td>\n",
       "    </tr>\n",
       "  </tbody>\n",
       "</table>\n",
       "</div>"
      ],
      "text/plain": [
       "        id gender  age              topic      sign          date  \\\n",
       "0  2059027   male   15            Student       Leo   14,May,2004   \n",
       "1  2059027   male   15            Student       Leo   13,May,2004   \n",
       "2  2059027   male   15            Student       Leo   12,May,2004   \n",
       "3  2059027   male   15            Student       Leo   12,May,2004   \n",
       "4  3581210   male   33  InvestmentBanking  Aquarius  11,June,2004   \n",
       "\n",
       "                                                text  \n",
       "0             Info has been found (+/- 100 pages,...  \n",
       "1             These are the team members:   Drewe...  \n",
       "2             In het kader van kernfusie op aarde...  \n",
       "3                   testing!!!  testing!!!            \n",
       "4               Thanks to Yahoo!'s Toolbar I can ...  "
      ]
     },
     "execution_count": 29,
     "metadata": {},
     "output_type": "execute_result"
    }
   ],
   "source": [
    "data_blog.head()"
   ]
  },
  {
   "cell_type": "code",
   "execution_count": 30,
   "metadata": {},
   "outputs": [
    {
     "data": {
      "text/plain": [
       "Index(['id', 'gender', 'age', 'topic', 'sign', 'date', 'text'], dtype='object')"
      ]
     },
     "execution_count": 30,
     "metadata": {},
     "output_type": "execute_result"
    }
   ],
   "source": [
    "data_blog.columns"
   ]
  },
  {
   "cell_type": "code",
   "execution_count": 31,
   "metadata": {},
   "outputs": [
    {
     "name": "stdout",
     "output_type": "stream",
     "text": [
      "<class 'pandas.core.frame.DataFrame'>\n",
      "RangeIndex: 681284 entries, 0 to 681283\n",
      "Data columns (total 7 columns):\n",
      " #   Column  Non-Null Count   Dtype \n",
      "---  ------  --------------   ----- \n",
      " 0   id      681284 non-null  int64 \n",
      " 1   gender  681284 non-null  object\n",
      " 2   age     681284 non-null  int64 \n",
      " 3   topic   681284 non-null  object\n",
      " 4   sign    681284 non-null  object\n",
      " 5   date    681284 non-null  object\n",
      " 6   text    681284 non-null  object\n",
      "dtypes: int64(2), object(5)\n",
      "memory usage: 36.4+ MB\n"
     ]
    }
   ],
   "source": [
    "data_blog.info()"
   ]
  },
  {
   "cell_type": "code",
   "execution_count": 32,
   "metadata": {},
   "outputs": [
    {
     "data": {
      "text/plain": [
       "id         19320\n",
       "gender         2\n",
       "age           26\n",
       "topic         40\n",
       "sign          12\n",
       "date        2616\n",
       "text      611652\n",
       "dtype: int64"
      ]
     },
     "execution_count": 32,
     "metadata": {},
     "output_type": "execute_result"
    }
   ],
   "source": [
    "data_blog.nunique()"
   ]
  },
  {
   "cell_type": "code",
   "execution_count": 33,
   "metadata": {},
   "outputs": [
    {
     "data": {
      "text/plain": [
       "indUnk                     251015\n",
       "Student                    153903\n",
       "Technology                  42055\n",
       "Arts                        32449\n",
       "Education                   29633\n",
       "Communications-Media        20140\n",
       "Internet                    16006\n",
       "Non-Profit                  14700\n",
       "Engineering                 11653\n",
       "Law                          9040\n",
       "Publishing                   7753\n",
       "Science                      7269\n",
       "Government                   6907\n",
       "Consulting                   5862\n",
       "Religion                     5235\n",
       "Fashion                      4851\n",
       "Marketing                    4769\n",
       "Advertising                  4676\n",
       "BusinessServices             4500\n",
       "Banking                      4049\n",
       "Chemicals                    3928\n",
       "Telecommunications           3891\n",
       "Accounting                   3832\n",
       "Military                     3128\n",
       "Museums-Libraries            3096\n",
       "Sports-Recreation            3038\n",
       "HumanResources               3010\n",
       "RealEstate                   2870\n",
       "Transportation               2326\n",
       "Manufacturing                2272\n",
       "Biotech                      2234\n",
       "Tourism                      1942\n",
       "LawEnforcement-Security      1878\n",
       "Architecture                 1638\n",
       "InvestmentBanking            1292\n",
       "Automotive                   1244\n",
       "Agriculture                  1235\n",
       "Construction                 1093\n",
       "Environment                   592\n",
       "Maritime                      280\n",
       "Name: topic, dtype: int64"
      ]
     },
     "execution_count": 33,
     "metadata": {},
     "output_type": "execute_result"
    }
   ],
   "source": [
    "data_blog['topic'].value_counts()"
   ]
  },
  {
   "cell_type": "markdown",
   "metadata": {},
   "source": [
    "<span style=\"font-family: Arial; font-weight:bold;font-size:1.5em;color:#00b3e5;\"> B. Clean the Structured Data"
   ]
  },
  {
   "cell_type": "markdown",
   "metadata": {},
   "source": [
    "<span style=\"font-family: Arial; font-weight:bold;font-size:1em;color:#00b3e5;\"> i. Missing value analysis and imputation"
   ]
  },
  {
   "cell_type": "code",
   "execution_count": 34,
   "metadata": {},
   "outputs": [
    {
     "data": {
      "text/plain": [
       "id        0\n",
       "gender    0\n",
       "age       0\n",
       "topic     0\n",
       "sign      0\n",
       "date      0\n",
       "text      0\n",
       "dtype: int64"
      ]
     },
     "execution_count": 34,
     "metadata": {},
     "output_type": "execute_result"
    }
   ],
   "source": [
    "data_blog.isnull().sum()"
   ]
  },
  {
   "cell_type": "code",
   "execution_count": 35,
   "metadata": {},
   "outputs": [
    {
     "data": {
      "text/plain": [
       "id        0\n",
       "gender    0\n",
       "age       0\n",
       "topic     0\n",
       "sign      0\n",
       "date      0\n",
       "text      0\n",
       "dtype: int64"
      ]
     },
     "execution_count": 35,
     "metadata": {},
     "output_type": "execute_result"
    }
   ],
   "source": [
    "data_blog.isna().sum()"
   ]
  },
  {
   "cell_type": "code",
   "execution_count": 36,
   "metadata": {},
   "outputs": [],
   "source": [
    "data_blog.drop_duplicates('id',keep='first', inplace=True, ignore_index=False)"
   ]
  },
  {
   "cell_type": "code",
   "execution_count": 37,
   "metadata": {},
   "outputs": [
    {
     "data": {
      "text/plain": [
       "(19320, 7)"
      ]
     },
     "execution_count": 37,
     "metadata": {},
     "output_type": "execute_result"
    }
   ],
   "source": [
    "data_blog.shape"
   ]
  },
  {
   "cell_type": "code",
   "execution_count": 38,
   "metadata": {},
   "outputs": [
    {
     "data": {
      "text/plain": [
       "id        19320\n",
       "gender        2\n",
       "age          26\n",
       "topic        40\n",
       "sign         12\n",
       "date        818\n",
       "text      18835\n",
       "dtype: int64"
      ]
     },
     "execution_count": 38,
     "metadata": {},
     "output_type": "execute_result"
    }
   ],
   "source": [
    "data_blog.nunique()"
   ]
  },
  {
   "cell_type": "code",
   "execution_count": 39,
   "metadata": {},
   "outputs": [
    {
     "data": {
      "text/plain": [
       "indUnk                     6827\n",
       "Student                    5120\n",
       "Education                   980\n",
       "Technology                  943\n",
       "Arts                        721\n",
       "Communications-Media        479\n",
       "Internet                    397\n",
       "Non-Profit                  372\n",
       "Engineering                 312\n",
       "Government                  236\n",
       "Law                         197\n",
       "Consulting                  191\n",
       "Science                     184\n",
       "Marketing                   180\n",
       "BusinessServices            163\n",
       "Publishing                  150\n",
       "Advertising                 145\n",
       "Religion                    139\n",
       "Telecommunications          119\n",
       "Military                    116\n",
       "Banking                     112\n",
       "Accounting                  105\n",
       "Fashion                      98\n",
       "Tourism                      94\n",
       "HumanResources               94\n",
       "Transportation               91\n",
       "Sports-Recreation            90\n",
       "Manufacturing                87\n",
       "Architecture                 69\n",
       "Chemicals                    62\n",
       "Biotech                      57\n",
       "LawEnforcement-Security      57\n",
       "RealEstate                   55\n",
       "Construction                 55\n",
       "Museums-Libraries            55\n",
       "Automotive                   54\n",
       "Agriculture                  36\n",
       "InvestmentBanking            33\n",
       "Environment                  28\n",
       "Maritime                     17\n",
       "Name: topic, dtype: int64"
      ]
     },
     "execution_count": 39,
     "metadata": {},
     "output_type": "execute_result"
    }
   ],
   "source": [
    "data_blog['topic'].value_counts()"
   ]
  },
  {
   "cell_type": "markdown",
   "metadata": {},
   "source": [
    "<span style=\"font-family: Arial; font-weight:bold;font-size:1em;color:#00b3e5;\"> ii. Eliminate Non-English textual data"
   ]
  },
  {
   "cell_type": "code",
   "execution_count": 40,
   "metadata": {},
   "outputs": [],
   "source": [
    "from langdetect import DetectorFactory\n",
    "DetectorFactory.seed = 0"
   ]
  },
  {
   "cell_type": "code",
   "execution_count": 41,
   "metadata": {},
   "outputs": [],
   "source": [
    "def detect_my(text):\n",
    "   try:\n",
    "       return detect(text)\n",
    "   except:\n",
    "       return 'unknown'\n",
    "\n",
    "data_blog['language'] = data_blog['text'].apply(detect_my)"
   ]
  },
  {
   "cell_type": "code",
   "execution_count": 42,
   "metadata": {},
   "outputs": [
    {
     "data": {
      "text/html": [
       "<div>\n",
       "<style scoped>\n",
       "    .dataframe tbody tr th:only-of-type {\n",
       "        vertical-align: middle;\n",
       "    }\n",
       "\n",
       "    .dataframe tbody tr th {\n",
       "        vertical-align: top;\n",
       "    }\n",
       "\n",
       "    .dataframe thead th {\n",
       "        text-align: right;\n",
       "    }\n",
       "</style>\n",
       "<table border=\"1\" class=\"dataframe\">\n",
       "  <thead>\n",
       "    <tr style=\"text-align: right;\">\n",
       "      <th></th>\n",
       "      <th>id</th>\n",
       "      <th>gender</th>\n",
       "      <th>age</th>\n",
       "      <th>topic</th>\n",
       "      <th>sign</th>\n",
       "      <th>date</th>\n",
       "      <th>text</th>\n",
       "      <th>language</th>\n",
       "    </tr>\n",
       "  </thead>\n",
       "  <tbody>\n",
       "    <tr>\n",
       "      <th>0</th>\n",
       "      <td>2059027</td>\n",
       "      <td>male</td>\n",
       "      <td>15</td>\n",
       "      <td>Student</td>\n",
       "      <td>Leo</td>\n",
       "      <td>14,May,2004</td>\n",
       "      <td>Info has been found (+/- 100 pages,...</td>\n",
       "      <td>en</td>\n",
       "    </tr>\n",
       "    <tr>\n",
       "      <th>4</th>\n",
       "      <td>3581210</td>\n",
       "      <td>male</td>\n",
       "      <td>33</td>\n",
       "      <td>InvestmentBanking</td>\n",
       "      <td>Aquarius</td>\n",
       "      <td>11,June,2004</td>\n",
       "      <td>Thanks to Yahoo!'s Toolbar I can ...</td>\n",
       "      <td>en</td>\n",
       "    </tr>\n",
       "    <tr>\n",
       "      <th>74</th>\n",
       "      <td>3539003</td>\n",
       "      <td>female</td>\n",
       "      <td>14</td>\n",
       "      <td>indUnk</td>\n",
       "      <td>Aries</td>\n",
       "      <td>07,June,2004</td>\n",
       "      <td>O= optimist P= pessimist  My...</td>\n",
       "      <td>en</td>\n",
       "    </tr>\n",
       "    <tr>\n",
       "      <th>95</th>\n",
       "      <td>4172416</td>\n",
       "      <td>female</td>\n",
       "      <td>25</td>\n",
       "      <td>indUnk</td>\n",
       "      <td>Capricorn</td>\n",
       "      <td>08,August,2004</td>\n",
       "      <td>urlLink     im new to this, ...</td>\n",
       "      <td>en</td>\n",
       "    </tr>\n",
       "    <tr>\n",
       "      <th>97</th>\n",
       "      <td>3668238</td>\n",
       "      <td>female</td>\n",
       "      <td>17</td>\n",
       "      <td>Student</td>\n",
       "      <td>Gemini</td>\n",
       "      <td>30,June,2004</td>\n",
       "      <td>http://www.uploadimages.net/i...</td>\n",
       "      <td>en</td>\n",
       "    </tr>\n",
       "  </tbody>\n",
       "</table>\n",
       "</div>"
      ],
      "text/plain": [
       "         id  gender  age              topic       sign            date  \\\n",
       "0   2059027    male   15            Student        Leo     14,May,2004   \n",
       "4   3581210    male   33  InvestmentBanking   Aquarius    11,June,2004   \n",
       "74  3539003  female   14             indUnk      Aries    07,June,2004   \n",
       "95  4172416  female   25             indUnk  Capricorn  08,August,2004   \n",
       "97  3668238  female   17            Student     Gemini    30,June,2004   \n",
       "\n",
       "                                                 text language  \n",
       "0              Info has been found (+/- 100 pages,...       en  \n",
       "4                Thanks to Yahoo!'s Toolbar I can ...       en  \n",
       "74                    O= optimist P= pessimist  My...       en  \n",
       "95                    urlLink     im new to this, ...       en  \n",
       "97                   http://www.uploadimages.net/i...       en  "
      ]
     },
     "execution_count": 42,
     "metadata": {},
     "output_type": "execute_result"
    }
   ],
   "source": [
    "data_blog.head()"
   ]
  },
  {
   "cell_type": "code",
   "execution_count": 43,
   "metadata": {},
   "outputs": [
    {
     "data": {
      "text/plain": [
       "en         18611\n",
       "unknown      119\n",
       "nl            75\n",
       "lt            66\n",
       "tl            56\n",
       "de            55\n",
       "id            50\n",
       "sv            36\n",
       "fr            34\n",
       "af            33\n",
       "so            24\n",
       "pt            19\n",
       "no            18\n",
       "da            15\n",
       "et            14\n",
       "es            12\n",
       "ko            11\n",
       "it            10\n",
       "zh-cn          9\n",
       "sw             8\n",
       "cy             6\n",
       "vi             5\n",
       "sq             4\n",
       "fi             4\n",
       "tr             4\n",
       "pl             4\n",
       "ro             3\n",
       "sl             3\n",
       "fa             2\n",
       "ta             1\n",
       "ja             1\n",
       "bg             1\n",
       "lv             1\n",
       "zh-tw          1\n",
       "ca             1\n",
       "el             1\n",
       "uk             1\n",
       "th             1\n",
       "ru             1\n",
       "Name: language, dtype: int64"
      ]
     },
     "execution_count": 43,
     "metadata": {},
     "output_type": "execute_result"
    }
   ],
   "source": [
    "data_blog['language'].value_counts()"
   ]
  },
  {
   "cell_type": "code",
   "execution_count": 44,
   "metadata": {},
   "outputs": [
    {
     "data": {
      "text/plain": [
       "18611"
      ]
     },
     "execution_count": 44,
     "metadata": {},
     "output_type": "execute_result"
    }
   ],
   "source": [
    "len(data_blog[data_blog['language']=='en'])"
   ]
  },
  {
   "cell_type": "code",
   "execution_count": 45,
   "metadata": {},
   "outputs": [],
   "source": [
    "data_blog = data_blog[data_blog['language']=='en']"
   ]
  },
  {
   "cell_type": "code",
   "execution_count": 46,
   "metadata": {},
   "outputs": [
    {
     "data": {
      "text/plain": [
       "en    18611\n",
       "Name: language, dtype: int64"
      ]
     },
     "execution_count": 46,
     "metadata": {},
     "output_type": "execute_result"
    }
   ],
   "source": [
    "data_blog['language'].value_counts()"
   ]
  },
  {
   "cell_type": "code",
   "execution_count": 47,
   "metadata": {},
   "outputs": [
    {
     "data": {
      "text/html": [
       "<div>\n",
       "<style scoped>\n",
       "    .dataframe tbody tr th:only-of-type {\n",
       "        vertical-align: middle;\n",
       "    }\n",
       "\n",
       "    .dataframe tbody tr th {\n",
       "        vertical-align: top;\n",
       "    }\n",
       "\n",
       "    .dataframe thead th {\n",
       "        text-align: right;\n",
       "    }\n",
       "</style>\n",
       "<table border=\"1\" class=\"dataframe\">\n",
       "  <thead>\n",
       "    <tr style=\"text-align: right;\">\n",
       "      <th></th>\n",
       "      <th>id</th>\n",
       "      <th>age</th>\n",
       "    </tr>\n",
       "  </thead>\n",
       "  <tbody>\n",
       "    <tr>\n",
       "      <th>count</th>\n",
       "      <td>1.861100e+04</td>\n",
       "      <td>18611.000000</td>\n",
       "    </tr>\n",
       "    <tr>\n",
       "      <th>mean</th>\n",
       "      <td>3.436322e+06</td>\n",
       "      <td>22.837623</td>\n",
       "    </tr>\n",
       "    <tr>\n",
       "      <th>std</th>\n",
       "      <td>8.622043e+05</td>\n",
       "      <td>7.995859</td>\n",
       "    </tr>\n",
       "    <tr>\n",
       "      <th>min</th>\n",
       "      <td>5.114000e+03</td>\n",
       "      <td>13.000000</td>\n",
       "    </tr>\n",
       "    <tr>\n",
       "      <th>25%</th>\n",
       "      <td>3.350364e+06</td>\n",
       "      <td>16.000000</td>\n",
       "    </tr>\n",
       "    <tr>\n",
       "      <th>50%</th>\n",
       "      <td>3.667099e+06</td>\n",
       "      <td>23.000000</td>\n",
       "    </tr>\n",
       "    <tr>\n",
       "      <th>75%</th>\n",
       "      <td>3.980688e+06</td>\n",
       "      <td>26.000000</td>\n",
       "    </tr>\n",
       "    <tr>\n",
       "      <th>max</th>\n",
       "      <td>4.337650e+06</td>\n",
       "      <td>48.000000</td>\n",
       "    </tr>\n",
       "  </tbody>\n",
       "</table>\n",
       "</div>"
      ],
      "text/plain": [
       "                 id           age\n",
       "count  1.861100e+04  18611.000000\n",
       "mean   3.436322e+06     22.837623\n",
       "std    8.622043e+05      7.995859\n",
       "min    5.114000e+03     13.000000\n",
       "25%    3.350364e+06     16.000000\n",
       "50%    3.667099e+06     23.000000\n",
       "75%    3.980688e+06     26.000000\n",
       "max    4.337650e+06     48.000000"
      ]
     },
     "execution_count": 47,
     "metadata": {},
     "output_type": "execute_result"
    }
   ],
   "source": [
    "data_blog.describe()"
   ]
  },
  {
   "cell_type": "code",
   "execution_count": 48,
   "metadata": {},
   "outputs": [
    {
     "data": {
      "text/html": [
       "<style  type=\"text/css\" >\n",
       "    #T_33a7b212_ccc6_11ec_b07e_50e0853fce2drow0_col0 {\n",
       "            background-color:  #00441b;\n",
       "            color:  #f1f1f1;\n",
       "        }    #T_33a7b212_ccc6_11ec_b07e_50e0853fce2drow0_col1 {\n",
       "            background-color:  #f7fcfd;\n",
       "            color:  #000000;\n",
       "        }    #T_33a7b212_ccc6_11ec_b07e_50e0853fce2drow1_col0 {\n",
       "            background-color:  #f7fcfd;\n",
       "            color:  #000000;\n",
       "        }    #T_33a7b212_ccc6_11ec_b07e_50e0853fce2drow1_col1 {\n",
       "            background-color:  #00441b;\n",
       "            color:  #f1f1f1;\n",
       "        }</style><table id=\"T_33a7b212_ccc6_11ec_b07e_50e0853fce2d\" ><thead>    <tr>        <th class=\"blank level0\" ></th>        <th class=\"col_heading level0 col0\" >id</th>        <th class=\"col_heading level0 col1\" >age</th>    </tr></thead><tbody>\n",
       "                <tr>\n",
       "                        <th id=\"T_33a7b212_ccc6_11ec_b07e_50e0853fce2dlevel0_row0\" class=\"row_heading level0 row0\" >id</th>\n",
       "                        <td id=\"T_33a7b212_ccc6_11ec_b07e_50e0853fce2drow0_col0\" class=\"data row0 col0\" >1.000000</td>\n",
       "                        <td id=\"T_33a7b212_ccc6_11ec_b07e_50e0853fce2drow0_col1\" class=\"data row0 col1\" >-0.090361</td>\n",
       "            </tr>\n",
       "            <tr>\n",
       "                        <th id=\"T_33a7b212_ccc6_11ec_b07e_50e0853fce2dlevel0_row1\" class=\"row_heading level0 row1\" >age</th>\n",
       "                        <td id=\"T_33a7b212_ccc6_11ec_b07e_50e0853fce2drow1_col0\" class=\"data row1 col0\" >-0.090361</td>\n",
       "                        <td id=\"T_33a7b212_ccc6_11ec_b07e_50e0853fce2drow1_col1\" class=\"data row1 col1\" >1.000000</td>\n",
       "            </tr>\n",
       "    </tbody></table>"
      ],
      "text/plain": [
       "<pandas.io.formats.style.Styler at 0x1fb8f7d9808>"
      ]
     },
     "execution_count": 48,
     "metadata": {},
     "output_type": "execute_result"
    }
   ],
   "source": [
    "data_blog.corr().style.background_gradient(cmap='BuGn')"
   ]
  },
  {
   "cell_type": "markdown",
   "metadata": {},
   "source": [
    "<span style=\"font-family: Arial; font-weight:bold;font-size:1.5em;color:#00b3e5;\"> 2. Preprocess unstructured data to make it consumable for model training"
   ]
  },
  {
   "cell_type": "markdown",
   "metadata": {},
   "source": [
    "<span style=\"font-family: Arial; font-weight:bold;font-size:1em;color:#00b3e5;\"> A. Eliminate All special Characters and Numbers"
   ]
  },
  {
   "cell_type": "code",
   "execution_count": 53,
   "metadata": {},
   "outputs": [],
   "source": [
    "data_blog['text'] = data_blog['text'].apply(lambda text : re.sub(\"[^a-z ]\",\"\",text))"
   ]
  },
  {
   "cell_type": "code",
   "execution_count": 54,
   "metadata": {},
   "outputs": [
    {
     "data": {
      "text/html": [
       "<div>\n",
       "<style scoped>\n",
       "    .dataframe tbody tr th:only-of-type {\n",
       "        vertical-align: middle;\n",
       "    }\n",
       "\n",
       "    .dataframe tbody tr th {\n",
       "        vertical-align: top;\n",
       "    }\n",
       "\n",
       "    .dataframe thead th {\n",
       "        text-align: right;\n",
       "    }\n",
       "</style>\n",
       "<table border=\"1\" class=\"dataframe\">\n",
       "  <thead>\n",
       "    <tr style=\"text-align: right;\">\n",
       "      <th></th>\n",
       "      <th>id</th>\n",
       "      <th>gender</th>\n",
       "      <th>age</th>\n",
       "      <th>topic</th>\n",
       "      <th>sign</th>\n",
       "      <th>date</th>\n",
       "      <th>text</th>\n",
       "      <th>language</th>\n",
       "    </tr>\n",
       "  </thead>\n",
       "  <tbody>\n",
       "    <tr>\n",
       "      <th>0</th>\n",
       "      <td>2059027</td>\n",
       "      <td>male</td>\n",
       "      <td>15</td>\n",
       "      <td>Student</td>\n",
       "      <td>Leo</td>\n",
       "      <td>14,May,2004</td>\n",
       "      <td>info has been found   pages and  mb...</td>\n",
       "      <td>en</td>\n",
       "    </tr>\n",
       "    <tr>\n",
       "      <th>4</th>\n",
       "      <td>3581210</td>\n",
       "      <td>male</td>\n",
       "      <td>33</td>\n",
       "      <td>InvestmentBanking</td>\n",
       "      <td>Aquarius</td>\n",
       "      <td>11,June,2004</td>\n",
       "      <td>thanks to yahoos toolbar i can no...</td>\n",
       "      <td>en</td>\n",
       "    </tr>\n",
       "    <tr>\n",
       "      <th>74</th>\n",
       "      <td>3539003</td>\n",
       "      <td>female</td>\n",
       "      <td>14</td>\n",
       "      <td>indUnk</td>\n",
       "      <td>Aries</td>\n",
       "      <td>07,June,2004</td>\n",
       "      <td>o optimist p pessimist  my a...</td>\n",
       "      <td>en</td>\n",
       "    </tr>\n",
       "    <tr>\n",
       "      <th>95</th>\n",
       "      <td>4172416</td>\n",
       "      <td>female</td>\n",
       "      <td>25</td>\n",
       "      <td>indUnk</td>\n",
       "      <td>Capricorn</td>\n",
       "      <td>08,August,2004</td>\n",
       "      <td>urllink     im new to this c...</td>\n",
       "      <td>en</td>\n",
       "    </tr>\n",
       "    <tr>\n",
       "      <th>97</th>\n",
       "      <td>3668238</td>\n",
       "      <td>female</td>\n",
       "      <td>17</td>\n",
       "      <td>Student</td>\n",
       "      <td>Gemini</td>\n",
       "      <td>30,June,2004</td>\n",
       "      <td>httpwwwuploadimagesnetimagesp...</td>\n",
       "      <td>en</td>\n",
       "    </tr>\n",
       "  </tbody>\n",
       "</table>\n",
       "</div>"
      ],
      "text/plain": [
       "         id  gender  age              topic       sign            date  \\\n",
       "0   2059027    male   15            Student        Leo     14,May,2004   \n",
       "4   3581210    male   33  InvestmentBanking   Aquarius    11,June,2004   \n",
       "74  3539003  female   14             indUnk      Aries    07,June,2004   \n",
       "95  4172416  female   25             indUnk  Capricorn  08,August,2004   \n",
       "97  3668238  female   17            Student     Gemini    30,June,2004   \n",
       "\n",
       "                                                 text language  \n",
       "0              info has been found   pages and  mb...       en  \n",
       "4                thanks to yahoos toolbar i can no...       en  \n",
       "74                    o optimist p pessimist  my a...       en  \n",
       "95                    urllink     im new to this c...       en  \n",
       "97                   httpwwwuploadimagesnetimagesp...       en  "
      ]
     },
     "execution_count": 54,
     "metadata": {},
     "output_type": "execute_result"
    }
   ],
   "source": [
    "data_blog.head()"
   ]
  },
  {
   "cell_type": "markdown",
   "metadata": {},
   "source": [
    "<span style=\"font-family: Arial; font-weight:bold;font-size:1em;color:#00b3e5;\"> B. Lowercase all textual data"
   ]
  },
  {
   "cell_type": "code",
   "execution_count": 51,
   "metadata": {},
   "outputs": [],
   "source": [
    "data_blog['text'] = data_blog['text'].apply(lambda s: s.lower())"
   ]
  },
  {
   "cell_type": "code",
   "execution_count": 52,
   "metadata": {},
   "outputs": [
    {
     "data": {
      "text/html": [
       "<div>\n",
       "<style scoped>\n",
       "    .dataframe tbody tr th:only-of-type {\n",
       "        vertical-align: middle;\n",
       "    }\n",
       "\n",
       "    .dataframe tbody tr th {\n",
       "        vertical-align: top;\n",
       "    }\n",
       "\n",
       "    .dataframe thead th {\n",
       "        text-align: right;\n",
       "    }\n",
       "</style>\n",
       "<table border=\"1\" class=\"dataframe\">\n",
       "  <thead>\n",
       "    <tr style=\"text-align: right;\">\n",
       "      <th></th>\n",
       "      <th>id</th>\n",
       "      <th>gender</th>\n",
       "      <th>age</th>\n",
       "      <th>topic</th>\n",
       "      <th>sign</th>\n",
       "      <th>date</th>\n",
       "      <th>text</th>\n",
       "      <th>language</th>\n",
       "    </tr>\n",
       "  </thead>\n",
       "  <tbody>\n",
       "    <tr>\n",
       "      <th>0</th>\n",
       "      <td>2059027</td>\n",
       "      <td>male</td>\n",
       "      <td>15</td>\n",
       "      <td>Student</td>\n",
       "      <td>Leo</td>\n",
       "      <td>14,May,2004</td>\n",
       "      <td>info has been found  100 pages and ...</td>\n",
       "      <td>en</td>\n",
       "    </tr>\n",
       "    <tr>\n",
       "      <th>4</th>\n",
       "      <td>3581210</td>\n",
       "      <td>male</td>\n",
       "      <td>33</td>\n",
       "      <td>InvestmentBanking</td>\n",
       "      <td>Aquarius</td>\n",
       "      <td>11,June,2004</td>\n",
       "      <td>thanks to yahoos toolbar i can no...</td>\n",
       "      <td>en</td>\n",
       "    </tr>\n",
       "    <tr>\n",
       "      <th>74</th>\n",
       "      <td>3539003</td>\n",
       "      <td>female</td>\n",
       "      <td>14</td>\n",
       "      <td>indUnk</td>\n",
       "      <td>Aries</td>\n",
       "      <td>07,June,2004</td>\n",
       "      <td>o optimist p pessimist  my a...</td>\n",
       "      <td>en</td>\n",
       "    </tr>\n",
       "    <tr>\n",
       "      <th>95</th>\n",
       "      <td>4172416</td>\n",
       "      <td>female</td>\n",
       "      <td>25</td>\n",
       "      <td>indUnk</td>\n",
       "      <td>Capricorn</td>\n",
       "      <td>08,August,2004</td>\n",
       "      <td>urllink     im new to this c...</td>\n",
       "      <td>en</td>\n",
       "    </tr>\n",
       "    <tr>\n",
       "      <th>97</th>\n",
       "      <td>3668238</td>\n",
       "      <td>female</td>\n",
       "      <td>17</td>\n",
       "      <td>Student</td>\n",
       "      <td>Gemini</td>\n",
       "      <td>30,June,2004</td>\n",
       "      <td>httpwwwuploadimagesnetimages6...</td>\n",
       "      <td>en</td>\n",
       "    </tr>\n",
       "  </tbody>\n",
       "</table>\n",
       "</div>"
      ],
      "text/plain": [
       "         id  gender  age              topic       sign            date  \\\n",
       "0   2059027    male   15            Student        Leo     14,May,2004   \n",
       "4   3581210    male   33  InvestmentBanking   Aquarius    11,June,2004   \n",
       "74  3539003  female   14             indUnk      Aries    07,June,2004   \n",
       "95  4172416  female   25             indUnk  Capricorn  08,August,2004   \n",
       "97  3668238  female   17            Student     Gemini    30,June,2004   \n",
       "\n",
       "                                                 text language  \n",
       "0              info has been found  100 pages and ...       en  \n",
       "4                thanks to yahoos toolbar i can no...       en  \n",
       "74                    o optimist p pessimist  my a...       en  \n",
       "95                    urllink     im new to this c...       en  \n",
       "97                   httpwwwuploadimagesnetimages6...       en  "
      ]
     },
     "execution_count": 52,
     "metadata": {},
     "output_type": "execute_result"
    }
   ],
   "source": [
    "data_blog.head()"
   ]
  },
  {
   "cell_type": "markdown",
   "metadata": {},
   "source": [
    "<span style=\"font-family: Arial; font-weight:bold;font-size:1em;color:#00b3e5;\"> C. Remove all Stopwords"
   ]
  },
  {
   "cell_type": "code",
   "execution_count": 55,
   "metadata": {},
   "outputs": [
    {
     "name": "stderr",
     "output_type": "stream",
     "text": [
      "[nltk_data] Downloading package stopwords to\n",
      "[nltk_data]     C:\\Users\\kakar\\AppData\\Roaming\\nltk_data...\n",
      "[nltk_data]   Package stopwords is already up-to-date!\n"
     ]
    }
   ],
   "source": [
    "from string import punctuation\n",
    "nltk.download('stopwords')\n",
    "from nltk.corpus import stopwords\n",
    "\n",
    "stop_words = stopwords.words('english') + list(punctuation)\n"
   ]
  },
  {
   "cell_type": "code",
   "execution_count": 56,
   "metadata": {},
   "outputs": [],
   "source": [
    "data_blog['text'] = data_blog['text'].apply(lambda text: ' '.join([words for words in text.split() if words not in stop_words]) )"
   ]
  },
  {
   "cell_type": "code",
   "execution_count": 57,
   "metadata": {},
   "outputs": [
    {
     "data": {
      "text/html": [
       "<div>\n",
       "<style scoped>\n",
       "    .dataframe tbody tr th:only-of-type {\n",
       "        vertical-align: middle;\n",
       "    }\n",
       "\n",
       "    .dataframe tbody tr th {\n",
       "        vertical-align: top;\n",
       "    }\n",
       "\n",
       "    .dataframe thead th {\n",
       "        text-align: right;\n",
       "    }\n",
       "</style>\n",
       "<table border=\"1\" class=\"dataframe\">\n",
       "  <thead>\n",
       "    <tr style=\"text-align: right;\">\n",
       "      <th></th>\n",
       "      <th>id</th>\n",
       "      <th>gender</th>\n",
       "      <th>age</th>\n",
       "      <th>topic</th>\n",
       "      <th>sign</th>\n",
       "      <th>date</th>\n",
       "      <th>text</th>\n",
       "      <th>language</th>\n",
       "    </tr>\n",
       "  </thead>\n",
       "  <tbody>\n",
       "    <tr>\n",
       "      <th>0</th>\n",
       "      <td>2059027</td>\n",
       "      <td>male</td>\n",
       "      <td>15</td>\n",
       "      <td>Student</td>\n",
       "      <td>Leo</td>\n",
       "      <td>14,May,2004</td>\n",
       "      <td>info found pages mb pdf files wait untill team...</td>\n",
       "      <td>en</td>\n",
       "    </tr>\n",
       "    <tr>\n",
       "      <th>4</th>\n",
       "      <td>3581210</td>\n",
       "      <td>male</td>\n",
       "      <td>33</td>\n",
       "      <td>InvestmentBanking</td>\n",
       "      <td>Aquarius</td>\n",
       "      <td>11,June,2004</td>\n",
       "      <td>thanks yahoos toolbar capture urls popupswhich...</td>\n",
       "      <td>en</td>\n",
       "    </tr>\n",
       "    <tr>\n",
       "      <th>74</th>\n",
       "      <td>3539003</td>\n",
       "      <td>female</td>\n",
       "      <td>14</td>\n",
       "      <td>indUnk</td>\n",
       "      <td>Aries</td>\n",
       "      <td>07,June,2004</td>\n",
       "      <td>optimist p pessimist argument p nooooo stop th...</td>\n",
       "      <td>en</td>\n",
       "    </tr>\n",
       "    <tr>\n",
       "      <th>95</th>\n",
       "      <td>4172416</td>\n",
       "      <td>female</td>\n",
       "      <td>25</td>\n",
       "      <td>indUnk</td>\n",
       "      <td>Capricorn</td>\n",
       "      <td>08,August,2004</td>\n",
       "      <td>urllink im new tell god create links column</td>\n",
       "      <td>en</td>\n",
       "    </tr>\n",
       "    <tr>\n",
       "      <th>97</th>\n",
       "      <td>3668238</td>\n",
       "      <td>female</td>\n",
       "      <td>17</td>\n",
       "      <td>Student</td>\n",
       "      <td>Gemini</td>\n",
       "      <td>30,June,2004</td>\n",
       "      <td>httpwwwuploadimagesnetimagespictjpg httpwwwupl...</td>\n",
       "      <td>en</td>\n",
       "    </tr>\n",
       "  </tbody>\n",
       "</table>\n",
       "</div>"
      ],
      "text/plain": [
       "         id  gender  age              topic       sign            date  \\\n",
       "0   2059027    male   15            Student        Leo     14,May,2004   \n",
       "4   3581210    male   33  InvestmentBanking   Aquarius    11,June,2004   \n",
       "74  3539003  female   14             indUnk      Aries    07,June,2004   \n",
       "95  4172416  female   25             indUnk  Capricorn  08,August,2004   \n",
       "97  3668238  female   17            Student     Gemini    30,June,2004   \n",
       "\n",
       "                                                 text language  \n",
       "0   info found pages mb pdf files wait untill team...       en  \n",
       "4   thanks yahoos toolbar capture urls popupswhich...       en  \n",
       "74  optimist p pessimist argument p nooooo stop th...       en  \n",
       "95        urllink im new tell god create links column       en  \n",
       "97  httpwwwuploadimagesnetimagespictjpg httpwwwupl...       en  "
      ]
     },
     "execution_count": 57,
     "metadata": {},
     "output_type": "execute_result"
    }
   ],
   "source": [
    "data_blog.head()"
   ]
  },
  {
   "cell_type": "markdown",
   "metadata": {},
   "source": [
    "<span style=\"font-family: Arial; font-weight:bold;font-size:1em;color:#00b3e5;\"> D. Remove all extra white spaces"
   ]
  },
  {
   "cell_type": "code",
   "execution_count": 201,
   "metadata": {},
   "outputs": [],
   "source": [
    "data_blog['text'] = data_blog['text'].apply(lambda s: s.strip())"
   ]
  },
  {
   "cell_type": "code",
   "execution_count": 69,
   "metadata": {},
   "outputs": [
    {
     "data": {
      "text/html": [
       "<div>\n",
       "<style scoped>\n",
       "    .dataframe tbody tr th:only-of-type {\n",
       "        vertical-align: middle;\n",
       "    }\n",
       "\n",
       "    .dataframe tbody tr th {\n",
       "        vertical-align: top;\n",
       "    }\n",
       "\n",
       "    .dataframe thead th {\n",
       "        text-align: right;\n",
       "    }\n",
       "</style>\n",
       "<table border=\"1\" class=\"dataframe\">\n",
       "  <thead>\n",
       "    <tr style=\"text-align: right;\">\n",
       "      <th></th>\n",
       "      <th>id</th>\n",
       "      <th>gender</th>\n",
       "      <th>age</th>\n",
       "      <th>topic</th>\n",
       "      <th>sign</th>\n",
       "      <th>date</th>\n",
       "      <th>text</th>\n",
       "      <th>language</th>\n",
       "    </tr>\n",
       "  </thead>\n",
       "  <tbody>\n",
       "    <tr>\n",
       "      <th>0</th>\n",
       "      <td>2059027</td>\n",
       "      <td>male</td>\n",
       "      <td>15</td>\n",
       "      <td>Student</td>\n",
       "      <td>Leo</td>\n",
       "      <td>14,May,2004</td>\n",
       "      <td>info found pages mb pdf files wait untill team...</td>\n",
       "      <td>en</td>\n",
       "    </tr>\n",
       "    <tr>\n",
       "      <th>4</th>\n",
       "      <td>3581210</td>\n",
       "      <td>male</td>\n",
       "      <td>33</td>\n",
       "      <td>InvestmentBanking</td>\n",
       "      <td>Aquarius</td>\n",
       "      <td>11,June,2004</td>\n",
       "      <td>thanks yahoos toolbar capture urls popupswhich...</td>\n",
       "      <td>en</td>\n",
       "    </tr>\n",
       "    <tr>\n",
       "      <th>74</th>\n",
       "      <td>3539003</td>\n",
       "      <td>female</td>\n",
       "      <td>14</td>\n",
       "      <td>indUnk</td>\n",
       "      <td>Aries</td>\n",
       "      <td>07,June,2004</td>\n",
       "      <td>optimist p pessimist argument p nooooo stop th...</td>\n",
       "      <td>en</td>\n",
       "    </tr>\n",
       "    <tr>\n",
       "      <th>95</th>\n",
       "      <td>4172416</td>\n",
       "      <td>female</td>\n",
       "      <td>25</td>\n",
       "      <td>indUnk</td>\n",
       "      <td>Capricorn</td>\n",
       "      <td>08,August,2004</td>\n",
       "      <td>urllink im new tell god create links column</td>\n",
       "      <td>en</td>\n",
       "    </tr>\n",
       "    <tr>\n",
       "      <th>97</th>\n",
       "      <td>3668238</td>\n",
       "      <td>female</td>\n",
       "      <td>17</td>\n",
       "      <td>Student</td>\n",
       "      <td>Gemini</td>\n",
       "      <td>30,June,2004</td>\n",
       "      <td>httpwwwuploadimagesnetimagespictjpg httpwwwupl...</td>\n",
       "      <td>en</td>\n",
       "    </tr>\n",
       "  </tbody>\n",
       "</table>\n",
       "</div>"
      ],
      "text/plain": [
       "         id  gender  age              topic       sign            date  \\\n",
       "0   2059027    male   15            Student        Leo     14,May,2004   \n",
       "4   3581210    male   33  InvestmentBanking   Aquarius    11,June,2004   \n",
       "74  3539003  female   14             indUnk      Aries    07,June,2004   \n",
       "95  4172416  female   25             indUnk  Capricorn  08,August,2004   \n",
       "97  3668238  female   17            Student     Gemini    30,June,2004   \n",
       "\n",
       "                                                 text language  \n",
       "0   info found pages mb pdf files wait untill team...       en  \n",
       "4   thanks yahoos toolbar capture urls popupswhich...       en  \n",
       "74  optimist p pessimist argument p nooooo stop th...       en  \n",
       "95        urllink im new tell god create links column       en  \n",
       "97  httpwwwuploadimagesnetimagespictjpg httpwwwupl...       en  "
      ]
     },
     "execution_count": 69,
     "metadata": {},
     "output_type": "execute_result"
    }
   ],
   "source": [
    "data_blog.head()"
   ]
  },
  {
   "cell_type": "code",
   "execution_count": 70,
   "metadata": {},
   "outputs": [],
   "source": [
    "data_blog.drop(['id','date'], axis=1,inplace=True)"
   ]
  },
  {
   "cell_type": "code",
   "execution_count": 71,
   "metadata": {},
   "outputs": [
    {
     "data": {
      "text/plain": [
       "Index(['gender', 'age', 'topic', 'sign', 'text', 'language'], dtype='object')"
      ]
     },
     "execution_count": 71,
     "metadata": {},
     "output_type": "execute_result"
    }
   ],
   "source": [
    "data_blog.columns"
   ]
  },
  {
   "cell_type": "code",
   "execution_count": 72,
   "metadata": {},
   "outputs": [],
   "source": [
    "data_blog.drop(['gender','age','sign','language'], axis=1,inplace=True)"
   ]
  },
  {
   "cell_type": "code",
   "execution_count": 74,
   "metadata": {},
   "outputs": [
    {
     "data": {
      "text/html": [
       "<div>\n",
       "<style scoped>\n",
       "    .dataframe tbody tr th:only-of-type {\n",
       "        vertical-align: middle;\n",
       "    }\n",
       "\n",
       "    .dataframe tbody tr th {\n",
       "        vertical-align: top;\n",
       "    }\n",
       "\n",
       "    .dataframe thead th {\n",
       "        text-align: right;\n",
       "    }\n",
       "</style>\n",
       "<table border=\"1\" class=\"dataframe\">\n",
       "  <thead>\n",
       "    <tr style=\"text-align: right;\">\n",
       "      <th></th>\n",
       "      <th>topic</th>\n",
       "      <th>text</th>\n",
       "    </tr>\n",
       "  </thead>\n",
       "  <tbody>\n",
       "    <tr>\n",
       "      <th>0</th>\n",
       "      <td>Student</td>\n",
       "      <td>info found pages mb pdf files wait untill team...</td>\n",
       "    </tr>\n",
       "    <tr>\n",
       "      <th>4</th>\n",
       "      <td>InvestmentBanking</td>\n",
       "      <td>thanks yahoos toolbar capture urls popupswhich...</td>\n",
       "    </tr>\n",
       "    <tr>\n",
       "      <th>74</th>\n",
       "      <td>indUnk</td>\n",
       "      <td>optimist p pessimist argument p nooooo stop th...</td>\n",
       "    </tr>\n",
       "    <tr>\n",
       "      <th>95</th>\n",
       "      <td>indUnk</td>\n",
       "      <td>urllink im new tell god create links column</td>\n",
       "    </tr>\n",
       "    <tr>\n",
       "      <th>97</th>\n",
       "      <td>Student</td>\n",
       "      <td>httpwwwuploadimagesnetimagespictjpg httpwwwupl...</td>\n",
       "    </tr>\n",
       "  </tbody>\n",
       "</table>\n",
       "</div>"
      ],
      "text/plain": [
       "                topic                                               text\n",
       "0             Student  info found pages mb pdf files wait untill team...\n",
       "4   InvestmentBanking  thanks yahoos toolbar capture urls popupswhich...\n",
       "74             indUnk  optimist p pessimist argument p nooooo stop th...\n",
       "95             indUnk        urllink im new tell god create links column\n",
       "97            Student  httpwwwuploadimagesnetimagespictjpg httpwwwupl..."
      ]
     },
     "execution_count": 74,
     "metadata": {},
     "output_type": "execute_result"
    }
   ],
   "source": [
    "data_blog.head()"
   ]
  },
  {
   "cell_type": "code",
   "execution_count": 75,
   "metadata": {},
   "outputs": [],
   "source": [
    "data_blog = data_blog[data_blog['topic']!='indUnk']"
   ]
  },
  {
   "cell_type": "markdown",
   "metadata": {},
   "source": [
    "<span style=\"font-family: Arial; font-weight:bold;font-size:1.5em;color:#00b3e5;\"> 3. Build a base Classification model"
   ]
  },
  {
   "cell_type": "markdown",
   "metadata": {},
   "source": [
    "<span style=\"font-family: Arial; font-weight:bold;font-size:1em;color:#00b3e5;\"> A. Create dependent and independent variables \\\n",
    "    B. Split data into train and test"
   ]
  },
  {
   "cell_type": "code",
   "execution_count": 78,
   "metadata": {},
   "outputs": [],
   "source": [
    "X= data_blog['text']\n",
    "y = data_blog['topic']\n",
    "\n",
    "X_train, X_test, y_train, y_test = train_test_split(X, y, test_size=0.3, random_state=1)"
   ]
  },
  {
   "cell_type": "code",
   "execution_count": 79,
   "metadata": {},
   "outputs": [
    {
     "name": "stdout",
     "output_type": "stream",
     "text": [
      "(8417,)\n",
      "(8417,)\n",
      "(3608,)\n",
      "(3608,)\n"
     ]
    }
   ],
   "source": [
    "print(X_train.shape)\n",
    "print(y_train.shape)\n",
    "print(X_test.shape)\n",
    "print(y_test.shape)"
   ]
  },
  {
   "cell_type": "markdown",
   "metadata": {},
   "source": [
    "<span style=\"font-family: Arial; font-weight:bold;font-size:1em;color:#00b3e5;\"> C. Vectorize data using any one vectorizer"
   ]
  },
  {
   "cell_type": "code",
   "execution_count": 80,
   "metadata": {},
   "outputs": [],
   "source": [
    "tfidf = TfidfVectorizer(max_features=500)\n",
    "X_train_tfidf = tfidf.fit_transform(X_train)"
   ]
  },
  {
   "cell_type": "code",
   "execution_count": 81,
   "metadata": {},
   "outputs": [
    {
     "data": {
      "text/plain": [
       "(8417, 500)"
      ]
     },
     "execution_count": 81,
     "metadata": {},
     "output_type": "execute_result"
    }
   ],
   "source": [
    "X_train_tfidf.shape"
   ]
  },
  {
   "cell_type": "code",
   "execution_count": 82,
   "metadata": {},
   "outputs": [
    {
     "data": {
      "text/plain": [
       "500"
      ]
     },
     "execution_count": 82,
     "metadata": {},
     "output_type": "execute_result"
    }
   ],
   "source": [
    "len(tfidf.vocabulary_)"
   ]
  },
  {
   "cell_type": "code",
   "execution_count": 83,
   "metadata": {},
   "outputs": [],
   "source": [
    "X_test_tfidf = tfidf.transform(X_test)"
   ]
  },
  {
   "cell_type": "code",
   "execution_count": 84,
   "metadata": {},
   "outputs": [
    {
     "name": "stdout",
     "output_type": "stream",
     "text": [
      "  (0, 110)\t0.08936343907592319\n",
      "  (0, 298)\t0.09633153862566615\n",
      "  (0, 442)\t0.0862727697355254\n",
      "  (0, 210)\t0.0973781208832822\n",
      "  (0, 415)\t0.06583346928407154\n",
      "  (0, 313)\t0.06959886219315504\n",
      "  (0, 334)\t0.11476173402402783\n",
      "  (0, 15)\t0.20400331979961175\n",
      "  (0, 39)\t0.19260075272060723\n",
      "  (0, 467)\t0.11562824412325345\n",
      "  (0, 161)\t0.08865182489644101\n",
      "  (0, 156)\t0.06816300520690938\n",
      "  (0, 324)\t0.10218988056030545\n",
      "  (0, 93)\t0.0627400404255186\n",
      "  (0, 460)\t0.10528680304028025\n",
      "  (0, 9)\t0.12257067130341513\n",
      "  (0, 160)\t0.06852511887257619\n",
      "  (0, 200)\t0.056397030660011435\n",
      "  (0, 375)\t0.1130451594539479\n",
      "  (0, 83)\t0.09104748425095865\n",
      "  (0, 310)\t0.10813098725330506\n",
      "  (0, 141)\t0.09428167638423876\n",
      "  (0, 19)\t0.08210457593668011\n",
      "  (0, 213)\t0.1024553507025777\n",
      "  (0, 240)\t0.1023412955270012\n",
      "  :\t:\n",
      "  (9, 109)\t0.0367282451939749\n",
      "  (9, 298)\t0.09765536928381209\n",
      "  (9, 442)\t0.08745836833769105\n",
      "  (9, 210)\t0.049358167069112655\n",
      "  (9, 415)\t0.10010727295376544\n",
      "  (9, 15)\t0.051701705937578495\n",
      "  (9, 39)\t0.04881188938640035\n",
      "  (9, 156)\t0.06909973140615465\n",
      "  (9, 93)\t0.1272044836830395\n",
      "  (9, 200)\t0.2286882545088511\n",
      "  (9, 375)\t0.05729933804504498\n",
      "  (9, 83)\t0.04614934954708842\n",
      "  (9, 422)\t0.061102600631759145\n",
      "  (9, 299)\t0.08614513616941841\n",
      "  (9, 132)\t0.0511046437728295\n",
      "  (9, 483)\t0.040140653645249436\n",
      "  (9, 91)\t0.05028475166077647\n",
      "  (9, 8)\t0.04108954621639739\n",
      "  (9, 135)\t0.05016370108083039\n",
      "  (9, 142)\t0.05779858468266079\n",
      "  (9, 348)\t0.08885422671852038\n",
      "  (9, 237)\t0.04383189148409376\n",
      "  (9, 378)\t0.07893914879583329\n",
      "  (9, 164)\t0.05349444822692528\n",
      "  (9, 148)\t0.046996422427089284\n",
      "  (0, 493)\t0.28311084156234567\n",
      "  (0, 483)\t0.11745748586185029\n",
      "  (0, 476)\t0.30190817512098483\n",
      "  (0, 474)\t0.14603656575986645\n",
      "  (0, 470)\t0.11693243147900194\n",
      "  (0, 457)\t0.1491663716462514\n",
      "  (0, 434)\t0.19587422483713188\n",
      "  (0, 417)\t0.26597220183347425\n",
      "  (0, 416)\t0.1562213080323085\n",
      "  (0, 414)\t0.11414847879707758\n",
      "  (0, 410)\t0.23365629186727532\n",
      "  (0, 397)\t0.1360230425081433\n",
      "  (0, 390)\t0.22171715456817745\n",
      "  (0, 299)\t0.08402446725714212\n",
      "  (0, 273)\t0.15145412658578475\n",
      "  (0, 248)\t0.12927501064239177\n",
      "  (0, 243)\t0.13872604110706602\n",
      "  (0, 216)\t0.09183769354443069\n",
      "  (0, 200)\t0.16729390892668958\n",
      "  (0, 183)\t0.31598615537826763\n",
      "  (0, 181)\t0.16225226342773363\n",
      "  (0, 159)\t0.09936413950733892\n",
      "  (0, 157)\t0.3550604663680132\n",
      "  (0, 154)\t0.15229997195296854\n",
      "  (0, 146)\t0.08686635981052927\n",
      "  :\t:\n",
      "  (7, 112)\t0.03683482396284879\n",
      "  (7, 111)\t0.03511271505738502\n",
      "  (7, 108)\t0.04948017715586606\n",
      "  (7, 106)\t0.037461934223519136\n",
      "  (7, 105)\t0.09548329253199613\n",
      "  (7, 89)\t0.04092140681443317\n",
      "  (7, 82)\t0.025928234958746087\n",
      "  (7, 73)\t0.029530151994242974\n",
      "  (7, 71)\t0.04674888490365023\n",
      "  (7, 53)\t0.03008749647391289\n",
      "  (7, 37)\t0.03868614276195772\n",
      "  (7, 19)\t0.031333746733619494\n",
      "  (7, 10)\t0.0991349317518231\n",
      "  (8, 163)\t0.7554504296139948\n",
      "  (8, 123)\t0.6552058061373013\n",
      "  (9, 465)\t0.20283502675432755\n",
      "  (9, 390)\t0.4115831628121955\n",
      "  (9, 353)\t0.3259500253832518\n",
      "  (9, 313)\t0.19162595756690542\n",
      "  (9, 200)\t0.46583239999651965\n",
      "  (9, 142)\t0.31395815497915597\n",
      "  (9, 103)\t0.26120600169511\n",
      "  (9, 44)\t0.36472153169863064\n",
      "  (9, 34)\t0.25760153497412336\n",
      "  (9, 26)\t0.25162443354870506\n"
     ]
    }
   ],
   "source": [
    "print(X_train_tfidf[:10])\n",
    "print(X_test_tfidf[:10])"
   ]
  },
  {
   "cell_type": "code",
   "execution_count": 85,
   "metadata": {},
   "outputs": [
    {
     "data": {
      "text/plain": [
       "array(['Student', 'Technology', 'Religion', ..., 'Student', 'Non-Profit',\n",
       "       'Education'], dtype=object)"
      ]
     },
     "execution_count": 85,
     "metadata": {},
     "output_type": "execute_result"
    }
   ],
   "source": [
    "y_train.values"
   ]
  },
  {
   "cell_type": "code",
   "execution_count": 86,
   "metadata": {},
   "outputs": [
    {
     "name": "stdout",
     "output_type": "stream",
     "text": [
      "['Accounting' 'Advertising' 'Agriculture' 'Architecture' 'Arts'\n",
      " 'Automotive' 'Banking' 'Biotech' 'BusinessServices' 'Chemicals'\n",
      " 'Communications-Media' 'Construction' 'Consulting' 'Education'\n",
      " 'Engineering' 'Environment' 'Fashion' 'Government' 'HumanResources'\n",
      " 'Internet' 'InvestmentBanking' 'Law' 'LawEnforcement-Security'\n",
      " 'Manufacturing' 'Maritime' 'Marketing' 'Military' 'Museums-Libraries'\n",
      " 'Non-Profit' 'Publishing' 'RealEstate' 'Religion' 'Science'\n",
      " 'Sports-Recreation' 'Student' 'Technology' 'Telecommunications' 'Tourism'\n",
      " 'Transportation']\n",
      "[  80   99   21   42  488   32   81   40   96   39  323   38  136  664\n",
      "  212   20   66  160   67  264   23  119   38   52   11  113   76   36\n",
      "  252  108   38   95  126   57 3472  631   84   56   62]\n"
     ]
    }
   ],
   "source": [
    "val_list,counts = np.unique(y_train,return_counts=True)\n",
    "print(val_list)\n",
    "print(counts)"
   ]
  },
  {
   "cell_type": "code",
   "execution_count": 87,
   "metadata": {},
   "outputs": [
    {
     "name": "stdout",
     "output_type": "stream",
     "text": [
      "['Accounting' 'Advertising' 'Agriculture' 'Architecture' 'Arts'\n",
      " 'Automotive' 'Banking' 'Biotech' 'BusinessServices' 'Chemicals'\n",
      " 'Communications-Media' 'Construction' 'Consulting' 'Education'\n",
      " 'Engineering' 'Environment' 'Fashion' 'Government' 'HumanResources'\n",
      " 'Internet' 'InvestmentBanking' 'Law' 'LawEnforcement-Security'\n",
      " 'Manufacturing' 'Maritime' 'Marketing' 'Military' 'Museums-Libraries'\n",
      " 'Non-Profit' 'Publishing' 'RealEstate' 'Religion' 'Science'\n",
      " 'Sports-Recreation' 'Student' 'Technology' 'Telecommunications' 'Tourism'\n",
      " 'Transportation']\n",
      "[  21   39   14   18  207   21   30   15   57   21  139   14   47  277\n",
      "   79    8   23   68   25  116    8   69   15   32    6   57   35   17\n",
      "  110   40   17   39   49   32 1474  275   29   37   28]\n"
     ]
    }
   ],
   "source": [
    "val_list,counts = np.unique(y_test,return_counts=True)\n",
    "print(val_list)\n",
    "print(counts)"
   ]
  },
  {
   "cell_type": "code",
   "execution_count": 88,
   "metadata": {},
   "outputs": [],
   "source": [
    "labels_unique_list = []\n",
    "\n",
    "for label in y.values:\n",
    "    if label not in labels_unique_list:\n",
    "        labels_unique_list.append(label)"
   ]
  },
  {
   "cell_type": "code",
   "execution_count": 89,
   "metadata": {},
   "outputs": [
    {
     "data": {
      "text/plain": [
       "['Student',\n",
       " 'InvestmentBanking',\n",
       " 'Non-Profit',\n",
       " 'Banking',\n",
       " 'Education',\n",
       " 'Engineering',\n",
       " 'Science',\n",
       " 'Communications-Media',\n",
       " 'BusinessServices',\n",
       " 'Sports-Recreation',\n",
       " 'Arts',\n",
       " 'Internet',\n",
       " 'Museums-Libraries',\n",
       " 'Accounting',\n",
       " 'Technology',\n",
       " 'Law',\n",
       " 'Automotive',\n",
       " 'Consulting',\n",
       " 'Religion',\n",
       " 'Fashion',\n",
       " 'Publishing',\n",
       " 'Marketing',\n",
       " 'LawEnforcement-Security',\n",
       " 'HumanResources',\n",
       " 'Telecommunications',\n",
       " 'Military',\n",
       " 'Transportation',\n",
       " 'Architecture',\n",
       " 'Government',\n",
       " 'Advertising',\n",
       " 'Agriculture',\n",
       " 'Biotech',\n",
       " 'RealEstate',\n",
       " 'Manufacturing',\n",
       " 'Construction',\n",
       " 'Chemicals',\n",
       " 'Maritime',\n",
       " 'Tourism',\n",
       " 'Environment']"
      ]
     },
     "execution_count": 89,
     "metadata": {},
     "output_type": "execute_result"
    }
   ],
   "source": [
    "labels_unique_list"
   ]
  },
  {
   "cell_type": "code",
   "execution_count": 90,
   "metadata": {},
   "outputs": [
    {
     "name": "stdout",
     "output_type": "stream",
     "text": [
      "(8417,)\n",
      "(3608,)\n"
     ]
    }
   ],
   "source": [
    "le = LabelEncoder()\n",
    "y_train = le.fit_transform(y_train)\n",
    "print(y_train.shape)\n",
    "y_test = le.transform(y_test)\n",
    "print(y_test.shape)"
   ]
  },
  {
   "cell_type": "code",
   "execution_count": 91,
   "metadata": {},
   "outputs": [
    {
     "name": "stdout",
     "output_type": "stream",
     "text": [
      "[ 0  1  2  3  4  5  6  7  8  9 10 11 12 13 14 15 16 17 18 19 20 21 22 23\n",
      " 24 25 26 27 28 29 30 31 32 33 34 35 36 37 38]\n",
      "[  80   99   21   42  488   32   81   40   96   39  323   38  136  664\n",
      "  212   20   66  160   67  264   23  119   38   52   11  113   76   36\n",
      "  252  108   38   95  126   57 3472  631   84   56   62]\n"
     ]
    }
   ],
   "source": [
    "val_list,counts = np.unique(y_train,return_counts=True)\n",
    "print(val_list)\n",
    "print(counts)"
   ]
  },
  {
   "cell_type": "code",
   "execution_count": 92,
   "metadata": {},
   "outputs": [
    {
     "name": "stdout",
     "output_type": "stream",
     "text": [
      "[ 0  1  2  3  4  5  6  7  8  9 10 11 12 13 14 15 16 17 18 19 20 21 22 23\n",
      " 24 25 26 27 28 29 30 31 32 33 34 35 36 37 38]\n",
      "[  21   39   14   18  207   21   30   15   57   21  139   14   47  277\n",
      "   79    8   23   68   25  116    8   69   15   32    6   57   35   17\n",
      "  110   40   17   39   49   32 1474  275   29   37   28]\n"
     ]
    }
   ],
   "source": [
    "val_list,counts = np.unique(y_test,return_counts=True)\n",
    "print(val_list)\n",
    "print(counts)"
   ]
  },
  {
   "cell_type": "markdown",
   "metadata": {},
   "source": [
    "<span style=\"font-family: Arial; font-weight:bold;font-size:1em;color:#00b3e5;\"> B. Build a base model for Supervised Learning - Classification"
   ]
  },
  {
   "cell_type": "code",
   "execution_count": 93,
   "metadata": {},
   "outputs": [
    {
     "data": {
      "text/plain": [
       "OneVsRestClassifier(estimator=LogisticRegression(solver='liblinear'))"
      ]
     },
     "execution_count": 93,
     "metadata": {},
     "output_type": "execute_result"
    }
   ],
   "source": [
    "model=LogisticRegression(solver='liblinear')\n",
    "model=OneVsRestClassifier(model)\n",
    "model.fit(X_train_tfidf,y_train)"
   ]
  },
  {
   "cell_type": "code",
   "execution_count": 94,
   "metadata": {},
   "outputs": [],
   "source": [
    "y_predict = model.predict(X_test_tfidf)"
   ]
  },
  {
   "cell_type": "code",
   "execution_count": 95,
   "metadata": {},
   "outputs": [
    {
     "data": {
      "text/plain": [
       "array([34, 34, 34, ..., 34, 34, 34])"
      ]
     },
     "execution_count": 95,
     "metadata": {},
     "output_type": "execute_result"
    }
   ],
   "source": [
    "y_predict"
   ]
  },
  {
   "cell_type": "markdown",
   "metadata": {},
   "source": [
    "<span style=\"font-family: Arial; font-weight:bold;font-size:1em;color:#00b3e5;\"> E. Clearly print Performance Metrics"
   ]
  },
  {
   "cell_type": "code",
   "execution_count": 96,
   "metadata": {},
   "outputs": [
    {
     "name": "stdout",
     "output_type": "stream",
     "text": [
      "Accuracy obtained:  0.41019955654101997\n"
     ]
    }
   ],
   "source": [
    "print('Accuracy obtained: ', accuracy_score(y_test, y_predict))"
   ]
  },
  {
   "cell_type": "code",
   "execution_count": 97,
   "metadata": {},
   "outputs": [
    {
     "name": "stdout",
     "output_type": "stream",
     "text": [
      "              precision    recall  f1-score   support\n",
      "\n",
      "           0       0.00      0.00      0.00        21\n",
      "           1       0.00      0.00      0.00        39\n",
      "           2       0.00      0.00      0.00        14\n",
      "           3       0.00      0.00      0.00        18\n",
      "           4       0.05      0.00      0.01       207\n",
      "           5       0.00      0.00      0.00        21\n",
      "           6       0.00      0.00      0.00        30\n",
      "           7       0.00      0.00      0.00        15\n",
      "           8       0.00      0.00      0.00        57\n",
      "           9       0.00      0.00      0.00        21\n",
      "          10       0.50      0.01      0.01       139\n",
      "          11       0.00      0.00      0.00        14\n",
      "          12       0.00      0.00      0.00        47\n",
      "          13       0.15      0.03      0.05       277\n",
      "          14       0.00      0.00      0.00        79\n",
      "          15       0.00      0.00      0.00         8\n",
      "          16       0.00      0.00      0.00        23\n",
      "          17       0.00      0.00      0.00        68\n",
      "          18       0.00      0.00      0.00        25\n",
      "          19       0.00      0.00      0.00       116\n",
      "          20       0.00      0.00      0.00         8\n",
      "          21       0.00      0.00      0.00        69\n",
      "          22       0.00      0.00      0.00        15\n",
      "          23       0.00      0.00      0.00        32\n",
      "          24       0.00      0.00      0.00         6\n",
      "          25       0.00      0.00      0.00        57\n",
      "          26       0.00      0.00      0.00        35\n",
      "          27       0.00      0.00      0.00        17\n",
      "          28       0.00      0.00      0.00       110\n",
      "          29       0.00      0.00      0.00        40\n",
      "          30       0.00      0.00      0.00        17\n",
      "          31       0.00      0.00      0.00        39\n",
      "          32       0.00      0.00      0.00        49\n",
      "          33       0.00      0.00      0.00        32\n",
      "          34       0.42      0.98      0.59      1474\n",
      "          35       0.18      0.07      0.10       275\n",
      "          36       0.00      0.00      0.00        29\n",
      "          37       0.00      0.00      0.00        37\n",
      "          38       0.00      0.00      0.00        28\n",
      "\n",
      "    accuracy                           0.41      3608\n",
      "   macro avg       0.03      0.03      0.02      3608\n",
      "weighted avg       0.22      0.41      0.25      3608\n",
      "\n"
     ]
    },
    {
     "name": "stderr",
     "output_type": "stream",
     "text": [
      "C:\\Users\\kakar\\anaconda3\\lib\\site-packages\\sklearn\\metrics\\_classification.py:1221: UndefinedMetricWarning: Precision and F-score are ill-defined and being set to 0.0 in labels with no predicted samples. Use `zero_division` parameter to control this behavior.\n",
      "  _warn_prf(average, modifier, msg_start, len(result))\n"
     ]
    }
   ],
   "source": [
    "print(classification_report(y_test, y_predict))"
   ]
  },
  {
   "cell_type": "code",
   "execution_count": 98,
   "metadata": {},
   "outputs": [
    {
     "name": "stdout",
     "output_type": "stream",
     "text": [
      "ROC-AUC score (weighted averaging):  0.6398078331094302\n",
      "ROC-AUC score (macro averaging):  0.5761380175651392\n"
     ]
    }
   ],
   "source": [
    "y_predict_probs = model.predict_proba(X_test_tfidf)\n",
    "\n",
    "#print('ROC-AUC score (micro averaging): ', roc_auc_score(y_test, y_predict_probs, average=\"micro\", multi_class=\"ovr\"))\n",
    "print('ROC-AUC score (weighted averaging): ', roc_auc_score(y_test, y_predict_probs, average=\"weighted\", multi_class=\"ovr\"))\n",
    "print('ROC-AUC score (macro averaging): ', roc_auc_score(y_test, y_predict_probs, average=\"macro\", multi_class=\"ovr\"))"
   ]
  },
  {
   "cell_type": "markdown",
   "metadata": {},
   "source": [
    "<span style=\"font-family: Arial; font-weight:bold;font-size:1.5em;color:#00b3e5;\"> 4. Improve Performance of model"
   ]
  },
  {
   "cell_type": "markdown",
   "metadata": {},
   "source": [
    "<span style=\"font-family: Arial; font-weight:bold;font-size:1em;color:#00b3e5;\"> A. Experiment with other vectorisers \\\n",
    "B. Build classifier Models using other algorithms than base model \\\n",
    "C. Tune Parameters/Hyperparameters of the model/s\\\n",
    "D. Clearly print Performance Metrics"
   ]
  },
  {
   "cell_type": "code",
   "execution_count": 101,
   "metadata": {},
   "outputs": [],
   "source": [
    "cntvec = CountVectorizer(max_features=10)\n",
    "X_train_cntvec = cntvec.fit_transform(X_train)"
   ]
  },
  {
   "cell_type": "code",
   "execution_count": 102,
   "metadata": {},
   "outputs": [
    {
     "data": {
      "text/plain": [
       "(8417, 10)"
      ]
     },
     "execution_count": 102,
     "metadata": {},
     "output_type": "execute_result"
    }
   ],
   "source": [
    "X_train_cntvec.shape"
   ]
  },
  {
   "cell_type": "code",
   "execution_count": 103,
   "metadata": {},
   "outputs": [
    {
     "data": {
      "text/plain": [
       "10"
      ]
     },
     "execution_count": 103,
     "metadata": {},
     "output_type": "execute_result"
    }
   ],
   "source": [
    "len(cntvec.vocabulary_)"
   ]
  },
  {
   "cell_type": "code",
   "execution_count": 104,
   "metadata": {},
   "outputs": [],
   "source": [
    "X_test_cntvec = cntvec.transform(X_test)"
   ]
  },
  {
   "cell_type": "code",
   "execution_count": 105,
   "metadata": {},
   "outputs": [
    {
     "name": "stdout",
     "output_type": "stream",
     "text": [
      "  (0, 6)\t1\n",
      "  (0, 7)\t2\n",
      "  (0, 3)\t1\n",
      "  (0, 0)\t1\n",
      "  (1, 6)\t3\n",
      "  (1, 7)\t2\n",
      "  (1, 3)\t6\n",
      "  (1, 0)\t3\n",
      "  (1, 2)\t3\n",
      "  (1, 1)\t5\n",
      "  (1, 5)\t3\n",
      "  (1, 8)\t2\n",
      "  (1, 9)\t1\n",
      "  (1, 4)\t3\n",
      "  (2, 3)\t3\n",
      "  (4, 6)\t5\n",
      "  (4, 2)\t1\n",
      "  (4, 1)\t3\n",
      "  (4, 5)\t2\n",
      "  (4, 8)\t3\n",
      "  (4, 9)\t1\n",
      "  (5, 3)\t1\n",
      "  (5, 2)\t1\n",
      "  (5, 5)\t3\n",
      "  (5, 9)\t1\n",
      "  (6, 6)\t1\n",
      "  (6, 7)\t2\n",
      "  (6, 3)\t2\n",
      "  (6, 0)\t1\n",
      "  (6, 2)\t1\n",
      "  (6, 1)\t1\n",
      "  (6, 9)\t1\n",
      "  (6, 4)\t1\n",
      "  (7, 2)\t2\n",
      "  (7, 9)\t1\n",
      "  (8, 3)\t1\n",
      "  (8, 2)\t1\n",
      "  (9, 6)\t3\n",
      "  (9, 7)\t2\n",
      "  (9, 3)\t8\n",
      "  (9, 0)\t4\n",
      "  (9, 2)\t2\n",
      "  (9, 5)\t1\n",
      "  (9, 8)\t4\n",
      "  (9, 9)\t4\n",
      "  (9, 4)\t8\n",
      "  (0, 1)\t1\n",
      "  (0, 3)\t2\n",
      "  (0, 4)\t1\n",
      "  (0, 6)\t1\n",
      "  (2, 1)\t1\n",
      "  (2, 2)\t1\n",
      "  (2, 4)\t1\n",
      "  (2, 5)\t1\n",
      "  (2, 6)\t1\n",
      "  (3, 1)\t1\n",
      "  (3, 3)\t2\n",
      "  (3, 4)\t1\n",
      "  (3, 6)\t1\n",
      "  (3, 7)\t1\n",
      "  (4, 1)\t1\n",
      "  (4, 8)\t1\n",
      "  (5, 0)\t1\n",
      "  (5, 1)\t1\n",
      "  (5, 6)\t1\n",
      "  (7, 2)\t2\n",
      "  (7, 3)\t4\n",
      "  (7, 5)\t1\n",
      "  (7, 6)\t4\n",
      "  (7, 8)\t4\n",
      "  (7, 9)\t2\n",
      "  (9, 3)\t3\n"
     ]
    }
   ],
   "source": [
    "print(X_train_cntvec[:10])\n",
    "print(X_test_cntvec[:10])"
   ]
  },
  {
   "cell_type": "code",
   "execution_count": 106,
   "metadata": {},
   "outputs": [],
   "source": [
    "scaler = MaxAbsScaler()\n",
    "X_train_cntvec = scaler.fit_transform(X_train_cntvec)\n",
    "X_test_cntvec = scaler.fit_transform(X_test_cntvec)"
   ]
  },
  {
   "cell_type": "code",
   "execution_count": 107,
   "metadata": {},
   "outputs": [
    {
     "name": "stdout",
     "output_type": "stream",
     "text": [
      "  (0, 0)\t0.009523809523809525\n",
      "  (0, 3)\t0.016666666666666666\n",
      "  (0, 6)\t0.006711409395973154\n",
      "  (0, 7)\t0.01652892561983471\n",
      "  (1, 0)\t0.028571428571428574\n",
      "  (1, 1)\t0.03067484662576687\n",
      "  (1, 2)\t0.03529411764705882\n",
      "  (1, 3)\t0.1\n",
      "  (1, 4)\t0.03296703296703297\n",
      "  (1, 5)\t0.01507537688442211\n",
      "  (1, 6)\t0.020134228187919462\n",
      "  (1, 7)\t0.01652892561983471\n",
      "  (1, 8)\t0.024390243902439025\n",
      "  (1, 9)\t0.007462686567164179\n",
      "  (2, 3)\t0.05\n",
      "  (4, 1)\t0.018404907975460124\n",
      "  (4, 2)\t0.011764705882352941\n",
      "  (4, 5)\t0.010050251256281407\n",
      "  (4, 6)\t0.03355704697986577\n",
      "  (4, 8)\t0.03658536585365854\n",
      "  (4, 9)\t0.007462686567164179\n",
      "  (5, 2)\t0.011764705882352941\n",
      "  (5, 3)\t0.016666666666666666\n",
      "  (5, 5)\t0.01507537688442211\n",
      "  (5, 9)\t0.007462686567164179\n",
      "  (6, 0)\t0.009523809523809525\n",
      "  (6, 1)\t0.006134969325153374\n",
      "  (6, 2)\t0.011764705882352941\n",
      "  (6, 3)\t0.03333333333333333\n",
      "  (6, 4)\t0.01098901098901099\n",
      "  (6, 6)\t0.006711409395973154\n",
      "  (6, 7)\t0.01652892561983471\n",
      "  (6, 9)\t0.007462686567164179\n",
      "  (7, 2)\t0.023529411764705882\n",
      "  (7, 9)\t0.007462686567164179\n",
      "  (8, 2)\t0.011764705882352941\n",
      "  (8, 3)\t0.016666666666666666\n",
      "  (9, 0)\t0.0380952380952381\n",
      "  (9, 2)\t0.023529411764705882\n",
      "  (9, 3)\t0.13333333333333333\n",
      "  (9, 4)\t0.08791208791208792\n",
      "  (9, 5)\t0.005025125628140704\n",
      "  (9, 6)\t0.020134228187919462\n",
      "  (9, 7)\t0.01652892561983471\n",
      "  (9, 8)\t0.04878048780487805\n",
      "  (9, 9)\t0.029850746268656716\n",
      "  (0, 1)\t0.00909090909090909\n",
      "  (0, 3)\t0.008264462809917356\n",
      "  (0, 4)\t0.00980392156862745\n",
      "  (0, 6)\t0.005917159763313609\n",
      "  (2, 1)\t0.00909090909090909\n",
      "  (2, 2)\t0.010309278350515464\n",
      "  (2, 4)\t0.00980392156862745\n",
      "  (2, 5)\t0.0045045045045045045\n",
      "  (2, 6)\t0.005917159763313609\n",
      "  (3, 1)\t0.00909090909090909\n",
      "  (3, 3)\t0.008264462809917356\n",
      "  (3, 4)\t0.00980392156862745\n",
      "  (3, 6)\t0.005917159763313609\n",
      "  (3, 7)\t0.012658227848101266\n",
      "  (4, 1)\t0.00909090909090909\n",
      "  (4, 8)\t0.007142857142857143\n",
      "  (5, 0)\t0.006756756756756757\n",
      "  (5, 1)\t0.00909090909090909\n",
      "  (5, 6)\t0.005917159763313609\n",
      "  (7, 2)\t0.020618556701030927\n",
      "  (7, 3)\t0.01652892561983471\n",
      "  (7, 5)\t0.0045045045045045045\n",
      "  (7, 6)\t0.023668639053254437\n",
      "  (7, 8)\t0.02857142857142857\n",
      "  (7, 9)\t0.010101010101010102\n",
      "  (9, 3)\t0.012396694214876033\n"
     ]
    }
   ],
   "source": [
    "print(X_train_cntvec[:10])\n",
    "print(X_test_cntvec[:10])"
   ]
  },
  {
   "cell_type": "code",
   "execution_count": 108,
   "metadata": {},
   "outputs": [
    {
     "data": {
      "text/plain": [
       "OneVsRestClassifier(estimator=LogisticRegression(solver='liblinear'))"
      ]
     },
     "execution_count": 108,
     "metadata": {},
     "output_type": "execute_result"
    }
   ],
   "source": [
    "model=LogisticRegression(solver='liblinear')\n",
    "model=OneVsRestClassifier(model)\n",
    "model.fit(X_train_cntvec,y_train)"
   ]
  },
  {
   "cell_type": "code",
   "execution_count": 109,
   "metadata": {},
   "outputs": [],
   "source": [
    "y_predict = model.predict(X_test_cntvec)"
   ]
  },
  {
   "cell_type": "code",
   "execution_count": 110,
   "metadata": {},
   "outputs": [
    {
     "name": "stdout",
     "output_type": "stream",
     "text": [
      "Accuracy obtained:  0.40853658536585363\n"
     ]
    }
   ],
   "source": [
    "print('Accuracy obtained: ', accuracy_score(y_test, y_predict))"
   ]
  },
  {
   "cell_type": "code",
   "execution_count": 111,
   "metadata": {},
   "outputs": [
    {
     "name": "stdout",
     "output_type": "stream",
     "text": [
      "                         precision    recall  f1-score   support\n",
      "\n",
      "                Student       0.00      0.00      0.00        21\n",
      "      InvestmentBanking       0.00      0.00      0.00        39\n",
      "             Non-Profit       0.00      0.00      0.00        14\n",
      "                Banking       0.00      0.00      0.00        18\n",
      "              Education       0.00      0.00      0.00       207\n",
      "            Engineering       0.00      0.00      0.00        21\n",
      "                Science       0.00      0.00      0.00        30\n",
      "   Communications-Media       0.00      0.00      0.00        15\n",
      "       BusinessServices       0.00      0.00      0.00        57\n",
      "      Sports-Recreation       0.00      0.00      0.00        21\n",
      "                   Arts       0.00      0.00      0.00       139\n",
      "               Internet       0.00      0.00      0.00        14\n",
      "      Museums-Libraries       0.00      0.00      0.00        47\n",
      "             Accounting       0.00      0.00      0.00       277\n",
      "             Technology       0.00      0.00      0.00        79\n",
      "                    Law       0.00      0.00      0.00         8\n",
      "             Automotive       0.00      0.00      0.00        23\n",
      "             Consulting       0.00      0.00      0.00        68\n",
      "               Religion       0.00      0.00      0.00        25\n",
      "                Fashion       0.00      0.00      0.00       116\n",
      "             Publishing       0.00      0.00      0.00         8\n",
      "              Marketing       0.00      0.00      0.00        69\n",
      "LawEnforcement-Security       0.00      0.00      0.00        15\n",
      "         HumanResources       0.00      0.00      0.00        32\n",
      "     Telecommunications       0.00      0.00      0.00         6\n",
      "               Military       0.00      0.00      0.00        57\n",
      "         Transportation       0.00      0.00      0.00        35\n",
      "           Architecture       0.00      0.00      0.00        17\n",
      "             Government       0.00      0.00      0.00       110\n",
      "            Advertising       0.00      0.00      0.00        40\n",
      "            Agriculture       0.00      0.00      0.00        17\n",
      "                Biotech       0.00      0.00      0.00        39\n",
      "             RealEstate       0.00      0.00      0.00        49\n",
      "          Manufacturing       0.00      0.00      0.00        32\n",
      "           Construction       0.41      1.00      0.58      1474\n",
      "              Chemicals       0.00      0.00      0.00       275\n",
      "               Maritime       0.00      0.00      0.00        29\n",
      "                Tourism       0.00      0.00      0.00        37\n",
      "            Environment       0.00      0.00      0.00        28\n",
      "\n",
      "               accuracy                           0.41      3608\n",
      "              macro avg       0.01      0.03      0.01      3608\n",
      "           weighted avg       0.17      0.41      0.24      3608\n",
      "\n"
     ]
    },
    {
     "name": "stderr",
     "output_type": "stream",
     "text": [
      "C:\\Users\\kakar\\anaconda3\\lib\\site-packages\\sklearn\\metrics\\_classification.py:1221: UndefinedMetricWarning: Precision and F-score are ill-defined and being set to 0.0 in labels with no predicted samples. Use `zero_division` parameter to control this behavior.\n",
      "  _warn_prf(average, modifier, msg_start, len(result))\n"
     ]
    }
   ],
   "source": [
    "print(classification_report(y_test, y_predict, target_names=labels_unique_list))"
   ]
  },
  {
   "cell_type": "code",
   "execution_count": 112,
   "metadata": {},
   "outputs": [
    {
     "name": "stdout",
     "output_type": "stream",
     "text": [
      "ROC-AUC score (weighted averaging):  0.5608855684516297\n",
      "ROC-AUC score (macro averaging):  0.5369031542728652\n"
     ]
    }
   ],
   "source": [
    "y_predict_probs = model.predict_proba(X_test_cntvec)\n",
    "\n",
    "#print('ROC-AUC score (micro averaging): ', roc_auc_score(y_test, y_predict_probs, average=\"micro\", multi_class=\"ovr\"))\n",
    "print('ROC-AUC score (weighted averaging): ', roc_auc_score(y_test, y_predict_probs, average=\"weighted\", multi_class=\"ovr\"))\n",
    "print('ROC-AUC score (macro averaging): ', roc_auc_score(y_test, y_predict_probs, average=\"macro\", multi_class=\"ovr\"))"
   ]
  },
  {
   "cell_type": "code",
   "execution_count": 113,
   "metadata": {},
   "outputs": [
    {
     "data": {
      "text/plain": [
       "RandomForestClassifier()"
      ]
     },
     "execution_count": 113,
     "metadata": {},
     "output_type": "execute_result"
    }
   ],
   "source": [
    "model = RandomForestClassifier()  \n",
    "#model=OneVsRestClassifier(model)\n",
    "model.fit(X_train_tfidf,y_train)"
   ]
  },
  {
   "cell_type": "code",
   "execution_count": 114,
   "metadata": {},
   "outputs": [],
   "source": [
    "y_predict = model.predict(X_test_tfidf)"
   ]
  },
  {
   "cell_type": "code",
   "execution_count": 115,
   "metadata": {},
   "outputs": [
    {
     "data": {
      "text/plain": [
       "array([34, 34, 34, ..., 34, 34, 34])"
      ]
     },
     "execution_count": 115,
     "metadata": {},
     "output_type": "execute_result"
    }
   ],
   "source": [
    "y_predict"
   ]
  },
  {
   "cell_type": "code",
   "execution_count": 116,
   "metadata": {},
   "outputs": [
    {
     "name": "stdout",
     "output_type": "stream",
     "text": [
      "Accuracy obtained:  0.4077050997782705\n"
     ]
    }
   ],
   "source": [
    "print('Accuracy obtained: ', accuracy_score(y_test, y_predict))"
   ]
  },
  {
   "cell_type": "code",
   "execution_count": 117,
   "metadata": {},
   "outputs": [
    {
     "name": "stdout",
     "output_type": "stream",
     "text": [
      "              precision    recall  f1-score   support\n",
      "\n",
      "           0       0.00      0.00      0.00        21\n",
      "           1       0.00      0.00      0.00        39\n",
      "           2       0.00      0.00      0.00        14\n",
      "           3       0.00      0.00      0.00        18\n",
      "           4       0.11      0.00      0.01       207\n",
      "           5       0.00      0.00      0.00        21\n",
      "           6       0.00      0.00      0.00        30\n",
      "           7       0.00      0.00      0.00        15\n",
      "           8       0.00      0.00      0.00        57\n",
      "           9       0.00      0.00      0.00        21\n",
      "          10       0.00      0.00      0.00       139\n",
      "          11       0.00      0.00      0.00        14\n",
      "          12       0.00      0.00      0.00        47\n",
      "          13       0.16      0.01      0.02       277\n",
      "          14       0.17      0.01      0.02        79\n",
      "          15       0.00      0.00      0.00         8\n",
      "          16       0.00      0.00      0.00        23\n",
      "          17       0.00      0.00      0.00        68\n",
      "          18       0.00      0.00      0.00        25\n",
      "          19       0.00      0.00      0.00       116\n",
      "          20       0.00      0.00      0.00         8\n",
      "          21       1.00      0.01      0.03        69\n",
      "          22       0.00      0.00      0.00        15\n",
      "          23       0.00      0.00      0.00        32\n",
      "          24       0.00      0.00      0.00         6\n",
      "          25       0.00      0.00      0.00        57\n",
      "          26       0.00      0.00      0.00        35\n",
      "          27       0.00      0.00      0.00        17\n",
      "          28       0.00      0.00      0.00       110\n",
      "          29       0.00      0.00      0.00        40\n",
      "          30       0.00      0.00      0.00        17\n",
      "          31       0.00      0.00      0.00        39\n",
      "          32       0.00      0.00      0.00        49\n",
      "          33       0.00      0.00      0.00        32\n",
      "          34       0.42      0.99      0.59      1474\n",
      "          35       0.18      0.01      0.03       275\n",
      "          36       0.00      0.00      0.00        29\n",
      "          37       0.00      0.00      0.00        37\n",
      "          38       0.00      0.00      0.00        28\n",
      "\n",
      "    accuracy                           0.41      3608\n",
      "   macro avg       0.05      0.03      0.02      3608\n",
      "weighted avg       0.22      0.41      0.24      3608\n",
      "\n"
     ]
    },
    {
     "name": "stderr",
     "output_type": "stream",
     "text": [
      "C:\\Users\\kakar\\anaconda3\\lib\\site-packages\\sklearn\\metrics\\_classification.py:1221: UndefinedMetricWarning: Precision and F-score are ill-defined and being set to 0.0 in labels with no predicted samples. Use `zero_division` parameter to control this behavior.\n",
      "  _warn_prf(average, modifier, msg_start, len(result))\n"
     ]
    }
   ],
   "source": [
    "print(classification_report(y_test, y_predict))"
   ]
  },
  {
   "cell_type": "code",
   "execution_count": 118,
   "metadata": {},
   "outputs": [
    {
     "name": "stdout",
     "output_type": "stream",
     "text": [
      "ROC-AUC score (weighted averaging):  0.6099929864637126\n",
      "ROC-AUC score (macro averaging):  0.5303237269706429\n"
     ]
    }
   ],
   "source": [
    "y_predict_probs = model.predict_proba(X_test_tfidf)\n",
    "\n",
    "#print('ROC-AUC score (micro averaging): ', roc_auc_score(y_test, y_predict_probs, average=\"micro\", multi_class=\"ovr\"))\n",
    "print('ROC-AUC score (weighted averaging): ', roc_auc_score(y_test, y_predict_probs, average=\"weighted\", multi_class=\"ovr\"))\n",
    "print('ROC-AUC score (macro averaging): ', roc_auc_score(y_test, y_predict_probs, average=\"macro\", multi_class=\"ovr\"))"
   ]
  },
  {
   "cell_type": "code",
   "execution_count": 128,
   "metadata": {},
   "outputs": [
    {
     "data": {
      "text/plain": [
       "OneVsRestClassifier(estimator=RandomForestClassifier())"
      ]
     },
     "execution_count": 128,
     "metadata": {},
     "output_type": "execute_result"
    }
   ],
   "source": [
    "model = RandomForestClassifier()  \n",
    "model=OneVsRestClassifier(model)\n",
    "model.fit(X_train_cntvec,y_train)"
   ]
  },
  {
   "cell_type": "code",
   "execution_count": 120,
   "metadata": {},
   "outputs": [],
   "source": [
    "y_predict = model.predict(X_test_cntvec)"
   ]
  },
  {
   "cell_type": "code",
   "execution_count": 121,
   "metadata": {},
   "outputs": [
    {
     "name": "stdout",
     "output_type": "stream",
     "text": [
      "Accuracy obtained:  0.3514412416851441\n"
     ]
    }
   ],
   "source": [
    "print('Accuracy obtained: ', accuracy_score(y_test, y_predict))"
   ]
  },
  {
   "cell_type": "code",
   "execution_count": 122,
   "metadata": {},
   "outputs": [
    {
     "name": "stdout",
     "output_type": "stream",
     "text": [
      "                         precision    recall  f1-score   support\n",
      "\n",
      "                Student       0.00      0.00      0.00        21\n",
      "      InvestmentBanking       0.00      0.00      0.00        39\n",
      "             Non-Profit       0.00      0.00      0.00        14\n",
      "                Banking       0.00      0.00      0.00        18\n",
      "              Education       0.05      0.01      0.02       207\n",
      "            Engineering       0.00      0.00      0.00        21\n",
      "                Science       0.00      0.00      0.00        30\n",
      "   Communications-Media       0.00      0.00      0.00        15\n",
      "       BusinessServices       0.00      0.00      0.00        57\n",
      "      Sports-Recreation       0.00      0.00      0.00        21\n",
      "                   Arts       0.07      0.02      0.03       139\n",
      "               Internet       0.00      0.00      0.00        14\n",
      "      Museums-Libraries       0.00      0.00      0.00        47\n",
      "             Accounting       0.07      0.03      0.04       277\n",
      "             Technology       0.00      0.00      0.00        79\n",
      "                    Law       0.00      0.00      0.00         8\n",
      "             Automotive       0.00      0.00      0.00        23\n",
      "             Consulting       0.00      0.00      0.00        68\n",
      "               Religion       0.00      0.00      0.00        25\n",
      "                Fashion       0.00      0.00      0.00       116\n",
      "             Publishing       0.00      0.00      0.00         8\n",
      "              Marketing       0.06      0.01      0.02        69\n",
      "LawEnforcement-Security       0.00      0.00      0.00        15\n",
      "         HumanResources       0.00      0.00      0.00        32\n",
      "     Telecommunications       0.00      0.00      0.00         6\n",
      "               Military       0.06      0.02      0.03        57\n",
      "         Transportation       0.00      0.00      0.00        35\n",
      "           Architecture       0.00      0.00      0.00        17\n",
      "             Government       0.07      0.02      0.03       110\n",
      "            Advertising       0.00      0.00      0.00        40\n",
      "            Agriculture       0.00      0.00      0.00        17\n",
      "                Biotech       0.00      0.00      0.00        39\n",
      "             RealEstate       0.00      0.00      0.00        49\n",
      "          Manufacturing       0.00      0.00      0.00        32\n",
      "           Construction       0.41      0.84      0.55      1474\n",
      "              Chemicals       0.14      0.05      0.08       275\n",
      "               Maritime       0.00      0.00      0.00        29\n",
      "                Tourism       0.00      0.00      0.00        37\n",
      "            Environment       0.00      0.00      0.00        28\n",
      "\n",
      "               accuracy                           0.35      3608\n",
      "              macro avg       0.02      0.03      0.02      3608\n",
      "           weighted avg       0.20      0.35      0.24      3608\n",
      "\n"
     ]
    },
    {
     "name": "stderr",
     "output_type": "stream",
     "text": [
      "C:\\Users\\kakar\\anaconda3\\lib\\site-packages\\sklearn\\metrics\\_classification.py:1221: UndefinedMetricWarning: Precision and F-score are ill-defined and being set to 0.0 in labels with no predicted samples. Use `zero_division` parameter to control this behavior.\n",
      "  _warn_prf(average, modifier, msg_start, len(result))\n"
     ]
    }
   ],
   "source": [
    "print(classification_report(y_test, y_predict, target_names=labels_unique_list))"
   ]
  },
  {
   "cell_type": "code",
   "execution_count": 123,
   "metadata": {},
   "outputs": [
    {
     "name": "stdout",
     "output_type": "stream",
     "text": [
      "ROC-AUC score (weighted averaging):  0.5240385321654577\n",
      "ROC-AUC score (macro averaging):  0.5164691237465877\n"
     ]
    }
   ],
   "source": [
    "y_predict_probs = model.predict_proba(X_test_cntvec)\n",
    "\n",
    "#print('ROC-AUC score (micro averaging): ', roc_auc_score(y_test, y_predict_probs, average=\"micro\", multi_class=\"ovr\"))\n",
    "print('ROC-AUC score (weighted averaging): ', roc_auc_score(y_test, y_predict_probs, average=\"weighted\", multi_class=\"ovr\"))\n",
    "print('ROC-AUC score (macro averaging): ', roc_auc_score(y_test, y_predict_probs, average=\"macro\", multi_class=\"ovr\"))"
   ]
  },
  {
   "cell_type": "code",
   "execution_count": 127,
   "metadata": {},
   "outputs": [
    {
     "name": "stdout",
     "output_type": "stream",
     "text": [
      "LogisticRegression(C=0.001, penalty='l1', solver='liblinear')\n"
     ]
    }
   ],
   "source": [
    "hyperparameters = {'penalty':['l1','l2'], 'C':np.logspace(-3,3,7),'solver':['newton-cg', 'liblinear','lbfgs']}\n",
    "grid_search = GridSearchCV(LogisticRegression(),hyperparameters,n_jobs=4,scoring=\"accuracy\",cv=3)\n",
    "model = grid_search.fit(X_train_tfidf,y_train)\n",
    "best_model_lr = model.best_estimator_\n",
    "best_model_lr.fit(X_train_tfidf, y_train)\n",
    "print(best_model_lr)"
   ]
  },
  {
   "cell_type": "code",
   "execution_count": 133,
   "metadata": {},
   "outputs": [
    {
     "name": "stdout",
     "output_type": "stream",
     "text": [
      "RandomForestClassifier(max_depth=5, n_estimators=200)\n"
     ]
    }
   ],
   "source": [
    "hyperparameters = {'n_estimators': [200, 500],'max_depth' : [5,10],'criterion' :['gini', 'entropy']}\n",
    "grid_search = GridSearchCV(RandomForestClassifier(),hyperparameters,n_jobs=4,scoring=\"accuracy\",cv=3)\n",
    "model = grid_search.fit(X_train_tfidf,y_train)\n",
    "best_model_rf = model.best_estimator_\n",
    "best_model_rf.fit(X_train_tfidf, y_train)\n",
    "print(best_model_rf)"
   ]
  },
  {
   "cell_type": "code",
   "execution_count": 132,
   "metadata": {},
   "outputs": [
    {
     "name": "stdout",
     "output_type": "stream",
     "text": [
      "Accuracy obtained:  0.40853658536585363\n",
      "                         precision    recall  f1-score   support\n",
      "\n",
      "                Student       0.00      0.00      0.00        21\n",
      "      InvestmentBanking       0.00      0.00      0.00        39\n",
      "             Non-Profit       0.00      0.00      0.00        14\n",
      "                Banking       0.00      0.00      0.00        18\n",
      "              Education       0.00      0.00      0.00       207\n",
      "            Engineering       0.00      0.00      0.00        21\n",
      "                Science       0.00      0.00      0.00        30\n",
      "   Communications-Media       0.00      0.00      0.00        15\n",
      "       BusinessServices       0.00      0.00      0.00        57\n",
      "      Sports-Recreation       0.00      0.00      0.00        21\n",
      "                   Arts       0.00      0.00      0.00       139\n",
      "               Internet       0.00      0.00      0.00        14\n",
      "      Museums-Libraries       0.00      0.00      0.00        47\n",
      "             Accounting       0.00      0.00      0.00       277\n",
      "             Technology       0.00      0.00      0.00        79\n",
      "                    Law       0.00      0.00      0.00         8\n",
      "             Automotive       0.00      0.00      0.00        23\n",
      "             Consulting       0.00      0.00      0.00        68\n",
      "               Religion       0.00      0.00      0.00        25\n",
      "                Fashion       0.00      0.00      0.00       116\n",
      "             Publishing       0.00      0.00      0.00         8\n",
      "              Marketing       0.00      0.00      0.00        69\n",
      "LawEnforcement-Security       0.00      0.00      0.00        15\n",
      "         HumanResources       0.00      0.00      0.00        32\n",
      "     Telecommunications       0.00      0.00      0.00         6\n",
      "               Military       0.00      0.00      0.00        57\n",
      "         Transportation       0.00      0.00      0.00        35\n",
      "           Architecture       0.00      0.00      0.00        17\n",
      "             Government       0.00      0.00      0.00       110\n",
      "            Advertising       0.00      0.00      0.00        40\n",
      "            Agriculture       0.00      0.00      0.00        17\n",
      "                Biotech       0.00      0.00      0.00        39\n",
      "             RealEstate       0.00      0.00      0.00        49\n",
      "          Manufacturing       0.00      0.00      0.00        32\n",
      "           Construction       0.41      1.00      0.58      1474\n",
      "              Chemicals       0.00      0.00      0.00       275\n",
      "               Maritime       0.00      0.00      0.00        29\n",
      "                Tourism       0.00      0.00      0.00        37\n",
      "            Environment       0.00      0.00      0.00        28\n",
      "\n",
      "               accuracy                           0.41      3608\n",
      "              macro avg       0.01      0.03      0.01      3608\n",
      "           weighted avg       0.17      0.41      0.24      3608\n",
      "\n",
      "ROC-AUC score (weighted averaging):  0.5\n",
      "ROC-AUC score (macro averaging):  0.5\n"
     ]
    },
    {
     "name": "stderr",
     "output_type": "stream",
     "text": [
      "C:\\Users\\kakar\\anaconda3\\lib\\site-packages\\sklearn\\metrics\\_classification.py:1221: UndefinedMetricWarning: Precision and F-score are ill-defined and being set to 0.0 in labels with no predicted samples. Use `zero_division` parameter to control this behavior.\n",
      "  _warn_prf(average, modifier, msg_start, len(result))\n"
     ]
    }
   ],
   "source": [
    "y_predict = best_model_lr.predict(X_test_tfidf)\n",
    "\n",
    "print('Accuracy obtained: ', accuracy_score(y_test, y_predict))\n",
    "\n",
    "print(classification_report(y_test, y_predict, target_names=labels_unique_list))\n",
    "\n",
    "y_predict_probs = best_model_lr.predict_proba(X_test_tfidf)\n",
    "\n",
    "#print('ROC-AUC score (micro averaging): ', roc_auc_score(y_test, y_predict_probs, average=\"micro\", multi_class=\"ovr\"))\n",
    "print('ROC-AUC score (weighted averaging): ', roc_auc_score(y_test, y_predict_probs, average=\"weighted\", multi_class=\"ovr\"))\n",
    "print('ROC-AUC score (macro averaging): ', roc_auc_score(y_test, y_predict_probs, average=\"macro\", multi_class=\"ovr\"))"
   ]
  },
  {
   "cell_type": "code",
   "execution_count": 134,
   "metadata": {},
   "outputs": [
    {
     "name": "stdout",
     "output_type": "stream",
     "text": [
      "Accuracy obtained:  0.40853658536585363\n",
      "                         precision    recall  f1-score   support\n",
      "\n",
      "                Student       0.00      0.00      0.00        21\n",
      "      InvestmentBanking       0.00      0.00      0.00        39\n",
      "             Non-Profit       0.00      0.00      0.00        14\n",
      "                Banking       0.00      0.00      0.00        18\n",
      "              Education       0.00      0.00      0.00       207\n",
      "            Engineering       0.00      0.00      0.00        21\n",
      "                Science       0.00      0.00      0.00        30\n",
      "   Communications-Media       0.00      0.00      0.00        15\n",
      "       BusinessServices       0.00      0.00      0.00        57\n",
      "      Sports-Recreation       0.00      0.00      0.00        21\n",
      "                   Arts       0.00      0.00      0.00       139\n",
      "               Internet       0.00      0.00      0.00        14\n",
      "      Museums-Libraries       0.00      0.00      0.00        47\n",
      "             Accounting       0.00      0.00      0.00       277\n",
      "             Technology       0.00      0.00      0.00        79\n",
      "                    Law       0.00      0.00      0.00         8\n",
      "             Automotive       0.00      0.00      0.00        23\n",
      "             Consulting       0.00      0.00      0.00        68\n",
      "               Religion       0.00      0.00      0.00        25\n",
      "                Fashion       0.00      0.00      0.00       116\n",
      "             Publishing       0.00      0.00      0.00         8\n",
      "              Marketing       0.00      0.00      0.00        69\n",
      "LawEnforcement-Security       0.00      0.00      0.00        15\n",
      "         HumanResources       0.00      0.00      0.00        32\n",
      "     Telecommunications       0.00      0.00      0.00         6\n",
      "               Military       0.00      0.00      0.00        57\n",
      "         Transportation       0.00      0.00      0.00        35\n",
      "           Architecture       0.00      0.00      0.00        17\n",
      "             Government       0.00      0.00      0.00       110\n",
      "            Advertising       0.00      0.00      0.00        40\n",
      "            Agriculture       0.00      0.00      0.00        17\n",
      "                Biotech       0.00      0.00      0.00        39\n",
      "             RealEstate       0.00      0.00      0.00        49\n",
      "          Manufacturing       0.00      0.00      0.00        32\n",
      "           Construction       0.41      1.00      0.58      1474\n",
      "              Chemicals       0.00      0.00      0.00       275\n",
      "               Maritime       0.00      0.00      0.00        29\n",
      "                Tourism       0.00      0.00      0.00        37\n",
      "            Environment       0.00      0.00      0.00        28\n",
      "\n",
      "               accuracy                           0.41      3608\n",
      "              macro avg       0.01      0.03      0.01      3608\n",
      "           weighted avg       0.17      0.41      0.24      3608\n",
      "\n"
     ]
    },
    {
     "name": "stderr",
     "output_type": "stream",
     "text": [
      "C:\\Users\\kakar\\anaconda3\\lib\\site-packages\\sklearn\\metrics\\_classification.py:1221: UndefinedMetricWarning: Precision and F-score are ill-defined and being set to 0.0 in labels with no predicted samples. Use `zero_division` parameter to control this behavior.\n",
      "  _warn_prf(average, modifier, msg_start, len(result))\n"
     ]
    },
    {
     "name": "stdout",
     "output_type": "stream",
     "text": [
      "ROC-AUC score (weighted averaging):  0.632202354934222\n",
      "ROC-AUC score (macro averaging):  0.5955280787677655\n"
     ]
    }
   ],
   "source": [
    "y_predict = best_model_rf.predict(X_test_tfidf)\n",
    "\n",
    "print('Accuracy obtained: ', accuracy_score(y_test, y_predict))\n",
    "\n",
    "print(classification_report(y_test, y_predict, target_names=labels_unique_list))\n",
    "\n",
    "y_predict_probs = best_model_rf.predict_proba(X_test_tfidf)\n",
    "\n",
    "#print('ROC-AUC score (micro averaging): ', roc_auc_score(y_test, y_predict_probs, average=\"micro\", multi_class=\"ovr\"))\n",
    "print('ROC-AUC score (weighted averaging): ', roc_auc_score(y_test, y_predict_probs, average=\"weighted\", multi_class=\"ovr\"))\n",
    "print('ROC-AUC score (macro averaging): ', roc_auc_score(y_test, y_predict_probs, average=\"macro\", multi_class=\"ovr\"))"
   ]
  },
  {
   "cell_type": "markdown",
   "metadata": {},
   "source": [
    "<span style=\"font-family: Arial; font-weight:bold;font-size:1.5em;color:#00b3e5;\"> 5. Share insights on relative performance comparison "
   ]
  },
  {
   "cell_type": "markdown",
   "metadata": {},
   "source": [
    "<span style=\"font-family: Arial; font-weight:bold;font-size:1.5em;color:#00b3e5;\"> A. Which vectorizer performed better? Probable reason?\\\n",
    "- Tfidf vectorizer performed better than the count vectorizer with both the logistic regression and random forest models. The reason behind this is that the tfidf vectorizer normalizes the term count and also penalizes the terms that occur often."
   ]
  },
  {
   "cell_type": "markdown",
   "metadata": {},
   "source": [
    "<span style=\"font-family: Arial; font-weight:bold;font-size:1.5em;color:#00b3e5;\"> B. Which model outperformed? Probable reason? \\\n",
    "- Here, the random forest classifier with Tfidf vectorizer has better ROC-AUC score over the others. One probable reason could be this model captures the variance in the data better than the other models."
   ]
  },
  {
   "cell_type": "markdown",
   "metadata": {},
   "source": [
    "<span style=\"font-family: Arial; font-weight:bold;font-size:1.5em;color:#00b3e5;\"> C. Which parameter/hyperparameter significantly helped\n",
    "to improve performance?Probable reason? \\\n",
    "- Here, both 'max_depth' and 'n_estimators' of the random forest classifier model significantly improved the ROC-AUC score. "
   ]
  },
  {
   "cell_type": "markdown",
   "metadata": {},
   "source": [
    "<span style=\"font-family: Arial; font-weight:bold;font-size:1.5em;color:#00b3e5;\"> D. According to you, which performance metric should be given most importance, why?\\\n",
    "- ROC-AUC score has to be given more importance as this represents the ability of the model to classify the given classes correctly."
   ]
  },
  {
   "cell_type": "markdown",
   "metadata": {},
   "source": [
    "<span style=\"font-family: Arial; font-weight:bold;font-size:2.5em;color:#00b3e5;\"> Part-2"
   ]
  },
  {
   "cell_type": "code",
   "execution_count": 353,
   "metadata": {},
   "outputs": [
    {
     "name": "stdout",
     "output_type": "stream",
     "text": [
      "{'intents': [{'tag': 'Intro', 'patterns': ['hi', 'how are you', 'is anyone there', 'hello', 'whats up', 'hey', 'yo', 'listen', 'please help me', 'i am learner from', 'i belong to', 'aiml batch', 'aifl batch', 'i am from', 'my pm is', 'blended', 'online', 'i am from', 'hey ya', 'talking to you for first time'], 'responses': ['Hello! how can i help you ?'], 'context_set': ''}, {'tag': 'Exit', 'patterns': ['thank you', 'thanks', 'cya', 'see you', 'later', 'see you later', 'goodbye', 'i am leaving', 'have a Good day', 'you helped me', 'thanks a lot', 'thanks a ton', 'you are the best', 'great help', 'too good', 'you are a good learning buddy'], 'responses': ['I hope I was able to assist you, Good Bye'], 'context_set': ''}, {'tag': 'Olympus', 'patterns': ['olympus', 'explain me how olympus works', 'I am not able to understand olympus', 'olympus window not working', 'no access to olympus', 'unable to see link in olympus', 'no link visible on olympus', 'whom to contact for olympus', 'lot of problem with olympus', 'olypus is not a good tool', 'lot of problems with olympus', 'how to use olympus', 'teach me olympus'], 'responses': ['Link: Olympus wiki'], 'context_set': ''}, {'tag': 'SL', 'patterns': ['i am not able to understand svm', 'explain me how machine learning works', 'i am not able to understand naive bayes', 'i am not able to understand logistic regression', 'i am not able to understand ensemble techb=niques', 'i am not able to understand knn', 'i am not able to understand knn imputer', 'i am not able to understand cross validation', 'i am not able to understand boosting', 'i am not able to understand random forest', 'i am not able to understand ada boosting', 'i am not able to understand gradient boosting', 'machine learning', 'ML', 'SL', 'supervised learning', 'knn', 'logistic regression', 'regression', 'classification', 'naive bayes', 'nb', 'ensemble techniques', 'bagging', 'boosting', 'ada boosting', 'ada', 'gradient boosting', 'hyper parameters'], 'responses': ['Link: Machine Learning wiki '], 'context_set': ''}, {'tag': 'NN', 'patterns': ['what is deep learning', 'unable to understand deep learning', 'explain me how deep learning works', 'i am not able to understand deep learning', 'not able to understand neural nets', 'very diffult to understand neural nets', 'unable to understand neural nets', 'ann', 'artificial intelligence', 'artificial neural networks', 'weights', 'activation function', 'hidden layers', 'softmax', 'sigmoid', 'relu', 'otimizer', 'forward propagation', 'backward propagation', 'epochs', 'epoch', 'what is an epoch', 'adam', 'sgd'], 'responses': ['Link: Neural Nets wiki'], 'context_set': ''}, {'tag': 'Bot', 'patterns': ['what is your name', 'who are you', 'name please', 'when are your hours of opertions', 'what are your working hours', 'hours of operation', 'working hours', 'hours'], 'responses': ['I am your virtual learning assistant'], 'context_set': ''}, {'tag': 'Profane', 'patterns': ['what the hell', 'bloody stupid bot', 'do you think you are very smart', 'screw you', 'i hate you', 'you are stupid', 'jerk', 'you are a joke', 'useless piece of shit'], 'responses': ['Please use respectful words'], 'context_set': ''}, {'tag': 'Ticket', 'patterns': ['my problem is not solved', 'you did not help me', 'not a good solution', 'bad solution', 'not good solution', 'no help', 'wasted my time', 'useless bot', 'create a ticket'], 'responses': ['Tarnsferring the request to your PM'], 'context_set': ''}]}\n"
     ]
    }
   ],
   "source": [
    "with open('GL Bot.json') as file:\n",
    "    corpus = json.load(file)\n",
    "    \n",
    "print(corpus)"
   ]
  },
  {
   "cell_type": "code",
   "execution_count": 354,
   "metadata": {},
   "outputs": [
    {
     "data": {
      "text/plain": [
       "dict"
      ]
     },
     "execution_count": 354,
     "metadata": {},
     "output_type": "execute_result"
    }
   ],
   "source": [
    "type(corpus)"
   ]
  },
  {
   "cell_type": "code",
   "execution_count": 355,
   "metadata": {},
   "outputs": [
    {
     "data": {
      "text/plain": [
       "[{'tag': 'Intro',\n",
       "  'patterns': ['hi',\n",
       "   'how are you',\n",
       "   'is anyone there',\n",
       "   'hello',\n",
       "   'whats up',\n",
       "   'hey',\n",
       "   'yo',\n",
       "   'listen',\n",
       "   'please help me',\n",
       "   'i am learner from',\n",
       "   'i belong to',\n",
       "   'aiml batch',\n",
       "   'aifl batch',\n",
       "   'i am from',\n",
       "   'my pm is',\n",
       "   'blended',\n",
       "   'online',\n",
       "   'i am from',\n",
       "   'hey ya',\n",
       "   'talking to you for first time'],\n",
       "  'responses': ['Hello! how can i help you ?'],\n",
       "  'context_set': ''},\n",
       " {'tag': 'Exit',\n",
       "  'patterns': ['thank you',\n",
       "   'thanks',\n",
       "   'cya',\n",
       "   'see you',\n",
       "   'later',\n",
       "   'see you later',\n",
       "   'goodbye',\n",
       "   'i am leaving',\n",
       "   'have a Good day',\n",
       "   'you helped me',\n",
       "   'thanks a lot',\n",
       "   'thanks a ton',\n",
       "   'you are the best',\n",
       "   'great help',\n",
       "   'too good',\n",
       "   'you are a good learning buddy'],\n",
       "  'responses': ['I hope I was able to assist you, Good Bye'],\n",
       "  'context_set': ''},\n",
       " {'tag': 'Olympus',\n",
       "  'patterns': ['olympus',\n",
       "   'explain me how olympus works',\n",
       "   'I am not able to understand olympus',\n",
       "   'olympus window not working',\n",
       "   'no access to olympus',\n",
       "   'unable to see link in olympus',\n",
       "   'no link visible on olympus',\n",
       "   'whom to contact for olympus',\n",
       "   'lot of problem with olympus',\n",
       "   'olypus is not a good tool',\n",
       "   'lot of problems with olympus',\n",
       "   'how to use olympus',\n",
       "   'teach me olympus'],\n",
       "  'responses': ['Link: Olympus wiki'],\n",
       "  'context_set': ''},\n",
       " {'tag': 'SL',\n",
       "  'patterns': ['i am not able to understand svm',\n",
       "   'explain me how machine learning works',\n",
       "   'i am not able to understand naive bayes',\n",
       "   'i am not able to understand logistic regression',\n",
       "   'i am not able to understand ensemble techb=niques',\n",
       "   'i am not able to understand knn',\n",
       "   'i am not able to understand knn imputer',\n",
       "   'i am not able to understand cross validation',\n",
       "   'i am not able to understand boosting',\n",
       "   'i am not able to understand random forest',\n",
       "   'i am not able to understand ada boosting',\n",
       "   'i am not able to understand gradient boosting',\n",
       "   'machine learning',\n",
       "   'ML',\n",
       "   'SL',\n",
       "   'supervised learning',\n",
       "   'knn',\n",
       "   'logistic regression',\n",
       "   'regression',\n",
       "   'classification',\n",
       "   'naive bayes',\n",
       "   'nb',\n",
       "   'ensemble techniques',\n",
       "   'bagging',\n",
       "   'boosting',\n",
       "   'ada boosting',\n",
       "   'ada',\n",
       "   'gradient boosting',\n",
       "   'hyper parameters'],\n",
       "  'responses': ['Link: Machine Learning wiki '],\n",
       "  'context_set': ''},\n",
       " {'tag': 'NN',\n",
       "  'patterns': ['what is deep learning',\n",
       "   'unable to understand deep learning',\n",
       "   'explain me how deep learning works',\n",
       "   'i am not able to understand deep learning',\n",
       "   'not able to understand neural nets',\n",
       "   'very diffult to understand neural nets',\n",
       "   'unable to understand neural nets',\n",
       "   'ann',\n",
       "   'artificial intelligence',\n",
       "   'artificial neural networks',\n",
       "   'weights',\n",
       "   'activation function',\n",
       "   'hidden layers',\n",
       "   'softmax',\n",
       "   'sigmoid',\n",
       "   'relu',\n",
       "   'otimizer',\n",
       "   'forward propagation',\n",
       "   'backward propagation',\n",
       "   'epochs',\n",
       "   'epoch',\n",
       "   'what is an epoch',\n",
       "   'adam',\n",
       "   'sgd'],\n",
       "  'responses': ['Link: Neural Nets wiki'],\n",
       "  'context_set': ''},\n",
       " {'tag': 'Bot',\n",
       "  'patterns': ['what is your name',\n",
       "   'who are you',\n",
       "   'name please',\n",
       "   'when are your hours of opertions',\n",
       "   'what are your working hours',\n",
       "   'hours of operation',\n",
       "   'working hours',\n",
       "   'hours'],\n",
       "  'responses': ['I am your virtual learning assistant'],\n",
       "  'context_set': ''},\n",
       " {'tag': 'Profane',\n",
       "  'patterns': ['what the hell',\n",
       "   'bloody stupid bot',\n",
       "   'do you think you are very smart',\n",
       "   'screw you',\n",
       "   'i hate you',\n",
       "   'you are stupid',\n",
       "   'jerk',\n",
       "   'you are a joke',\n",
       "   'useless piece of shit'],\n",
       "  'responses': ['Please use respectful words'],\n",
       "  'context_set': ''},\n",
       " {'tag': 'Ticket',\n",
       "  'patterns': ['my problem is not solved',\n",
       "   'you did not help me',\n",
       "   'not a good solution',\n",
       "   'bad solution',\n",
       "   'not good solution',\n",
       "   'no help',\n",
       "   'wasted my time',\n",
       "   'useless bot',\n",
       "   'create a ticket'],\n",
       "  'responses': ['Tarnsferring the request to your PM'],\n",
       "  'context_set': ''}]"
      ]
     },
     "execution_count": 355,
     "metadata": {},
     "output_type": "execute_result"
    }
   ],
   "source": [
    "corpus['intents']"
   ]
  },
  {
   "cell_type": "code",
   "execution_count": 356,
   "metadata": {},
   "outputs": [
    {
     "data": {
      "text/plain": [
       "{'tag': 'Intro',\n",
       " 'patterns': ['hi',\n",
       "  'how are you',\n",
       "  'is anyone there',\n",
       "  'hello',\n",
       "  'whats up',\n",
       "  'hey',\n",
       "  'yo',\n",
       "  'listen',\n",
       "  'please help me',\n",
       "  'i am learner from',\n",
       "  'i belong to',\n",
       "  'aiml batch',\n",
       "  'aifl batch',\n",
       "  'i am from',\n",
       "  'my pm is',\n",
       "  'blended',\n",
       "  'online',\n",
       "  'i am from',\n",
       "  'hey ya',\n",
       "  'talking to you for first time'],\n",
       " 'responses': ['Hello! how can i help you ?'],\n",
       " 'context_set': ''}"
      ]
     },
     "execution_count": 356,
     "metadata": {},
     "output_type": "execute_result"
    }
   ],
   "source": [
    "corpus['intents'][0]"
   ]
  },
  {
   "cell_type": "code",
   "execution_count": 357,
   "metadata": {},
   "outputs": [
    {
     "data": {
      "text/plain": [
       "dict"
      ]
     },
     "execution_count": 357,
     "metadata": {},
     "output_type": "execute_result"
    }
   ],
   "source": [
    "type(corpus['intents'][0])"
   ]
  },
  {
   "cell_type": "code",
   "execution_count": 358,
   "metadata": {},
   "outputs": [
    {
     "data": {
      "text/plain": [
       "'Intro'"
      ]
     },
     "execution_count": 358,
     "metadata": {},
     "output_type": "execute_result"
    }
   ],
   "source": [
    "corpus['intents'][0]['tag']"
   ]
  },
  {
   "cell_type": "code",
   "execution_count": 359,
   "metadata": {},
   "outputs": [
    {
     "data": {
      "text/plain": [
       "8"
      ]
     },
     "execution_count": 359,
     "metadata": {},
     "output_type": "execute_result"
    }
   ],
   "source": [
    "len(corpus['intents'])"
   ]
  },
  {
   "cell_type": "code",
   "execution_count": 360,
   "metadata": {},
   "outputs": [],
   "source": [
    "tags_list = []\n",
    "\n",
    "for i in range(len(corpus['intents'])):\n",
    "    tags_list.append(corpus['intents'][i]['tag'])"
   ]
  },
  {
   "cell_type": "code",
   "execution_count": 361,
   "metadata": {},
   "outputs": [
    {
     "name": "stdout",
     "output_type": "stream",
     "text": [
      "\n",
      "All the patterns in the corpus:\n",
      " ['Intro', 'Exit', 'Olympus', 'SL', 'NN', 'Bot', 'Profane', 'Ticket']\n"
     ]
    }
   ],
   "source": [
    "print('\\nAll the patterns in the corpus:\\n',tags_list)"
   ]
  },
  {
   "cell_type": "code",
   "execution_count": 362,
   "metadata": {},
   "outputs": [
    {
     "name": "stderr",
     "output_type": "stream",
     "text": [
      "[nltk_data] Downloading package punkt to\n",
      "[nltk_data]     C:\\Users\\kakar\\AppData\\Roaming\\nltk_data...\n",
      "[nltk_data]   Package punkt is already up-to-date!\n"
     ]
    },
    {
     "data": {
      "text/plain": [
       "True"
      ]
     },
     "execution_count": 362,
     "metadata": {},
     "output_type": "execute_result"
    }
   ],
   "source": [
    "nltk.download('punkt')"
   ]
  },
  {
   "cell_type": "code",
   "execution_count": 363,
   "metadata": {},
   "outputs": [],
   "source": [
    "doc_patterns = []\n",
    "X = []\n",
    "y = []\n",
    "\n",
    "for i in range(len(corpus['intents'])):\n",
    "    for j in range(len(corpus['intents'][i]['patterns'])):\n",
    "        pattern_list_temp = corpus['intents'][i]['patterns'][j]\n",
    "        pattern_list_temp = re.sub(\"[^a-z ]\",\"\",pattern_list_temp)\n",
    "        pattern_list_temp = pattern_list_temp.lower()\n",
    "        pattern_list_temp = ' '.join([words for words in pattern_list_temp.split() if words not in stop_words])\n",
    "        pattern_list_temp = pattern_list_temp.strip()\n",
    "        doc_patterns.append(pattern_list_temp)\n",
    "        y.append(corpus['intents'][i]['tag'])\n",
    "\n",
    "doc_patterns = np.array(doc_patterns)\n",
    "tfid = TfidfVectorizer(use_idf=True)\n",
    "X = tfid.fit_transform(doc_patterns)\n",
    "y = np.array(y)"
   ]
  },
  {
   "cell_type": "code",
   "execution_count": 364,
   "metadata": {},
   "outputs": [
    {
     "data": {
      "text/plain": [
       "['able',\n",
       " 'access',\n",
       " 'activation',\n",
       " 'ada',\n",
       " 'adam',\n",
       " 'aifl',\n",
       " 'aiml',\n",
       " 'ann',\n",
       " 'anyone',\n",
       " 'artificial',\n",
       " 'backward',\n",
       " 'bad',\n",
       " 'bagging',\n",
       " 'batch',\n",
       " 'bayes',\n",
       " 'belong',\n",
       " 'best',\n",
       " 'blended',\n",
       " 'bloody',\n",
       " 'boosting',\n",
       " 'bot',\n",
       " 'buddy',\n",
       " 'classification',\n",
       " 'contact',\n",
       " 'create',\n",
       " 'cross',\n",
       " 'cya',\n",
       " 'day',\n",
       " 'deep',\n",
       " 'diffult',\n",
       " 'ensemble',\n",
       " 'epoch',\n",
       " 'epochs',\n",
       " 'explain',\n",
       " 'first',\n",
       " 'forest',\n",
       " 'forward',\n",
       " 'function',\n",
       " 'good',\n",
       " 'goodbye',\n",
       " 'gradient',\n",
       " 'great',\n",
       " 'hate',\n",
       " 'hell',\n",
       " 'hello',\n",
       " 'help',\n",
       " 'helped',\n",
       " 'hey',\n",
       " 'hi',\n",
       " 'hidden',\n",
       " 'hours',\n",
       " 'hyper',\n",
       " 'imputer',\n",
       " 'intelligence',\n",
       " 'jerk',\n",
       " 'joke',\n",
       " 'knn',\n",
       " 'later',\n",
       " 'layers',\n",
       " 'learner',\n",
       " 'learning',\n",
       " 'leaving',\n",
       " 'link',\n",
       " 'listen',\n",
       " 'logistic',\n",
       " 'lot',\n",
       " 'machine',\n",
       " 'naive',\n",
       " 'name',\n",
       " 'nb',\n",
       " 'nets',\n",
       " 'networks',\n",
       " 'neural',\n",
       " 'olympus',\n",
       " 'olypus',\n",
       " 'online',\n",
       " 'ood',\n",
       " 'operation',\n",
       " 'opertions',\n",
       " 'otimizer',\n",
       " 'parameters',\n",
       " 'piece',\n",
       " 'please',\n",
       " 'pm',\n",
       " 'problem',\n",
       " 'problems',\n",
       " 'propagation',\n",
       " 'random',\n",
       " 'regression',\n",
       " 'relu',\n",
       " 'screw',\n",
       " 'see',\n",
       " 'sgd',\n",
       " 'shit',\n",
       " 'sigmoid',\n",
       " 'smart',\n",
       " 'softmax',\n",
       " 'solution',\n",
       " 'solved',\n",
       " 'stupid',\n",
       " 'supervised',\n",
       " 'svm',\n",
       " 'talking',\n",
       " 'teach',\n",
       " 'techbniques',\n",
       " 'techniques',\n",
       " 'thank',\n",
       " 'thanks',\n",
       " 'think',\n",
       " 'ticket',\n",
       " 'time',\n",
       " 'ton',\n",
       " 'tool',\n",
       " 'unable',\n",
       " 'understand',\n",
       " 'use',\n",
       " 'useless',\n",
       " 'validation',\n",
       " 'visible',\n",
       " 'wasted',\n",
       " 'weights',\n",
       " 'whats',\n",
       " 'window',\n",
       " 'working',\n",
       " 'works',\n",
       " 'ya',\n",
       " 'yo']"
      ]
     },
     "execution_count": 364,
     "metadata": {},
     "output_type": "execute_result"
    }
   ],
   "source": [
    "tfid.get_feature_names()"
   ]
  },
  {
   "cell_type": "code",
   "execution_count": 365,
   "metadata": {},
   "outputs": [
    {
     "name": "stdout",
     "output_type": "stream",
     "text": [
      "(128, 127)\n",
      "(128,)\n",
      "8\n"
     ]
    }
   ],
   "source": [
    "print(X.shape)\n",
    "print(y.shape)\n",
    "print(len(np.unique(y)))"
   ]
  },
  {
   "cell_type": "code",
   "execution_count": 366,
   "metadata": {},
   "outputs": [
    {
     "data": {
      "text/plain": [
       "<128x127 sparse matrix of type '<class 'numpy.float64'>'\n",
       "\twith 240 stored elements in Compressed Sparse Row format>"
      ]
     },
     "execution_count": 366,
     "metadata": {},
     "output_type": "execute_result"
    }
   ],
   "source": [
    "X"
   ]
  },
  {
   "cell_type": "code",
   "execution_count": 367,
   "metadata": {},
   "outputs": [],
   "source": [
    "X = X.toarray()"
   ]
  },
  {
   "cell_type": "code",
   "execution_count": 368,
   "metadata": {},
   "outputs": [
    {
     "data": {
      "text/plain": [
       "array(['Intro', 'Intro', 'Intro', 'Intro', 'Intro', 'Intro', 'Intro',\n",
       "       'Intro', 'Intro', 'Intro', 'Intro', 'Intro', 'Intro', 'Intro',\n",
       "       'Intro', 'Intro', 'Intro', 'Intro', 'Intro', 'Intro', 'Exit',\n",
       "       'Exit', 'Exit', 'Exit', 'Exit', 'Exit', 'Exit', 'Exit', 'Exit',\n",
       "       'Exit', 'Exit', 'Exit', 'Exit', 'Exit', 'Exit', 'Exit', 'Olympus',\n",
       "       'Olympus', 'Olympus', 'Olympus', 'Olympus', 'Olympus', 'Olympus',\n",
       "       'Olympus', 'Olympus', 'Olympus', 'Olympus', 'Olympus', 'Olympus',\n",
       "       'SL', 'SL', 'SL', 'SL', 'SL', 'SL', 'SL', 'SL', 'SL', 'SL', 'SL',\n",
       "       'SL', 'SL', 'SL', 'SL', 'SL', 'SL', 'SL', 'SL', 'SL', 'SL', 'SL',\n",
       "       'SL', 'SL', 'SL', 'SL', 'SL', 'SL', 'SL', 'NN', 'NN', 'NN', 'NN',\n",
       "       'NN', 'NN', 'NN', 'NN', 'NN', 'NN', 'NN', 'NN', 'NN', 'NN', 'NN',\n",
       "       'NN', 'NN', 'NN', 'NN', 'NN', 'NN', 'NN', 'NN', 'NN', 'Bot', 'Bot',\n",
       "       'Bot', 'Bot', 'Bot', 'Bot', 'Bot', 'Bot', 'Profane', 'Profane',\n",
       "       'Profane', 'Profane', 'Profane', 'Profane', 'Profane', 'Profane',\n",
       "       'Profane', 'Ticket', 'Ticket', 'Ticket', 'Ticket', 'Ticket',\n",
       "       'Ticket', 'Ticket', 'Ticket', 'Ticket'], dtype='<U7')"
      ]
     },
     "execution_count": 368,
     "metadata": {},
     "output_type": "execute_result"
    }
   ],
   "source": [
    "y"
   ]
  },
  {
   "cell_type": "code",
   "execution_count": 369,
   "metadata": {},
   "outputs": [
    {
     "name": "stdout",
     "output_type": "stream",
     "text": [
      "(128, 8)\n"
     ]
    }
   ],
   "source": [
    "y_encoded = pd.get_dummies(y, prefix='Class')\n",
    "print(y_encoded.shape)"
   ]
  },
  {
   "cell_type": "code",
   "execution_count": 370,
   "metadata": {},
   "outputs": [
    {
     "data": {
      "text/plain": [
       "Index(['Class_Bot', 'Class_Exit', 'Class_Intro', 'Class_NN', 'Class_Olympus',\n",
       "       'Class_Profane', 'Class_SL', 'Class_Ticket'],\n",
       "      dtype='object')"
      ]
     },
     "execution_count": 370,
     "metadata": {},
     "output_type": "execute_result"
    }
   ],
   "source": [
    "y_encoded.columns"
   ]
  },
  {
   "cell_type": "code",
   "execution_count": 371,
   "metadata": {},
   "outputs": [
    {
     "data": {
      "text/plain": [
       "Class_Bot        0\n",
       "Class_Exit       0\n",
       "Class_Intro      1\n",
       "Class_NN         0\n",
       "Class_Olympus    0\n",
       "Class_Profane    0\n",
       "Class_SL         0\n",
       "Class_Ticket     0\n",
       "Name: 0, dtype: uint8"
      ]
     },
     "execution_count": 371,
     "metadata": {},
     "output_type": "execute_result"
    }
   ],
   "source": [
    "y_encoded.loc[0]"
   ]
  },
  {
   "cell_type": "code",
   "execution_count": 372,
   "metadata": {},
   "outputs": [],
   "source": [
    "model = tf.keras.models.Sequential() \n",
    "\n",
    "model.add(tf.keras.layers.Dense(128,input_dim=X.shape[1], activation=\"relu\"))\n",
    "model.add(tf.keras.layers.BatchNormalization())\n",
    "model.add(tf.keras.layers.Dropout(0.5))\n",
    "model.add(tf.keras.layers.Dense(32, activation=\"relu\"))\n",
    "model.add(tf.keras.layers.BatchNormalization())\n",
    "model.add(tf.keras.layers.Dropout(0.5))\n",
    "model.add(tf.keras.layers.Dense(32, activation=\"relu\"))\n",
    "model.add(tf.keras.layers.BatchNormalization())\n",
    "model.add(tf.keras.layers.Dropout(0.5))\n",
    "model.add(tf.keras.layers.Dense(32, activation=\"relu\"))\n",
    "model.add(tf.keras.layers.BatchNormalization())\n",
    "model.add(tf.keras.layers.Dropout(0.5))\n",
    "model.add(tf.keras.layers.Dense(32, activation=\"relu\"))\n",
    "model.add(tf.keras.layers.BatchNormalization())\n",
    "model.add(tf.keras.layers.Dropout(0.5))\n",
    "model.add(tf.keras.layers.Dense(32, activation=\"relu\"))\n",
    "model.add(tf.keras.layers.BatchNormalization())\n",
    "model.add(tf.keras.layers.Dropout(0.5))\n",
    "model.add(tf.keras.layers.Dense(32, activation=\"relu\"))\n",
    "model.add(tf.keras.layers.BatchNormalization())\n",
    "model.add(tf.keras.layers.Dropout(0.5))\n",
    "model.add(tf.keras.layers.Dense(32, activation=\"relu\"))\n",
    "model.add(tf.keras.layers.BatchNormalization())\n",
    "model.add(tf.keras.layers.Dropout(0.5))\n",
    "model.add(tf.keras.layers.Dense(32, activation=\"relu\"))\n",
    "model.add(tf.keras.layers.BatchNormalization())\n",
    "model.add(tf.keras.layers.Dropout(0.5))\n",
    "model.add(tf.keras.layers.Dense(8, activation=\"softmax\"))"
   ]
  },
  {
   "cell_type": "code",
   "execution_count": 373,
   "metadata": {},
   "outputs": [],
   "source": [
    "from tensorflow.keras.optimizers import Adam\n",
    "optimizer = Adam(learning_rate=1e-4, beta_1=0.9, beta_2=0.999, epsilon=None, decay=0.0, amsgrad=False)"
   ]
  },
  {
   "cell_type": "code",
   "execution_count": 375,
   "metadata": {},
   "outputs": [
    {
     "name": "stdout",
     "output_type": "stream",
     "text": [
      "Epoch 1/500\n",
      "2/2 [==============================] - 1s 9ms/step - loss: 3.1671 - accuracy: 0.0938\n",
      "Epoch 2/500\n",
      "2/2 [==============================] - 0s 5ms/step - loss: 2.9479 - accuracy: 0.1172\n",
      "Epoch 3/500\n",
      "2/2 [==============================] - 0s 6ms/step - loss: 2.7969 - accuracy: 0.1016\n",
      "Epoch 4/500\n",
      "2/2 [==============================] - 0s 6ms/step - loss: 2.8466 - accuracy: 0.1250\n",
      "Epoch 5/500\n",
      "2/2 [==============================] - 0s 5ms/step - loss: 3.1087 - accuracy: 0.0938\n",
      "Epoch 6/500\n",
      "2/2 [==============================] - 0s 9ms/step - loss: 3.1897 - accuracy: 0.1328\n",
      "Epoch 7/500\n",
      "2/2 [==============================] - 0s 4ms/step - loss: 3.1071 - accuracy: 0.1406\n",
      "Epoch 8/500\n",
      "2/2 [==============================] - 0s 5ms/step - loss: 3.2779 - accuracy: 0.1172\n",
      "Epoch 9/500\n",
      "2/2 [==============================] - 0s 6ms/step - loss: 2.9064 - accuracy: 0.1562\n",
      "Epoch 10/500\n",
      "2/2 [==============================] - 0s 5ms/step - loss: 3.0195 - accuracy: 0.1094\n",
      "Epoch 11/500\n",
      "2/2 [==============================] - 0s 4ms/step - loss: 3.0712 - accuracy: 0.0703\n",
      "Epoch 12/500\n",
      "2/2 [==============================] - 0s 8ms/step - loss: 3.1084 - accuracy: 0.1406\n",
      "Epoch 13/500\n",
      "2/2 [==============================] - 0s 2ms/step - loss: 2.9338 - accuracy: 0.1484\n",
      "Epoch 14/500\n",
      "2/2 [==============================] - 0s 4ms/step - loss: 2.9023 - accuracy: 0.1094\n",
      "Epoch 15/500\n",
      "2/2 [==============================] - 0s 5ms/step - loss: 3.0470 - accuracy: 0.1562\n",
      "Epoch 16/500\n",
      "2/2 [==============================] - 0s 5ms/step - loss: 2.9842 - accuracy: 0.1172\n",
      "Epoch 17/500\n",
      "2/2 [==============================] - 0s 4ms/step - loss: 2.9628 - accuracy: 0.1172\n",
      "Epoch 18/500\n",
      "2/2 [==============================] - 0s 4ms/step - loss: 3.1131 - accuracy: 0.0859\n",
      "Epoch 19/500\n",
      "2/2 [==============================] - 0s 5ms/step - loss: 2.8221 - accuracy: 0.1250\n",
      "Epoch 20/500\n",
      "2/2 [==============================] - 0s 2ms/step - loss: 2.8564 - accuracy: 0.1406\n",
      "Epoch 21/500\n",
      "2/2 [==============================] - 0s 4ms/step - loss: 2.8051 - accuracy: 0.1094\n",
      "Epoch 22/500\n",
      "2/2 [==============================] - ETA: 0s - loss: 2.8106 - accuracy: 0.12 - 0s 9ms/step - loss: 2.8442 - accuracy: 0.1016\n",
      "Epoch 23/500\n",
      "2/2 [==============================] - 0s 4ms/step - loss: 2.9758 - accuracy: 0.1562\n",
      "Epoch 24/500\n",
      "2/2 [==============================] - 0s 8ms/step - loss: 2.8641 - accuracy: 0.1562\n",
      "Epoch 25/500\n",
      "2/2 [==============================] - 0s 4ms/step - loss: 2.8641 - accuracy: 0.1484\n",
      "Epoch 26/500\n",
      "2/2 [==============================] - 0s 5ms/step - loss: 3.1968 - accuracy: 0.0938\n",
      "Epoch 27/500\n",
      "2/2 [==============================] - 0s 5ms/step - loss: 2.8429 - accuracy: 0.1797\n",
      "Epoch 28/500\n",
      "2/2 [==============================] - 0s 5ms/step - loss: 2.8423 - accuracy: 0.1406\n",
      "Epoch 29/500\n",
      "2/2 [==============================] - 0s 3ms/step - loss: 3.1068 - accuracy: 0.1172\n",
      "Epoch 30/500\n",
      "2/2 [==============================] - 0s 4ms/step - loss: 2.9345 - accuracy: 0.1406\n",
      "Epoch 31/500\n",
      "2/2 [==============================] - 0s 4ms/step - loss: 2.7969 - accuracy: 0.1562\n",
      "Epoch 32/500\n",
      "2/2 [==============================] - 0s 5ms/step - loss: 2.8976 - accuracy: 0.1016\n",
      "Epoch 33/500\n",
      "2/2 [==============================] - 0s 5ms/step - loss: 3.1337 - accuracy: 0.1172\n",
      "Epoch 34/500\n",
      "2/2 [==============================] - 0s 4ms/step - loss: 2.6337 - accuracy: 0.1719\n",
      "Epoch 35/500\n",
      "2/2 [==============================] - 0s 2ms/step - loss: 3.1551 - accuracy: 0.1484\n",
      "Epoch 36/500\n",
      "2/2 [==============================] - 0s 4ms/step - loss: 2.9114 - accuracy: 0.1094\n",
      "Epoch 37/500\n",
      "2/2 [==============================] - 0s 3ms/step - loss: 2.8694 - accuracy: 0.1328\n",
      "Epoch 38/500\n",
      "2/2 [==============================] - 0s 4ms/step - loss: 3.1780 - accuracy: 0.1328\n",
      "Epoch 39/500\n",
      "2/2 [==============================] - 0s 4ms/step - loss: 3.0722 - accuracy: 0.1328\n",
      "Epoch 40/500\n",
      "2/2 [==============================] - 0s 5ms/step - loss: 3.0115 - accuracy: 0.1016\n",
      "Epoch 41/500\n",
      "2/2 [==============================] - 0s 4ms/step - loss: 3.0797 - accuracy: 0.1016\n",
      "Epoch 42/500\n",
      "2/2 [==============================] - 0s 4ms/step - loss: 2.9766 - accuracy: 0.0859\n",
      "Epoch 43/500\n",
      "2/2 [==============================] - 0s 5ms/step - loss: 3.0350 - accuracy: 0.1406\n",
      "Epoch 44/500\n",
      "2/2 [==============================] - 0s 4ms/step - loss: 2.7581 - accuracy: 0.2109\n",
      "Epoch 45/500\n",
      "2/2 [==============================] - 0s 6ms/step - loss: 3.0161 - accuracy: 0.1484\n",
      "Epoch 46/500\n",
      "2/2 [==============================] - 0s 4ms/step - loss: 2.9753 - accuracy: 0.0938\n",
      "Epoch 47/500\n",
      "2/2 [==============================] - 0s 5ms/step - loss: 3.0772 - accuracy: 0.0938\n",
      "Epoch 48/500\n",
      "2/2 [==============================] - 0s 4ms/step - loss: 2.9986 - accuracy: 0.1094\n",
      "Epoch 49/500\n",
      "2/2 [==============================] - 0s 4ms/step - loss: 2.8943 - accuracy: 0.1562\n",
      "Epoch 50/500\n",
      "2/2 [==============================] - 0s 6ms/step - loss: 3.0075 - accuracy: 0.0547\n",
      "Epoch 51/500\n",
      "2/2 [==============================] - 0s 4ms/step - loss: 3.0476 - accuracy: 0.1328\n",
      "Epoch 52/500\n",
      "2/2 [==============================] - 0s 4ms/step - loss: 3.0727 - accuracy: 0.1484\n",
      "Epoch 53/500\n",
      "2/2 [==============================] - 0s 7ms/step - loss: 2.8916 - accuracy: 0.1250\n",
      "Epoch 54/500\n",
      "2/2 [==============================] - 0s 4ms/step - loss: 2.8991 - accuracy: 0.0938\n",
      "Epoch 55/500\n",
      "2/2 [==============================] - 0s 5ms/step - loss: 2.8337 - accuracy: 0.1328\n",
      "Epoch 56/500\n",
      "2/2 [==============================] - 0s 5ms/step - loss: 2.9638 - accuracy: 0.1641\n",
      "Epoch 57/500\n",
      "2/2 [==============================] - 0s 4ms/step - loss: 3.0274 - accuracy: 0.1328\n",
      "Epoch 58/500\n",
      "2/2 [==============================] - 0s 4ms/step - loss: 2.8680 - accuracy: 0.1016\n",
      "Epoch 59/500\n",
      "2/2 [==============================] - 0s 5ms/step - loss: 2.9385 - accuracy: 0.1250\n",
      "Epoch 60/500\n",
      "2/2 [==============================] - 0s 4ms/step - loss: 2.8597 - accuracy: 0.1641\n",
      "Epoch 61/500\n",
      "2/2 [==============================] - 0s 4ms/step - loss: 2.8410 - accuracy: 0.1172\n",
      "Epoch 62/500\n",
      "2/2 [==============================] - 0s 7ms/step - loss: 2.8043 - accuracy: 0.1406\n",
      "Epoch 63/500\n",
      "2/2 [==============================] - 0s 5ms/step - loss: 2.9997 - accuracy: 0.1328\n",
      "Epoch 64/500\n",
      "2/2 [==============================] - 0s 5ms/step - loss: 2.7446 - accuracy: 0.1406\n",
      "Epoch 65/500\n",
      "2/2 [==============================] - 0s 4ms/step - loss: 2.8323 - accuracy: 0.1797\n",
      "Epoch 66/500\n",
      "2/2 [==============================] - 0s 5ms/step - loss: 2.9670 - accuracy: 0.1016\n",
      "Epoch 67/500\n",
      "2/2 [==============================] - 0s 3ms/step - loss: 3.0130 - accuracy: 0.1406\n",
      "Epoch 68/500\n",
      "2/2 [==============================] - 0s 5ms/step - loss: 2.8175 - accuracy: 0.1250\n",
      "Epoch 69/500\n",
      "2/2 [==============================] - 0s 5ms/step - loss: 2.8722 - accuracy: 0.1016\n",
      "Epoch 70/500\n",
      "2/2 [==============================] - 0s 6ms/step - loss: 2.8018 - accuracy: 0.1016\n",
      "Epoch 71/500\n",
      "2/2 [==============================] - 0s 3ms/step - loss: 2.9898 - accuracy: 0.1016\n",
      "Epoch 72/500\n",
      "2/2 [==============================] - 0s 4ms/step - loss: 3.0173 - accuracy: 0.1094\n",
      "Epoch 73/500\n",
      "2/2 [==============================] - 0s 4ms/step - loss: 2.9940 - accuracy: 0.1172\n",
      "Epoch 74/500\n",
      "2/2 [==============================] - 0s 3ms/step - loss: 3.0077 - accuracy: 0.1016\n",
      "Epoch 75/500\n",
      "2/2 [==============================] - 0s 4ms/step - loss: 3.0615 - accuracy: 0.1562\n",
      "Epoch 76/500\n",
      "2/2 [==============================] - 0s 6ms/step - loss: 2.9262 - accuracy: 0.0938\n",
      "Epoch 77/500\n",
      "2/2 [==============================] - 0s 4ms/step - loss: 2.9303 - accuracy: 0.1484\n",
      "Epoch 78/500\n",
      "2/2 [==============================] - 0s 8ms/step - loss: 3.1590 - accuracy: 0.0859\n",
      "Epoch 79/500\n",
      "2/2 [==============================] - 0s 5ms/step - loss: 3.0661 - accuracy: 0.1250\n",
      "Epoch 80/500\n",
      "2/2 [==============================] - 0s 5ms/step - loss: 2.9282 - accuracy: 0.1641\n",
      "Epoch 81/500\n",
      "2/2 [==============================] - 0s 4ms/step - loss: 2.8660 - accuracy: 0.1719\n",
      "Epoch 82/500\n",
      "2/2 [==============================] - 0s 4ms/step - loss: 2.6002 - accuracy: 0.1797\n",
      "Epoch 83/500\n",
      "2/2 [==============================] - 0s 8ms/step - loss: 2.8821 - accuracy: 0.1484\n",
      "Epoch 84/500\n",
      "2/2 [==============================] - 0s 4ms/step - loss: 2.7411 - accuracy: 0.1172\n",
      "Epoch 85/500\n",
      "2/2 [==============================] - 0s 4ms/step - loss: 2.7155 - accuracy: 0.1562\n",
      "Epoch 86/500\n",
      "2/2 [==============================] - 0s 5ms/step - loss: 3.0308 - accuracy: 0.1016\n",
      "Epoch 87/500\n",
      "2/2 [==============================] - 0s 4ms/step - loss: 2.8063 - accuracy: 0.1797\n",
      "Epoch 88/500\n",
      "2/2 [==============================] - 0s 7ms/step - loss: 2.9640 - accuracy: 0.1172\n",
      "Epoch 89/500\n",
      "2/2 [==============================] - 0s 4ms/step - loss: 2.9552 - accuracy: 0.0625\n",
      "Epoch 90/500\n",
      "2/2 [==============================] - 0s 4ms/step - loss: 2.9970 - accuracy: 0.1406\n",
      "Epoch 91/500\n",
      "2/2 [==============================] - 0s 3ms/step - loss: 3.0452 - accuracy: 0.1016\n",
      "Epoch 92/500\n",
      "2/2 [==============================] - 0s 5ms/step - loss: 2.8864 - accuracy: 0.1250\n",
      "Epoch 93/500\n",
      "2/2 [==============================] - 0s 9ms/step - loss: 2.9011 - accuracy: 0.1172\n",
      "Epoch 94/500\n",
      "2/2 [==============================] - 0s 4ms/step - loss: 2.9476 - accuracy: 0.1484\n",
      "Epoch 95/500\n",
      "2/2 [==============================] - 0s 4ms/step - loss: 2.7342 - accuracy: 0.1797\n",
      "Epoch 96/500\n",
      "2/2 [==============================] - 0s 4ms/step - loss: 2.9769 - accuracy: 0.1250\n",
      "Epoch 97/500\n",
      "2/2 [==============================] - 0s 4ms/step - loss: 2.7536 - accuracy: 0.1328\n",
      "Epoch 98/500\n",
      "2/2 [==============================] - 0s 4ms/step - loss: 2.7982 - accuracy: 0.1250\n",
      "Epoch 99/500\n",
      "2/2 [==============================] - 0s 5ms/step - loss: 2.7836 - accuracy: 0.0938\n",
      "Epoch 100/500\n",
      "2/2 [==============================] - 0s 5ms/step - loss: 2.8074 - accuracy: 0.1562\n",
      "Epoch 101/500\n",
      "2/2 [==============================] - 0s 4ms/step - loss: 2.7460 - accuracy: 0.0938\n",
      "Epoch 102/500\n",
      "2/2 [==============================] - 0s 4ms/step - loss: 2.8923 - accuracy: 0.1250\n",
      "Epoch 103/500\n",
      "2/2 [==============================] - 0s 4ms/step - loss: 2.9234 - accuracy: 0.1250\n",
      "Epoch 104/500\n",
      "2/2 [==============================] - 0s 5ms/step - loss: 2.9373 - accuracy: 0.1328\n",
      "Epoch 105/500\n",
      "2/2 [==============================] - 0s 4ms/step - loss: 2.7973 - accuracy: 0.1719\n",
      "Epoch 106/500\n",
      "2/2 [==============================] - 0s 4ms/step - loss: 2.7890 - accuracy: 0.1484\n",
      "Epoch 107/500\n",
      "2/2 [==============================] - 0s 3ms/step - loss: 2.7950 - accuracy: 0.1562\n",
      "Epoch 108/500\n",
      "2/2 [==============================] - 0s 4ms/step - loss: 2.7901 - accuracy: 0.1406\n",
      "Epoch 109/500\n",
      "2/2 [==============================] - 0s 2ms/step - loss: 2.8848 - accuracy: 0.1406\n",
      "Epoch 110/500\n",
      "2/2 [==============================] - 0s 5ms/step - loss: 2.7848 - accuracy: 0.1250\n",
      "Epoch 111/500\n",
      "2/2 [==============================] - 0s 5ms/step - loss: 2.8795 - accuracy: 0.1016\n",
      "Epoch 112/500\n",
      "2/2 [==============================] - 0s 4ms/step - loss: 3.0981 - accuracy: 0.0938\n",
      "Epoch 113/500\n",
      "2/2 [==============================] - 0s 4ms/step - loss: 2.5605 - accuracy: 0.1328\n",
      "Epoch 114/500\n",
      "2/2 [==============================] - 0s 5ms/step - loss: 2.9918 - accuracy: 0.1172\n",
      "Epoch 115/500\n",
      "2/2 [==============================] - 0s 4ms/step - loss: 2.8890 - accuracy: 0.1172\n",
      "Epoch 116/500\n",
      "2/2 [==============================] - 0s 6ms/step - loss: 2.8874 - accuracy: 0.1484\n",
      "Epoch 117/500\n",
      "2/2 [==============================] - 0s 4ms/step - loss: 2.7192 - accuracy: 0.0859\n",
      "Epoch 118/500\n",
      "2/2 [==============================] - 0s 4ms/step - loss: 2.6076 - accuracy: 0.1641\n",
      "Epoch 119/500\n",
      "2/2 [==============================] - 0s 4ms/step - loss: 2.7751 - accuracy: 0.1719\n",
      "Epoch 120/500\n",
      "2/2 [==============================] - 0s 5ms/step - loss: 3.0715 - accuracy: 0.1172\n",
      "Epoch 121/500\n",
      "2/2 [==============================] - 0s 5ms/step - loss: 3.0512 - accuracy: 0.1484\n",
      "Epoch 122/500\n",
      "2/2 [==============================] - 0s 8ms/step - loss: 2.9631 - accuracy: 0.1406\n",
      "Epoch 123/500\n",
      "2/2 [==============================] - 0s 4ms/step - loss: 2.8221 - accuracy: 0.1328\n",
      "Epoch 124/500\n",
      "2/2 [==============================] - 0s 4ms/step - loss: 2.9275 - accuracy: 0.1328\n",
      "Epoch 125/500\n",
      "2/2 [==============================] - 0s 4ms/step - loss: 2.9767 - accuracy: 0.1172\n",
      "Epoch 126/500\n",
      "2/2 [==============================] - 0s 4ms/step - loss: 2.8390 - accuracy: 0.1172\n",
      "Epoch 127/500\n",
      "2/2 [==============================] - 0s 4ms/step - loss: 3.1976 - accuracy: 0.0703\n",
      "Epoch 128/500\n",
      "2/2 [==============================] - 0s 7ms/step - loss: 2.8076 - accuracy: 0.1719\n",
      "Epoch 129/500\n",
      "2/2 [==============================] - 0s 5ms/step - loss: 3.1409 - accuracy: 0.1172\n",
      "Epoch 130/500\n",
      "2/2 [==============================] - 0s 4ms/step - loss: 3.0903 - accuracy: 0.1094\n",
      "Epoch 131/500\n",
      "2/2 [==============================] - 0s 4ms/step - loss: 2.5756 - accuracy: 0.1328\n",
      "Epoch 132/500\n",
      "2/2 [==============================] - 0s 5ms/step - loss: 2.7062 - accuracy: 0.1797\n",
      "Epoch 133/500\n",
      "2/2 [==============================] - 0s 4ms/step - loss: 2.6795 - accuracy: 0.1094\n",
      "Epoch 134/500\n",
      "2/2 [==============================] - 0s 4ms/step - loss: 2.9939 - accuracy: 0.0625\n",
      "Epoch 135/500\n",
      "2/2 [==============================] - 0s 5ms/step - loss: 3.0135 - accuracy: 0.0859\n",
      "Epoch 136/500\n",
      "2/2 [==============================] - 0s 4ms/step - loss: 2.7073 - accuracy: 0.0859\n",
      "Epoch 137/500\n",
      "2/2 [==============================] - 0s 2ms/step - loss: 2.6845 - accuracy: 0.1016\n",
      "Epoch 138/500\n",
      "2/2 [==============================] - 0s 4ms/step - loss: 2.8422 - accuracy: 0.1172\n",
      "Epoch 139/500\n",
      "2/2 [==============================] - 0s 4ms/step - loss: 2.6136 - accuracy: 0.1953\n",
      "Epoch 140/500\n",
      "2/2 [==============================] - 0s 4ms/step - loss: 2.7024 - accuracy: 0.1484\n",
      "Epoch 141/500\n",
      "2/2 [==============================] - 0s 4ms/step - loss: 2.8693 - accuracy: 0.1172\n",
      "Epoch 142/500\n",
      "2/2 [==============================] - 0s 4ms/step - loss: 2.5637 - accuracy: 0.1797\n",
      "Epoch 143/500\n",
      "2/2 [==============================] - 0s 4ms/step - loss: 2.8703 - accuracy: 0.0938\n",
      "Epoch 144/500\n",
      "2/2 [==============================] - 0s 7ms/step - loss: 3.0136 - accuracy: 0.0703\n",
      "Epoch 145/500\n",
      "2/2 [==============================] - 0s 4ms/step - loss: 2.7219 - accuracy: 0.1484\n",
      "Epoch 146/500\n",
      "2/2 [==============================] - 0s 0s/step - loss: 2.8598 - accuracy: 0.0625\n",
      "Epoch 147/500\n",
      "2/2 [==============================] - 0s 4ms/step - loss: 3.1659 - accuracy: 0.1016\n",
      "Epoch 148/500\n",
      "2/2 [==============================] - 0s 1ms/step - loss: 2.6850 - accuracy: 0.1406\n",
      "Epoch 149/500\n",
      "2/2 [==============================] - 0s 4ms/step - loss: 2.6533 - accuracy: 0.1094\n",
      "Epoch 150/500\n",
      "2/2 [==============================] - 0s 10ms/step - loss: 2.6277 - accuracy: 0.1562\n",
      "Epoch 151/500\n",
      "2/2 [==============================] - 0s 4ms/step - loss: 2.6911 - accuracy: 0.1328\n",
      "Epoch 152/500\n",
      "2/2 [==============================] - 0s 5ms/step - loss: 2.9685 - accuracy: 0.1797\n",
      "Epoch 153/500\n",
      "2/2 [==============================] - 0s 4ms/step - loss: 2.6519 - accuracy: 0.1406\n",
      "Epoch 154/500\n",
      "2/2 [==============================] - 0s 4ms/step - loss: 2.8348 - accuracy: 0.1094\n",
      "Epoch 155/500\n",
      "2/2 [==============================] - 0s 4ms/step - loss: 2.7121 - accuracy: 0.1328\n",
      "Epoch 156/500\n",
      "2/2 [==============================] - 0s 3ms/step - loss: 2.7946 - accuracy: 0.0781\n",
      "Epoch 157/500\n",
      "2/2 [==============================] - 0s 3ms/step - loss: 2.9362 - accuracy: 0.0781\n",
      "Epoch 158/500\n",
      "2/2 [==============================] - 0s 5ms/step - loss: 2.8605 - accuracy: 0.0547\n",
      "Epoch 159/500\n",
      "2/2 [==============================] - 0s 6ms/step - loss: 2.9471 - accuracy: 0.0859\n",
      "Epoch 160/500\n",
      "2/2 [==============================] - 0s 3ms/step - loss: 2.8378 - accuracy: 0.1250\n",
      "Epoch 161/500\n",
      "2/2 [==============================] - 0s 2ms/step - loss: 2.7915 - accuracy: 0.0781\n",
      "Epoch 162/500\n",
      "2/2 [==============================] - 0s 3ms/step - loss: 2.8765 - accuracy: 0.0859\n",
      "Epoch 163/500\n",
      "2/2 [==============================] - 0s 4ms/step - loss: 2.7824 - accuracy: 0.1641\n",
      "Epoch 164/500\n",
      "2/2 [==============================] - 0s 4ms/step - loss: 2.8368 - accuracy: 0.1328\n",
      "Epoch 165/500\n",
      "2/2 [==============================] - 0s 4ms/step - loss: 2.9313 - accuracy: 0.1406\n",
      "Epoch 166/500\n",
      "2/2 [==============================] - 0s 7ms/step - loss: 2.8084 - accuracy: 0.0625\n",
      "Epoch 167/500\n",
      "2/2 [==============================] - 0s 4ms/step - loss: 2.7191 - accuracy: 0.1406\n",
      "Epoch 168/500\n",
      "2/2 [==============================] - 0s 4ms/step - loss: 2.8407 - accuracy: 0.1328\n",
      "Epoch 169/500\n",
      "2/2 [==============================] - 0s 4ms/step - loss: 2.8192 - accuracy: 0.1562\n",
      "Epoch 170/500\n",
      "2/2 [==============================] - 0s 4ms/step - loss: 2.7908 - accuracy: 0.1328\n",
      "Epoch 171/500\n",
      "2/2 [==============================] - 0s 5ms/step - loss: 2.8539 - accuracy: 0.1328\n",
      "Epoch 172/500\n",
      "2/2 [==============================] - 0s 4ms/step - loss: 2.6751 - accuracy: 0.1484\n",
      "Epoch 173/500\n",
      "2/2 [==============================] - 0s 4ms/step - loss: 2.7080 - accuracy: 0.1328\n",
      "Epoch 174/500\n",
      "2/2 [==============================] - 0s 4ms/step - loss: 2.6589 - accuracy: 0.1641\n",
      "Epoch 175/500\n",
      "2/2 [==============================] - 0s 9ms/step - loss: 3.0195 - accuracy: 0.1016\n",
      "Epoch 176/500\n",
      "2/2 [==============================] - 0s 4ms/step - loss: 2.7172 - accuracy: 0.1172\n",
      "Epoch 177/500\n",
      "2/2 [==============================] - 0s 4ms/step - loss: 2.8021 - accuracy: 0.1250\n",
      "Epoch 178/500\n",
      "2/2 [==============================] - 0s 4ms/step - loss: 2.9893 - accuracy: 0.1172\n",
      "Epoch 179/500\n",
      "2/2 [==============================] - 0s 1ms/step - loss: 3.0996 - accuracy: 0.0938\n",
      "Epoch 180/500\n",
      "2/2 [==============================] - 0s 4ms/step - loss: 2.5110 - accuracy: 0.1484\n",
      "Epoch 181/500\n",
      "2/2 [==============================] - 0s 2ms/step - loss: 2.6156 - accuracy: 0.1797\n",
      "Epoch 182/500\n",
      "2/2 [==============================] - 0s 4ms/step - loss: 2.8170 - accuracy: 0.1797\n",
      "Epoch 183/500\n",
      "2/2 [==============================] - 0s 4ms/step - loss: 3.0440 - accuracy: 0.1094\n",
      "Epoch 184/500\n",
      "2/2 [==============================] - 0s 4ms/step - loss: 2.7329 - accuracy: 0.1328\n",
      "Epoch 185/500\n",
      "2/2 [==============================] - 0s 5ms/step - loss: 2.9683 - accuracy: 0.1016\n",
      "Epoch 186/500\n",
      "2/2 [==============================] - 0s 2ms/step - loss: 2.8984 - accuracy: 0.1406\n",
      "Epoch 187/500\n",
      "2/2 [==============================] - 0s 3ms/step - loss: 2.9742 - accuracy: 0.0938\n",
      "Epoch 188/500\n",
      "2/2 [==============================] - 0s 5ms/step - loss: 2.5545 - accuracy: 0.1719\n",
      "Epoch 189/500\n",
      "2/2 [==============================] - 0s 4ms/step - loss: 2.5049 - accuracy: 0.1641\n",
      "Epoch 190/500\n",
      "2/2 [==============================] - 0s 4ms/step - loss: 2.7170 - accuracy: 0.0859\n",
      "Epoch 191/500\n",
      "2/2 [==============================] - 0s 0s/step - loss: 2.5932 - accuracy: 0.1719\n",
      "Epoch 192/500\n",
      "2/2 [==============================] - 0s 4ms/step - loss: 2.5154 - accuracy: 0.1484\n",
      "Epoch 193/500\n",
      "2/2 [==============================] - 0s 4ms/step - loss: 2.8623 - accuracy: 0.0859\n",
      "Epoch 194/500\n",
      "2/2 [==============================] - 0s 3ms/step - loss: 2.6649 - accuracy: 0.1797\n",
      "Epoch 195/500\n",
      "2/2 [==============================] - 0s 4ms/step - loss: 2.7403 - accuracy: 0.0781\n",
      "Epoch 196/500\n",
      "2/2 [==============================] - 0s 4ms/step - loss: 2.7121 - accuracy: 0.1406\n",
      "Epoch 197/500\n",
      "2/2 [==============================] - 0s 0s/step - loss: 2.7463 - accuracy: 0.1172\n",
      "Epoch 198/500\n",
      "2/2 [==============================] - 0s 4ms/step - loss: 2.7843 - accuracy: 0.1875\n",
      "Epoch 199/500\n",
      "2/2 [==============================] - 0s 5ms/step - loss: 2.7237 - accuracy: 0.1562\n",
      "Epoch 200/500\n",
      "2/2 [==============================] - 0s 4ms/step - loss: 2.6293 - accuracy: 0.1328\n",
      "Epoch 201/500\n",
      "2/2 [==============================] - 0s 4ms/step - loss: 2.4850 - accuracy: 0.1328\n",
      "Epoch 202/500\n",
      "2/2 [==============================] - 0s 6ms/step - loss: 2.8205 - accuracy: 0.1172\n",
      "Epoch 203/500\n",
      "2/2 [==============================] - 0s 4ms/step - loss: 2.7297 - accuracy: 0.0938\n",
      "Epoch 204/500\n",
      "2/2 [==============================] - 0s 4ms/step - loss: 2.6774 - accuracy: 0.1016\n",
      "Epoch 205/500\n",
      "2/2 [==============================] - 0s 4ms/step - loss: 2.8004 - accuracy: 0.1172\n",
      "Epoch 206/500\n",
      "2/2 [==============================] - 0s 4ms/step - loss: 3.0065 - accuracy: 0.1016\n",
      "Epoch 207/500\n",
      "2/2 [==============================] - 0s 4ms/step - loss: 2.8967 - accuracy: 0.1016\n",
      "Epoch 208/500\n",
      "2/2 [==============================] - 0s 4ms/step - loss: 2.5992 - accuracy: 0.1172\n",
      "Epoch 209/500\n",
      "2/2 [==============================] - 0s 5ms/step - loss: 2.6956 - accuracy: 0.1172\n",
      "Epoch 210/500\n",
      "2/2 [==============================] - 0s 4ms/step - loss: 2.6189 - accuracy: 0.1484\n",
      "Epoch 211/500\n",
      "2/2 [==============================] - 0s 6ms/step - loss: 2.8666 - accuracy: 0.1406\n",
      "Epoch 212/500\n",
      "2/2 [==============================] - 0s 4ms/step - loss: 2.9745 - accuracy: 0.1172\n",
      "Epoch 213/500\n",
      "2/2 [==============================] - 0s 5ms/step - loss: 3.0298 - accuracy: 0.0938\n",
      "Epoch 214/500\n",
      "2/2 [==============================] - 0s 5ms/step - loss: 2.5830 - accuracy: 0.0859\n",
      "Epoch 215/500\n",
      "2/2 [==============================] - 0s 4ms/step - loss: 2.6400 - accuracy: 0.1406\n",
      "Epoch 216/500\n",
      "2/2 [==============================] - 0s 4ms/step - loss: 2.6418 - accuracy: 0.1641\n",
      "Epoch 217/500\n",
      "2/2 [==============================] - 0s 5ms/step - loss: 2.7550 - accuracy: 0.1562\n",
      "Epoch 218/500\n",
      "2/2 [==============================] - 0s 4ms/step - loss: 2.8625 - accuracy: 0.1328\n",
      "Epoch 219/500\n",
      "2/2 [==============================] - 0s 3ms/step - loss: 2.6215 - accuracy: 0.1641\n",
      "Epoch 220/500\n",
      "2/2 [==============================] - 0s 4ms/step - loss: 2.8285 - accuracy: 0.1016\n",
      "Epoch 221/500\n",
      "2/2 [==============================] - 0s 5ms/step - loss: 2.7192 - accuracy: 0.1484\n",
      "Epoch 222/500\n",
      "2/2 [==============================] - 0s 3ms/step - loss: 2.8789 - accuracy: 0.1094\n",
      "Epoch 223/500\n",
      "2/2 [==============================] - 0s 5ms/step - loss: 2.7590 - accuracy: 0.0859\n",
      "Epoch 224/500\n",
      "2/2 [==============================] - 0s 5ms/step - loss: 2.6535 - accuracy: 0.1406\n",
      "Epoch 225/500\n",
      "2/2 [==============================] - 0s 5ms/step - loss: 2.7226 - accuracy: 0.1641\n",
      "Epoch 226/500\n",
      "2/2 [==============================] - 0s 5ms/step - loss: 2.8498 - accuracy: 0.1094\n",
      "Epoch 227/500\n",
      "2/2 [==============================] - 0s 5ms/step - loss: 2.4248 - accuracy: 0.1719\n",
      "Epoch 228/500\n",
      "2/2 [==============================] - 0s 7ms/step - loss: 2.9110 - accuracy: 0.1328\n",
      "Epoch 229/500\n",
      "2/2 [==============================] - 0s 5ms/step - loss: 2.7475 - accuracy: 0.1328\n",
      "Epoch 230/500\n",
      "2/2 [==============================] - 0s 4ms/step - loss: 2.7288 - accuracy: 0.1328\n",
      "Epoch 231/500\n",
      "2/2 [==============================] - 0s 5ms/step - loss: 2.9126 - accuracy: 0.1328\n",
      "Epoch 232/500\n",
      "2/2 [==============================] - 0s 4ms/step - loss: 2.7631 - accuracy: 0.1641\n",
      "Epoch 233/500\n",
      "2/2 [==============================] - 0s 4ms/step - loss: 2.7760 - accuracy: 0.1484\n",
      "Epoch 234/500\n",
      "2/2 [==============================] - 0s 7ms/step - loss: 2.7842 - accuracy: 0.1250\n",
      "Epoch 235/500\n",
      "2/2 [==============================] - 0s 5ms/step - loss: 2.6858 - accuracy: 0.1797\n",
      "Epoch 236/500\n",
      "2/2 [==============================] - 0s 5ms/step - loss: 2.8261 - accuracy: 0.0938\n",
      "Epoch 237/500\n",
      "2/2 [==============================] - 0s 10ms/step - loss: 2.6375 - accuracy: 0.1172\n",
      "Epoch 238/500\n",
      "2/2 [==============================] - 0s 3ms/step - loss: 2.7189 - accuracy: 0.1094\n",
      "Epoch 239/500\n",
      "2/2 [==============================] - 0s 4ms/step - loss: 2.8146 - accuracy: 0.1328\n",
      "Epoch 240/500\n",
      "2/2 [==============================] - 0s 5ms/step - loss: 2.7525 - accuracy: 0.0938\n",
      "Epoch 241/500\n",
      "2/2 [==============================] - 0s 4ms/step - loss: 2.7609 - accuracy: 0.1016\n",
      "Epoch 242/500\n",
      "2/2 [==============================] - 0s 4ms/step - loss: 2.7729 - accuracy: 0.0859\n",
      "Epoch 243/500\n",
      "2/2 [==============================] - 0s 5ms/step - loss: 2.7622 - accuracy: 0.1406\n",
      "Epoch 244/500\n",
      "2/2 [==============================] - 0s 4ms/step - loss: 2.5582 - accuracy: 0.1328\n",
      "Epoch 245/500\n",
      "2/2 [==============================] - 0s 4ms/step - loss: 3.0047 - accuracy: 0.1172\n",
      "Epoch 246/500\n",
      "2/2 [==============================] - 0s 9ms/step - loss: 2.6705 - accuracy: 0.0859\n",
      "Epoch 247/500\n",
      "2/2 [==============================] - 0s 4ms/step - loss: 2.8001 - accuracy: 0.1016\n",
      "Epoch 248/500\n",
      "2/2 [==============================] - 0s 4ms/step - loss: 2.6973 - accuracy: 0.1250\n",
      "Epoch 249/500\n",
      "2/2 [==============================] - 0s 3ms/step - loss: 2.7692 - accuracy: 0.1172\n",
      "Epoch 250/500\n",
      "2/2 [==============================] - 0s 4ms/step - loss: 2.6272 - accuracy: 0.1250\n",
      "Epoch 251/500\n",
      "2/2 [==============================] - 0s 4ms/step - loss: 2.6043 - accuracy: 0.1328\n",
      "Epoch 252/500\n",
      "2/2 [==============================] - 0s 4ms/step - loss: 2.7071 - accuracy: 0.0859\n",
      "Epoch 253/500\n",
      "2/2 [==============================] - 0s 4ms/step - loss: 2.6303 - accuracy: 0.1172\n",
      "Epoch 254/500\n",
      "2/2 [==============================] - 0s 4ms/step - loss: 2.8618 - accuracy: 0.1094\n",
      "Epoch 255/500\n",
      "2/2 [==============================] - 0s 15ms/step - loss: 2.4016 - accuracy: 0.1562\n",
      "Epoch 256/500\n",
      "2/2 [==============================] - 0s 4ms/step - loss: 2.6953 - accuracy: 0.1250\n",
      "Epoch 257/500\n",
      "2/2 [==============================] - 0s 5ms/step - loss: 2.7661 - accuracy: 0.1484\n",
      "Epoch 258/500\n",
      "2/2 [==============================] - 0s 4ms/step - loss: 2.7935 - accuracy: 0.1094\n",
      "Epoch 259/500\n",
      "2/2 [==============================] - 0s 4ms/step - loss: 2.6844 - accuracy: 0.1641\n",
      "Epoch 260/500\n",
      "2/2 [==============================] - 0s 4ms/step - loss: 2.8349 - accuracy: 0.1016\n",
      "Epoch 261/500\n",
      "2/2 [==============================] - 0s 5ms/step - loss: 2.5064 - accuracy: 0.1641\n",
      "Epoch 262/500\n",
      "2/2 [==============================] - 0s 4ms/step - loss: 2.8170 - accuracy: 0.1328\n",
      "Epoch 263/500\n",
      "2/2 [==============================] - 0s 4ms/step - loss: 2.8398 - accuracy: 0.1094\n",
      "Epoch 264/500\n",
      "2/2 [==============================] - 0s 5ms/step - loss: 2.7113 - accuracy: 0.0938\n",
      "Epoch 265/500\n",
      "2/2 [==============================] - 0s 4ms/step - loss: 2.8528 - accuracy: 0.1172\n",
      "Epoch 266/500\n",
      "2/2 [==============================] - 0s 2ms/step - loss: 2.5361 - accuracy: 0.1797\n",
      "Epoch 267/500\n",
      "2/2 [==============================] - 0s 11ms/step - loss: 2.5948 - accuracy: 0.1719\n",
      "Epoch 268/500\n",
      "2/2 [==============================] - 0s 4ms/step - loss: 2.4792 - accuracy: 0.1484\n",
      "Epoch 269/500\n",
      "2/2 [==============================] - 0s 4ms/step - loss: 2.8217 - accuracy: 0.0703\n",
      "Epoch 270/500\n",
      "2/2 [==============================] - 0s 4ms/step - loss: 2.7207 - accuracy: 0.0703\n",
      "Epoch 271/500\n",
      "2/2 [==============================] - 0s 4ms/step - loss: 2.8476 - accuracy: 0.1875\n",
      "Epoch 272/500\n",
      "2/2 [==============================] - 0s 3ms/step - loss: 2.7995 - accuracy: 0.1016\n",
      "Epoch 273/500\n",
      "2/2 [==============================] - 0s 4ms/step - loss: 2.7789 - accuracy: 0.1094\n",
      "Epoch 274/500\n",
      "2/2 [==============================] - 0s 4ms/step - loss: 2.5891 - accuracy: 0.1797\n",
      "Epoch 275/500\n",
      "2/2 [==============================] - 0s 5ms/step - loss: 2.5748 - accuracy: 0.1719\n",
      "Epoch 276/500\n",
      "2/2 [==============================] - 0s 4ms/step - loss: 2.5646 - accuracy: 0.1797\n",
      "Epoch 277/500\n",
      "2/2 [==============================] - 0s 4ms/step - loss: 2.6927 - accuracy: 0.1562\n",
      "Epoch 278/500\n",
      "2/2 [==============================] - 0s 4ms/step - loss: 2.8784 - accuracy: 0.1094\n",
      "Epoch 279/500\n",
      "2/2 [==============================] - 0s 0s/step - loss: 2.8018 - accuracy: 0.1328\n",
      "Epoch 280/500\n",
      "2/2 [==============================] - 0s 5ms/step - loss: 2.9396 - accuracy: 0.1172\n",
      "Epoch 281/500\n",
      "2/2 [==============================] - 0s 4ms/step - loss: 2.6967 - accuracy: 0.1172\n",
      "Epoch 282/500\n",
      "2/2 [==============================] - 0s 4ms/step - loss: 2.7454 - accuracy: 0.1016\n",
      "Epoch 283/500\n",
      "2/2 [==============================] - 0s 5ms/step - loss: 2.6657 - accuracy: 0.1250\n",
      "Epoch 284/500\n",
      "2/2 [==============================] - 0s 4ms/step - loss: 2.8064 - accuracy: 0.1094\n",
      "Epoch 285/500\n",
      "2/2 [==============================] - 0s 5ms/step - loss: 2.6508 - accuracy: 0.1719\n",
      "Epoch 286/500\n",
      "2/2 [==============================] - 0s 3ms/step - loss: 2.7791 - accuracy: 0.1094\n",
      "Epoch 287/500\n",
      "2/2 [==============================] - 0s 4ms/step - loss: 2.6485 - accuracy: 0.1484\n",
      "Epoch 288/500\n",
      "2/2 [==============================] - 0s 4ms/step - loss: 2.9033 - accuracy: 0.1562\n",
      "Epoch 289/500\n",
      "2/2 [==============================] - 0s 4ms/step - loss: 2.6370 - accuracy: 0.1328\n",
      "Epoch 290/500\n",
      "2/2 [==============================] - 0s 4ms/step - loss: 3.1403 - accuracy: 0.0703\n",
      "Epoch 291/500\n",
      "2/2 [==============================] - 0s 4ms/step - loss: 2.7208 - accuracy: 0.1406\n",
      "Epoch 292/500\n",
      "2/2 [==============================] - 0s 4ms/step - loss: 2.4450 - accuracy: 0.1953\n",
      "Epoch 293/500\n",
      "2/2 [==============================] - 0s 4ms/step - loss: 2.7318 - accuracy: 0.1484\n",
      "Epoch 294/500\n",
      "2/2 [==============================] - 0s 9ms/step - loss: 2.4854 - accuracy: 0.1953\n",
      "Epoch 295/500\n",
      "2/2 [==============================] - 0s 4ms/step - loss: 2.9123 - accuracy: 0.1094\n",
      "Epoch 296/500\n",
      "2/2 [==============================] - 0s 5ms/step - loss: 2.6499 - accuracy: 0.1562\n",
      "Epoch 297/500\n",
      "2/2 [==============================] - 0s 4ms/step - loss: 2.8146 - accuracy: 0.0938\n",
      "Epoch 298/500\n",
      "2/2 [==============================] - 0s 4ms/step - loss: 2.4047 - accuracy: 0.1641\n",
      "Epoch 299/500\n",
      "2/2 [==============================] - 0s 4ms/step - loss: 2.7640 - accuracy: 0.1016\n",
      "Epoch 300/500\n",
      "2/2 [==============================] - 0s 4ms/step - loss: 2.4273 - accuracy: 0.1172\n",
      "Epoch 301/500\n",
      "2/2 [==============================] - 0s 4ms/step - loss: 2.7085 - accuracy: 0.1406\n",
      "Epoch 302/500\n",
      "2/2 [==============================] - 0s 3ms/step - loss: 2.6104 - accuracy: 0.1250\n",
      "Epoch 303/500\n",
      "2/2 [==============================] - 0s 4ms/step - loss: 2.8686 - accuracy: 0.0859\n",
      "Epoch 304/500\n",
      "2/2 [==============================] - 0s 4ms/step - loss: 2.5779 - accuracy: 0.1328\n",
      "Epoch 305/500\n",
      "2/2 [==============================] - 0s 5ms/step - loss: 2.8209 - accuracy: 0.1484\n",
      "Epoch 306/500\n",
      "2/2 [==============================] - 0s 4ms/step - loss: 2.5903 - accuracy: 0.1562\n",
      "Epoch 307/500\n",
      "2/2 [==============================] - 0s 4ms/step - loss: 2.6244 - accuracy: 0.1484\n",
      "Epoch 308/500\n",
      "2/2 [==============================] - 0s 4ms/step - loss: 2.7834 - accuracy: 0.1094\n",
      "Epoch 309/500\n",
      "2/2 [==============================] - 0s 4ms/step - loss: 2.6919 - accuracy: 0.1484\n",
      "Epoch 310/500\n",
      "2/2 [==============================] - 0s 4ms/step - loss: 2.5604 - accuracy: 0.1094\n",
      "Epoch 311/500\n",
      "2/2 [==============================] - 0s 4ms/step - loss: 2.6872 - accuracy: 0.0938\n",
      "Epoch 312/500\n",
      "2/2 [==============================] - 0s 4ms/step - loss: 2.4161 - accuracy: 0.1406\n",
      "Epoch 313/500\n",
      "2/2 [==============================] - 0s 5ms/step - loss: 2.4796 - accuracy: 0.1562\n",
      "Epoch 314/500\n",
      "2/2 [==============================] - 0s 5ms/step - loss: 2.7077 - accuracy: 0.0859\n",
      "Epoch 315/500\n",
      "2/2 [==============================] - 0s 4ms/step - loss: 2.6570 - accuracy: 0.1406\n",
      "Epoch 316/500\n",
      "2/2 [==============================] - 0s 5ms/step - loss: 2.6121 - accuracy: 0.0781\n",
      "Epoch 317/500\n",
      "2/2 [==============================] - 0s 5ms/step - loss: 2.7477 - accuracy: 0.1406\n",
      "Epoch 318/500\n",
      "2/2 [==============================] - 0s 4ms/step - loss: 2.7629 - accuracy: 0.1719\n",
      "Epoch 319/500\n",
      "2/2 [==============================] - 0s 5ms/step - loss: 2.8026 - accuracy: 0.1172\n",
      "Epoch 320/500\n",
      "2/2 [==============================] - 0s 4ms/step - loss: 2.6433 - accuracy: 0.1172\n",
      "Epoch 321/500\n",
      "2/2 [==============================] - 0s 5ms/step - loss: 2.6649 - accuracy: 0.1406\n",
      "Epoch 322/500\n",
      "2/2 [==============================] - 0s 5ms/step - loss: 2.7132 - accuracy: 0.1328\n",
      "Epoch 323/500\n",
      "2/2 [==============================] - 0s 4ms/step - loss: 2.6254 - accuracy: 0.1953\n",
      "Epoch 324/500\n",
      "2/2 [==============================] - 0s 4ms/step - loss: 2.4814 - accuracy: 0.1797\n",
      "Epoch 325/500\n",
      "2/2 [==============================] - 0s 4ms/step - loss: 2.6782 - accuracy: 0.1250\n",
      "Epoch 326/500\n",
      "2/2 [==============================] - 0s 4ms/step - loss: 2.7348 - accuracy: 0.1719\n",
      "Epoch 327/500\n",
      "2/2 [==============================] - 0s 4ms/step - loss: 2.6164 - accuracy: 0.1797\n",
      "Epoch 328/500\n",
      "2/2 [==============================] - 0s 4ms/step - loss: 2.5381 - accuracy: 0.1328\n",
      "Epoch 329/500\n",
      "2/2 [==============================] - 0s 4ms/step - loss: 2.6671 - accuracy: 0.1328\n",
      "Epoch 330/500\n",
      "2/2 [==============================] - 0s 4ms/step - loss: 2.6235 - accuracy: 0.1016\n",
      "Epoch 331/500\n",
      "2/2 [==============================] - 0s 3ms/step - loss: 2.4896 - accuracy: 0.1250\n",
      "Epoch 332/500\n",
      "2/2 [==============================] - 0s 4ms/step - loss: 2.7594 - accuracy: 0.1250\n",
      "Epoch 333/500\n",
      "2/2 [==============================] - 0s 4ms/step - loss: 2.4159 - accuracy: 0.2266\n",
      "Epoch 334/500\n",
      "2/2 [==============================] - 0s 4ms/step - loss: 2.6246 - accuracy: 0.1719\n",
      "Epoch 335/500\n",
      "2/2 [==============================] - 0s 4ms/step - loss: 2.5347 - accuracy: 0.1172\n",
      "Epoch 336/500\n",
      "2/2 [==============================] - 0s 4ms/step - loss: 2.8338 - accuracy: 0.1250\n",
      "Epoch 337/500\n",
      "2/2 [==============================] - 0s 10ms/step - loss: 2.5174 - accuracy: 0.1250\n",
      "Epoch 338/500\n",
      "2/2 [==============================] - 0s 4ms/step - loss: 2.5214 - accuracy: 0.1406\n",
      "Epoch 339/500\n",
      "2/2 [==============================] - 0s 5ms/step - loss: 2.7672 - accuracy: 0.1172\n",
      "Epoch 340/500\n",
      "2/2 [==============================] - 0s 4ms/step - loss: 2.6849 - accuracy: 0.1250\n",
      "Epoch 341/500\n",
      "2/2 [==============================] - 0s 4ms/step - loss: 2.5757 - accuracy: 0.1094\n",
      "Epoch 342/500\n",
      "2/2 [==============================] - 0s 3ms/step - loss: 2.6864 - accuracy: 0.1016\n",
      "Epoch 343/500\n",
      "2/2 [==============================] - 0s 4ms/step - loss: 2.6043 - accuracy: 0.1172\n",
      "Epoch 344/500\n",
      "2/2 [==============================] - 0s 4ms/step - loss: 2.5967 - accuracy: 0.1406\n",
      "Epoch 345/500\n",
      "2/2 [==============================] - 0s 4ms/step - loss: 2.7410 - accuracy: 0.0859\n",
      "Epoch 346/500\n",
      "2/2 [==============================] - 0s 4ms/step - loss: 2.6929 - accuracy: 0.1562\n",
      "Epoch 347/500\n",
      "2/2 [==============================] - 0s 4ms/step - loss: 2.5599 - accuracy: 0.1328\n",
      "Epoch 348/500\n",
      "2/2 [==============================] - 0s 4ms/step - loss: 2.6441 - accuracy: 0.1562\n",
      "Epoch 349/500\n",
      "2/2 [==============================] - 0s 3ms/step - loss: 2.6984 - accuracy: 0.0859\n",
      "Epoch 350/500\n",
      "2/2 [==============================] - 0s 4ms/step - loss: 2.6681 - accuracy: 0.1016\n",
      "Epoch 351/500\n",
      "2/2 [==============================] - 0s 4ms/step - loss: 2.5179 - accuracy: 0.1328\n",
      "Epoch 352/500\n",
      "2/2 [==============================] - 0s 7ms/step - loss: 2.6162 - accuracy: 0.1719\n",
      "Epoch 353/500\n",
      "2/2 [==============================] - 0s 4ms/step - loss: 2.5826 - accuracy: 0.1094\n",
      "Epoch 354/500\n",
      "2/2 [==============================] - 0s 4ms/step - loss: 2.5650 - accuracy: 0.1797\n",
      "Epoch 355/500\n",
      "2/2 [==============================] - 0s 5ms/step - loss: 2.5467 - accuracy: 0.1250\n",
      "Epoch 356/500\n",
      "2/2 [==============================] - 0s 5ms/step - loss: 2.5992 - accuracy: 0.1484\n",
      "Epoch 357/500\n",
      "2/2 [==============================] - 0s 5ms/step - loss: 2.7486 - accuracy: 0.1094\n",
      "Epoch 358/500\n",
      "2/2 [==============================] - 0s 5ms/step - loss: 2.7551 - accuracy: 0.1016\n",
      "Epoch 359/500\n",
      "2/2 [==============================] - 0s 5ms/step - loss: 2.5057 - accuracy: 0.1484\n",
      "Epoch 360/500\n",
      "2/2 [==============================] - 0s 5ms/step - loss: 2.6203 - accuracy: 0.0938\n",
      "Epoch 361/500\n",
      "2/2 [==============================] - 0s 2ms/step - loss: 2.4942 - accuracy: 0.1172\n",
      "Epoch 362/500\n",
      "2/2 [==============================] - 0s 11ms/step - loss: 2.7184 - accuracy: 0.1328\n",
      "Epoch 363/500\n",
      "2/2 [==============================] - 0s 5ms/step - loss: 2.6544 - accuracy: 0.1172\n",
      "Epoch 364/500\n",
      "2/2 [==============================] - 0s 5ms/step - loss: 2.6198 - accuracy: 0.1484\n",
      "Epoch 365/500\n",
      "2/2 [==============================] - 0s 4ms/step - loss: 2.4920 - accuracy: 0.1172\n",
      "Epoch 366/500\n",
      "2/2 [==============================] - 0s 4ms/step - loss: 2.6601 - accuracy: 0.1406\n",
      "Epoch 367/500\n",
      "2/2 [==============================] - 0s 6ms/step - loss: 2.6765 - accuracy: 0.1406\n",
      "Epoch 368/500\n",
      "2/2 [==============================] - 0s 4ms/step - loss: 2.6169 - accuracy: 0.1406\n",
      "Epoch 369/500\n",
      "2/2 [==============================] - 0s 4ms/step - loss: 2.7112 - accuracy: 0.1172\n",
      "Epoch 370/500\n",
      "2/2 [==============================] - 0s 5ms/step - loss: 2.6998 - accuracy: 0.1172\n",
      "Epoch 371/500\n",
      "2/2 [==============================] - 0s 0s/step - loss: 2.4994 - accuracy: 0.1562\n",
      "Epoch 372/500\n",
      "2/2 [==============================] - 0s 5ms/step - loss: 2.5356 - accuracy: 0.1406\n",
      "Epoch 373/500\n",
      "2/2 [==============================] - 0s 5ms/step - loss: 2.6417 - accuracy: 0.1172\n",
      "Epoch 374/500\n",
      "2/2 [==============================] - 0s 4ms/step - loss: 2.6145 - accuracy: 0.1484\n",
      "Epoch 375/500\n",
      "2/2 [==============================] - 0s 3ms/step - loss: 2.6770 - accuracy: 0.1406\n",
      "Epoch 376/500\n",
      "2/2 [==============================] - 0s 4ms/step - loss: 2.6383 - accuracy: 0.1328\n",
      "Epoch 377/500\n",
      "2/2 [==============================] - 0s 4ms/step - loss: 2.7556 - accuracy: 0.1172\n",
      "Epoch 378/500\n",
      "2/2 [==============================] - 0s 4ms/step - loss: 2.6627 - accuracy: 0.1484\n",
      "Epoch 379/500\n",
      "2/2 [==============================] - 0s 4ms/step - loss: 2.5493 - accuracy: 0.1328\n",
      "Epoch 380/500\n",
      "2/2 [==============================] - 0s 5ms/step - loss: 2.7328 - accuracy: 0.1250\n",
      "Epoch 381/500\n",
      "2/2 [==============================] - 0s 7ms/step - loss: 2.6694 - accuracy: 0.1094\n",
      "Epoch 382/500\n",
      "2/2 [==============================] - 0s 4ms/step - loss: 2.6317 - accuracy: 0.0938\n",
      "Epoch 383/500\n",
      "2/2 [==============================] - 0s 4ms/step - loss: 2.7224 - accuracy: 0.1719\n",
      "Epoch 384/500\n",
      "2/2 [==============================] - 0s 4ms/step - loss: 2.7287 - accuracy: 0.1094\n",
      "Epoch 385/500\n",
      "2/2 [==============================] - 0s 4ms/step - loss: 2.7634 - accuracy: 0.1172\n",
      "Epoch 386/500\n",
      "2/2 [==============================] - 0s 4ms/step - loss: 2.6317 - accuracy: 0.1094\n",
      "Epoch 387/500\n",
      "2/2 [==============================] - 0s 3ms/step - loss: 2.5127 - accuracy: 0.1406\n",
      "Epoch 388/500\n",
      "2/2 [==============================] - 0s 4ms/step - loss: 2.5495 - accuracy: 0.1094\n",
      "Epoch 389/500\n",
      "2/2 [==============================] - 0s 4ms/step - loss: 2.5372 - accuracy: 0.1484\n",
      "Epoch 390/500\n",
      "2/2 [==============================] - 0s 5ms/step - loss: 2.6450 - accuracy: 0.1562\n",
      "Epoch 391/500\n",
      "2/2 [==============================] - 0s 4ms/step - loss: 2.6374 - accuracy: 0.1562\n",
      "Epoch 392/500\n",
      "2/2 [==============================] - 0s 5ms/step - loss: 2.4891 - accuracy: 0.1719\n",
      "Epoch 393/500\n",
      "2/2 [==============================] - 0s 5ms/step - loss: 2.7486 - accuracy: 0.1484\n",
      "Epoch 394/500\n",
      "2/2 [==============================] - 0s 4ms/step - loss: 2.5978 - accuracy: 0.1641\n",
      "Epoch 395/500\n",
      "2/2 [==============================] - 0s 4ms/step - loss: 2.3280 - accuracy: 0.2188\n",
      "Epoch 396/500\n",
      "2/2 [==============================] - 0s 4ms/step - loss: 2.7386 - accuracy: 0.0781\n",
      "Epoch 397/500\n",
      "2/2 [==============================] - 0s 4ms/step - loss: 2.8008 - accuracy: 0.1406\n",
      "Epoch 398/500\n",
      "2/2 [==============================] - 0s 5ms/step - loss: 2.6137 - accuracy: 0.0938\n",
      "Epoch 399/500\n",
      "2/2 [==============================] - 0s 2ms/step - loss: 2.6435 - accuracy: 0.1406\n",
      "Epoch 400/500\n",
      "2/2 [==============================] - 0s 5ms/step - loss: 2.4559 - accuracy: 0.1406\n",
      "Epoch 401/500\n",
      "2/2 [==============================] - 0s 6ms/step - loss: 2.5608 - accuracy: 0.1328\n",
      "Epoch 402/500\n",
      "2/2 [==============================] - 0s 10ms/step - loss: 2.6482 - accuracy: 0.1484\n",
      "Epoch 403/500\n",
      "2/2 [==============================] - 0s 4ms/step - loss: 2.4810 - accuracy: 0.1328\n",
      "Epoch 404/500\n",
      "2/2 [==============================] - 0s 4ms/step - loss: 2.6482 - accuracy: 0.0781\n",
      "Epoch 405/500\n",
      "2/2 [==============================] - 0s 8ms/step - loss: 2.6511 - accuracy: 0.1250\n",
      "Epoch 406/500\n",
      "2/2 [==============================] - 0s 5ms/step - loss: 2.5596 - accuracy: 0.1484\n",
      "Epoch 407/500\n",
      "2/2 [==============================] - 0s 4ms/step - loss: 2.5186 - accuracy: 0.1328\n",
      "Epoch 408/500\n",
      "2/2 [==============================] - 0s 4ms/step - loss: 2.6056 - accuracy: 0.1250\n",
      "Epoch 409/500\n",
      "2/2 [==============================] - 0s 4ms/step - loss: 2.4901 - accuracy: 0.1328\n",
      "Epoch 410/500\n",
      "2/2 [==============================] - 0s 3ms/step - loss: 2.5172 - accuracy: 0.1719\n",
      "Epoch 411/500\n",
      "2/2 [==============================] - 0s 4ms/step - loss: 2.5363 - accuracy: 0.1406\n",
      "Epoch 412/500\n",
      "2/2 [==============================] - 0s 5ms/step - loss: 2.4224 - accuracy: 0.1406\n",
      "Epoch 413/500\n",
      "2/2 [==============================] - 0s 4ms/step - loss: 2.5417 - accuracy: 0.1641\n",
      "Epoch 414/500\n",
      "2/2 [==============================] - 0s 4ms/step - loss: 2.4472 - accuracy: 0.1172\n",
      "Epoch 415/500\n",
      "2/2 [==============================] - 0s 5ms/step - loss: 2.6621 - accuracy: 0.1172\n",
      "Epoch 416/500\n",
      "2/2 [==============================] - 0s 4ms/step - loss: 2.5865 - accuracy: 0.1562\n",
      "Epoch 417/500\n",
      "2/2 [==============================] - 0s 4ms/step - loss: 2.5719 - accuracy: 0.1797\n",
      "Epoch 418/500\n",
      "2/2 [==============================] - 0s 4ms/step - loss: 2.4717 - accuracy: 0.1484\n",
      "Epoch 419/500\n",
      "2/2 [==============================] - 0s 4ms/step - loss: 2.7036 - accuracy: 0.0859\n",
      "Epoch 420/500\n",
      "2/2 [==============================] - 0s 6ms/step - loss: 2.5591 - accuracy: 0.1406\n",
      "Epoch 421/500\n",
      "2/2 [==============================] - 0s 4ms/step - loss: 2.6391 - accuracy: 0.1328\n",
      "Epoch 422/500\n",
      "2/2 [==============================] - 0s 5ms/step - loss: 2.5038 - accuracy: 0.1328\n",
      "Epoch 423/500\n",
      "2/2 [==============================] - 0s 4ms/step - loss: 2.4802 - accuracy: 0.1406\n",
      "Epoch 424/500\n",
      "2/2 [==============================] - 0s 4ms/step - loss: 2.3728 - accuracy: 0.2031\n",
      "Epoch 425/500\n",
      "2/2 [==============================] - 0s 4ms/step - loss: 2.4804 - accuracy: 0.1484\n",
      "Epoch 426/500\n",
      "2/2 [==============================] - 0s 5ms/step - loss: 2.6039 - accuracy: 0.1641\n",
      "Epoch 427/500\n",
      "2/2 [==============================] - 0s 5ms/step - loss: 2.6453 - accuracy: 0.1484\n",
      "Epoch 428/500\n",
      "2/2 [==============================] - 0s 5ms/step - loss: 2.5485 - accuracy: 0.1406\n",
      "Epoch 429/500\n",
      "2/2 [==============================] - 0s 4ms/step - loss: 2.6155 - accuracy: 0.0703\n",
      "Epoch 430/500\n",
      "2/2 [==============================] - 0s 4ms/step - loss: 2.6342 - accuracy: 0.1094\n",
      "Epoch 431/500\n",
      "2/2 [==============================] - 0s 5ms/step - loss: 2.8260 - accuracy: 0.0938\n",
      "Epoch 432/500\n",
      "2/2 [==============================] - 0s 4ms/step - loss: 2.6253 - accuracy: 0.1172\n",
      "Epoch 433/500\n",
      "2/2 [==============================] - 0s 5ms/step - loss: 2.4383 - accuracy: 0.1562\n",
      "Epoch 434/500\n",
      "2/2 [==============================] - 0s 5ms/step - loss: 2.5281 - accuracy: 0.1797\n",
      "Epoch 435/500\n",
      "2/2 [==============================] - 0s 5ms/step - loss: 2.5403 - accuracy: 0.1484\n",
      "Epoch 436/500\n",
      "2/2 [==============================] - 0s 5ms/step - loss: 2.6145 - accuracy: 0.1406\n",
      "Epoch 437/500\n",
      "2/2 [==============================] - 0s 6ms/step - loss: 2.6152 - accuracy: 0.1719\n",
      "Epoch 438/500\n",
      "2/2 [==============================] - 0s 5ms/step - loss: 2.5758 - accuracy: 0.2031\n",
      "Epoch 439/500\n",
      "2/2 [==============================] - 0s 4ms/step - loss: 2.6602 - accuracy: 0.0938\n",
      "Epoch 440/500\n",
      "2/2 [==============================] - 0s 5ms/step - loss: 2.7156 - accuracy: 0.0938\n",
      "Epoch 441/500\n",
      "2/2 [==============================] - 0s 5ms/step - loss: 2.4073 - accuracy: 0.1172\n",
      "Epoch 442/500\n",
      "2/2 [==============================] - 0s 816us/step - loss: 2.4138 - accuracy: 0.1719\n",
      "Epoch 443/500\n",
      "2/2 [==============================] - 0s 4ms/step - loss: 2.3716 - accuracy: 0.2109\n",
      "Epoch 444/500\n",
      "2/2 [==============================] - 0s 4ms/step - loss: 2.3310 - accuracy: 0.1484\n",
      "Epoch 445/500\n",
      "2/2 [==============================] - 0s 5ms/step - loss: 2.6241 - accuracy: 0.1094\n",
      "Epoch 446/500\n",
      "2/2 [==============================] - 0s 4ms/step - loss: 2.7647 - accuracy: 0.1250\n",
      "Epoch 447/500\n",
      "2/2 [==============================] - 0s 4ms/step - loss: 2.3605 - accuracy: 0.2031\n",
      "Epoch 448/500\n",
      "2/2 [==============================] - 0s 3ms/step - loss: 2.5678 - accuracy: 0.1172\n",
      "Epoch 449/500\n",
      "2/2 [==============================] - 0s 4ms/step - loss: 2.4786 - accuracy: 0.1406\n",
      "Epoch 450/500\n",
      "2/2 [==============================] - 0s 4ms/step - loss: 2.5533 - accuracy: 0.0938\n",
      "Epoch 451/500\n",
      "2/2 [==============================] - 0s 4ms/step - loss: 2.3604 - accuracy: 0.1797\n",
      "Epoch 452/500\n",
      "2/2 [==============================] - 0s 4ms/step - loss: 2.6440 - accuracy: 0.1719\n",
      "Epoch 453/500\n",
      "2/2 [==============================] - 0s 4ms/step - loss: 2.7598 - accuracy: 0.0703\n",
      "Epoch 454/500\n",
      "2/2 [==============================] - 0s 4ms/step - loss: 2.4132 - accuracy: 0.1562\n",
      "Epoch 455/500\n",
      "2/2 [==============================] - 0s 4ms/step - loss: 2.6211 - accuracy: 0.1094\n",
      "Epoch 456/500\n",
      "2/2 [==============================] - 0s 4ms/step - loss: 2.6569 - accuracy: 0.1172\n",
      "Epoch 457/500\n",
      "2/2 [==============================] - 0s 4ms/step - loss: 2.7728 - accuracy: 0.1250\n",
      "Epoch 458/500\n",
      "2/2 [==============================] - 0s 4ms/step - loss: 2.4786 - accuracy: 0.1562\n",
      "Epoch 459/500\n",
      "2/2 [==============================] - 0s 4ms/step - loss: 2.6365 - accuracy: 0.0938\n",
      "Epoch 460/500\n",
      "2/2 [==============================] - ETA: 0s - loss: 2.6328 - accuracy: 0.09 - 0s 4ms/step - loss: 2.5078 - accuracy: 0.1172\n",
      "Epoch 461/500\n",
      "2/2 [==============================] - 0s 4ms/step - loss: 2.3749 - accuracy: 0.1328\n",
      "Epoch 462/500\n",
      "2/2 [==============================] - 0s 3ms/step - loss: 2.4519 - accuracy: 0.1719\n",
      "Epoch 463/500\n",
      "2/2 [==============================] - 0s 4ms/step - loss: 2.5064 - accuracy: 0.1797\n",
      "Epoch 464/500\n",
      "2/2 [==============================] - 0s 5ms/step - loss: 2.5665 - accuracy: 0.1406\n",
      "Epoch 465/500\n",
      "2/2 [==============================] - 0s 4ms/step - loss: 2.4291 - accuracy: 0.1641\n",
      "Epoch 466/500\n",
      "2/2 [==============================] - 0s 4ms/step - loss: 2.5993 - accuracy: 0.1016\n",
      "Epoch 467/500\n",
      "2/2 [==============================] - 0s 5ms/step - loss: 2.3910 - accuracy: 0.1719\n",
      "Epoch 468/500\n",
      "2/2 [==============================] - 0s 5ms/step - loss: 2.6709 - accuracy: 0.1016\n",
      "Epoch 469/500\n",
      "2/2 [==============================] - 0s 5ms/step - loss: 2.5373 - accuracy: 0.1719\n",
      "Epoch 470/500\n",
      "2/2 [==============================] - 0s 5ms/step - loss: 2.6579 - accuracy: 0.1641\n",
      "Epoch 471/500\n",
      "2/2 [==============================] - 0s 4ms/step - loss: 2.6131 - accuracy: 0.1484\n",
      "Epoch 472/500\n",
      "2/2 [==============================] - 0s 4ms/step - loss: 2.6010 - accuracy: 0.1641\n",
      "Epoch 473/500\n",
      "2/2 [==============================] - 0s 5ms/step - loss: 2.5557 - accuracy: 0.1328\n",
      "Epoch 474/500\n",
      "2/2 [==============================] - 0s 4ms/step - loss: 2.5305 - accuracy: 0.1562\n",
      "Epoch 475/500\n",
      "2/2 [==============================] - 0s 4ms/step - loss: 2.4864 - accuracy: 0.1250\n",
      "Epoch 476/500\n",
      "2/2 [==============================] - 0s 4ms/step - loss: 2.4324 - accuracy: 0.1328\n",
      "Epoch 477/500\n",
      "2/2 [==============================] - 0s 4ms/step - loss: 2.3126 - accuracy: 0.1953\n",
      "Epoch 478/500\n",
      "2/2 [==============================] - 0s 4ms/step - loss: 2.6249 - accuracy: 0.1328\n",
      "Epoch 479/500\n",
      "2/2 [==============================] - 0s 4ms/step - loss: 2.4553 - accuracy: 0.1406\n",
      "Epoch 480/500\n",
      "2/2 [==============================] - 0s 4ms/step - loss: 2.3958 - accuracy: 0.1250\n",
      "Epoch 481/500\n",
      "2/2 [==============================] - 0s 4ms/step - loss: 2.6077 - accuracy: 0.1641\n",
      "Epoch 482/500\n",
      "2/2 [==============================] - 0s 4ms/step - loss: 2.6700 - accuracy: 0.1250\n",
      "Epoch 483/500\n",
      "2/2 [==============================] - 0s 4ms/step - loss: 2.5095 - accuracy: 0.1641\n",
      "Epoch 484/500\n",
      "2/2 [==============================] - 0s 4ms/step - loss: 2.6538 - accuracy: 0.1094\n",
      "Epoch 485/500\n",
      "2/2 [==============================] - 0s 4ms/step - loss: 2.4645 - accuracy: 0.1406\n",
      "Epoch 486/500\n",
      "2/2 [==============================] - 0s 4ms/step - loss: 2.3508 - accuracy: 0.1875\n",
      "Epoch 487/500\n",
      "2/2 [==============================] - 0s 3ms/step - loss: 2.5899 - accuracy: 0.1094\n",
      "Epoch 488/500\n",
      "2/2 [==============================] - 0s 4ms/step - loss: 2.4400 - accuracy: 0.1406\n",
      "Epoch 489/500\n",
      "2/2 [==============================] - 0s 5ms/step - loss: 2.5097 - accuracy: 0.1094\n",
      "Epoch 490/500\n",
      "2/2 [==============================] - ETA: 0s - loss: 2.4775 - accuracy: 0.14 - 0s 4ms/step - loss: 2.5070 - accuracy: 0.1406\n",
      "Epoch 491/500\n",
      "2/2 [==============================] - 0s 4ms/step - loss: 2.5068 - accuracy: 0.1406\n",
      "Epoch 492/500\n",
      "2/2 [==============================] - 0s 4ms/step - loss: 2.6549 - accuracy: 0.1328\n",
      "Epoch 493/500\n",
      "2/2 [==============================] - 0s 4ms/step - loss: 2.6027 - accuracy: 0.0781\n",
      "Epoch 494/500\n",
      "2/2 [==============================] - 0s 5ms/step - loss: 2.6414 - accuracy: 0.1094\n",
      "Epoch 495/500\n",
      "2/2 [==============================] - 0s 13ms/step - loss: 2.4955 - accuracy: 0.1719\n",
      "Epoch 496/500\n",
      "2/2 [==============================] - 0s 4ms/step - loss: 2.4619 - accuracy: 0.1641\n",
      "Epoch 497/500\n",
      "2/2 [==============================] - 0s 5ms/step - loss: 2.4385 - accuracy: 0.1484\n",
      "Epoch 498/500\n",
      "2/2 [==============================] - 0s 4ms/step - loss: 2.7144 - accuracy: 0.1172\n",
      "Epoch 499/500\n",
      "2/2 [==============================] - 0s 4ms/step - loss: 2.6487 - accuracy: 0.0703\n",
      "Epoch 500/500\n",
      "2/2 [==============================] - 0s 5ms/step - loss: 2.4481 - accuracy: 0.1172\n"
     ]
    },
    {
     "data": {
      "text/plain": [
       "<keras.callbacks.History at 0x1fc8e5aa1c8>"
      ]
     },
     "execution_count": 375,
     "metadata": {},
     "output_type": "execute_result"
    }
   ],
   "source": [
    "model.compile(loss=\"categorical_crossentropy\", metrics=[\"accuracy\"], optimizer=optimizer)\n",
    "model.fit(X,y_encoded,epochs=500, batch_size=64, verbose=1)"
   ]
  },
  {
   "cell_type": "markdown",
   "metadata": {},
   "source": [
    "<span style=\"font-family: Arial; font-weight:bold;font-size:1.5em;color:#00b3e5;\"> 1. Start chat session with greetings and ask what the user is looking for \\\n",
    "2. Accept dynamic text based questions from the user. Reply back with relevant answer from the designed corpus \\\n",
    "3. End the chat session only if the user requests to end else ask what the user is looking for. Loop continues till the user asks to end it \\"
   ]
  },
  {
   "cell_type": "code",
   "execution_count": 376,
   "metadata": {},
   "outputs": [],
   "source": [
    "def chat():\n",
    "    print('Chat with Priya (type: \\'quit\\' to stop)')\n",
    "    while True:\n",
    "        inp = input('\\n\\nYou:')\n",
    "        if inp.lower()=='quit':\n",
    "            break\n",
    "        \n",
    "        inp_temp = re.sub(\"[^a-z ]\",\"\",inp)\n",
    "        inp_temp = inp.lower()\n",
    "        inp_temp = ' '.join([words for words in inp.split() if words not in stop_words])\n",
    "        inp_temp = inp_temp.strip()\n",
    "        inp_vec = tfid.transform([inp_temp])\n",
    "        inp_vec = inp_vec.toarray()\n",
    "        \n",
    "        predicted_tag_index = np.argmax(model.predict(inp_vec))\n",
    "        predicted_tag = tags_list[predicted_tag_index]\n",
    "        print(predicted_tag)\n",
    "                                        \n",
    "        for i in range(len(corpus['intents'])):\n",
    "            tag = corpus['intents'][i]['tag']\n",
    "            if tag == predicted_tag:\n",
    "                response = corpus['intents'][i]['responses']\n",
    "        print(response)"
   ]
  },
  {
   "cell_type": "code",
   "execution_count": 377,
   "metadata": {},
   "outputs": [
    {
     "name": "stdout",
     "output_type": "stream",
     "text": [
      "Chat with Priya (type: 'quit' to stop)\n"
     ]
    },
    {
     "name": "stdin",
     "output_type": "stream",
     "text": [
      "\n",
      "\n",
      "You: hi\n"
     ]
    },
    {
     "name": "stdout",
     "output_type": "stream",
     "text": [
      "Exit\n",
      "['I hope I was able to assist you, Good Bye']\n"
     ]
    },
    {
     "name": "stdin",
     "output_type": "stream",
     "text": [
      "\n",
      "\n",
      "You: hello\n"
     ]
    },
    {
     "name": "stdout",
     "output_type": "stream",
     "text": [
      "SL\n",
      "['Link: Machine Learning wiki ']\n"
     ]
    },
    {
     "name": "stdin",
     "output_type": "stream",
     "text": [
      "\n",
      "\n",
      "You: bye\n"
     ]
    },
    {
     "name": "stdout",
     "output_type": "stream",
     "text": [
      "SL\n",
      "['Link: Machine Learning wiki ']\n"
     ]
    },
    {
     "name": "stdin",
     "output_type": "stream",
     "text": [
      "\n",
      "\n",
      "You: great learning\n"
     ]
    },
    {
     "name": "stdout",
     "output_type": "stream",
     "text": [
      "SL\n",
      "['Link: Machine Learning wiki ']\n"
     ]
    },
    {
     "name": "stdin",
     "output_type": "stream",
     "text": [
      "\n",
      "\n",
      "You: neural networks\n"
     ]
    },
    {
     "name": "stdout",
     "output_type": "stream",
     "text": [
      "SL\n",
      "['Link: Machine Learning wiki ']\n"
     ]
    },
    {
     "name": "stdin",
     "output_type": "stream",
     "text": [
      "\n",
      "\n",
      "You: quit\n"
     ]
    }
   ],
   "source": [
    "chat()"
   ]
  },
  {
   "cell_type": "markdown",
   "metadata": {},
   "source": [
    "<span style=\"font-family: Arial; font-weight:bold;font-size:1.5em;color:#00b3e5;\"> Repeating the above steps with the SVM classifier"
   ]
  },
  {
   "cell_type": "code",
   "execution_count": 306,
   "metadata": {},
   "outputs": [
    {
     "data": {
      "text/plain": [
       "SVC()"
      ]
     },
     "execution_count": 306,
     "metadata": {},
     "output_type": "execute_result"
    }
   ],
   "source": [
    "le = LabelEncoder()\n",
    "y_encoded = le.fit_transform(y)\n",
    "\n",
    "svm_clf = svm.SVC()\n",
    "svm_clf.fit(X , y_encoded)"
   ]
  },
  {
   "cell_type": "code",
   "execution_count": 344,
   "metadata": {},
   "outputs": [],
   "source": [
    "def chat():\n",
    "    print('Chat with Priya (type: \\'quit\\' to stop)')\n",
    "    while True:\n",
    "        inp = input('\\n\\nYou:')\n",
    "        if inp.lower()=='quit':\n",
    "            break\n",
    "        \n",
    "        inp_temp = re.sub(\"[^a-z ]\",\"\",inp)\n",
    "        inp_temp = inp.lower()\n",
    "        inp_temp = ' '.join([words for words in inp.split() if words not in stop_words])\n",
    "        inp_temp = inp_temp.strip()\n",
    "        inp_vec = tfid.transform([inp_temp])\n",
    "        inp_vec = inp_vec.toarray()\n",
    "        \n",
    "        predicted_tag_index = np.argmax(svm_clf.predict(inp_vec))\n",
    "        predicted_tag = tags_list[predicted_tag_index]\n",
    "        print(predicted_tag)\n",
    "                                        \n",
    "        for i in range(len(corpus['intents'])):\n",
    "            tag = corpus['intents'][i]['tag']\n",
    "            if tag == predicted_tag:\n",
    "                response = corpus['intents'][i]['responses']\n",
    "        print(response)"
   ]
  },
  {
   "cell_type": "code",
   "execution_count": 345,
   "metadata": {},
   "outputs": [
    {
     "name": "stdout",
     "output_type": "stream",
     "text": [
      "Chat with Priya (type: 'quit' to stop)\n"
     ]
    },
    {
     "name": "stdin",
     "output_type": "stream",
     "text": [
      "\n",
      "\n",
      "You: hi\n"
     ]
    },
    {
     "name": "stdout",
     "output_type": "stream",
     "text": [
      "Intro\n",
      "['Hello! how can i help you ?']\n"
     ]
    },
    {
     "name": "stdin",
     "output_type": "stream",
     "text": [
      "\n",
      "\n",
      "You: Hello\n"
     ]
    },
    {
     "name": "stdout",
     "output_type": "stream",
     "text": [
      "Intro\n",
      "['Hello! how can i help you ?']\n"
     ]
    },
    {
     "name": "stdin",
     "output_type": "stream",
     "text": [
      "\n",
      "\n",
      "You: Great Learning\n"
     ]
    },
    {
     "name": "stdout",
     "output_type": "stream",
     "text": [
      "Intro\n",
      "['Hello! how can i help you ?']\n"
     ]
    },
    {
     "name": "stdin",
     "output_type": "stream",
     "text": [
      "\n",
      "\n",
      "You: Supervised Learning\n"
     ]
    },
    {
     "name": "stdout",
     "output_type": "stream",
     "text": [
      "Intro\n",
      "['Hello! how can i help you ?']\n"
     ]
    },
    {
     "name": "stdin",
     "output_type": "stream",
     "text": [
      "\n",
      "\n",
      "You: neural nets\n"
     ]
    },
    {
     "name": "stdout",
     "output_type": "stream",
     "text": [
      "Intro\n",
      "['Hello! how can i help you ?']\n"
     ]
    },
    {
     "name": "stdin",
     "output_type": "stream",
     "text": [
      "\n",
      "\n",
      "You: quit\n"
     ]
    }
   ],
   "source": [
    "chat()"
   ]
  },
  {
   "cell_type": "markdown",
   "metadata": {},
   "source": [
    "<span style=\"font-family: Arial; font-weight:bold;font-size:1.5em;color:#00b3e5;\"> Conclusions: \\\n",
    "- The given data seems to be not enough for training a chatbot.\n",
    "- Both the neural networks and SVM model give only one response to the user."
   ]
  }
 ],
 "metadata": {
  "kernelspec": {
   "display_name": "Python 3",
   "language": "python",
   "name": "python3"
  },
  "language_info": {
   "codemirror_mode": {
    "name": "ipython",
    "version": 3
   },
   "file_extension": ".py",
   "mimetype": "text/x-python",
   "name": "python",
   "nbconvert_exporter": "python",
   "pygments_lexer": "ipython3",
   "version": "3.7.6"
  }
 },
 "nbformat": 4,
 "nbformat_minor": 4
}
