{
 "cells": [
  {
   "cell_type": "markdown",
   "metadata": {},
   "source": [
    "<span style=\"font-family: Arial; font-weight:bold;font-size:2.5em;color:#00b3e5;\">  Part I"
   ]
  },
  {
   "cell_type": "code",
   "execution_count": 254,
   "metadata": {},
   "outputs": [],
   "source": [
    "# Import standard libraries\n",
    "import pandas as pd\n",
    "import numpy as np\n",
    "import seaborn as sns\n",
    "import matplotlib.pyplot as plt\n",
    "import functools\n",
    "import operator\n",
    "%matplotlib inline\n",
    "\n",
    "# Import data preparation libraries\n",
    "from matplotlib.cbook import boxplot_stats  \n",
    "from sklearn.model_selection import train_test_split\n",
    "from sklearn.preprocessing import LabelEncoder\n",
    "from scipy.stats import zscore\n",
    "from imblearn.over_sampling import SMOTE \n",
    "\n",
    "# Import machine learning libraries\n",
    "from sklearn.neighbors import KNeighborsClassifier\n",
    "\n",
    "# Import model evaluation libraries\n",
    "from sklearn import metrics\n",
    "from sklearn.model_selection import RepeatedStratifiedKFold\n",
    "from sklearn.model_selection import GridSearchCV"
   ]
  },
  {
   "cell_type": "markdown",
   "metadata": {},
   "source": [
    "<span style=\"font-family: Arial; font-weight:bold;font-size:2em;color:#00b3e5;\">  1. Import and warehouse data:"
   ]
  },
  {
   "cell_type": "markdown",
   "metadata": {},
   "source": [
    "<span style=\"font-family: Arial; font-weight:bold;font-size:1em;color:#00b3e5;\">  • Import all the given datasets and explore shape and size of each"
   ]
  },
  {
   "cell_type": "code",
   "execution_count": 255,
   "metadata": {},
   "outputs": [],
   "source": [
    "# Import all the parts of the data\n",
    "data_normal = pd.read_csv('Part1_Normal.csv')\n",
    "data_type_h = pd.read_csv('Part1_Type_H.csv')\n",
    "data_type_s = pd.read_csv('Part1_Type_S.csv')"
   ]
  },
  {
   "cell_type": "code",
   "execution_count": 256,
   "metadata": {},
   "outputs": [
    {
     "name": "stdout",
     "output_type": "stream",
     "text": [
      "700\n",
      "420\n",
      "1050\n",
      "(100, 7)\n",
      "(60, 7)\n",
      "(150, 7)\n"
     ]
    }
   ],
   "source": [
    "# Check size and shape of the data\n",
    "print(data_normal.size)\n",
    "print(data_type_h.size)\n",
    "print(data_type_s.size)\n",
    "print(data_normal.shape)\n",
    "print(data_type_h.shape)\n",
    "print(data_type_s.shape)"
   ]
  },
  {
   "cell_type": "markdown",
   "metadata": {},
   "source": [
    "<span style=\"font-family: Arial; font-weight:bold;font-size:1em;color:#00b3e5;\">  • Merge all datasets onto one and explore final shape and size"
   ]
  },
  {
   "cell_type": "code",
   "execution_count": 257,
   "metadata": {},
   "outputs": [
    {
     "name": "stdout",
     "output_type": "stream",
     "text": [
      "2170\n",
      "(310, 7)\n"
     ]
    }
   ],
   "source": [
    "data = pd.concat([data_normal,data_type_h,data_type_s])\n",
    "print(data.size)\n",
    "print(data.shape)"
   ]
  },
  {
   "cell_type": "code",
   "execution_count": 258,
   "metadata": {},
   "outputs": [
    {
     "data": {
      "text/html": [
       "<div>\n",
       "<style scoped>\n",
       "    .dataframe tbody tr th:only-of-type {\n",
       "        vertical-align: middle;\n",
       "    }\n",
       "\n",
       "    .dataframe tbody tr th {\n",
       "        vertical-align: top;\n",
       "    }\n",
       "\n",
       "    .dataframe thead th {\n",
       "        text-align: right;\n",
       "    }\n",
       "</style>\n",
       "<table border=\"1\" class=\"dataframe\">\n",
       "  <thead>\n",
       "    <tr style=\"text-align: right;\">\n",
       "      <th></th>\n",
       "      <th>P_incidence</th>\n",
       "      <th>P_tilt</th>\n",
       "      <th>L_angle</th>\n",
       "      <th>S_slope</th>\n",
       "      <th>P_radius</th>\n",
       "      <th>S_Degree</th>\n",
       "      <th>Class</th>\n",
       "    </tr>\n",
       "  </thead>\n",
       "  <tbody>\n",
       "    <tr>\n",
       "      <th>0</th>\n",
       "      <td>38.505273</td>\n",
       "      <td>16.964297</td>\n",
       "      <td>35.112814</td>\n",
       "      <td>21.540976</td>\n",
       "      <td>127.632875</td>\n",
       "      <td>7.986683</td>\n",
       "      <td>Normal</td>\n",
       "    </tr>\n",
       "    <tr>\n",
       "      <th>1</th>\n",
       "      <td>54.920858</td>\n",
       "      <td>18.968430</td>\n",
       "      <td>51.601455</td>\n",
       "      <td>35.952428</td>\n",
       "      <td>125.846646</td>\n",
       "      <td>2.001642</td>\n",
       "      <td>Normal</td>\n",
       "    </tr>\n",
       "    <tr>\n",
       "      <th>2</th>\n",
       "      <td>44.362490</td>\n",
       "      <td>8.945435</td>\n",
       "      <td>46.902096</td>\n",
       "      <td>35.417055</td>\n",
       "      <td>129.220682</td>\n",
       "      <td>4.994195</td>\n",
       "      <td>Normal</td>\n",
       "    </tr>\n",
       "    <tr>\n",
       "      <th>3</th>\n",
       "      <td>48.318931</td>\n",
       "      <td>17.452121</td>\n",
       "      <td>48.000000</td>\n",
       "      <td>30.866809</td>\n",
       "      <td>128.980308</td>\n",
       "      <td>-0.910941</td>\n",
       "      <td>Normal</td>\n",
       "    </tr>\n",
       "    <tr>\n",
       "      <th>4</th>\n",
       "      <td>45.701789</td>\n",
       "      <td>10.659859</td>\n",
       "      <td>42.577846</td>\n",
       "      <td>35.041929</td>\n",
       "      <td>130.178314</td>\n",
       "      <td>-3.388910</td>\n",
       "      <td>Normal</td>\n",
       "    </tr>\n",
       "    <tr>\n",
       "      <th>...</th>\n",
       "      <td>...</td>\n",
       "      <td>...</td>\n",
       "      <td>...</td>\n",
       "      <td>...</td>\n",
       "      <td>...</td>\n",
       "      <td>...</td>\n",
       "      <td>...</td>\n",
       "    </tr>\n",
       "    <tr>\n",
       "      <th>305</th>\n",
       "      <td>80.111572</td>\n",
       "      <td>33.942432</td>\n",
       "      <td>85.101608</td>\n",
       "      <td>46.169139</td>\n",
       "      <td>125.593624</td>\n",
       "      <td>100.292107</td>\n",
       "      <td>Type_S</td>\n",
       "    </tr>\n",
       "    <tr>\n",
       "      <th>306</th>\n",
       "      <td>95.480229</td>\n",
       "      <td>46.550053</td>\n",
       "      <td>59.000000</td>\n",
       "      <td>48.930176</td>\n",
       "      <td>96.683903</td>\n",
       "      <td>77.283072</td>\n",
       "      <td>Type_S</td>\n",
       "    </tr>\n",
       "    <tr>\n",
       "      <th>307</th>\n",
       "      <td>74.094731</td>\n",
       "      <td>18.823727</td>\n",
       "      <td>76.032156</td>\n",
       "      <td>55.271004</td>\n",
       "      <td>128.405731</td>\n",
       "      <td>73.388216</td>\n",
       "      <td>Type_S</td>\n",
       "    </tr>\n",
       "    <tr>\n",
       "      <th>308</th>\n",
       "      <td>87.679087</td>\n",
       "      <td>20.365613</td>\n",
       "      <td>93.822416</td>\n",
       "      <td>67.313473</td>\n",
       "      <td>120.944829</td>\n",
       "      <td>76.730629</td>\n",
       "      <td>Type_S</td>\n",
       "    </tr>\n",
       "    <tr>\n",
       "      <th>309</th>\n",
       "      <td>48.259920</td>\n",
       "      <td>16.417462</td>\n",
       "      <td>36.329137</td>\n",
       "      <td>31.842457</td>\n",
       "      <td>94.882336</td>\n",
       "      <td>28.343799</td>\n",
       "      <td>Type_S</td>\n",
       "    </tr>\n",
       "  </tbody>\n",
       "</table>\n",
       "<p>310 rows × 7 columns</p>\n",
       "</div>"
      ],
      "text/plain": [
       "     P_incidence     P_tilt    L_angle    S_slope    P_radius    S_Degree  \\\n",
       "0      38.505273  16.964297  35.112814  21.540976  127.632875    7.986683   \n",
       "1      54.920858  18.968430  51.601455  35.952428  125.846646    2.001642   \n",
       "2      44.362490   8.945435  46.902096  35.417055  129.220682    4.994195   \n",
       "3      48.318931  17.452121  48.000000  30.866809  128.980308   -0.910941   \n",
       "4      45.701789  10.659859  42.577846  35.041929  130.178314   -3.388910   \n",
       "..           ...        ...        ...        ...         ...         ...   \n",
       "305    80.111572  33.942432  85.101608  46.169139  125.593624  100.292107   \n",
       "306    95.480229  46.550053  59.000000  48.930176   96.683903   77.283072   \n",
       "307    74.094731  18.823727  76.032156  55.271004  128.405731   73.388216   \n",
       "308    87.679087  20.365613  93.822416  67.313473  120.944829   76.730629   \n",
       "309    48.259920  16.417462  36.329137  31.842457   94.882336   28.343799   \n",
       "\n",
       "      Class  \n",
       "0    Normal  \n",
       "1    Normal  \n",
       "2    Normal  \n",
       "3    Normal  \n",
       "4    Normal  \n",
       "..      ...  \n",
       "305  Type_S  \n",
       "306  Type_S  \n",
       "307  Type_S  \n",
       "308  Type_S  \n",
       "309  Type_S  \n",
       "\n",
       "[310 rows x 7 columns]"
      ]
     },
     "execution_count": 258,
     "metadata": {},
     "output_type": "execute_result"
    }
   ],
   "source": [
    "data.reset_index(inplace=True, drop=True)\n",
    "data"
   ]
  },
  {
   "cell_type": "markdown",
   "metadata": {},
   "source": [
    "<span style=\"font-family: Arial; font-weight:bold;font-size:2em;color:#00b3e5;\">  2. Data cleansing:"
   ]
  },
  {
   "cell_type": "markdown",
   "metadata": {},
   "source": [
    "<span style=\"font-family: Arial; font-weight:bold;font-size:1em;color:#00b3e5;\"> • Explore and if required correct the datatypes of each attribute"
   ]
  },
  {
   "cell_type": "code",
   "execution_count": 259,
   "metadata": {},
   "outputs": [
    {
     "data": {
      "text/plain": [
       "P_incidence    float64\n",
       "P_tilt         float64\n",
       "L_angle        float64\n",
       "S_slope        float64\n",
       "P_radius       float64\n",
       "S_Degree       float64\n",
       "Class           object\n",
       "dtype: object"
      ]
     },
     "execution_count": 259,
     "metadata": {},
     "output_type": "execute_result"
    }
   ],
   "source": [
    "# Check the data types of the first part of data\n",
    "data_normal.dtypes"
   ]
  },
  {
   "cell_type": "code",
   "execution_count": 260,
   "metadata": {},
   "outputs": [
    {
     "data": {
      "text/plain": [
       "P_incidence    float64\n",
       "P_tilt         float64\n",
       "L_angle        float64\n",
       "S_slope        float64\n",
       "P_radius       float64\n",
       "S_Degree       float64\n",
       "Class           object\n",
       "dtype: object"
      ]
     },
     "execution_count": 260,
     "metadata": {},
     "output_type": "execute_result"
    }
   ],
   "source": [
    "# Check the data types of the second part of data\n",
    "data_type_h.dtypes"
   ]
  },
  {
   "cell_type": "code",
   "execution_count": 261,
   "metadata": {},
   "outputs": [
    {
     "data": {
      "text/plain": [
       "P_incidence    float64\n",
       "P_tilt         float64\n",
       "L_angle        float64\n",
       "S_slope        float64\n",
       "P_radius       float64\n",
       "S_Degree       float64\n",
       "Class           object\n",
       "dtype: object"
      ]
     },
     "execution_count": 261,
     "metadata": {},
     "output_type": "execute_result"
    }
   ],
   "source": [
    "# Check the data types of the third part of data\n",
    "data_type_s.dtypes"
   ]
  },
  {
   "cell_type": "code",
   "execution_count": 262,
   "metadata": {},
   "outputs": [
    {
     "data": {
      "text/plain": [
       "P_incidence    float64\n",
       "P_tilt         float64\n",
       "L_angle        float64\n",
       "S_slope        float64\n",
       "P_radius       float64\n",
       "S_Degree       float64\n",
       "Class           object\n",
       "dtype: object"
      ]
     },
     "execution_count": 262,
     "metadata": {},
     "output_type": "execute_result"
    }
   ],
   "source": [
    "data.dtypes"
   ]
  },
  {
   "cell_type": "markdown",
   "metadata": {},
   "source": [
    "We can observe that the Class column is not numeric. Hence, we need to employ encoding techniques for the conversion purpose. "
   ]
  },
  {
   "cell_type": "markdown",
   "metadata": {},
   "source": [
    "<span style=\"font-family: Arial; font-weight:bold;font-size:1em;color:#00b3e5;\"> • Explore for null values in the attributes and if required drop or impute values."
   ]
  },
  {
   "cell_type": "code",
   "execution_count": 263,
   "metadata": {},
   "outputs": [
    {
     "data": {
      "text/plain": [
       "P_incidence    0\n",
       "P_tilt         0\n",
       "L_angle        0\n",
       "S_slope        0\n",
       "P_radius       0\n",
       "S_Degree       0\n",
       "Class          0\n",
       "dtype: int64"
      ]
     },
     "execution_count": 263,
     "metadata": {},
     "output_type": "execute_result"
    }
   ],
   "source": [
    "data.isna().sum()"
   ]
  },
  {
   "cell_type": "markdown",
   "metadata": {},
   "source": [
    "It can be observed that there are no null values in the given data. However, the column names are not homogenized. This is corrected below."
   ]
  },
  {
   "cell_type": "code",
   "execution_count": 264,
   "metadata": {},
   "outputs": [],
   "source": [
    "data['Class'] = data['Class'].replace(['Nrmal','type_h','tp_s'],['Normal','Type_H','Type_S'])"
   ]
  },
  {
   "cell_type": "markdown",
   "metadata": {},
   "source": [
    "<span style=\"font-family: Arial; font-weight:bold;font-size:2em;color:#00b3e5;\">  3. Data analysis & visualisation"
   ]
  },
  {
   "cell_type": "markdown",
   "metadata": {},
   "source": [
    "<span style=\"font-family: Arial; font-weight:bold;font-size:1em;color:#00b3e5;\"> • Perform detailed statistical analysis on the data"
   ]
  },
  {
   "cell_type": "code",
   "execution_count": 265,
   "metadata": {},
   "outputs": [
    {
     "data": {
      "text/plain": [
       "P_incidence    310\n",
       "P_tilt         310\n",
       "L_angle        280\n",
       "S_slope        281\n",
       "P_radius       310\n",
       "S_Degree       310\n",
       "Class            3\n",
       "dtype: int64"
      ]
     },
     "execution_count": 265,
     "metadata": {},
     "output_type": "execute_result"
    }
   ],
   "source": [
    "data.nunique()"
   ]
  },
  {
   "cell_type": "code",
   "execution_count": 266,
   "metadata": {},
   "outputs": [
    {
     "data": {
      "text/html": [
       "<div>\n",
       "<style scoped>\n",
       "    .dataframe tbody tr th:only-of-type {\n",
       "        vertical-align: middle;\n",
       "    }\n",
       "\n",
       "    .dataframe tbody tr th {\n",
       "        vertical-align: top;\n",
       "    }\n",
       "\n",
       "    .dataframe thead th {\n",
       "        text-align: right;\n",
       "    }\n",
       "</style>\n",
       "<table border=\"1\" class=\"dataframe\">\n",
       "  <thead>\n",
       "    <tr style=\"text-align: right;\">\n",
       "      <th></th>\n",
       "      <th>P_incidence</th>\n",
       "      <th>P_tilt</th>\n",
       "      <th>L_angle</th>\n",
       "      <th>S_slope</th>\n",
       "      <th>P_radius</th>\n",
       "      <th>S_Degree</th>\n",
       "      <th>Class</th>\n",
       "    </tr>\n",
       "  </thead>\n",
       "  <tbody>\n",
       "    <tr>\n",
       "      <th>0</th>\n",
       "      <td>38.505273</td>\n",
       "      <td>16.964297</td>\n",
       "      <td>35.112814</td>\n",
       "      <td>21.540976</td>\n",
       "      <td>127.632875</td>\n",
       "      <td>7.986683</td>\n",
       "      <td>Normal</td>\n",
       "    </tr>\n",
       "    <tr>\n",
       "      <th>1</th>\n",
       "      <td>54.920858</td>\n",
       "      <td>18.968430</td>\n",
       "      <td>51.601455</td>\n",
       "      <td>35.952428</td>\n",
       "      <td>125.846646</td>\n",
       "      <td>2.001642</td>\n",
       "      <td>Normal</td>\n",
       "    </tr>\n",
       "    <tr>\n",
       "      <th>2</th>\n",
       "      <td>44.362490</td>\n",
       "      <td>8.945435</td>\n",
       "      <td>46.902096</td>\n",
       "      <td>35.417055</td>\n",
       "      <td>129.220682</td>\n",
       "      <td>4.994195</td>\n",
       "      <td>Normal</td>\n",
       "    </tr>\n",
       "    <tr>\n",
       "      <th>3</th>\n",
       "      <td>48.318931</td>\n",
       "      <td>17.452121</td>\n",
       "      <td>48.000000</td>\n",
       "      <td>30.866809</td>\n",
       "      <td>128.980308</td>\n",
       "      <td>-0.910941</td>\n",
       "      <td>Normal</td>\n",
       "    </tr>\n",
       "    <tr>\n",
       "      <th>4</th>\n",
       "      <td>45.701789</td>\n",
       "      <td>10.659859</td>\n",
       "      <td>42.577846</td>\n",
       "      <td>35.041929</td>\n",
       "      <td>130.178314</td>\n",
       "      <td>-3.388910</td>\n",
       "      <td>Normal</td>\n",
       "    </tr>\n",
       "  </tbody>\n",
       "</table>\n",
       "</div>"
      ],
      "text/plain": [
       "   P_incidence     P_tilt    L_angle    S_slope    P_radius  S_Degree   Class\n",
       "0    38.505273  16.964297  35.112814  21.540976  127.632875  7.986683  Normal\n",
       "1    54.920858  18.968430  51.601455  35.952428  125.846646  2.001642  Normal\n",
       "2    44.362490   8.945435  46.902096  35.417055  129.220682  4.994195  Normal\n",
       "3    48.318931  17.452121  48.000000  30.866809  128.980308 -0.910941  Normal\n",
       "4    45.701789  10.659859  42.577846  35.041929  130.178314 -3.388910  Normal"
      ]
     },
     "execution_count": 266,
     "metadata": {},
     "output_type": "execute_result"
    }
   ],
   "source": [
    "data_normal.head()"
   ]
  },
  {
   "cell_type": "code",
   "execution_count": 267,
   "metadata": {},
   "outputs": [
    {
     "data": {
      "text/html": [
       "<div>\n",
       "<style scoped>\n",
       "    .dataframe tbody tr th:only-of-type {\n",
       "        vertical-align: middle;\n",
       "    }\n",
       "\n",
       "    .dataframe tbody tr th {\n",
       "        vertical-align: top;\n",
       "    }\n",
       "\n",
       "    .dataframe thead th {\n",
       "        text-align: right;\n",
       "    }\n",
       "</style>\n",
       "<table border=\"1\" class=\"dataframe\">\n",
       "  <thead>\n",
       "    <tr style=\"text-align: right;\">\n",
       "      <th></th>\n",
       "      <th>P_incidence</th>\n",
       "      <th>P_tilt</th>\n",
       "      <th>L_angle</th>\n",
       "      <th>S_slope</th>\n",
       "      <th>P_radius</th>\n",
       "      <th>S_Degree</th>\n",
       "      <th>Class</th>\n",
       "    </tr>\n",
       "  </thead>\n",
       "  <tbody>\n",
       "    <tr>\n",
       "      <th>0</th>\n",
       "      <td>63.027818</td>\n",
       "      <td>22.552586</td>\n",
       "      <td>39.609117</td>\n",
       "      <td>40.475232</td>\n",
       "      <td>98.672917</td>\n",
       "      <td>-0.254400</td>\n",
       "      <td>Type_H</td>\n",
       "    </tr>\n",
       "    <tr>\n",
       "      <th>1</th>\n",
       "      <td>39.056951</td>\n",
       "      <td>10.060991</td>\n",
       "      <td>25.015378</td>\n",
       "      <td>28.995960</td>\n",
       "      <td>114.405425</td>\n",
       "      <td>4.564259</td>\n",
       "      <td>Type_H</td>\n",
       "    </tr>\n",
       "    <tr>\n",
       "      <th>2</th>\n",
       "      <td>68.832021</td>\n",
       "      <td>22.218482</td>\n",
       "      <td>50.092194</td>\n",
       "      <td>46.613539</td>\n",
       "      <td>105.985135</td>\n",
       "      <td>-3.530317</td>\n",
       "      <td>Type_H</td>\n",
       "    </tr>\n",
       "    <tr>\n",
       "      <th>3</th>\n",
       "      <td>69.297008</td>\n",
       "      <td>24.652878</td>\n",
       "      <td>44.311238</td>\n",
       "      <td>44.644130</td>\n",
       "      <td>101.868495</td>\n",
       "      <td>11.211523</td>\n",
       "      <td>Type_H</td>\n",
       "    </tr>\n",
       "    <tr>\n",
       "      <th>4</th>\n",
       "      <td>49.712859</td>\n",
       "      <td>9.652075</td>\n",
       "      <td>28.317406</td>\n",
       "      <td>40.060784</td>\n",
       "      <td>108.168725</td>\n",
       "      <td>7.918501</td>\n",
       "      <td>Type_H</td>\n",
       "    </tr>\n",
       "  </tbody>\n",
       "</table>\n",
       "</div>"
      ],
      "text/plain": [
       "   P_incidence     P_tilt    L_angle    S_slope    P_radius   S_Degree   Class\n",
       "0    63.027818  22.552586  39.609117  40.475232   98.672917  -0.254400  Type_H\n",
       "1    39.056951  10.060991  25.015378  28.995960  114.405425   4.564259  Type_H\n",
       "2    68.832021  22.218482  50.092194  46.613539  105.985135  -3.530317  Type_H\n",
       "3    69.297008  24.652878  44.311238  44.644130  101.868495  11.211523  Type_H\n",
       "4    49.712859   9.652075  28.317406  40.060784  108.168725   7.918501  Type_H"
      ]
     },
     "execution_count": 267,
     "metadata": {},
     "output_type": "execute_result"
    }
   ],
   "source": [
    "data_type_h.head()"
   ]
  },
  {
   "cell_type": "code",
   "execution_count": 268,
   "metadata": {},
   "outputs": [
    {
     "data": {
      "text/html": [
       "<div>\n",
       "<style scoped>\n",
       "    .dataframe tbody tr th:only-of-type {\n",
       "        vertical-align: middle;\n",
       "    }\n",
       "\n",
       "    .dataframe tbody tr th {\n",
       "        vertical-align: top;\n",
       "    }\n",
       "\n",
       "    .dataframe thead th {\n",
       "        text-align: right;\n",
       "    }\n",
       "</style>\n",
       "<table border=\"1\" class=\"dataframe\">\n",
       "  <thead>\n",
       "    <tr style=\"text-align: right;\">\n",
       "      <th></th>\n",
       "      <th>P_incidence</th>\n",
       "      <th>P_tilt</th>\n",
       "      <th>L_angle</th>\n",
       "      <th>S_slope</th>\n",
       "      <th>P_radius</th>\n",
       "      <th>S_Degree</th>\n",
       "      <th>Class</th>\n",
       "    </tr>\n",
       "  </thead>\n",
       "  <tbody>\n",
       "    <tr>\n",
       "      <th>0</th>\n",
       "      <td>74.377678</td>\n",
       "      <td>32.053104</td>\n",
       "      <td>78.772013</td>\n",
       "      <td>42.324573</td>\n",
       "      <td>143.560690</td>\n",
       "      <td>56.125906</td>\n",
       "      <td>Type_S</td>\n",
       "    </tr>\n",
       "    <tr>\n",
       "      <th>1</th>\n",
       "      <td>89.680567</td>\n",
       "      <td>32.704435</td>\n",
       "      <td>83.130732</td>\n",
       "      <td>56.976132</td>\n",
       "      <td>129.955476</td>\n",
       "      <td>92.027277</td>\n",
       "      <td>Type_S</td>\n",
       "    </tr>\n",
       "    <tr>\n",
       "      <th>2</th>\n",
       "      <td>44.529051</td>\n",
       "      <td>9.433234</td>\n",
       "      <td>52.000000</td>\n",
       "      <td>35.095817</td>\n",
       "      <td>134.711772</td>\n",
       "      <td>29.106575</td>\n",
       "      <td>Type_S</td>\n",
       "    </tr>\n",
       "    <tr>\n",
       "      <th>3</th>\n",
       "      <td>77.690577</td>\n",
       "      <td>21.380645</td>\n",
       "      <td>64.429442</td>\n",
       "      <td>56.309932</td>\n",
       "      <td>114.818751</td>\n",
       "      <td>26.931841</td>\n",
       "      <td>Type_S</td>\n",
       "    </tr>\n",
       "    <tr>\n",
       "      <th>4</th>\n",
       "      <td>76.147212</td>\n",
       "      <td>21.936186</td>\n",
       "      <td>82.961502</td>\n",
       "      <td>54.211027</td>\n",
       "      <td>123.932010</td>\n",
       "      <td>10.431972</td>\n",
       "      <td>Type_S</td>\n",
       "    </tr>\n",
       "  </tbody>\n",
       "</table>\n",
       "</div>"
      ],
      "text/plain": [
       "   P_incidence     P_tilt    L_angle    S_slope    P_radius   S_Degree   Class\n",
       "0    74.377678  32.053104  78.772013  42.324573  143.560690  56.125906  Type_S\n",
       "1    89.680567  32.704435  83.130732  56.976132  129.955476  92.027277  Type_S\n",
       "2    44.529051   9.433234  52.000000  35.095817  134.711772  29.106575  Type_S\n",
       "3    77.690577  21.380645  64.429442  56.309932  114.818751  26.931841  Type_S\n",
       "4    76.147212  21.936186  82.961502  54.211027  123.932010  10.431972  Type_S"
      ]
     },
     "execution_count": 268,
     "metadata": {},
     "output_type": "execute_result"
    }
   ],
   "source": [
    "data_type_s.head()"
   ]
  },
  {
   "cell_type": "code",
   "execution_count": 269,
   "metadata": {},
   "outputs": [
    {
     "data": {
      "text/html": [
       "<div>\n",
       "<style scoped>\n",
       "    .dataframe tbody tr th:only-of-type {\n",
       "        vertical-align: middle;\n",
       "    }\n",
       "\n",
       "    .dataframe tbody tr th {\n",
       "        vertical-align: top;\n",
       "    }\n",
       "\n",
       "    .dataframe thead th {\n",
       "        text-align: right;\n",
       "    }\n",
       "</style>\n",
       "<table border=\"1\" class=\"dataframe\">\n",
       "  <thead>\n",
       "    <tr style=\"text-align: right;\">\n",
       "      <th></th>\n",
       "      <th>P_incidence</th>\n",
       "      <th>P_tilt</th>\n",
       "      <th>L_angle</th>\n",
       "      <th>S_slope</th>\n",
       "      <th>P_radius</th>\n",
       "      <th>S_Degree</th>\n",
       "      <th>Class</th>\n",
       "    </tr>\n",
       "  </thead>\n",
       "  <tbody>\n",
       "    <tr>\n",
       "      <th>0</th>\n",
       "      <td>38.505273</td>\n",
       "      <td>16.964297</td>\n",
       "      <td>35.112814</td>\n",
       "      <td>21.540976</td>\n",
       "      <td>127.632875</td>\n",
       "      <td>7.986683</td>\n",
       "      <td>Normal</td>\n",
       "    </tr>\n",
       "    <tr>\n",
       "      <th>1</th>\n",
       "      <td>54.920858</td>\n",
       "      <td>18.968430</td>\n",
       "      <td>51.601455</td>\n",
       "      <td>35.952428</td>\n",
       "      <td>125.846646</td>\n",
       "      <td>2.001642</td>\n",
       "      <td>Normal</td>\n",
       "    </tr>\n",
       "    <tr>\n",
       "      <th>2</th>\n",
       "      <td>44.362490</td>\n",
       "      <td>8.945435</td>\n",
       "      <td>46.902096</td>\n",
       "      <td>35.417055</td>\n",
       "      <td>129.220682</td>\n",
       "      <td>4.994195</td>\n",
       "      <td>Normal</td>\n",
       "    </tr>\n",
       "    <tr>\n",
       "      <th>3</th>\n",
       "      <td>48.318931</td>\n",
       "      <td>17.452121</td>\n",
       "      <td>48.000000</td>\n",
       "      <td>30.866809</td>\n",
       "      <td>128.980308</td>\n",
       "      <td>-0.910941</td>\n",
       "      <td>Normal</td>\n",
       "    </tr>\n",
       "    <tr>\n",
       "      <th>4</th>\n",
       "      <td>45.701789</td>\n",
       "      <td>10.659859</td>\n",
       "      <td>42.577846</td>\n",
       "      <td>35.041929</td>\n",
       "      <td>130.178314</td>\n",
       "      <td>-3.388910</td>\n",
       "      <td>Normal</td>\n",
       "    </tr>\n",
       "  </tbody>\n",
       "</table>\n",
       "</div>"
      ],
      "text/plain": [
       "   P_incidence     P_tilt    L_angle    S_slope    P_radius  S_Degree   Class\n",
       "0    38.505273  16.964297  35.112814  21.540976  127.632875  7.986683  Normal\n",
       "1    54.920858  18.968430  51.601455  35.952428  125.846646  2.001642  Normal\n",
       "2    44.362490   8.945435  46.902096  35.417055  129.220682  4.994195  Normal\n",
       "3    48.318931  17.452121  48.000000  30.866809  128.980308 -0.910941  Normal\n",
       "4    45.701789  10.659859  42.577846  35.041929  130.178314 -3.388910  Normal"
      ]
     },
     "execution_count": 269,
     "metadata": {},
     "output_type": "execute_result"
    }
   ],
   "source": [
    "data.head()"
   ]
  },
  {
   "cell_type": "code",
   "execution_count": 270,
   "metadata": {},
   "outputs": [
    {
     "data": {
      "text/html": [
       "<div>\n",
       "<style scoped>\n",
       "    .dataframe tbody tr th:only-of-type {\n",
       "        vertical-align: middle;\n",
       "    }\n",
       "\n",
       "    .dataframe tbody tr th {\n",
       "        vertical-align: top;\n",
       "    }\n",
       "\n",
       "    .dataframe thead th {\n",
       "        text-align: right;\n",
       "    }\n",
       "</style>\n",
       "<table border=\"1\" class=\"dataframe\">\n",
       "  <thead>\n",
       "    <tr style=\"text-align: right;\">\n",
       "      <th></th>\n",
       "      <th>P_incidence</th>\n",
       "      <th>P_tilt</th>\n",
       "      <th>L_angle</th>\n",
       "      <th>S_slope</th>\n",
       "      <th>P_radius</th>\n",
       "      <th>S_Degree</th>\n",
       "    </tr>\n",
       "  </thead>\n",
       "  <tbody>\n",
       "    <tr>\n",
       "      <th>count</th>\n",
       "      <td>100.000000</td>\n",
       "      <td>100.000000</td>\n",
       "      <td>100.000000</td>\n",
       "      <td>100.000000</td>\n",
       "      <td>100.000000</td>\n",
       "      <td>100.000000</td>\n",
       "    </tr>\n",
       "    <tr>\n",
       "      <th>mean</th>\n",
       "      <td>51.685244</td>\n",
       "      <td>12.821414</td>\n",
       "      <td>43.542605</td>\n",
       "      <td>38.863830</td>\n",
       "      <td>123.890834</td>\n",
       "      <td>2.186572</td>\n",
       "    </tr>\n",
       "    <tr>\n",
       "      <th>std</th>\n",
       "      <td>12.368161</td>\n",
       "      <td>6.778503</td>\n",
       "      <td>12.361388</td>\n",
       "      <td>9.624004</td>\n",
       "      <td>9.014246</td>\n",
       "      <td>6.307483</td>\n",
       "    </tr>\n",
       "    <tr>\n",
       "      <th>min</th>\n",
       "      <td>30.741938</td>\n",
       "      <td>-5.845994</td>\n",
       "      <td>19.071075</td>\n",
       "      <td>17.386972</td>\n",
       "      <td>100.501192</td>\n",
       "      <td>-11.058179</td>\n",
       "    </tr>\n",
       "    <tr>\n",
       "      <th>25%</th>\n",
       "      <td>42.817849</td>\n",
       "      <td>8.799951</td>\n",
       "      <td>35.000000</td>\n",
       "      <td>32.340487</td>\n",
       "      <td>118.182659</td>\n",
       "      <td>-1.511360</td>\n",
       "    </tr>\n",
       "    <tr>\n",
       "      <th>50%</th>\n",
       "      <td>50.123115</td>\n",
       "      <td>13.482435</td>\n",
       "      <td>42.638923</td>\n",
       "      <td>37.059694</td>\n",
       "      <td>123.874328</td>\n",
       "      <td>1.152710</td>\n",
       "    </tr>\n",
       "    <tr>\n",
       "      <th>75%</th>\n",
       "      <td>61.470097</td>\n",
       "      <td>16.785953</td>\n",
       "      <td>51.602346</td>\n",
       "      <td>44.608788</td>\n",
       "      <td>129.040401</td>\n",
       "      <td>4.968807</td>\n",
       "    </tr>\n",
       "    <tr>\n",
       "      <th>max</th>\n",
       "      <td>89.834676</td>\n",
       "      <td>29.894119</td>\n",
       "      <td>90.563461</td>\n",
       "      <td>67.195460</td>\n",
       "      <td>147.894637</td>\n",
       "      <td>31.172767</td>\n",
       "    </tr>\n",
       "  </tbody>\n",
       "</table>\n",
       "</div>"
      ],
      "text/plain": [
       "       P_incidence      P_tilt     L_angle     S_slope    P_radius    S_Degree\n",
       "count   100.000000  100.000000  100.000000  100.000000  100.000000  100.000000\n",
       "mean     51.685244   12.821414   43.542605   38.863830  123.890834    2.186572\n",
       "std      12.368161    6.778503   12.361388    9.624004    9.014246    6.307483\n",
       "min      30.741938   -5.845994   19.071075   17.386972  100.501192  -11.058179\n",
       "25%      42.817849    8.799951   35.000000   32.340487  118.182659   -1.511360\n",
       "50%      50.123115   13.482435   42.638923   37.059694  123.874328    1.152710\n",
       "75%      61.470097   16.785953   51.602346   44.608788  129.040401    4.968807\n",
       "max      89.834676   29.894119   90.563461   67.195460  147.894637   31.172767"
      ]
     },
     "execution_count": 270,
     "metadata": {},
     "output_type": "execute_result"
    }
   ],
   "source": [
    "data_normal.describe()"
   ]
  },
  {
   "cell_type": "code",
   "execution_count": 271,
   "metadata": {},
   "outputs": [
    {
     "data": {
      "text/html": [
       "<div>\n",
       "<style scoped>\n",
       "    .dataframe tbody tr th:only-of-type {\n",
       "        vertical-align: middle;\n",
       "    }\n",
       "\n",
       "    .dataframe tbody tr th {\n",
       "        vertical-align: top;\n",
       "    }\n",
       "\n",
       "    .dataframe thead th {\n",
       "        text-align: right;\n",
       "    }\n",
       "</style>\n",
       "<table border=\"1\" class=\"dataframe\">\n",
       "  <thead>\n",
       "    <tr style=\"text-align: right;\">\n",
       "      <th></th>\n",
       "      <th>P_incidence</th>\n",
       "      <th>P_tilt</th>\n",
       "      <th>L_angle</th>\n",
       "      <th>S_slope</th>\n",
       "      <th>P_radius</th>\n",
       "      <th>S_Degree</th>\n",
       "    </tr>\n",
       "  </thead>\n",
       "  <tbody>\n",
       "    <tr>\n",
       "      <th>count</th>\n",
       "      <td>60.000000</td>\n",
       "      <td>60.000000</td>\n",
       "      <td>60.000000</td>\n",
       "      <td>60.000000</td>\n",
       "      <td>60.000000</td>\n",
       "      <td>60.000000</td>\n",
       "    </tr>\n",
       "    <tr>\n",
       "      <th>mean</th>\n",
       "      <td>47.638407</td>\n",
       "      <td>17.398795</td>\n",
       "      <td>35.463524</td>\n",
       "      <td>30.239612</td>\n",
       "      <td>116.474968</td>\n",
       "      <td>2.480251</td>\n",
       "    </tr>\n",
       "    <tr>\n",
       "      <th>std</th>\n",
       "      <td>10.697131</td>\n",
       "      <td>7.016708</td>\n",
       "      <td>9.767795</td>\n",
       "      <td>7.555388</td>\n",
       "      <td>9.355720</td>\n",
       "      <td>5.531177</td>\n",
       "    </tr>\n",
       "    <tr>\n",
       "      <th>min</th>\n",
       "      <td>26.147921</td>\n",
       "      <td>3.144669</td>\n",
       "      <td>14.000000</td>\n",
       "      <td>13.366931</td>\n",
       "      <td>84.241415</td>\n",
       "      <td>-10.675871</td>\n",
       "    </tr>\n",
       "    <tr>\n",
       "      <th>25%</th>\n",
       "      <td>41.018099</td>\n",
       "      <td>12.874329</td>\n",
       "      <td>29.038069</td>\n",
       "      <td>25.215275</td>\n",
       "      <td>112.280320</td>\n",
       "      <td>-0.910819</td>\n",
       "    </tr>\n",
       "    <tr>\n",
       "      <th>50%</th>\n",
       "      <td>46.416169</td>\n",
       "      <td>16.949285</td>\n",
       "      <td>35.164873</td>\n",
       "      <td>30.000659</td>\n",
       "      <td>116.696146</td>\n",
       "      <td>2.542441</td>\n",
       "    </tr>\n",
       "    <tr>\n",
       "      <th>75%</th>\n",
       "      <td>53.922329</td>\n",
       "      <td>22.002980</td>\n",
       "      <td>42.011563</td>\n",
       "      <td>34.962103</td>\n",
       "      <td>122.042999</td>\n",
       "      <td>6.059666</td>\n",
       "    </tr>\n",
       "    <tr>\n",
       "      <th>max</th>\n",
       "      <td>74.433593</td>\n",
       "      <td>41.557331</td>\n",
       "      <td>62.275275</td>\n",
       "      <td>46.613539</td>\n",
       "      <td>137.540613</td>\n",
       "      <td>15.779697</td>\n",
       "    </tr>\n",
       "  </tbody>\n",
       "</table>\n",
       "</div>"
      ],
      "text/plain": [
       "       P_incidence     P_tilt    L_angle    S_slope    P_radius   S_Degree\n",
       "count    60.000000  60.000000  60.000000  60.000000   60.000000  60.000000\n",
       "mean     47.638407  17.398795  35.463524  30.239612  116.474968   2.480251\n",
       "std      10.697131   7.016708   9.767795   7.555388    9.355720   5.531177\n",
       "min      26.147921   3.144669  14.000000  13.366931   84.241415 -10.675871\n",
       "25%      41.018099  12.874329  29.038069  25.215275  112.280320  -0.910819\n",
       "50%      46.416169  16.949285  35.164873  30.000659  116.696146   2.542441\n",
       "75%      53.922329  22.002980  42.011563  34.962103  122.042999   6.059666\n",
       "max      74.433593  41.557331  62.275275  46.613539  137.540613  15.779697"
      ]
     },
     "execution_count": 271,
     "metadata": {},
     "output_type": "execute_result"
    }
   ],
   "source": [
    "data_type_h.describe()"
   ]
  },
  {
   "cell_type": "code",
   "execution_count": 272,
   "metadata": {},
   "outputs": [
    {
     "data": {
      "text/html": [
       "<div>\n",
       "<style scoped>\n",
       "    .dataframe tbody tr th:only-of-type {\n",
       "        vertical-align: middle;\n",
       "    }\n",
       "\n",
       "    .dataframe tbody tr th {\n",
       "        vertical-align: top;\n",
       "    }\n",
       "\n",
       "    .dataframe thead th {\n",
       "        text-align: right;\n",
       "    }\n",
       "</style>\n",
       "<table border=\"1\" class=\"dataframe\">\n",
       "  <thead>\n",
       "    <tr style=\"text-align: right;\">\n",
       "      <th></th>\n",
       "      <th>P_incidence</th>\n",
       "      <th>P_tilt</th>\n",
       "      <th>L_angle</th>\n",
       "      <th>S_slope</th>\n",
       "      <th>P_radius</th>\n",
       "      <th>S_Degree</th>\n",
       "    </tr>\n",
       "  </thead>\n",
       "  <tbody>\n",
       "    <tr>\n",
       "      <th>count</th>\n",
       "      <td>150.000000</td>\n",
       "      <td>150.000000</td>\n",
       "      <td>150.000000</td>\n",
       "      <td>150.000000</td>\n",
       "      <td>150.000000</td>\n",
       "      <td>150.000000</td>\n",
       "    </tr>\n",
       "    <tr>\n",
       "      <th>mean</th>\n",
       "      <td>71.514224</td>\n",
       "      <td>20.748038</td>\n",
       "      <td>64.110108</td>\n",
       "      <td>50.766186</td>\n",
       "      <td>114.518810</td>\n",
       "      <td>51.896687</td>\n",
       "    </tr>\n",
       "    <tr>\n",
       "      <th>std</th>\n",
       "      <td>15.109337</td>\n",
       "      <td>11.506169</td>\n",
       "      <td>16.397068</td>\n",
       "      <td>12.318813</td>\n",
       "      <td>15.579995</td>\n",
       "      <td>40.108030</td>\n",
       "    </tr>\n",
       "    <tr>\n",
       "      <th>min</th>\n",
       "      <td>37.903910</td>\n",
       "      <td>-6.554948</td>\n",
       "      <td>24.710274</td>\n",
       "      <td>19.290046</td>\n",
       "      <td>70.082575</td>\n",
       "      <td>1.010041</td>\n",
       "    </tr>\n",
       "    <tr>\n",
       "      <th>25%</th>\n",
       "      <td>60.658136</td>\n",
       "      <td>13.461149</td>\n",
       "      <td>52.000000</td>\n",
       "      <td>43.166815</td>\n",
       "      <td>104.706761</td>\n",
       "      <td>30.393271</td>\n",
       "    </tr>\n",
       "    <tr>\n",
       "      <th>50%</th>\n",
       "      <td>72.149306</td>\n",
       "      <td>19.309548</td>\n",
       "      <td>62.555200</td>\n",
       "      <td>50.751695</td>\n",
       "      <td>114.842400</td>\n",
       "      <td>42.372509</td>\n",
       "    </tr>\n",
       "    <tr>\n",
       "      <th>75%</th>\n",
       "      <td>81.075893</td>\n",
       "      <td>29.229680</td>\n",
       "      <td>76.990924</td>\n",
       "      <td>56.675435</td>\n",
       "      <td>123.337307</td>\n",
       "      <td>61.894425</td>\n",
       "    </tr>\n",
       "    <tr>\n",
       "      <th>max</th>\n",
       "      <td>129.834041</td>\n",
       "      <td>49.431864</td>\n",
       "      <td>125.742385</td>\n",
       "      <td>121.429566</td>\n",
       "      <td>163.071041</td>\n",
       "      <td>418.543082</td>\n",
       "    </tr>\n",
       "  </tbody>\n",
       "</table>\n",
       "</div>"
      ],
      "text/plain": [
       "       P_incidence      P_tilt     L_angle     S_slope    P_radius    S_Degree\n",
       "count   150.000000  150.000000  150.000000  150.000000  150.000000  150.000000\n",
       "mean     71.514224   20.748038   64.110108   50.766186  114.518810   51.896687\n",
       "std      15.109337   11.506169   16.397068   12.318813   15.579995   40.108030\n",
       "min      37.903910   -6.554948   24.710274   19.290046   70.082575    1.010041\n",
       "25%      60.658136   13.461149   52.000000   43.166815  104.706761   30.393271\n",
       "50%      72.149306   19.309548   62.555200   50.751695  114.842400   42.372509\n",
       "75%      81.075893   29.229680   76.990924   56.675435  123.337307   61.894425\n",
       "max     129.834041   49.431864  125.742385  121.429566  163.071041  418.543082"
      ]
     },
     "execution_count": 272,
     "metadata": {},
     "output_type": "execute_result"
    }
   ],
   "source": [
    "data_type_s.describe()"
   ]
  },
  {
   "cell_type": "code",
   "execution_count": 273,
   "metadata": {},
   "outputs": [
    {
     "data": {
      "text/html": [
       "<div>\n",
       "<style scoped>\n",
       "    .dataframe tbody tr th:only-of-type {\n",
       "        vertical-align: middle;\n",
       "    }\n",
       "\n",
       "    .dataframe tbody tr th {\n",
       "        vertical-align: top;\n",
       "    }\n",
       "\n",
       "    .dataframe thead th {\n",
       "        text-align: right;\n",
       "    }\n",
       "</style>\n",
       "<table border=\"1\" class=\"dataframe\">\n",
       "  <thead>\n",
       "    <tr style=\"text-align: right;\">\n",
       "      <th></th>\n",
       "      <th>P_incidence</th>\n",
       "      <th>P_tilt</th>\n",
       "      <th>L_angle</th>\n",
       "      <th>S_slope</th>\n",
       "      <th>P_radius</th>\n",
       "      <th>S_Degree</th>\n",
       "    </tr>\n",
       "  </thead>\n",
       "  <tbody>\n",
       "    <tr>\n",
       "      <th>count</th>\n",
       "      <td>310.000000</td>\n",
       "      <td>310.000000</td>\n",
       "      <td>310.000000</td>\n",
       "      <td>310.000000</td>\n",
       "      <td>310.000000</td>\n",
       "      <td>310.000000</td>\n",
       "    </tr>\n",
       "    <tr>\n",
       "      <th>mean</th>\n",
       "      <td>60.496653</td>\n",
       "      <td>17.542822</td>\n",
       "      <td>51.930930</td>\n",
       "      <td>42.953831</td>\n",
       "      <td>117.920655</td>\n",
       "      <td>26.296694</td>\n",
       "    </tr>\n",
       "    <tr>\n",
       "      <th>std</th>\n",
       "      <td>17.236520</td>\n",
       "      <td>10.008330</td>\n",
       "      <td>18.554064</td>\n",
       "      <td>13.423102</td>\n",
       "      <td>13.317377</td>\n",
       "      <td>37.559027</td>\n",
       "    </tr>\n",
       "    <tr>\n",
       "      <th>min</th>\n",
       "      <td>26.147921</td>\n",
       "      <td>-6.554948</td>\n",
       "      <td>14.000000</td>\n",
       "      <td>13.366931</td>\n",
       "      <td>70.082575</td>\n",
       "      <td>-11.058179</td>\n",
       "    </tr>\n",
       "    <tr>\n",
       "      <th>25%</th>\n",
       "      <td>46.430294</td>\n",
       "      <td>10.667069</td>\n",
       "      <td>37.000000</td>\n",
       "      <td>33.347122</td>\n",
       "      <td>110.709196</td>\n",
       "      <td>1.603727</td>\n",
       "    </tr>\n",
       "    <tr>\n",
       "      <th>50%</th>\n",
       "      <td>58.691038</td>\n",
       "      <td>16.357689</td>\n",
       "      <td>49.562398</td>\n",
       "      <td>42.404912</td>\n",
       "      <td>118.268178</td>\n",
       "      <td>11.767934</td>\n",
       "    </tr>\n",
       "    <tr>\n",
       "      <th>75%</th>\n",
       "      <td>72.877696</td>\n",
       "      <td>22.120395</td>\n",
       "      <td>63.000000</td>\n",
       "      <td>52.695888</td>\n",
       "      <td>125.467674</td>\n",
       "      <td>41.287352</td>\n",
       "    </tr>\n",
       "    <tr>\n",
       "      <th>max</th>\n",
       "      <td>129.834041</td>\n",
       "      <td>49.431864</td>\n",
       "      <td>125.742385</td>\n",
       "      <td>121.429566</td>\n",
       "      <td>163.071041</td>\n",
       "      <td>418.543082</td>\n",
       "    </tr>\n",
       "  </tbody>\n",
       "</table>\n",
       "</div>"
      ],
      "text/plain": [
       "       P_incidence      P_tilt     L_angle     S_slope    P_radius    S_Degree\n",
       "count   310.000000  310.000000  310.000000  310.000000  310.000000  310.000000\n",
       "mean     60.496653   17.542822   51.930930   42.953831  117.920655   26.296694\n",
       "std      17.236520   10.008330   18.554064   13.423102   13.317377   37.559027\n",
       "min      26.147921   -6.554948   14.000000   13.366931   70.082575  -11.058179\n",
       "25%      46.430294   10.667069   37.000000   33.347122  110.709196    1.603727\n",
       "50%      58.691038   16.357689   49.562398   42.404912  118.268178   11.767934\n",
       "75%      72.877696   22.120395   63.000000   52.695888  125.467674   41.287352\n",
       "max     129.834041   49.431864  125.742385  121.429566  163.071041  418.543082"
      ]
     },
     "execution_count": 273,
     "metadata": {},
     "output_type": "execute_result"
    }
   ],
   "source": [
    "data.describe()"
   ]
  },
  {
   "cell_type": "markdown",
   "metadata": {},
   "source": [
    "It can be observed that the variables have their mean greater than their median, indicating that their distributions may be skewed."
   ]
  },
  {
   "cell_type": "code",
   "execution_count": 274,
   "metadata": {},
   "outputs": [
    {
     "data": {
      "text/html": [
       "<style  type=\"text/css\" >\n",
       "    #T_b8879380_ab67_11eb_814a_50e0853fce2drow0_col0 {\n",
       "            background-color:  #00441b;\n",
       "            color:  #f1f1f1;\n",
       "        }    #T_b8879380_ab67_11eb_814a_50e0853fce2drow0_col1 {\n",
       "            background-color:  #44af79;\n",
       "            color:  #000000;\n",
       "        }    #T_b8879380_ab67_11eb_814a_50e0853fce2drow0_col2 {\n",
       "            background-color:  #258d48;\n",
       "            color:  #000000;\n",
       "        }    #T_b8879380_ab67_11eb_814a_50e0853fce2drow0_col3 {\n",
       "            background-color:  #03702e;\n",
       "            color:  #f1f1f1;\n",
       "        }    #T_b8879380_ab67_11eb_814a_50e0853fce2drow0_col4 {\n",
       "            background-color:  #edf8fb;\n",
       "            color:  #000000;\n",
       "        }    #T_b8879380_ab67_11eb_814a_50e0853fce2drow0_col5 {\n",
       "            background-color:  #3ca86d;\n",
       "            color:  #000000;\n",
       "        }    #T_b8879380_ab67_11eb_814a_50e0853fce2drow1_col0 {\n",
       "            background-color:  #2f9858;\n",
       "            color:  #000000;\n",
       "        }    #T_b8879380_ab67_11eb_814a_50e0853fce2drow1_col1 {\n",
       "            background-color:  #00441b;\n",
       "            color:  #f1f1f1;\n",
       "        }    #T_b8879380_ab67_11eb_814a_50e0853fce2drow1_col2 {\n",
       "            background-color:  #70c6ac;\n",
       "            color:  #000000;\n",
       "        }    #T_b8879380_ab67_11eb_814a_50e0853fce2drow1_col3 {\n",
       "            background-color:  #b7e4da;\n",
       "            color:  #000000;\n",
       "        }    #T_b8879380_ab67_11eb_814a_50e0853fce2drow1_col4 {\n",
       "            background-color:  #c0e7df;\n",
       "            color:  #000000;\n",
       "        }    #T_b8879380_ab67_11eb_814a_50e0853fce2drow1_col5 {\n",
       "            background-color:  #8ad2be;\n",
       "            color:  #000000;\n",
       "        }    #T_b8879380_ab67_11eb_814a_50e0853fce2drow2_col0 {\n",
       "            background-color:  #1d8640;\n",
       "            color:  #000000;\n",
       "        }    #T_b8879380_ab67_11eb_814a_50e0853fce2drow2_col1 {\n",
       "            background-color:  #8ad2be;\n",
       "            color:  #000000;\n",
       "        }    #T_b8879380_ab67_11eb_814a_50e0853fce2drow2_col2 {\n",
       "            background-color:  #00441b;\n",
       "            color:  #f1f1f1;\n",
       "        }    #T_b8879380_ab67_11eb_814a_50e0853fce2drow2_col3 {\n",
       "            background-color:  #2f9858;\n",
       "            color:  #000000;\n",
       "        }    #T_b8879380_ab67_11eb_814a_50e0853fce2drow2_col4 {\n",
       "            background-color:  #d8f0ef;\n",
       "            color:  #000000;\n",
       "        }    #T_b8879380_ab67_11eb_814a_50e0853fce2drow2_col5 {\n",
       "            background-color:  #59bb93;\n",
       "            color:  #000000;\n",
       "        }    #T_b8879380_ab67_11eb_814a_50e0853fce2drow3_col0 {\n",
       "            background-color:  #067230;\n",
       "            color:  #f1f1f1;\n",
       "        }    #T_b8879380_ab67_11eb_814a_50e0853fce2drow3_col1 {\n",
       "            background-color:  #f3fafc;\n",
       "            color:  #000000;\n",
       "        }    #T_b8879380_ab67_11eb_814a_50e0853fce2drow3_col2 {\n",
       "            background-color:  #40ad75;\n",
       "            color:  #000000;\n",
       "        }    #T_b8879380_ab67_11eb_814a_50e0853fce2drow3_col3 {\n",
       "            background-color:  #00441b;\n",
       "            color:  #f1f1f1;\n",
       "        }    #T_b8879380_ab67_11eb_814a_50e0853fce2drow3_col4 {\n",
       "            background-color:  #f7fcfd;\n",
       "            color:  #000000;\n",
       "        }    #T_b8879380_ab67_11eb_814a_50e0853fce2drow3_col5 {\n",
       "            background-color:  #5bbc96;\n",
       "            color:  #000000;\n",
       "        }    #T_b8879380_ab67_11eb_814a_50e0853fce2drow4_col0 {\n",
       "            background-color:  #f7fcfd;\n",
       "            color:  #000000;\n",
       "        }    #T_b8879380_ab67_11eb_814a_50e0853fce2drow4_col1 {\n",
       "            background-color:  #f7fcfd;\n",
       "            color:  #000000;\n",
       "        }    #T_b8879380_ab67_11eb_814a_50e0853fce2drow4_col2 {\n",
       "            background-color:  #f7fcfd;\n",
       "            color:  #000000;\n",
       "        }    #T_b8879380_ab67_11eb_814a_50e0853fce2drow4_col3 {\n",
       "            background-color:  #f7fcfd;\n",
       "            color:  #000000;\n",
       "        }    #T_b8879380_ab67_11eb_814a_50e0853fce2drow4_col4 {\n",
       "            background-color:  #00441b;\n",
       "            color:  #f1f1f1;\n",
       "        }    #T_b8879380_ab67_11eb_814a_50e0853fce2drow4_col5 {\n",
       "            background-color:  #f7fcfd;\n",
       "            color:  #000000;\n",
       "        }    #T_b8879380_ab67_11eb_814a_50e0853fce2drow5_col0 {\n",
       "            background-color:  #2d9655;\n",
       "            color:  #000000;\n",
       "        }    #T_b8879380_ab67_11eb_814a_50e0853fce2drow5_col1 {\n",
       "            background-color:  #98d8c9;\n",
       "            color:  #000000;\n",
       "        }    #T_b8879380_ab67_11eb_814a_50e0853fce2drow5_col2 {\n",
       "            background-color:  #52b78b;\n",
       "            color:  #000000;\n",
       "        }    #T_b8879380_ab67_11eb_814a_50e0853fce2drow5_col3 {\n",
       "            background-color:  #3ca86d;\n",
       "            color:  #000000;\n",
       "        }    #T_b8879380_ab67_11eb_814a_50e0853fce2drow5_col4 {\n",
       "            background-color:  #cfede8;\n",
       "            color:  #000000;\n",
       "        }    #T_b8879380_ab67_11eb_814a_50e0853fce2drow5_col5 {\n",
       "            background-color:  #00441b;\n",
       "            color:  #f1f1f1;\n",
       "        }</style><table id=\"T_b8879380_ab67_11eb_814a_50e0853fce2d\" ><thead>    <tr>        <th class=\"blank level0\" ></th>        <th class=\"col_heading level0 col0\" >P_incidence</th>        <th class=\"col_heading level0 col1\" >P_tilt</th>        <th class=\"col_heading level0 col2\" >L_angle</th>        <th class=\"col_heading level0 col3\" >S_slope</th>        <th class=\"col_heading level0 col4\" >P_radius</th>        <th class=\"col_heading level0 col5\" >S_Degree</th>    </tr></thead><tbody>\n",
       "                <tr>\n",
       "                        <th id=\"T_b8879380_ab67_11eb_814a_50e0853fce2dlevel0_row0\" class=\"row_heading level0 row0\" >P_incidence</th>\n",
       "                        <td id=\"T_b8879380_ab67_11eb_814a_50e0853fce2drow0_col0\" class=\"data row0 col0\" >1.000000</td>\n",
       "                        <td id=\"T_b8879380_ab67_11eb_814a_50e0853fce2drow0_col1\" class=\"data row0 col1\" >0.629199</td>\n",
       "                        <td id=\"T_b8879380_ab67_11eb_814a_50e0853fce2drow0_col2\" class=\"data row0 col2\" >0.717282</td>\n",
       "                        <td id=\"T_b8879380_ab67_11eb_814a_50e0853fce2drow0_col3\" class=\"data row0 col3\" >0.814960</td>\n",
       "                        <td id=\"T_b8879380_ab67_11eb_814a_50e0853fce2drow0_col4\" class=\"data row0 col4\" >-0.247467</td>\n",
       "                        <td id=\"T_b8879380_ab67_11eb_814a_50e0853fce2drow0_col5\" class=\"data row0 col5\" >0.638743</td>\n",
       "            </tr>\n",
       "            <tr>\n",
       "                        <th id=\"T_b8879380_ab67_11eb_814a_50e0853fce2dlevel0_row1\" class=\"row_heading level0 row1\" >P_tilt</th>\n",
       "                        <td id=\"T_b8879380_ab67_11eb_814a_50e0853fce2drow1_col0\" class=\"data row1 col0\" >0.629199</td>\n",
       "                        <td id=\"T_b8879380_ab67_11eb_814a_50e0853fce2drow1_col1\" class=\"data row1 col1\" >1.000000</td>\n",
       "                        <td id=\"T_b8879380_ab67_11eb_814a_50e0853fce2drow1_col2\" class=\"data row1 col2\" >0.432764</td>\n",
       "                        <td id=\"T_b8879380_ab67_11eb_814a_50e0853fce2drow1_col3\" class=\"data row1 col3\" >0.062345</td>\n",
       "                        <td id=\"T_b8879380_ab67_11eb_814a_50e0853fce2drow1_col4\" class=\"data row1 col4\" >0.032668</td>\n",
       "                        <td id=\"T_b8879380_ab67_11eb_814a_50e0853fce2drow1_col5\" class=\"data row1 col5\" >0.397862</td>\n",
       "            </tr>\n",
       "            <tr>\n",
       "                        <th id=\"T_b8879380_ab67_11eb_814a_50e0853fce2dlevel0_row2\" class=\"row_heading level0 row2\" >L_angle</th>\n",
       "                        <td id=\"T_b8879380_ab67_11eb_814a_50e0853fce2drow2_col0\" class=\"data row2 col0\" >0.717282</td>\n",
       "                        <td id=\"T_b8879380_ab67_11eb_814a_50e0853fce2drow2_col1\" class=\"data row2 col1\" >0.432764</td>\n",
       "                        <td id=\"T_b8879380_ab67_11eb_814a_50e0853fce2drow2_col2\" class=\"data row2 col2\" >1.000000</td>\n",
       "                        <td id=\"T_b8879380_ab67_11eb_814a_50e0853fce2drow2_col3\" class=\"data row2 col3\" >0.598387</td>\n",
       "                        <td id=\"T_b8879380_ab67_11eb_814a_50e0853fce2drow2_col4\" class=\"data row2 col4\" >-0.080344</td>\n",
       "                        <td id=\"T_b8879380_ab67_11eb_814a_50e0853fce2drow2_col5\" class=\"data row2 col5\" >0.533667</td>\n",
       "            </tr>\n",
       "            <tr>\n",
       "                        <th id=\"T_b8879380_ab67_11eb_814a_50e0853fce2dlevel0_row3\" class=\"row_heading level0 row3\" >S_slope</th>\n",
       "                        <td id=\"T_b8879380_ab67_11eb_814a_50e0853fce2drow3_col0\" class=\"data row3 col0\" >0.814960</td>\n",
       "                        <td id=\"T_b8879380_ab67_11eb_814a_50e0853fce2drow3_col1\" class=\"data row3 col1\" >0.062345</td>\n",
       "                        <td id=\"T_b8879380_ab67_11eb_814a_50e0853fce2drow3_col2\" class=\"data row3 col2\" >0.598387</td>\n",
       "                        <td id=\"T_b8879380_ab67_11eb_814a_50e0853fce2drow3_col3\" class=\"data row3 col3\" >1.000000</td>\n",
       "                        <td id=\"T_b8879380_ab67_11eb_814a_50e0853fce2drow3_col4\" class=\"data row3 col4\" >-0.342128</td>\n",
       "                        <td id=\"T_b8879380_ab67_11eb_814a_50e0853fce2drow3_col5\" class=\"data row3 col5\" >0.523557</td>\n",
       "            </tr>\n",
       "            <tr>\n",
       "                        <th id=\"T_b8879380_ab67_11eb_814a_50e0853fce2dlevel0_row4\" class=\"row_heading level0 row4\" >P_radius</th>\n",
       "                        <td id=\"T_b8879380_ab67_11eb_814a_50e0853fce2drow4_col0\" class=\"data row4 col0\" >-0.247467</td>\n",
       "                        <td id=\"T_b8879380_ab67_11eb_814a_50e0853fce2drow4_col1\" class=\"data row4 col1\" >0.032668</td>\n",
       "                        <td id=\"T_b8879380_ab67_11eb_814a_50e0853fce2drow4_col2\" class=\"data row4 col2\" >-0.080344</td>\n",
       "                        <td id=\"T_b8879380_ab67_11eb_814a_50e0853fce2drow4_col3\" class=\"data row4 col3\" >-0.342128</td>\n",
       "                        <td id=\"T_b8879380_ab67_11eb_814a_50e0853fce2drow4_col4\" class=\"data row4 col4\" >1.000000</td>\n",
       "                        <td id=\"T_b8879380_ab67_11eb_814a_50e0853fce2drow4_col5\" class=\"data row4 col5\" >-0.026065</td>\n",
       "            </tr>\n",
       "            <tr>\n",
       "                        <th id=\"T_b8879380_ab67_11eb_814a_50e0853fce2dlevel0_row5\" class=\"row_heading level0 row5\" >S_Degree</th>\n",
       "                        <td id=\"T_b8879380_ab67_11eb_814a_50e0853fce2drow5_col0\" class=\"data row5 col0\" >0.638743</td>\n",
       "                        <td id=\"T_b8879380_ab67_11eb_814a_50e0853fce2drow5_col1\" class=\"data row5 col1\" >0.397862</td>\n",
       "                        <td id=\"T_b8879380_ab67_11eb_814a_50e0853fce2drow5_col2\" class=\"data row5 col2\" >0.533667</td>\n",
       "                        <td id=\"T_b8879380_ab67_11eb_814a_50e0853fce2drow5_col3\" class=\"data row5 col3\" >0.523557</td>\n",
       "                        <td id=\"T_b8879380_ab67_11eb_814a_50e0853fce2drow5_col4\" class=\"data row5 col4\" >-0.026065</td>\n",
       "                        <td id=\"T_b8879380_ab67_11eb_814a_50e0853fce2drow5_col5\" class=\"data row5 col5\" >1.000000</td>\n",
       "            </tr>\n",
       "    </tbody></table>"
      ],
      "text/plain": [
       "<pandas.io.formats.style.Styler at 0x1ca7a64a0c8>"
      ]
     },
     "execution_count": 274,
     "metadata": {},
     "output_type": "execute_result"
    }
   ],
   "source": [
    "data.corr().style.background_gradient(cmap='BuGn')"
   ]
  },
  {
   "cell_type": "markdown",
   "metadata": {},
   "source": [
    "1. The highest correlation is between the 'P_incidence' and 'S_slope' columns.\n",
    "2. The 'Class' column seems to has a higher correlation with all the columns except 'P_tilt' and 'P_radius'. \n",
    "3. Also, there is a negative correlation between the 'Class' and 'P_radius' columns"
   ]
  },
  {
   "cell_type": "markdown",
   "metadata": {},
   "source": [
    "<span style=\"font-family: Arial; font-weight:bold;font-size:1em;color:#00b3e5;\"> • Univariate analysis"
   ]
  },
  {
   "cell_type": "code",
   "execution_count": 275,
   "metadata": {},
   "outputs": [
    {
     "data": {
      "text/plain": [
       "Text(0.5, 1.0, 'P_tilt')"
      ]
     },
     "execution_count": 275,
     "metadata": {},
     "output_type": "execute_result"
    },
    {
     "data": {
      "image/png": "[encoded data removed]",
      "text/plain": [
       "<Figure size 1080x360 with 2 Axes>"
      ]
     },
     "metadata": {
      "needs_background": "light"
     },
     "output_type": "display_data"
    },
    {
     "data": {
      "image/png": "[encoded data removed]",
      "text/plain": [
       "<Figure size 1080x360 with 2 Axes>"
      ]
     },
     "metadata": {
      "needs_background": "light"
     },
     "output_type": "display_data"
    }
   ],
   "source": [
    "fig, ax = plt.subplots(1, 2)\n",
    "\n",
    "fig.set_figheight(5)\n",
    "fig.set_figwidth(15)\n",
    "\n",
    "sns.histplot(data['P_incidence'], ax = ax[0])\n",
    "sns.histplot(data['P_tilt'], ax = ax[1])\n",
    "\n",
    "ax[0].set_title('P_incidence')\n",
    "ax[1].set_title('P_tilt')\n",
    "\n",
    "fig, ax = plt.subplots(1, 2)\n",
    "\n",
    "fig.set_figheight(5)\n",
    "fig.set_figwidth(15)\n",
    "\n",
    "sns.boxplot(y = \"P_incidence\",data=data, ax = ax[0])\n",
    "sns.boxplot(y = \"P_tilt\",data=data, ax = ax[1])\n",
    "\n",
    "ax[0].set_title('P_incidence')\n",
    "ax[1].set_title('P_tilt')\n"
   ]
  },
  {
   "cell_type": "markdown",
   "metadata": {},
   "source": [
    "The data of both the 'P_incidence' and 'P_tilt' columns seem to be well distributed."
   ]
  },
  {
   "cell_type": "code",
   "execution_count": 276,
   "metadata": {},
   "outputs": [
    {
     "data": {
      "text/plain": [
       "Text(0.5, 1.0, 'S_slope')"
      ]
     },
     "execution_count": 276,
     "metadata": {},
     "output_type": "execute_result"
    },
    {
     "data": {
      "image/png": "[encoded data removed]",
      "text/plain": [
       "<Figure size 1080x360 with 2 Axes>"
      ]
     },
     "metadata": {
      "needs_background": "light"
     },
     "output_type": "display_data"
    },
    {
     "data": {
      "image/png": "[encoded data removed]",
      "text/plain": [
       "<Figure size 1080x360 with 2 Axes>"
      ]
     },
     "metadata": {
      "needs_background": "light"
     },
     "output_type": "display_data"
    }
   ],
   "source": [
    "fig, ax = plt.subplots(1, 2)\n",
    "\n",
    "fig.set_figheight(5)\n",
    "fig.set_figwidth(15)\n",
    "\n",
    "sns.histplot(data['L_angle'], ax = ax[0])\n",
    "sns.histplot(data['S_slope'], ax = ax[1])\n",
    "\n",
    "ax[0].set_title('L_angle')\n",
    "ax[1].set_title('S_slope')\n",
    "\n",
    "fig, ax = plt.subplots(1, 2)\n",
    "\n",
    "fig.set_figheight(5)\n",
    "fig.set_figwidth(15)\n",
    "\n",
    "sns.boxplot(y = \"L_angle\",data=data, ax = ax[0])\n",
    "sns.boxplot(y = \"S_slope\",data=data, ax = ax[1])\n",
    "\n",
    "ax[0].set_title('L_angle')\n",
    "ax[1].set_title('S_slope')"
   ]
  },
  {
   "cell_type": "markdown",
   "metadata": {},
   "source": [
    "1. The data of the 'L_angle' column seems to have an outlier but it is not a significant one.\n",
    "2. However, the data of the 'S_slope' column seems to be skewed with a significant outlier.  "
   ]
  },
  {
   "cell_type": "code",
   "execution_count": 277,
   "metadata": {},
   "outputs": [
    {
     "data": {
      "text/plain": [
       "Text(0.5, 1.0, 'S_Degree')"
      ]
     },
     "execution_count": 277,
     "metadata": {},
     "output_type": "execute_result"
    },
    {
     "data": {
      "image/png": "[encoded data removed]",
      "text/plain": [
       "<Figure size 1080x360 with 2 Axes>"
      ]
     },
     "metadata": {
      "needs_background": "light"
     },
     "output_type": "display_data"
    },
    {
     "data": {
      "image/png": "[encoded data removed]",
      "text/plain": [
       "<Figure size 1080x360 with 2 Axes>"
      ]
     },
     "metadata": {
      "needs_background": "light"
     },
     "output_type": "display_data"
    }
   ],
   "source": [
    "fig, ax = plt.subplots(1, 2)\n",
    "\n",
    "fig.set_figheight(5)\n",
    "fig.set_figwidth(15)\n",
    "\n",
    "sns.histplot(data['P_radius'], ax = ax[0])\n",
    "sns.histplot(data['S_Degree'], ax = ax[1])\n",
    "\n",
    "ax[0].set_title('P_radius')\n",
    "ax[1].set_title('S_Degree')\n",
    "\n",
    "fig, ax = plt.subplots(1, 2)\n",
    "\n",
    "fig.set_figheight(5)\n",
    "fig.set_figwidth(15)\n",
    "\n",
    "sns.boxplot(y = \"P_radius\",data=data, ax = ax[0])\n",
    "sns.boxplot(y = \"S_slope\",data=data, ax = ax[1])\n",
    "\n",
    "ax[0].set_title('P_radius')\n",
    "ax[1].set_title('S_Degree')"
   ]
  },
  {
   "cell_type": "markdown",
   "metadata": {},
   "source": [
    "1. The data of the 'P_radius' column seems to be seem to be well distributed. \n",
    "2. The data of the 'S_Degree' column seems to be skewed with a significant outlier. "
   ]
  },
  {
   "cell_type": "markdown",
   "metadata": {},
   "source": [
    "<span style=\"font-family: Arial; font-weight:bold;font-size:1em;color:#00b3e5;\"> • Bivariate analysis"
   ]
  },
  {
   "cell_type": "code",
   "execution_count": 278,
   "metadata": {},
   "outputs": [
    {
     "data": {
      "text/plain": [
       "<matplotlib.axes._subplots.AxesSubplot at 0x1ca7c9cfc48>"
      ]
     },
     "execution_count": 278,
     "metadata": {},
     "output_type": "execute_result"
    },
    {
     "data": {
      "image/png": "[encoded data removed]",
      "text/plain": [
       "<Figure size 1080x360 with 2 Axes>"
      ]
     },
     "metadata": {
      "needs_background": "light"
     },
     "output_type": "display_data"
    }
   ],
   "source": [
    "fig, ax = plt.subplots(1, 2)\n",
    "\n",
    "fig.set_figheight(5)\n",
    "fig.set_figwidth(15)\n",
    "\n",
    "sns.barplot(x=\"Class\",y = \"P_incidence\",data=data, ax = ax[0])\n",
    "sns.boxplot(x=\"Class\",y = \"P_incidence\",data=data, ax = ax[1])"
   ]
  },
  {
   "cell_type": "markdown",
   "metadata": {},
   "source": [
    "1. The median of the 'P_incidence' data that belongs to the class 2 is higher than the other ones.\n",
    "2. The IQR of the 'P_incidence' data that belongs to the class 1 is significantly smaller than the others."
   ]
  },
  {
   "cell_type": "code",
   "execution_count": 279,
   "metadata": {},
   "outputs": [
    {
     "data": {
      "text/plain": [
       "<matplotlib.axes._subplots.AxesSubplot at 0x1ca7c7c5748>"
      ]
     },
     "execution_count": 279,
     "metadata": {},
     "output_type": "execute_result"
    },
    {
     "data": {
      "image/png": "[encoded data removed]",
      "text/plain": [
       "<Figure size 1080x360 with 2 Axes>"
      ]
     },
     "metadata": {
      "needs_background": "light"
     },
     "output_type": "display_data"
    }
   ],
   "source": [
    "fig, ax = plt.subplots(1, 2)\n",
    "\n",
    "fig.set_figheight(5)\n",
    "fig.set_figwidth(15)\n",
    "\n",
    "sns.barplot(x=\"Class\",y = \"P_tilt\",data=data, ax = ax[0])\n",
    "sns.boxplot(x=\"Class\",y = \"P_tilt\",data=data, ax = ax[1])"
   ]
  },
  {
   "cell_type": "markdown",
   "metadata": {},
   "source": [
    "1. The medians of the 'P_tilt' data that belongs to the classes 0,1 and 2 are close to each other.\n",
    "2. The IQR of the 'P_tilt' data that belongs to the class 2 is significantly larger than the others."
   ]
  },
  {
   "cell_type": "code",
   "execution_count": 280,
   "metadata": {},
   "outputs": [
    {
     "data": {
      "text/plain": [
       "<matplotlib.axes._subplots.AxesSubplot at 0x1ca7cde0908>"
      ]
     },
     "execution_count": 280,
     "metadata": {},
     "output_type": "execute_result"
    },
    {
     "data": {
      "image/png": "[encoded data removed]",
      "text/plain": [
       "<Figure size 1080x360 with 2 Axes>"
      ]
     },
     "metadata": {
      "needs_background": "light"
     },
     "output_type": "display_data"
    }
   ],
   "source": [
    "fig, ax = plt.subplots(1, 2)\n",
    "\n",
    "fig.set_figheight(5)\n",
    "fig.set_figwidth(15)\n",
    "\n",
    "sns.barplot(x=\"Class\",y = \"L_angle\",data=data, ax = ax[0])\n",
    "sns.boxplot(x=\"Class\",y = \"L_angle\",data=data, ax = ax[1])"
   ]
  },
  {
   "cell_type": "markdown",
   "metadata": {},
   "source": [
    "1. The median of the 'L_angle' data that belongs to the class 2 is higher than the other ones.\n",
    "2. Also, The IQR of the 'L_angle' data that belongs to the class 2 is significantly larger than the others."
   ]
  },
  {
   "cell_type": "code",
   "execution_count": 281,
   "metadata": {},
   "outputs": [
    {
     "data": {
      "text/plain": [
       "<matplotlib.axes._subplots.AxesSubplot at 0x1ca7be51888>"
      ]
     },
     "execution_count": 281,
     "metadata": {},
     "output_type": "execute_result"
    },
    {
     "data": {
      "image/png": "[encoded data removed]",
      "text/plain": [
       "<Figure size 1080x360 with 2 Axes>"
      ]
     },
     "metadata": {
      "needs_background": "light"
     },
     "output_type": "display_data"
    }
   ],
   "source": [
    "fig, ax = plt.subplots(1, 2)\n",
    "\n",
    "fig.set_figheight(5)\n",
    "fig.set_figwidth(15)\n",
    "\n",
    "sns.barplot(x=\"Class\",y = \"S_slope\",data=data, ax = ax[0])\n",
    "sns.boxplot(x=\"Class\",y = \"S_slope\",data=data, ax = ax[1])"
   ]
  },
  {
   "cell_type": "markdown",
   "metadata": {},
   "source": [
    "Similar to the previous cases, the median of the 'S_slope' data that belongs to the class 2 is higher than the other ones."
   ]
  },
  {
   "cell_type": "code",
   "execution_count": 282,
   "metadata": {},
   "outputs": [
    {
     "data": {
      "text/plain": [
       "<matplotlib.axes._subplots.AxesSubplot at 0x1ca7bd34148>"
      ]
     },
     "execution_count": 282,
     "metadata": {},
     "output_type": "execute_result"
    },
    {
     "data": {
      "image/png": "[encoded data removed]",
      "text/plain": [
       "<Figure size 1080x360 with 2 Axes>"
      ]
     },
     "metadata": {
      "needs_background": "light"
     },
     "output_type": "display_data"
    }
   ],
   "source": [
    "fig, ax = plt.subplots(1, 2)\n",
    "\n",
    "fig.set_figheight(5)\n",
    "fig.set_figwidth(15)\n",
    "\n",
    "sns.barplot(x=\"Class\",y = \"P_radius\",data=data, ax = ax[0])\n",
    "sns.boxplot(x=\"Class\",y = \"P_radius\",data=data, ax = ax[1])"
   ]
  },
  {
   "cell_type": "markdown",
   "metadata": {},
   "source": [
    "The medians of the 'P_radius' data that belongs to all the classes seem to be close."
   ]
  },
  {
   "cell_type": "code",
   "execution_count": 283,
   "metadata": {},
   "outputs": [
    {
     "data": {
      "text/plain": [
       "<matplotlib.axes._subplots.AxesSubplot at 0x1ca78db72c8>"
      ]
     },
     "execution_count": 283,
     "metadata": {},
     "output_type": "execute_result"
    },
    {
     "data": {
      "image/png": "[encoded data removed]",
      "text/plain": [
       "<Figure size 1080x360 with 2 Axes>"
      ]
     },
     "metadata": {
      "needs_background": "light"
     },
     "output_type": "display_data"
    }
   ],
   "source": [
    "fig, ax = plt.subplots(1, 2)\n",
    "\n",
    "fig.set_figheight(5)\n",
    "fig.set_figwidth(15)\n",
    "\n",
    "sns.barplot(x=\"Class\",y = \"S_Degree\",data=data, ax = ax[0])\n",
    "sns.boxplot(x=\"Class\",y = \"S_Degree\",data=data, ax = ax[1])"
   ]
  },
  {
   "cell_type": "markdown",
   "metadata": {},
   "source": [
    "The median of the 'S_Degree' data that belongs to the class 2 is significantly higher than the other ones."
   ]
  },
  {
   "cell_type": "markdown",
   "metadata": {},
   "source": [
    "<span style=\"font-family: Arial; font-weight:bold;font-size:2em;color:#00b3e5;\"> 4 Data pre-processing"
   ]
  },
  {
   "cell_type": "code",
   "execution_count": 284,
   "metadata": {},
   "outputs": [],
   "source": [
    "# Convert the class variable to numeric data type\n",
    "le = LabelEncoder()\n",
    "data['Class'] = le.fit_transform(data['Class'])"
   ]
  },
  {
   "cell_type": "code",
   "execution_count": 285,
   "metadata": {},
   "outputs": [
    {
     "data": {
      "text/plain": [
       "Index(['P_incidence', 'P_tilt', 'L_angle', 'S_slope', 'P_radius', 'S_Degree',\n",
       "       'Class'],\n",
       "      dtype='object')"
      ]
     },
     "execution_count": 285,
     "metadata": {},
     "output_type": "execute_result"
    }
   ],
   "source": [
    "data.columns"
   ]
  },
  {
   "cell_type": "markdown",
   "metadata": {},
   "source": [
    "<span style=\"font-family: Arial; font-weight:bold;font-size:1em;color:#00b3e5;\"> • Segregate predictors vs target attributes"
   ]
  },
  {
   "cell_type": "code",
   "execution_count": 286,
   "metadata": {},
   "outputs": [],
   "source": [
    "X = data.drop(labels='Class',axis=1)\n",
    "y = data['Class']"
   ]
  },
  {
   "cell_type": "markdown",
   "metadata": {},
   "source": [
    "<span style=\"font-family: Arial; font-weight:bold;font-size:1em;color:#00b3e5;\"> • Perform normalisation or scaling "
   ]
  },
  {
   "cell_type": "code",
   "execution_count": 287,
   "metadata": {},
   "outputs": [
    {
     "data": {
      "text/html": [
       "<div>\n",
       "<style scoped>\n",
       "    .dataframe tbody tr th:only-of-type {\n",
       "        vertical-align: middle;\n",
       "    }\n",
       "\n",
       "    .dataframe tbody tr th {\n",
       "        vertical-align: top;\n",
       "    }\n",
       "\n",
       "    .dataframe thead th {\n",
       "        text-align: right;\n",
       "    }\n",
       "</style>\n",
       "<table border=\"1\" class=\"dataframe\">\n",
       "  <thead>\n",
       "    <tr style=\"text-align: right;\">\n",
       "      <th></th>\n",
       "      <th>P_incidence</th>\n",
       "      <th>P_tilt</th>\n",
       "      <th>L_angle</th>\n",
       "      <th>S_slope</th>\n",
       "      <th>P_radius</th>\n",
       "      <th>S_Degree</th>\n",
       "    </tr>\n",
       "  </thead>\n",
       "  <tbody>\n",
       "    <tr>\n",
       "      <th>count</th>\n",
       "      <td>3.100000e+02</td>\n",
       "      <td>3.100000e+02</td>\n",
       "      <td>3.100000e+02</td>\n",
       "      <td>3.100000e+02</td>\n",
       "      <td>3.100000e+02</td>\n",
       "      <td>3.100000e+02</td>\n",
       "    </tr>\n",
       "    <tr>\n",
       "      <th>mean</th>\n",
       "      <td>8.702716e-17</td>\n",
       "      <td>2.326096e-16</td>\n",
       "      <td>1.980495e-16</td>\n",
       "      <td>5.121351e-17</td>\n",
       "      <td>-6.274551e-16</td>\n",
       "      <td>-8.156558e-17</td>\n",
       "    </tr>\n",
       "    <tr>\n",
       "      <th>std</th>\n",
       "      <td>1.001617e+00</td>\n",
       "      <td>1.001617e+00</td>\n",
       "      <td>1.001617e+00</td>\n",
       "      <td>1.001617e+00</td>\n",
       "      <td>1.001617e+00</td>\n",
       "      <td>1.001617e+00</td>\n",
       "    </tr>\n",
       "    <tr>\n",
       "      <th>min</th>\n",
       "      <td>-1.996010e+00</td>\n",
       "      <td>-2.411664e+00</td>\n",
       "      <td>-2.047652e+00</td>\n",
       "      <td>-2.207741e+00</td>\n",
       "      <td>-3.597963e+00</td>\n",
       "      <td>-9.961725e-01</td>\n",
       "    </tr>\n",
       "    <tr>\n",
       "      <th>25%</th>\n",
       "      <td>-8.173982e-01</td>\n",
       "      <td>-6.881138e-01</td>\n",
       "      <td>-8.060267e-01</td>\n",
       "      <td>-7.168418e-01</td>\n",
       "      <td>-5.423830e-01</td>\n",
       "      <td>-6.585073e-01</td>\n",
       "    </tr>\n",
       "    <tr>\n",
       "      <th>50%</th>\n",
       "      <td>-1.049246e-01</td>\n",
       "      <td>-1.186061e-01</td>\n",
       "      <td>-1.278621e-01</td>\n",
       "      <td>-4.095971e-02</td>\n",
       "      <td>2.613767e-02</td>\n",
       "      <td>-3.874502e-01</td>\n",
       "    </tr>\n",
       "    <tr>\n",
       "      <th>75%</th>\n",
       "      <td>7.194643e-01</td>\n",
       "      <td>4.581158e-01</td>\n",
       "      <td>5.975493e-01</td>\n",
       "      <td>7.269414e-01</td>\n",
       "      <td>5.676209e-01</td>\n",
       "      <td>3.997679e-01</td>\n",
       "    </tr>\n",
       "    <tr>\n",
       "      <th>max</th>\n",
       "      <td>4.029206e+00</td>\n",
       "      <td>3.191402e+00</td>\n",
       "      <td>3.984615e+00</td>\n",
       "      <td>5.855771e+00</td>\n",
       "      <td>3.395818e+00</td>\n",
       "      <td>1.046035e+01</td>\n",
       "    </tr>\n",
       "  </tbody>\n",
       "</table>\n",
       "</div>"
      ],
      "text/plain": [
       "        P_incidence        P_tilt       L_angle       S_slope      P_radius  \\\n",
       "count  3.100000e+02  3.100000e+02  3.100000e+02  3.100000e+02  3.100000e+02   \n",
       "mean   8.702716e-17  2.326096e-16  1.980495e-16  5.121351e-17 -6.274551e-16   \n",
       "std    1.001617e+00  1.001617e+00  1.001617e+00  1.001617e+00  1.001617e+00   \n",
       "min   -1.996010e+00 -2.411664e+00 -2.047652e+00 -2.207741e+00 -3.597963e+00   \n",
       "25%   -8.173982e-01 -6.881138e-01 -8.060267e-01 -7.168418e-01 -5.423830e-01   \n",
       "50%   -1.049246e-01 -1.186061e-01 -1.278621e-01 -4.095971e-02  2.613767e-02   \n",
       "75%    7.194643e-01  4.581158e-01  5.975493e-01  7.269414e-01  5.676209e-01   \n",
       "max    4.029206e+00  3.191402e+00  3.984615e+00  5.855771e+00  3.395818e+00   \n",
       "\n",
       "           S_Degree  \n",
       "count  3.100000e+02  \n",
       "mean  -8.156558e-17  \n",
       "std    1.001617e+00  \n",
       "min   -9.961725e-01  \n",
       "25%   -6.585073e-01  \n",
       "50%   -3.874502e-01  \n",
       "75%    3.997679e-01  \n",
       "max    1.046035e+01  "
      ]
     },
     "execution_count": 287,
     "metadata": {},
     "output_type": "execute_result"
    }
   ],
   "source": [
    "XScaled  = X.apply(zscore)\n",
    "XScaled.describe()"
   ]
  },
  {
   "cell_type": "markdown",
   "metadata": {},
   "source": [
    "<span style=\"font-family: Arial; font-weight:bold;font-size:1em;color:#00b3e5;\"> • Check for target balancing"
   ]
  },
  {
   "cell_type": "code",
   "execution_count": 288,
   "metadata": {},
   "outputs": [
    {
     "data": {
      "text/plain": [
       "2    0.483871\n",
       "0    0.322581\n",
       "1    0.193548\n",
       "Name: Class, dtype: float64"
      ]
     },
     "execution_count": 288,
     "metadata": {},
     "output_type": "execute_result"
    }
   ],
   "source": [
    "data['Class'].value_counts(normalize='True')"
   ]
  },
  {
   "cell_type": "code",
   "execution_count": 289,
   "metadata": {},
   "outputs": [
    {
     "data": {
      "text/plain": [
       "<matplotlib.axes._subplots.AxesSubplot at 0x1ca78e5f0c8>"
      ]
     },
     "execution_count": 289,
     "metadata": {},
     "output_type": "execute_result"
    },
    {
     "data": {
      "image/png": "[encoded data removed]",
      "text/plain": [
       "<Figure size 432x288 with 1 Axes>"
      ]
     },
     "metadata": {
      "needs_background": "light"
     },
     "output_type": "display_data"
    }
   ],
   "source": [
    "pd.value_counts(data[\"Class\"]).plot(kind=\"bar\")"
   ]
  },
  {
   "cell_type": "markdown",
   "metadata": {},
   "source": [
    "Here, we see that the target variable is not balanced. We try to balance the target variable later. For now, we proceed to the machine learning step."
   ]
  },
  {
   "cell_type": "markdown",
   "metadata": {},
   "source": [
    "<span style=\"font-family: Arial; font-weight:bold;font-size:1em;color:#00b3e5;\"> • Perform train-test split"
   ]
  },
  {
   "cell_type": "code",
   "execution_count": 290,
   "metadata": {},
   "outputs": [],
   "source": [
    "# Consider 30% data for the training purposes\n",
    "X_train, X_test, y_train, y_test = train_test_split(XScaled, y, test_size=0.3, random_state=1)"
   ]
  },
  {
   "cell_type": "code",
   "execution_count": 291,
   "metadata": {},
   "outputs": [
    {
     "data": {
      "text/plain": [
       "2    0.470046\n",
       "0    0.331797\n",
       "1    0.198157\n",
       "Name: Class, dtype: float64"
      ]
     },
     "execution_count": 291,
     "metadata": {},
     "output_type": "execute_result"
    }
   ],
   "source": [
    "y_train.value_counts(normalize='True')"
   ]
  },
  {
   "cell_type": "code",
   "execution_count": 292,
   "metadata": {},
   "outputs": [
    {
     "data": {
      "text/plain": [
       "2    0.516129\n",
       "0    0.301075\n",
       "1    0.182796\n",
       "Name: Class, dtype: float64"
      ]
     },
     "execution_count": 292,
     "metadata": {},
     "output_type": "execute_result"
    }
   ],
   "source": [
    "y_test.value_counts(normalize='True')"
   ]
  },
  {
   "cell_type": "markdown",
   "metadata": {},
   "source": [
    "Here, we see that the training and the testing variables are also imbalanced. However, the proportion of different classes is close to that of the original data."
   ]
  },
  {
   "cell_type": "markdown",
   "metadata": {},
   "source": [
    "<span style=\"font-family: Arial; font-weight:bold;font-size:2em;color:#00b3e5;\"> 5 Model training, testing and tuning"
   ]
  },
  {
   "cell_type": "markdown",
   "metadata": {},
   "source": [
    "<span style=\"font-family: Arial; font-weight:bold;font-size:1em;color:#00b3e5;\">  • Design and train a KNN classifier"
   ]
  },
  {
   "cell_type": "markdown",
   "metadata": {},
   "source": [
    "Here, we consider K value to be 5. Later, we study the effect of different K values and choose an optimal one."
   ]
  },
  {
   "cell_type": "code",
   "execution_count": 293,
   "metadata": {},
   "outputs": [],
   "source": [
    "NNH = KNeighborsClassifier(n_neighbors=5)\n",
    "NNH.fit(X_train, y_train)\n",
    "predicted_labels = NNH.predict(X_test)"
   ]
  },
  {
   "cell_type": "markdown",
   "metadata": {},
   "source": [
    "<span style=\"font-family: Arial; font-weight:bold;font-size:1em;color:#00b3e5;\">  • Classification accuracies for train and test data"
   ]
  },
  {
   "cell_type": "code",
   "execution_count": 294,
   "metadata": {},
   "outputs": [
    {
     "name": "stdout",
     "output_type": "stream",
     "text": [
      "Classification accuracy of the test data : 0.8571428571428571\n"
     ]
    }
   ],
   "source": [
    "print('Classification accuracy of the test data :',NNH.score(X_train, y_train))"
   ]
  },
  {
   "cell_type": "code",
   "execution_count": 295,
   "metadata": {},
   "outputs": [
    {
     "name": "stdout",
     "output_type": "stream",
     "text": [
      "Classification accuracy of the test data : 0.7419354838709677\n"
     ]
    }
   ],
   "source": [
    "print('Classification accuracy of the test data :',NNH.score(X_test, y_test)) "
   ]
  },
  {
   "cell_type": "code",
   "execution_count": 296,
   "metadata": {},
   "outputs": [
    {
     "data": {
      "text/plain": [
       "<matplotlib.axes._subplots.AxesSubplot at 0x1ca76f8cc48>"
      ]
     },
     "execution_count": 296,
     "metadata": {},
     "output_type": "execute_result"
    },
    {
     "data": {
      "image/png": "[encoded data removed]",
      "text/plain": [
       "<Figure size 432x288 with 2 Axes>"
      ]
     },
     "metadata": {
      "needs_background": "light"
     },
     "output_type": "display_data"
    }
   ],
   "source": [
    "conf_mat = metrics.confusion_matrix(y_test,predicted_labels)\n",
    "df_conf_mat = pd.DataFrame(conf_mat)\n",
    "sns.heatmap(df_conf_mat,annot=True,cmap='Blues',fmt='g')"
   ]
  },
  {
   "cell_type": "markdown",
   "metadata": {},
   "source": [
    "<span style=\"font-family: Arial; font-weight:bold;font-size:1em;color:#00b3e5;\">  • Classification report in detail"
   ]
  },
  {
   "cell_type": "code",
   "execution_count": 297,
   "metadata": {},
   "outputs": [
    {
     "name": "stdout",
     "output_type": "stream",
     "text": [
      "              precision    recall  f1-score   support\n",
      "\n",
      "           0       0.61      0.61      0.61        28\n",
      "           1       0.55      0.65      0.59        17\n",
      "           2       0.91      0.85      0.88        48\n",
      "\n",
      "    accuracy                           0.74        93\n",
      "   macro avg       0.69      0.70      0.69        93\n",
      "weighted avg       0.75      0.74      0.75        93\n",
      "\n"
     ]
    }
   ],
   "source": [
    "print(metrics.classification_report(y_test,predicted_labels,digits=2))"
   ]
  },
  {
   "cell_type": "markdown",
   "metadata": {},
   "source": [
    "Using K = 5: \n",
    "1. We observe that 61%, 55% and 91% of the testing varaibles is correctly identified as positive out of the total identified positives of classes 0, 1 and 2 respectively.\n",
    "2.  We observe that 61%, 65% and 85% of the testing varaibles is correctly identified as positive out of the total true actual positives of classes 0, 1 and 2 respectively.\n",
    "3. Also, we observe that 74% of the testing varaibles is correctly identified as either truly positive or truly negative out of all the testing varaibles."
   ]
  },
  {
   "cell_type": "markdown",
   "metadata": {},
   "source": [
    "<span style=\"font-family: Arial; font-weight:bold;font-size:1em;color:#00b3e5;\">  • Automate the task of finding best values of K for KNN"
   ]
  },
  {
   "cell_type": "code",
   "execution_count": 298,
   "metadata": {},
   "outputs": [],
   "source": [
    "K = range(1,50,2)\n",
    "score_list = []\n",
    "predicted_labels = [[]]*len(K)\n",
    "\n",
    "for i in range(0,len(K)):\n",
    "    NNH = KNeighborsClassifier(n_neighbors=K[i],weights='distance')\n",
    "    NNH.fit(X_train, y_train)\n",
    "    predicted_labels[i].append(NNH.predict(X_test))\n",
    "    score = NNH.score(X_test, y_test)\n",
    "    score_list.append(score)"
   ]
  },
  {
   "cell_type": "code",
   "execution_count": 299,
   "metadata": {},
   "outputs": [
    {
     "data": {
      "text/plain": [
       "21"
      ]
     },
     "execution_count": 299,
     "metadata": {},
     "output_type": "execute_result"
    }
   ],
   "source": [
    "K_opt = K[score_list.index(max(score_list))]\n",
    "K_opt"
   ]
  },
  {
   "cell_type": "code",
   "execution_count": 300,
   "metadata": {},
   "outputs": [
    {
     "data": {
      "text/plain": [
       "0.8064516129032258"
      ]
     },
     "execution_count": 300,
     "metadata": {},
     "output_type": "execute_result"
    }
   ],
   "source": [
    "highest_score = max(score_list)\n",
    "highest_score"
   ]
  },
  {
   "cell_type": "markdown",
   "metadata": {},
   "source": [
    "We observe that the optimum value of K equal to 21 gives an accuracy of 81%. Later we will tune the hyperparameters using grid search and compare with these results."
   ]
  },
  {
   "cell_type": "code",
   "execution_count": 301,
   "metadata": {},
   "outputs": [
    {
     "data": {
      "image/png": "[encoded data removed]",
      "text/plain": [
       "<Figure size 432x288 with 1 Axes>"
      ]
     },
     "metadata": {
      "needs_background": "light"
     },
     "output_type": "display_data"
    }
   ],
   "source": [
    "plt.plot(K, score_list,'-*')\n",
    "plt.xlabel('Number of Neighbors K')\n",
    "plt.ylabel('Score')\n",
    "plt.show()"
   ]
  },
  {
   "cell_type": "code",
   "execution_count": 302,
   "metadata": {},
   "outputs": [
    {
     "data": {
      "text/plain": [
       "<matplotlib.axes._subplots.AxesSubplot at 0x1ca76ffc4c8>"
      ]
     },
     "execution_count": 302,
     "metadata": {},
     "output_type": "execute_result"
    },
    {
     "data": {
      "image/png": "[encoded data removed]",
      "text/plain": [
       "<Figure size 432x288 with 2 Axes>"
      ]
     },
     "metadata": {
      "needs_background": "light"
     },
     "output_type": "display_data"
    }
   ],
   "source": [
    "conf_mat = metrics.confusion_matrix(y_test,predicted_labels[score_list.index(max(score_list))][score_list.index(max(score_list))])\n",
    "df_conf_mat = pd.DataFrame(conf_mat)\n",
    "sns.heatmap(df_conf_mat,annot=True,cmap='Blues',fmt='g')"
   ]
  },
  {
   "cell_type": "code",
   "execution_count": 303,
   "metadata": {},
   "outputs": [
    {
     "name": "stdout",
     "output_type": "stream",
     "text": [
      "              precision    recall  f1-score   support\n",
      "\n",
      "           0       0.69      0.71      0.70        28\n",
      "           1       0.74      0.82      0.78        17\n",
      "           2       0.91      0.85      0.88        48\n",
      "\n",
      "    accuracy                           0.81        93\n",
      "   macro avg       0.78      0.80      0.79        93\n",
      "weighted avg       0.81      0.81      0.81        93\n",
      "\n"
     ]
    }
   ],
   "source": [
    "print(metrics.classification_report(y_test,predicted_labels[score_list.index(max(score_list))][score_list.index(max(score_list))],digits=2))"
   ]
  },
  {
   "cell_type": "markdown",
   "metadata": {},
   "source": [
    "Using K = 21: \n",
    "1. We observe that 69%, 74% and 91% of the testing varaibles is correctly identified as positive out of the total identified positives of classes 0, 1 and 2 respectively.\n",
    "2.  We observe that 71%, 82% and 85% of the testing varaibles is correctly identified as positive out of the total true actual positives of classes 0, 1 and 2 respectively.\n",
    "3. Also, we observe that 81% of the testing varaibles is correctly identified as either truly positive or truly negative out of all the testing varaibles."
   ]
  },
  {
   "cell_type": "markdown",
   "metadata": {},
   "source": [
    "<span style=\"font-family: Arial; font-weight:bold;font-size:1em;color:#00b3e5;\"> • Apply all the possible tuning techniques to train the best model for the given data"
   ]
  },
  {
   "cell_type": "markdown",
   "metadata": {},
   "source": [
    "Here, we tune the parameters using grid search. The tuning parameters considered here are:\n",
    "1. different ways of considering weights: uniform - equal weights for all the data, distance - weights inversely proportional to the distance.\n",
    "2. different ways of calculating distance: euclidean - L2 norm, manhattan - L1 norm, minkowski - L$\\infty$ norm."
   ]
  },
  {
   "cell_type": "code",
   "execution_count": 304,
   "metadata": {},
   "outputs": [
    {
     "name": "stdout",
     "output_type": "stream",
     "text": [
      "Best K:  19\n",
      "Best weights:  distance\n",
      "Best metric:  euclidean\n",
      "Best accuracy:  0.8075757575757575\n"
     ]
    }
   ],
   "source": [
    "weights = ['uniform', 'distance']\n",
    "metric = ['euclidean', 'manhattan', 'minkowski']\n",
    "\n",
    "hyperparameters = dict(n_neighbors=K,weights=weights,metric=metric)\n",
    "cv = RepeatedStratifiedKFold(n_splits=10,n_repeats=3,random_state=1)\n",
    "grid_search = GridSearchCV(KNeighborsClassifier(),hyperparameters,cv=cv,scoring='accuracy')\n",
    "best_model = grid_search.fit(X_train,y_train)\n",
    "\n",
    "print('Best K: ', (best_model.best_estimator_.get_params()['n_neighbors']))\n",
    "print('Best weights: ', (best_model.best_estimator_.get_params()['weights']))\n",
    "print('Best metric: ', (best_model.best_estimator_.get_params()['metric']))\n",
    "print('Best accuracy: ', (best_model.best_score_))"
   ]
  },
  {
   "cell_type": "markdown",
   "metadata": {},
   "source": [
    "1. Using grid search, we find that the best value of K is 19 which is different from 21 found earlier. \n",
    "2. However, the accuracy is approximately the same. "
   ]
  },
  {
   "cell_type": "markdown",
   "metadata": {},
   "source": [
    "We conclude that the model with K = 19 or 21 with weights inversely proportional to the distance which is caluclated as euclidean distance as the optimal model."
   ]
  },
  {
   "cell_type": "markdown",
   "metadata": {},
   "source": [
    "<span style=\"font-family: Arial; font-weight:bold;font-size:2em;color:#00b3e5;\"> Target balancing using SMOTE"
   ]
  },
  {
   "cell_type": "code",
   "execution_count": 310,
   "metadata": {},
   "outputs": [
    {
     "data": {
      "text/plain": [
       "2    0.333333\n",
       "1    0.333333\n",
       "0    0.333333\n",
       "Name: Class, dtype: float64"
      ]
     },
     "execution_count": 310,
     "metadata": {},
     "output_type": "execute_result"
    }
   ],
   "source": [
    "smote = SMOTE(random_state=7)\n",
    "X_train_bal,y_train_bal = smote.fit_resample(XScaled,y)\n",
    "y_train_bal.value_counts(normalize='True')"
   ]
  },
  {
   "cell_type": "code",
   "execution_count": 311,
   "metadata": {},
   "outputs": [],
   "source": [
    "K = range(1,50,2)\n",
    "score_list = []\n",
    "predicted_labels = [[]]*len(K)\n",
    "\n",
    "for i in range(0,len(K)):\n",
    "    NNH = KNeighborsClassifier(n_neighbors=K[i],weights='uniform')\n",
    "    NNH.fit(X_train_bal, y_train_bal)\n",
    "    predicted_labels[i].append(NNH.predict(X_test))\n",
    "    score = NNH.score(X_test, y_test)\n",
    "    score_list.append(score)"
   ]
  },
  {
   "cell_type": "code",
   "execution_count": 312,
   "metadata": {},
   "outputs": [
    {
     "data": {
      "text/plain": [
       "1"
      ]
     },
     "execution_count": 312,
     "metadata": {},
     "output_type": "execute_result"
    }
   ],
   "source": [
    "K_opt = K[score_list.index(max(score_list))]\n",
    "K_opt"
   ]
  },
  {
   "cell_type": "code",
   "execution_count": 313,
   "metadata": {},
   "outputs": [
    {
     "data": {
      "text/plain": [
       "1.0"
      ]
     },
     "execution_count": 313,
     "metadata": {},
     "output_type": "execute_result"
    }
   ],
   "source": [
    "highest_score = max(score_list)\n",
    "highest_score"
   ]
  },
  {
   "cell_type": "code",
   "execution_count": 314,
   "metadata": {},
   "outputs": [
    {
     "data": {
      "image/png": "[encoded data removed]",
      "text/plain": [
       "<Figure size 432x288 with 1 Axes>"
      ]
     },
     "metadata": {
      "needs_background": "light"
     },
     "output_type": "display_data"
    }
   ],
   "source": [
    "plt.plot(K, score_list,'-*')\n",
    "plt.xlabel('Number of Neighbors K')\n",
    "plt.ylabel('Score')\n",
    "plt.show()"
   ]
  },
  {
   "cell_type": "markdown",
   "metadata": {},
   "source": [
    "After target balancing, we observe that the model is over-fitted. For this reason, we observe that the K equal to 1 gives the best accuracy."
   ]
  },
  {
   "cell_type": "markdown",
   "metadata": {},
   "source": [
    "<span style=\"font-family: Arial; font-weight:bold;font-size:2em;color:#00b3e5;\"> 6 Conclusions"
   ]
  },
  {
   "cell_type": "markdown",
   "metadata": {},
   "source": [
    "1. The given classification problem consists of 3 medical conditions.\n",
    "2. From the EDA, it is observed that 4 of the 6 variables have a strong correlation with the target variable which is the class of the medical condition.\n",
    "3. By using the K-nearest neighbor algorithm, we are able to obtain a machine learning model with 81% accuracy.\n",
    "4. Standardization of the data improved the performance.\n",
    "5.The target balancing using SMOTE is not improve any results.\n",
    "6. There may be few cases that are misclassified but the class 2 is classified mostly correct."
   ]
  },
  {
   "cell_type": "markdown",
   "metadata": {},
   "source": [
    "<span style=\"font-family: Arial; font-weight:bold;font-size:2em;color:#00b3e5;\"> 7 Improvisations"
   ]
  },
  {
   "cell_type": "markdown",
   "metadata": {},
   "source": [
    "1. The data seem to be well collected as the correlation netween various variables are quite high.\n",
    "2. However, for better analysis,  the data can be improved with several different attributes.\n",
    "3. Also, one should try SVM, Decision tree etc... to obtain better results."
   ]
  },
  {
   "cell_type": "markdown",
   "metadata": {},
   "source": [
    "<span style=\"font-family: Arial; font-weight:bold;font-size:2.5em;color:#00b3e5;\">  Part II"
   ]
  },
  {
   "cell_type": "code",
   "execution_count": 315,
   "metadata": {},
   "outputs": [],
   "source": [
    "# Import standard libraries\n",
    "import pandas as pd\n",
    "import numpy as np\n",
    "import seaborn as sns\n",
    "import matplotlib.pyplot as plt\n",
    "%matplotlib inline\n",
    "\n",
    "# Import data preparation libraries\n",
    "from sklearn.model_selection import train_test_split\n",
    "from imblearn.over_sampling import SMOTE \n",
    "from sklearn.impute import SimpleImputer\n",
    "\n",
    "# Import machine learning libraries\n",
    "from sklearn.linear_model import LogisticRegression\n",
    "from sklearn.naive_bayes import GaussianNB\n",
    "\n",
    "# Import model evaluation libraries\n",
    "from sklearn import metrics\n",
    "from sklearn.model_selection import RepeatedStratifiedKFold\n",
    "from sklearn.model_selection import GridSearchCV"
   ]
  },
  {
   "cell_type": "markdown",
   "metadata": {},
   "source": [
    "<span style=\"font-family: Arial; font-weight:bold;font-size:2em;color:#00b3e5;\">  1. Import and warehouse data:"
   ]
  },
  {
   "cell_type": "markdown",
   "metadata": {},
   "source": [
    "<span style=\"font-family: Arial; font-weight:bold;font-size:1em;color:#00b3e5;\">  • Import all the given datasets and explore shape and size of each"
   ]
  },
  {
   "cell_type": "code",
   "execution_count": 316,
   "metadata": {},
   "outputs": [],
   "source": [
    "# Import the two parts of the data\n",
    "data1 = pd.read_csv('Part2_Data1.csv')\n",
    "data2 = pd.read_csv('Part2_Data2.csv')"
   ]
  },
  {
   "cell_type": "code",
   "execution_count": 317,
   "metadata": {},
   "outputs": [
    {
     "name": "stdout",
     "output_type": "stream",
     "text": [
      "40000\n",
      "35000\n",
      "(5000, 8)\n",
      "(5000, 7)\n"
     ]
    }
   ],
   "source": [
    "# Check size and shape of the data\n",
    "print(data1.size)\n",
    "print(data2.size)\n",
    "print(data1.shape)\n",
    "print(data2.shape)"
   ]
  },
  {
   "cell_type": "markdown",
   "metadata": {},
   "source": [
    "<span style=\"font-family: Arial; font-weight:bold;font-size:1em;color:#00b3e5;\">  • Merge all datasets onto one and explore final shape and size"
   ]
  },
  {
   "cell_type": "code",
   "execution_count": 318,
   "metadata": {},
   "outputs": [
    {
     "name": "stdout",
     "output_type": "stream",
     "text": [
      "75000\n",
      "(5000, 15)\n"
     ]
    }
   ],
   "source": [
    "data = pd.concat([data1,data2],axis=1)\n",
    "print(data.size)\n",
    "print(data.shape)"
   ]
  },
  {
   "cell_type": "markdown",
   "metadata": {},
   "source": [
    "<span style=\"font-family: Arial; font-weight:bold;font-size:2em;color:#00b3e5;\">  2. Data cleansing:"
   ]
  },
  {
   "cell_type": "markdown",
   "metadata": {},
   "source": [
    "<span style=\"font-family: Arial; font-weight:bold;font-size:1em;color:#00b3e5;\"> • Explore and if required correct the datatypes of each attribute"
   ]
  },
  {
   "cell_type": "code",
   "execution_count": 319,
   "metadata": {},
   "outputs": [
    {
     "data": {
      "text/plain": [
       "ID                       int64\n",
       "Age                      int64\n",
       "CustomerSince            int64\n",
       "HighestSpend             int64\n",
       "ZipCode                  int64\n",
       "HiddenScore              int64\n",
       "MonthlyAverageSpend    float64\n",
       "Level                    int64\n",
       "dtype: object"
      ]
     },
     "execution_count": 319,
     "metadata": {},
     "output_type": "execute_result"
    }
   ],
   "source": [
    "# Check the data types of the first part of data\n",
    "data1.dtypes"
   ]
  },
  {
   "cell_type": "code",
   "execution_count": 320,
   "metadata": {},
   "outputs": [
    {
     "data": {
      "text/plain": [
       "ID                       int64\n",
       "Mortgage                 int64\n",
       "Security                 int64\n",
       "FixedDepositAccount      int64\n",
       "InternetBanking          int64\n",
       "CreditCard               int64\n",
       "LoanOnCard             float64\n",
       "dtype: object"
      ]
     },
     "execution_count": 320,
     "metadata": {},
     "output_type": "execute_result"
    }
   ],
   "source": [
    "# Check the data types of the second part of data\n",
    "data2.dtypes"
   ]
  },
  {
   "cell_type": "code",
   "execution_count": 321,
   "metadata": {},
   "outputs": [
    {
     "data": {
      "text/plain": [
       "ID                       int64\n",
       "Age                      int64\n",
       "CustomerSince            int64\n",
       "HighestSpend             int64\n",
       "ZipCode                  int64\n",
       "HiddenScore              int64\n",
       "MonthlyAverageSpend    float64\n",
       "Level                    int64\n",
       "ID                       int64\n",
       "Mortgage                 int64\n",
       "Security                 int64\n",
       "FixedDepositAccount      int64\n",
       "InternetBanking          int64\n",
       "CreditCard               int64\n",
       "LoanOnCard             float64\n",
       "dtype: object"
      ]
     },
     "execution_count": 321,
     "metadata": {},
     "output_type": "execute_result"
    }
   ],
   "source": [
    "data.dtypes"
   ]
  },
  {
   "cell_type": "markdown",
   "metadata": {},
   "source": [
    "The given data consists of only numeric data types. Hence there is no need to employ any encoding techniques. "
   ]
  },
  {
   "cell_type": "code",
   "execution_count": 322,
   "metadata": {},
   "outputs": [
    {
     "data": {
      "text/html": [
       "<div>\n",
       "<style scoped>\n",
       "    .dataframe tbody tr th:only-of-type {\n",
       "        vertical-align: middle;\n",
       "    }\n",
       "\n",
       "    .dataframe tbody tr th {\n",
       "        vertical-align: top;\n",
       "    }\n",
       "\n",
       "    .dataframe thead th {\n",
       "        text-align: right;\n",
       "    }\n",
       "</style>\n",
       "<table border=\"1\" class=\"dataframe\">\n",
       "  <thead>\n",
       "    <tr style=\"text-align: right;\">\n",
       "      <th></th>\n",
       "      <th>ID</th>\n",
       "      <th>Age</th>\n",
       "      <th>CustomerSince</th>\n",
       "      <th>HighestSpend</th>\n",
       "      <th>ZipCode</th>\n",
       "      <th>HiddenScore</th>\n",
       "      <th>MonthlyAverageSpend</th>\n",
       "      <th>Level</th>\n",
       "      <th>ID</th>\n",
       "      <th>Mortgage</th>\n",
       "      <th>Security</th>\n",
       "      <th>FixedDepositAccount</th>\n",
       "      <th>InternetBanking</th>\n",
       "      <th>CreditCard</th>\n",
       "      <th>LoanOnCard</th>\n",
       "    </tr>\n",
       "  </thead>\n",
       "  <tbody>\n",
       "    <tr>\n",
       "      <th>0</th>\n",
       "      <td>1</td>\n",
       "      <td>25</td>\n",
       "      <td>1</td>\n",
       "      <td>49</td>\n",
       "      <td>91107</td>\n",
       "      <td>4</td>\n",
       "      <td>1.6</td>\n",
       "      <td>1</td>\n",
       "      <td>1</td>\n",
       "      <td>0</td>\n",
       "      <td>1</td>\n",
       "      <td>0</td>\n",
       "      <td>0</td>\n",
       "      <td>0</td>\n",
       "      <td>NaN</td>\n",
       "    </tr>\n",
       "    <tr>\n",
       "      <th>1</th>\n",
       "      <td>2</td>\n",
       "      <td>45</td>\n",
       "      <td>19</td>\n",
       "      <td>34</td>\n",
       "      <td>90089</td>\n",
       "      <td>3</td>\n",
       "      <td>1.5</td>\n",
       "      <td>1</td>\n",
       "      <td>2</td>\n",
       "      <td>0</td>\n",
       "      <td>1</td>\n",
       "      <td>0</td>\n",
       "      <td>0</td>\n",
       "      <td>0</td>\n",
       "      <td>NaN</td>\n",
       "    </tr>\n",
       "    <tr>\n",
       "      <th>2</th>\n",
       "      <td>3</td>\n",
       "      <td>39</td>\n",
       "      <td>15</td>\n",
       "      <td>11</td>\n",
       "      <td>94720</td>\n",
       "      <td>1</td>\n",
       "      <td>1.0</td>\n",
       "      <td>1</td>\n",
       "      <td>3</td>\n",
       "      <td>0</td>\n",
       "      <td>0</td>\n",
       "      <td>0</td>\n",
       "      <td>0</td>\n",
       "      <td>0</td>\n",
       "      <td>NaN</td>\n",
       "    </tr>\n",
       "    <tr>\n",
       "      <th>3</th>\n",
       "      <td>4</td>\n",
       "      <td>35</td>\n",
       "      <td>9</td>\n",
       "      <td>100</td>\n",
       "      <td>94112</td>\n",
       "      <td>1</td>\n",
       "      <td>2.7</td>\n",
       "      <td>2</td>\n",
       "      <td>4</td>\n",
       "      <td>0</td>\n",
       "      <td>0</td>\n",
       "      <td>0</td>\n",
       "      <td>0</td>\n",
       "      <td>0</td>\n",
       "      <td>NaN</td>\n",
       "    </tr>\n",
       "    <tr>\n",
       "      <th>4</th>\n",
       "      <td>5</td>\n",
       "      <td>35</td>\n",
       "      <td>8</td>\n",
       "      <td>45</td>\n",
       "      <td>91330</td>\n",
       "      <td>4</td>\n",
       "      <td>1.0</td>\n",
       "      <td>2</td>\n",
       "      <td>5</td>\n",
       "      <td>0</td>\n",
       "      <td>0</td>\n",
       "      <td>0</td>\n",
       "      <td>0</td>\n",
       "      <td>1</td>\n",
       "      <td>NaN</td>\n",
       "    </tr>\n",
       "  </tbody>\n",
       "</table>\n",
       "</div>"
      ],
      "text/plain": [
       "   ID  Age  CustomerSince  HighestSpend  ZipCode  HiddenScore  \\\n",
       "0   1   25              1            49    91107            4   \n",
       "1   2   45             19            34    90089            3   \n",
       "2   3   39             15            11    94720            1   \n",
       "3   4   35              9           100    94112            1   \n",
       "4   5   35              8            45    91330            4   \n",
       "\n",
       "   MonthlyAverageSpend  Level  ID  Mortgage  Security  FixedDepositAccount  \\\n",
       "0                  1.6      1   1         0         1                    0   \n",
       "1                  1.5      1   2         0         1                    0   \n",
       "2                  1.0      1   3         0         0                    0   \n",
       "3                  2.7      2   4         0         0                    0   \n",
       "4                  1.0      2   5         0         0                    0   \n",
       "\n",
       "   InternetBanking  CreditCard  LoanOnCard  \n",
       "0                0           0         NaN  \n",
       "1                0           0         NaN  \n",
       "2                0           0         NaN  \n",
       "3                0           0         NaN  \n",
       "4                0           1         NaN  "
      ]
     },
     "execution_count": 322,
     "metadata": {},
     "output_type": "execute_result"
    }
   ],
   "source": [
    "data.head()"
   ]
  },
  {
   "cell_type": "markdown",
   "metadata": {},
   "source": [
    "The columns titled 'ID' and 'ZipCode' have one-to-one mapping and can be dropped."
   ]
  },
  {
   "cell_type": "code",
   "execution_count": 323,
   "metadata": {},
   "outputs": [],
   "source": [
    "data = data.drop(['ID','ZipCode'],axis=1)"
   ]
  },
  {
   "cell_type": "code",
   "execution_count": 324,
   "metadata": {},
   "outputs": [
    {
     "data": {
      "text/html": [
       "<div>\n",
       "<style scoped>\n",
       "    .dataframe tbody tr th:only-of-type {\n",
       "        vertical-align: middle;\n",
       "    }\n",
       "\n",
       "    .dataframe tbody tr th {\n",
       "        vertical-align: top;\n",
       "    }\n",
       "\n",
       "    .dataframe thead th {\n",
       "        text-align: right;\n",
       "    }\n",
       "</style>\n",
       "<table border=\"1\" class=\"dataframe\">\n",
       "  <thead>\n",
       "    <tr style=\"text-align: right;\">\n",
       "      <th></th>\n",
       "      <th>Age</th>\n",
       "      <th>CustomerSince</th>\n",
       "      <th>HighestSpend</th>\n",
       "      <th>HiddenScore</th>\n",
       "      <th>MonthlyAverageSpend</th>\n",
       "      <th>Level</th>\n",
       "      <th>Mortgage</th>\n",
       "      <th>Security</th>\n",
       "      <th>FixedDepositAccount</th>\n",
       "      <th>InternetBanking</th>\n",
       "      <th>CreditCard</th>\n",
       "      <th>LoanOnCard</th>\n",
       "    </tr>\n",
       "  </thead>\n",
       "  <tbody>\n",
       "    <tr>\n",
       "      <th>0</th>\n",
       "      <td>25</td>\n",
       "      <td>1</td>\n",
       "      <td>49</td>\n",
       "      <td>4</td>\n",
       "      <td>1.6</td>\n",
       "      <td>1</td>\n",
       "      <td>0</td>\n",
       "      <td>1</td>\n",
       "      <td>0</td>\n",
       "      <td>0</td>\n",
       "      <td>0</td>\n",
       "      <td>NaN</td>\n",
       "    </tr>\n",
       "    <tr>\n",
       "      <th>1</th>\n",
       "      <td>45</td>\n",
       "      <td>19</td>\n",
       "      <td>34</td>\n",
       "      <td>3</td>\n",
       "      <td>1.5</td>\n",
       "      <td>1</td>\n",
       "      <td>0</td>\n",
       "      <td>1</td>\n",
       "      <td>0</td>\n",
       "      <td>0</td>\n",
       "      <td>0</td>\n",
       "      <td>NaN</td>\n",
       "    </tr>\n",
       "    <tr>\n",
       "      <th>2</th>\n",
       "      <td>39</td>\n",
       "      <td>15</td>\n",
       "      <td>11</td>\n",
       "      <td>1</td>\n",
       "      <td>1.0</td>\n",
       "      <td>1</td>\n",
       "      <td>0</td>\n",
       "      <td>0</td>\n",
       "      <td>0</td>\n",
       "      <td>0</td>\n",
       "      <td>0</td>\n",
       "      <td>NaN</td>\n",
       "    </tr>\n",
       "    <tr>\n",
       "      <th>3</th>\n",
       "      <td>35</td>\n",
       "      <td>9</td>\n",
       "      <td>100</td>\n",
       "      <td>1</td>\n",
       "      <td>2.7</td>\n",
       "      <td>2</td>\n",
       "      <td>0</td>\n",
       "      <td>0</td>\n",
       "      <td>0</td>\n",
       "      <td>0</td>\n",
       "      <td>0</td>\n",
       "      <td>NaN</td>\n",
       "    </tr>\n",
       "    <tr>\n",
       "      <th>4</th>\n",
       "      <td>35</td>\n",
       "      <td>8</td>\n",
       "      <td>45</td>\n",
       "      <td>4</td>\n",
       "      <td>1.0</td>\n",
       "      <td>2</td>\n",
       "      <td>0</td>\n",
       "      <td>0</td>\n",
       "      <td>0</td>\n",
       "      <td>0</td>\n",
       "      <td>1</td>\n",
       "      <td>NaN</td>\n",
       "    </tr>\n",
       "  </tbody>\n",
       "</table>\n",
       "</div>"
      ],
      "text/plain": [
       "   Age  CustomerSince  HighestSpend  HiddenScore  MonthlyAverageSpend  Level  \\\n",
       "0   25              1            49            4                  1.6      1   \n",
       "1   45             19            34            3                  1.5      1   \n",
       "2   39             15            11            1                  1.0      1   \n",
       "3   35              9           100            1                  2.7      2   \n",
       "4   35              8            45            4                  1.0      2   \n",
       "\n",
       "   Mortgage  Security  FixedDepositAccount  InternetBanking  CreditCard  \\\n",
       "0         0         1                    0                0           0   \n",
       "1         0         1                    0                0           0   \n",
       "2         0         0                    0                0           0   \n",
       "3         0         0                    0                0           0   \n",
       "4         0         0                    0                0           1   \n",
       "\n",
       "   LoanOnCard  \n",
       "0         NaN  \n",
       "1         NaN  \n",
       "2         NaN  \n",
       "3         NaN  \n",
       "4         NaN  "
      ]
     },
     "execution_count": 324,
     "metadata": {},
     "output_type": "execute_result"
    }
   ],
   "source": [
    "data.head()"
   ]
  },
  {
   "cell_type": "markdown",
   "metadata": {},
   "source": [
    "It can be seen from the data that there are some null values. These are imputed in the next section."
   ]
  },
  {
   "cell_type": "markdown",
   "metadata": {},
   "source": [
    "<span style=\"font-family: Arial; font-weight:bold;font-size:1em;color:#00b3e5;\"> • Explore for null values in the attributes and if required drop or impute values."
   ]
  },
  {
   "cell_type": "code",
   "execution_count": 325,
   "metadata": {},
   "outputs": [
    {
     "data": {
      "text/plain": [
       "Age                     0\n",
       "CustomerSince           0\n",
       "HighestSpend            0\n",
       "HiddenScore             0\n",
       "MonthlyAverageSpend     0\n",
       "Level                   0\n",
       "Mortgage                0\n",
       "Security                0\n",
       "FixedDepositAccount     0\n",
       "InternetBanking         0\n",
       "CreditCard              0\n",
       "LoanOnCard             20\n",
       "dtype: int64"
      ]
     },
     "execution_count": 325,
     "metadata": {},
     "output_type": "execute_result"
    }
   ],
   "source": [
    "# Get the total number of null values in the data\n",
    "data.isna().sum()"
   ]
  },
  {
   "cell_type": "code",
   "execution_count": 326,
   "metadata": {},
   "outputs": [],
   "source": [
    "# Impute the null values using the most frequently occuring values in the respective column\n",
    "columns = data.columns\n",
    "imputer = SimpleImputer(missing_values = np.nan, strategy ='most_frequent',copy=False)\n",
    "data_imp = pd.DataFrame(imputer.fit_transform(data))"
   ]
  },
  {
   "cell_type": "code",
   "execution_count": 327,
   "metadata": {},
   "outputs": [],
   "source": [
    "data_imp.columns=data.columns\n",
    "data = data_imp"
   ]
  },
  {
   "cell_type": "code",
   "execution_count": 328,
   "metadata": {},
   "outputs": [
    {
     "data": {
      "text/plain": [
       "Age                    0\n",
       "CustomerSince          0\n",
       "HighestSpend           0\n",
       "HiddenScore            0\n",
       "MonthlyAverageSpend    0\n",
       "Level                  0\n",
       "Mortgage               0\n",
       "Security               0\n",
       "FixedDepositAccount    0\n",
       "InternetBanking        0\n",
       "CreditCard             0\n",
       "LoanOnCard             0\n",
       "dtype: int64"
      ]
     },
     "execution_count": 328,
     "metadata": {},
     "output_type": "execute_result"
    }
   ],
   "source": [
    "data.isna().sum()"
   ]
  },
  {
   "cell_type": "markdown",
   "metadata": {},
   "source": [
    "It can be seen from the above result that all the null values are successfully imputed."
   ]
  },
  {
   "cell_type": "markdown",
   "metadata": {},
   "source": [
    "<span style=\"font-family: Arial; font-weight:bold;font-size:2em;color:#00b3e5;\">  3. Data analysis & visualisation"
   ]
  },
  {
   "cell_type": "markdown",
   "metadata": {},
   "source": [
    "<span style=\"font-family: Arial; font-weight:bold;font-size:1em;color:#00b3e5;\"> • Perform detailed statistical analysis on the data"
   ]
  },
  {
   "cell_type": "code",
   "execution_count": 329,
   "metadata": {},
   "outputs": [
    {
     "data": {
      "text/plain": [
       "Age                     45\n",
       "CustomerSince           47\n",
       "HighestSpend           162\n",
       "HiddenScore              4\n",
       "MonthlyAverageSpend    108\n",
       "Level                    3\n",
       "Mortgage               347\n",
       "Security                 2\n",
       "FixedDepositAccount      2\n",
       "InternetBanking          2\n",
       "CreditCard               2\n",
       "LoanOnCard               2\n",
       "dtype: int64"
      ]
     },
     "execution_count": 329,
     "metadata": {},
     "output_type": "execute_result"
    }
   ],
   "source": [
    "data.nunique()"
   ]
  },
  {
   "cell_type": "markdown",
   "metadata": {},
   "source": [
    "The data has 5 continuous variables and 7 class variables. Here, the target variable 'LoanOnCard' has 2 classes. "
   ]
  },
  {
   "cell_type": "code",
   "execution_count": 330,
   "metadata": {},
   "outputs": [
    {
     "data": {
      "text/html": [
       "<div>\n",
       "<style scoped>\n",
       "    .dataframe tbody tr th:only-of-type {\n",
       "        vertical-align: middle;\n",
       "    }\n",
       "\n",
       "    .dataframe tbody tr th {\n",
       "        vertical-align: top;\n",
       "    }\n",
       "\n",
       "    .dataframe thead th {\n",
       "        text-align: right;\n",
       "    }\n",
       "</style>\n",
       "<table border=\"1\" class=\"dataframe\">\n",
       "  <thead>\n",
       "    <tr style=\"text-align: right;\">\n",
       "      <th></th>\n",
       "      <th>Age</th>\n",
       "      <th>CustomerSince</th>\n",
       "      <th>HighestSpend</th>\n",
       "      <th>HiddenScore</th>\n",
       "      <th>MonthlyAverageSpend</th>\n",
       "      <th>Level</th>\n",
       "      <th>Mortgage</th>\n",
       "      <th>Security</th>\n",
       "      <th>FixedDepositAccount</th>\n",
       "      <th>InternetBanking</th>\n",
       "      <th>CreditCard</th>\n",
       "      <th>LoanOnCard</th>\n",
       "    </tr>\n",
       "  </thead>\n",
       "  <tbody>\n",
       "    <tr>\n",
       "      <th>count</th>\n",
       "      <td>5000.000000</td>\n",
       "      <td>5000.000000</td>\n",
       "      <td>5000.000000</td>\n",
       "      <td>5000.000000</td>\n",
       "      <td>5000.000000</td>\n",
       "      <td>5000.000000</td>\n",
       "      <td>5000.000000</td>\n",
       "      <td>5000.000000</td>\n",
       "      <td>5000.00000</td>\n",
       "      <td>5000.000000</td>\n",
       "      <td>5000.000000</td>\n",
       "      <td>5000.000000</td>\n",
       "    </tr>\n",
       "    <tr>\n",
       "      <th>mean</th>\n",
       "      <td>45.338400</td>\n",
       "      <td>20.104600</td>\n",
       "      <td>73.774200</td>\n",
       "      <td>2.396400</td>\n",
       "      <td>1.937938</td>\n",
       "      <td>1.881000</td>\n",
       "      <td>56.498800</td>\n",
       "      <td>0.104400</td>\n",
       "      <td>0.06040</td>\n",
       "      <td>0.596800</td>\n",
       "      <td>0.294000</td>\n",
       "      <td>0.096000</td>\n",
       "    </tr>\n",
       "    <tr>\n",
       "      <th>std</th>\n",
       "      <td>11.463166</td>\n",
       "      <td>11.467954</td>\n",
       "      <td>46.033729</td>\n",
       "      <td>1.147663</td>\n",
       "      <td>1.747659</td>\n",
       "      <td>0.839869</td>\n",
       "      <td>101.713802</td>\n",
       "      <td>0.305809</td>\n",
       "      <td>0.23825</td>\n",
       "      <td>0.490589</td>\n",
       "      <td>0.455637</td>\n",
       "      <td>0.294621</td>\n",
       "    </tr>\n",
       "    <tr>\n",
       "      <th>min</th>\n",
       "      <td>23.000000</td>\n",
       "      <td>-3.000000</td>\n",
       "      <td>8.000000</td>\n",
       "      <td>1.000000</td>\n",
       "      <td>0.000000</td>\n",
       "      <td>1.000000</td>\n",
       "      <td>0.000000</td>\n",
       "      <td>0.000000</td>\n",
       "      <td>0.00000</td>\n",
       "      <td>0.000000</td>\n",
       "      <td>0.000000</td>\n",
       "      <td>0.000000</td>\n",
       "    </tr>\n",
       "    <tr>\n",
       "      <th>25%</th>\n",
       "      <td>35.000000</td>\n",
       "      <td>10.000000</td>\n",
       "      <td>39.000000</td>\n",
       "      <td>1.000000</td>\n",
       "      <td>0.700000</td>\n",
       "      <td>1.000000</td>\n",
       "      <td>0.000000</td>\n",
       "      <td>0.000000</td>\n",
       "      <td>0.00000</td>\n",
       "      <td>0.000000</td>\n",
       "      <td>0.000000</td>\n",
       "      <td>0.000000</td>\n",
       "    </tr>\n",
       "    <tr>\n",
       "      <th>50%</th>\n",
       "      <td>45.000000</td>\n",
       "      <td>20.000000</td>\n",
       "      <td>64.000000</td>\n",
       "      <td>2.000000</td>\n",
       "      <td>1.500000</td>\n",
       "      <td>2.000000</td>\n",
       "      <td>0.000000</td>\n",
       "      <td>0.000000</td>\n",
       "      <td>0.00000</td>\n",
       "      <td>1.000000</td>\n",
       "      <td>0.000000</td>\n",
       "      <td>0.000000</td>\n",
       "    </tr>\n",
       "    <tr>\n",
       "      <th>75%</th>\n",
       "      <td>55.000000</td>\n",
       "      <td>30.000000</td>\n",
       "      <td>98.000000</td>\n",
       "      <td>3.000000</td>\n",
       "      <td>2.500000</td>\n",
       "      <td>3.000000</td>\n",
       "      <td>101.000000</td>\n",
       "      <td>0.000000</td>\n",
       "      <td>0.00000</td>\n",
       "      <td>1.000000</td>\n",
       "      <td>1.000000</td>\n",
       "      <td>0.000000</td>\n",
       "    </tr>\n",
       "    <tr>\n",
       "      <th>max</th>\n",
       "      <td>67.000000</td>\n",
       "      <td>43.000000</td>\n",
       "      <td>224.000000</td>\n",
       "      <td>4.000000</td>\n",
       "      <td>10.000000</td>\n",
       "      <td>3.000000</td>\n",
       "      <td>635.000000</td>\n",
       "      <td>1.000000</td>\n",
       "      <td>1.00000</td>\n",
       "      <td>1.000000</td>\n",
       "      <td>1.000000</td>\n",
       "      <td>1.000000</td>\n",
       "    </tr>\n",
       "  </tbody>\n",
       "</table>\n",
       "</div>"
      ],
      "text/plain": [
       "               Age  CustomerSince  HighestSpend  HiddenScore  \\\n",
       "count  5000.000000    5000.000000   5000.000000  5000.000000   \n",
       "mean     45.338400      20.104600     73.774200     2.396400   \n",
       "std      11.463166      11.467954     46.033729     1.147663   \n",
       "min      23.000000      -3.000000      8.000000     1.000000   \n",
       "25%      35.000000      10.000000     39.000000     1.000000   \n",
       "50%      45.000000      20.000000     64.000000     2.000000   \n",
       "75%      55.000000      30.000000     98.000000     3.000000   \n",
       "max      67.000000      43.000000    224.000000     4.000000   \n",
       "\n",
       "       MonthlyAverageSpend        Level     Mortgage     Security  \\\n",
       "count          5000.000000  5000.000000  5000.000000  5000.000000   \n",
       "mean              1.937938     1.881000    56.498800     0.104400   \n",
       "std               1.747659     0.839869   101.713802     0.305809   \n",
       "min               0.000000     1.000000     0.000000     0.000000   \n",
       "25%               0.700000     1.000000     0.000000     0.000000   \n",
       "50%               1.500000     2.000000     0.000000     0.000000   \n",
       "75%               2.500000     3.000000   101.000000     0.000000   \n",
       "max              10.000000     3.000000   635.000000     1.000000   \n",
       "\n",
       "       FixedDepositAccount  InternetBanking   CreditCard   LoanOnCard  \n",
       "count           5000.00000      5000.000000  5000.000000  5000.000000  \n",
       "mean               0.06040         0.596800     0.294000     0.096000  \n",
       "std                0.23825         0.490589     0.455637     0.294621  \n",
       "min                0.00000         0.000000     0.000000     0.000000  \n",
       "25%                0.00000         0.000000     0.000000     0.000000  \n",
       "50%                0.00000         1.000000     0.000000     0.000000  \n",
       "75%                0.00000         1.000000     1.000000     0.000000  \n",
       "max                1.00000         1.000000     1.000000     1.000000  "
      ]
     },
     "execution_count": 330,
     "metadata": {},
     "output_type": "execute_result"
    }
   ],
   "source": [
    "data.describe()"
   ]
  },
  {
   "cell_type": "markdown",
   "metadata": {},
   "source": [
    "1. Here, the variables titled 'Age' and 'CustomerSince' have its mean close to its median, indicating that their distributions are not skewed.\n",
    "2. However, the mean of the variables 'HighestSpend', 'MonthlyAverageSpend' and 'Mortgage' is greater than their median values which indicates that their distribution is skewed.\n",
    "3. Also, among all the columns, the 'Mortgage' column is highly skewed as its mean is significantly higher than its medain. "
   ]
  },
  {
   "cell_type": "code",
   "execution_count": 331,
   "metadata": {},
   "outputs": [
    {
     "data": {
      "text/html": [
       "<style  type=\"text/css\" >\n",
       "    #T_5ef8a800_ab68_11eb_be1e_50e0853fce2drow0_col0 {\n",
       "            background-color:  #00441b;\n",
       "            color:  #f1f1f1;\n",
       "        }    #T_5ef8a800_ab68_11eb_be1e_50e0853fce2drow0_col1 {\n",
       "            background-color:  #00451c;\n",
       "            color:  #f1f1f1;\n",
       "        }    #T_5ef8a800_ab68_11eb_be1e_50e0853fce2drow0_col2 {\n",
       "            background-color:  #e7f6f9;\n",
       "            color:  #000000;\n",
       "        }    #T_5ef8a800_ab68_11eb_be1e_50e0853fce2drow0_col3 {\n",
       "            background-color:  #e9f7fa;\n",
       "            color:  #000000;\n",
       "        }    #T_5ef8a800_ab68_11eb_be1e_50e0853fce2drow0_col4 {\n",
       "            background-color:  #edf8fb;\n",
       "            color:  #000000;\n",
       "        }    #T_5ef8a800_ab68_11eb_be1e_50e0853fce2drow0_col5 {\n",
       "            background-color:  #d8f0ef;\n",
       "            color:  #000000;\n",
       "        }    #T_5ef8a800_ab68_11eb_be1e_50e0853fce2drow0_col6 {\n",
       "            background-color:  #f4fbfc;\n",
       "            color:  #000000;\n",
       "        }    #T_5ef8a800_ab68_11eb_be1e_50e0853fce2drow0_col7 {\n",
       "            background-color:  #f5fbfd;\n",
       "            color:  #000000;\n",
       "        }    #T_5ef8a800_ab68_11eb_be1e_50e0853fce2drow0_col8 {\n",
       "            background-color:  #f7fcfd;\n",
       "            color:  #000000;\n",
       "        }    #T_5ef8a800_ab68_11eb_be1e_50e0853fce2drow0_col9 {\n",
       "            background-color:  #f3fafc;\n",
       "            color:  #000000;\n",
       "        }    #T_5ef8a800_ab68_11eb_be1e_50e0853fce2drow0_col10 {\n",
       "            background-color:  #f4fbfc;\n",
       "            color:  #000000;\n",
       "        }    #T_5ef8a800_ab68_11eb_be1e_50e0853fce2drow0_col11 {\n",
       "            background-color:  #f7fcfd;\n",
       "            color:  #000000;\n",
       "        }    #T_5ef8a800_ab68_11eb_be1e_50e0853fce2drow1_col0 {\n",
       "            background-color:  #00451c;\n",
       "            color:  #f1f1f1;\n",
       "        }    #T_5ef8a800_ab68_11eb_be1e_50e0853fce2drow1_col1 {\n",
       "            background-color:  #00441b;\n",
       "            color:  #f1f1f1;\n",
       "        }    #T_5ef8a800_ab68_11eb_be1e_50e0853fce2drow1_col2 {\n",
       "            background-color:  #e6f5f9;\n",
       "            color:  #000000;\n",
       "        }    #T_5ef8a800_ab68_11eb_be1e_50e0853fce2drow1_col3 {\n",
       "            background-color:  #eaf7fa;\n",
       "            color:  #000000;\n",
       "        }    #T_5ef8a800_ab68_11eb_be1e_50e0853fce2drow1_col4 {\n",
       "            background-color:  #ecf8fb;\n",
       "            color:  #000000;\n",
       "        }    #T_5ef8a800_ab68_11eb_be1e_50e0853fce2drow1_col5 {\n",
       "            background-color:  #dcf2f2;\n",
       "            color:  #000000;\n",
       "        }    #T_5ef8a800_ab68_11eb_be1e_50e0853fce2drow1_col6 {\n",
       "            background-color:  #f4fbfc;\n",
       "            color:  #000000;\n",
       "        }    #T_5ef8a800_ab68_11eb_be1e_50e0853fce2drow1_col7 {\n",
       "            background-color:  #f5fbfd;\n",
       "            color:  #000000;\n",
       "        }    #T_5ef8a800_ab68_11eb_be1e_50e0853fce2drow1_col8 {\n",
       "            background-color:  #f7fcfd;\n",
       "            color:  #000000;\n",
       "        }    #T_5ef8a800_ab68_11eb_be1e_50e0853fce2drow1_col9 {\n",
       "            background-color:  #f3fafc;\n",
       "            color:  #000000;\n",
       "        }    #T_5ef8a800_ab68_11eb_be1e_50e0853fce2drow1_col10 {\n",
       "            background-color:  #f4fbfc;\n",
       "            color:  #000000;\n",
       "        }    #T_5ef8a800_ab68_11eb_be1e_50e0853fce2drow1_col11 {\n",
       "            background-color:  #f7fcfd;\n",
       "            color:  #000000;\n",
       "        }    #T_5ef8a800_ab68_11eb_be1e_50e0853fce2drow2_col0 {\n",
       "            background-color:  #f7fcfd;\n",
       "            color:  #000000;\n",
       "        }    #T_5ef8a800_ab68_11eb_be1e_50e0853fce2drow2_col1 {\n",
       "            background-color:  #f6fcfd;\n",
       "            color:  #000000;\n",
       "        }    #T_5ef8a800_ab68_11eb_be1e_50e0853fce2drow2_col2 {\n",
       "            background-color:  #00441b;\n",
       "            color:  #f1f1f1;\n",
       "        }    #T_5ef8a800_ab68_11eb_be1e_50e0853fce2drow2_col3 {\n",
       "            background-color:  #f7fcfd;\n",
       "            color:  #000000;\n",
       "        }    #T_5ef8a800_ab68_11eb_be1e_50e0853fce2drow2_col4 {\n",
       "            background-color:  #319c5c;\n",
       "            color:  #000000;\n",
       "        }    #T_5ef8a800_ab68_11eb_be1e_50e0853fce2drow2_col5 {\n",
       "            background-color:  #f7fcfd;\n",
       "            color:  #000000;\n",
       "        }    #T_5ef8a800_ab68_11eb_be1e_50e0853fce2drow2_col6 {\n",
       "            background-color:  #d0ede9;\n",
       "            color:  #000000;\n",
       "        }    #T_5ef8a800_ab68_11eb_be1e_50e0853fce2drow2_col7 {\n",
       "            background-color:  #f5fbfd;\n",
       "            color:  #000000;\n",
       "        }    #T_5ef8a800_ab68_11eb_be1e_50e0853fce2drow2_col8 {\n",
       "            background-color:  #def2f4;\n",
       "            color:  #000000;\n",
       "        }    #T_5ef8a800_ab68_11eb_be1e_50e0853fce2drow2_col9 {\n",
       "            background-color:  #f3fafc;\n",
       "            color:  #000000;\n",
       "        }    #T_5ef8a800_ab68_11eb_be1e_50e0853fce2drow2_col10 {\n",
       "            background-color:  #f5fbfd;\n",
       "            color:  #000000;\n",
       "        }    #T_5ef8a800_ab68_11eb_be1e_50e0853fce2drow2_col11 {\n",
       "            background-color:  #64c1a2;\n",
       "            color:  #000000;\n",
       "        }    #T_5ef8a800_ab68_11eb_be1e_50e0853fce2drow3_col0 {\n",
       "            background-color:  #f6fcfd;\n",
       "            color:  #000000;\n",
       "        }    #T_5ef8a800_ab68_11eb_be1e_50e0853fce2drow3_col1 {\n",
       "            background-color:  #f7fcfd;\n",
       "            color:  #000000;\n",
       "        }    #T_5ef8a800_ab68_11eb_be1e_50e0853fce2drow3_col2 {\n",
       "            background-color:  #f4fbfc;\n",
       "            color:  #000000;\n",
       "        }    #T_5ef8a800_ab68_11eb_be1e_50e0853fce2drow3_col3 {\n",
       "            background-color:  #00441b;\n",
       "            color:  #f1f1f1;\n",
       "        }    #T_5ef8a800_ab68_11eb_be1e_50e0853fce2drow3_col4 {\n",
       "            background-color:  #f4fbfc;\n",
       "            color:  #000000;\n",
       "        }    #T_5ef8a800_ab68_11eb_be1e_50e0853fce2drow3_col5 {\n",
       "            background-color:  #d4efec;\n",
       "            color:  #000000;\n",
       "        }    #T_5ef8a800_ab68_11eb_be1e_50e0853fce2drow3_col6 {\n",
       "            background-color:  #f5fbfd;\n",
       "            color:  #000000;\n",
       "        }    #T_5ef8a800_ab68_11eb_be1e_50e0853fce2drow3_col7 {\n",
       "            background-color:  #f2fafc;\n",
       "            color:  #000000;\n",
       "        }    #T_5ef8a800_ab68_11eb_be1e_50e0853fce2drow3_col8 {\n",
       "            background-color:  #f6fcfd;\n",
       "            color:  #000000;\n",
       "        }    #T_5ef8a800_ab68_11eb_be1e_50e0853fce2drow3_col9 {\n",
       "            background-color:  #f4fbfc;\n",
       "            color:  #000000;\n",
       "        }    #T_5ef8a800_ab68_11eb_be1e_50e0853fce2drow3_col10 {\n",
       "            background-color:  #f4fbfc;\n",
       "            color:  #000000;\n",
       "        }    #T_5ef8a800_ab68_11eb_be1e_50e0853fce2drow3_col11 {\n",
       "            background-color:  #edf8fb;\n",
       "            color:  #000000;\n",
       "        }    #T_5ef8a800_ab68_11eb_be1e_50e0853fce2drow4_col0 {\n",
       "            background-color:  #f7fcfd;\n",
       "            color:  #000000;\n",
       "        }    #T_5ef8a800_ab68_11eb_be1e_50e0853fce2drow4_col1 {\n",
       "            background-color:  #f7fcfd;\n",
       "            color:  #000000;\n",
       "        }    #T_5ef8a800_ab68_11eb_be1e_50e0853fce2drow4_col2 {\n",
       "            background-color:  #2f9858;\n",
       "            color:  #000000;\n",
       "        }    #T_5ef8a800_ab68_11eb_be1e_50e0853fce2drow4_col3 {\n",
       "            background-color:  #f1fafc;\n",
       "            color:  #000000;\n",
       "        }    #T_5ef8a800_ab68_11eb_be1e_50e0853fce2drow4_col4 {\n",
       "            background-color:  #00441b;\n",
       "            color:  #f1f1f1;\n",
       "        }    #T_5ef8a800_ab68_11eb_be1e_50e0853fce2drow4_col5 {\n",
       "            background-color:  #f1fafc;\n",
       "            color:  #000000;\n",
       "        }    #T_5ef8a800_ab68_11eb_be1e_50e0853fce2drow4_col6 {\n",
       "            background-color:  #e3f4f7;\n",
       "            color:  #000000;\n",
       "        }    #T_5ef8a800_ab68_11eb_be1e_50e0853fce2drow4_col7 {\n",
       "            background-color:  #f3fafc;\n",
       "            color:  #000000;\n",
       "        }    #T_5ef8a800_ab68_11eb_be1e_50e0853fce2drow4_col8 {\n",
       "            background-color:  #e4f5f8;\n",
       "            color:  #000000;\n",
       "        }    #T_5ef8a800_ab68_11eb_be1e_50e0853fce2drow4_col9 {\n",
       "            background-color:  #f6fcfd;\n",
       "            color:  #000000;\n",
       "        }    #T_5ef8a800_ab68_11eb_be1e_50e0853fce2drow4_col10 {\n",
       "            background-color:  #f6fcfd;\n",
       "            color:  #000000;\n",
       "        }    #T_5ef8a800_ab68_11eb_be1e_50e0853fce2drow4_col11 {\n",
       "            background-color:  #9ad8ca;\n",
       "            color:  #000000;\n",
       "        }    #T_5ef8a800_ab68_11eb_be1e_50e0853fce2drow5_col0 {\n",
       "            background-color:  #eaf7fa;\n",
       "            color:  #000000;\n",
       "        }    #T_5ef8a800_ab68_11eb_be1e_50e0853fce2drow5_col1 {\n",
       "            background-color:  #eff9fb;\n",
       "            color:  #000000;\n",
       "        }    #T_5ef8a800_ab68_11eb_be1e_50e0853fce2drow5_col2 {\n",
       "            background-color:  #f7fcfd;\n",
       "            color:  #000000;\n",
       "        }    #T_5ef8a800_ab68_11eb_be1e_50e0853fce2drow5_col3 {\n",
       "            background-color:  #d8f0ef;\n",
       "            color:  #000000;\n",
       "        }    #T_5ef8a800_ab68_11eb_be1e_50e0853fce2drow5_col4 {\n",
       "            background-color:  #f7fcfd;\n",
       "            color:  #000000;\n",
       "        }    #T_5ef8a800_ab68_11eb_be1e_50e0853fce2drow5_col5 {\n",
       "            background-color:  #00441b;\n",
       "            color:  #f1f1f1;\n",
       "        }    #T_5ef8a800_ab68_11eb_be1e_50e0853fce2drow5_col6 {\n",
       "            background-color:  #f7fcfd;\n",
       "            color:  #000000;\n",
       "        }    #T_5ef8a800_ab68_11eb_be1e_50e0853fce2drow5_col7 {\n",
       "            background-color:  #f6fcfd;\n",
       "            color:  #000000;\n",
       "        }    #T_5ef8a800_ab68_11eb_be1e_50e0853fce2drow5_col8 {\n",
       "            background-color:  #f6fcfd;\n",
       "            color:  #000000;\n",
       "        }    #T_5ef8a800_ab68_11eb_be1e_50e0853fce2drow5_col9 {\n",
       "            background-color:  #f7fcfd;\n",
       "            color:  #000000;\n",
       "        }    #T_5ef8a800_ab68_11eb_be1e_50e0853fce2drow5_col10 {\n",
       "            background-color:  #f6fcfd;\n",
       "            color:  #000000;\n",
       "        }    #T_5ef8a800_ab68_11eb_be1e_50e0853fce2drow5_col11 {\n",
       "            background-color:  #e2f4f7;\n",
       "            color:  #000000;\n",
       "        }    #T_5ef8a800_ab68_11eb_be1e_50e0853fce2drow6_col0 {\n",
       "            background-color:  #f1fafc;\n",
       "            color:  #000000;\n",
       "        }    #T_5ef8a800_ab68_11eb_be1e_50e0853fce2drow6_col1 {\n",
       "            background-color:  #f1fafc;\n",
       "            color:  #000000;\n",
       "        }    #T_5ef8a800_ab68_11eb_be1e_50e0853fce2drow6_col2 {\n",
       "            background-color:  #aadfd3;\n",
       "            color:  #000000;\n",
       "        }    #T_5ef8a800_ab68_11eb_be1e_50e0853fce2drow6_col3 {\n",
       "            background-color:  #e6f5f9;\n",
       "            color:  #000000;\n",
       "        }    #T_5ef8a800_ab68_11eb_be1e_50e0853fce2drow6_col4 {\n",
       "            background-color:  #d3eeeb;\n",
       "            color:  #000000;\n",
       "        }    #T_5ef8a800_ab68_11eb_be1e_50e0853fce2drow6_col5 {\n",
       "            background-color:  #e4f5f8;\n",
       "            color:  #000000;\n",
       "        }    #T_5ef8a800_ab68_11eb_be1e_50e0853fce2drow6_col6 {\n",
       "            background-color:  #00441b;\n",
       "            color:  #f1f1f1;\n",
       "        }    #T_5ef8a800_ab68_11eb_be1e_50e0853fce2drow6_col7 {\n",
       "            background-color:  #f6fcfd;\n",
       "            color:  #000000;\n",
       "        }    #T_5ef8a800_ab68_11eb_be1e_50e0853fce2drow6_col8 {\n",
       "            background-color:  #ecf8fa;\n",
       "            color:  #000000;\n",
       "        }    #T_5ef8a800_ab68_11eb_be1e_50e0853fce2drow6_col9 {\n",
       "            background-color:  #f6fcfd;\n",
       "            color:  #000000;\n",
       "        }    #T_5ef8a800_ab68_11eb_be1e_50e0853fce2drow6_col10 {\n",
       "            background-color:  #f6fcfd;\n",
       "            color:  #000000;\n",
       "        }    #T_5ef8a800_ab68_11eb_be1e_50e0853fce2drow6_col11 {\n",
       "            background-color:  #e0f3f5;\n",
       "            color:  #000000;\n",
       "        }    #T_5ef8a800_ab68_11eb_be1e_50e0853fce2drow7_col0 {\n",
       "            background-color:  #f0f9fb;\n",
       "            color:  #000000;\n",
       "        }    #T_5ef8a800_ab68_11eb_be1e_50e0853fce2drow7_col1 {\n",
       "            background-color:  #f0f9fb;\n",
       "            color:  #000000;\n",
       "        }    #T_5ef8a800_ab68_11eb_be1e_50e0853fce2drow7_col2 {\n",
       "            background-color:  #dff3f5;\n",
       "            color:  #000000;\n",
       "        }    #T_5ef8a800_ab68_11eb_be1e_50e0853fce2drow7_col3 {\n",
       "            background-color:  #dff3f5;\n",
       "            color:  #000000;\n",
       "        }    #T_5ef8a800_ab68_11eb_be1e_50e0853fce2drow7_col4 {\n",
       "            background-color:  #e3f4f8;\n",
       "            color:  #000000;\n",
       "        }    #T_5ef8a800_ab68_11eb_be1e_50e0853fce2drow7_col5 {\n",
       "            background-color:  #e0f3f5;\n",
       "            color:  #000000;\n",
       "        }    #T_5ef8a800_ab68_11eb_be1e_50e0853fce2drow7_col6 {\n",
       "            background-color:  #f4fbfc;\n",
       "            color:  #000000;\n",
       "        }    #T_5ef8a800_ab68_11eb_be1e_50e0853fce2drow7_col7 {\n",
       "            background-color:  #00441b;\n",
       "            color:  #f1f1f1;\n",
       "        }    #T_5ef8a800_ab68_11eb_be1e_50e0853fce2drow7_col8 {\n",
       "            background-color:  #b4e2d8;\n",
       "            color:  #000000;\n",
       "        }    #T_5ef8a800_ab68_11eb_be1e_50e0853fce2drow7_col9 {\n",
       "            background-color:  #f4fbfc;\n",
       "            color:  #000000;\n",
       "        }    #T_5ef8a800_ab68_11eb_be1e_50e0853fce2drow7_col10 {\n",
       "            background-color:  #f7fcfd;\n",
       "            color:  #000000;\n",
       "        }    #T_5ef8a800_ab68_11eb_be1e_50e0853fce2drow7_col11 {\n",
       "            background-color:  #f3fafc;\n",
       "            color:  #000000;\n",
       "        }    #T_5ef8a800_ab68_11eb_be1e_50e0853fce2drow8_col0 {\n",
       "            background-color:  #eff9fb;\n",
       "            color:  #000000;\n",
       "        }    #T_5ef8a800_ab68_11eb_be1e_50e0853fce2drow8_col1 {\n",
       "            background-color:  #eff9fb;\n",
       "            color:  #000000;\n",
       "        }    #T_5ef8a800_ab68_11eb_be1e_50e0853fce2drow8_col2 {\n",
       "            background-color:  #b7e4da;\n",
       "            color:  #000000;\n",
       "        }    #T_5ef8a800_ab68_11eb_be1e_50e0853fce2drow8_col3 {\n",
       "            background-color:  #e1f4f6;\n",
       "            color:  #000000;\n",
       "        }    #T_5ef8a800_ab68_11eb_be1e_50e0853fce2drow8_col4 {\n",
       "            background-color:  #ceede8;\n",
       "            color:  #000000;\n",
       "        }    #T_5ef8a800_ab68_11eb_be1e_50e0853fce2drow8_col5 {\n",
       "            background-color:  #dcf2f2;\n",
       "            color:  #000000;\n",
       "        }    #T_5ef8a800_ab68_11eb_be1e_50e0853fce2drow8_col6 {\n",
       "            background-color:  #e6f5f9;\n",
       "            color:  #000000;\n",
       "        }    #T_5ef8a800_ab68_11eb_be1e_50e0853fce2drow8_col7 {\n",
       "            background-color:  #ade0d4;\n",
       "            color:  #000000;\n",
       "        }    #T_5ef8a800_ab68_11eb_be1e_50e0853fce2drow8_col8 {\n",
       "            background-color:  #00441b;\n",
       "            color:  #f1f1f1;\n",
       "        }    #T_5ef8a800_ab68_11eb_be1e_50e0853fce2drow8_col9 {\n",
       "            background-color:  #d8f0ef;\n",
       "            color:  #000000;\n",
       "        }    #T_5ef8a800_ab68_11eb_be1e_50e0853fce2drow8_col10 {\n",
       "            background-color:  #bce6dd;\n",
       "            color:  #000000;\n",
       "        }    #T_5ef8a800_ab68_11eb_be1e_50e0853fce2drow8_col11 {\n",
       "            background-color:  #afe1d5;\n",
       "            color:  #000000;\n",
       "        }    #T_5ef8a800_ab68_11eb_be1e_50e0853fce2drow9_col0 {\n",
       "            background-color:  #eef8fb;\n",
       "            color:  #000000;\n",
       "        }    #T_5ef8a800_ab68_11eb_be1e_50e0853fce2drow9_col1 {\n",
       "            background-color:  #eef8fb;\n",
       "            color:  #000000;\n",
       "        }    #T_5ef8a800_ab68_11eb_be1e_50e0853fce2drow9_col2 {\n",
       "            background-color:  #dcf2f2;\n",
       "            color:  #000000;\n",
       "        }    #T_5ef8a800_ab68_11eb_be1e_50e0853fce2drow9_col3 {\n",
       "            background-color:  #e1f4f6;\n",
       "            color:  #000000;\n",
       "        }    #T_5ef8a800_ab68_11eb_be1e_50e0853fce2drow9_col4 {\n",
       "            background-color:  #e7f6f9;\n",
       "            color:  #000000;\n",
       "        }    #T_5ef8a800_ab68_11eb_be1e_50e0853fce2drow9_col5 {\n",
       "            background-color:  #e1f4f6;\n",
       "            color:  #000000;\n",
       "        }    #T_5ef8a800_ab68_11eb_be1e_50e0853fce2drow9_col6 {\n",
       "            background-color:  #f4fbfc;\n",
       "            color:  #000000;\n",
       "        }    #T_5ef8a800_ab68_11eb_be1e_50e0853fce2drow9_col7 {\n",
       "            background-color:  #f4fbfc;\n",
       "            color:  #000000;\n",
       "        }    #T_5ef8a800_ab68_11eb_be1e_50e0853fce2drow9_col8 {\n",
       "            background-color:  #dcf2f2;\n",
       "            color:  #000000;\n",
       "        }    #T_5ef8a800_ab68_11eb_be1e_50e0853fce2drow9_col9 {\n",
       "            background-color:  #00441b;\n",
       "            color:  #f1f1f1;\n",
       "        }    #T_5ef8a800_ab68_11eb_be1e_50e0853fce2drow9_col10 {\n",
       "            background-color:  #f5fbfc;\n",
       "            color:  #000000;\n",
       "        }    #T_5ef8a800_ab68_11eb_be1e_50e0853fce2drow9_col11 {\n",
       "            background-color:  #f5fbfd;\n",
       "            color:  #000000;\n",
       "        }    #T_5ef8a800_ab68_11eb_be1e_50e0853fce2drow10_col0 {\n",
       "            background-color:  #eff9fb;\n",
       "            color:  #000000;\n",
       "        }    #T_5ef8a800_ab68_11eb_be1e_50e0853fce2drow10_col1 {\n",
       "            background-color:  #eff9fb;\n",
       "            color:  #000000;\n",
       "        }    #T_5ef8a800_ab68_11eb_be1e_50e0853fce2drow10_col2 {\n",
       "            background-color:  #dff3f5;\n",
       "            color:  #000000;\n",
       "        }    #T_5ef8a800_ab68_11eb_be1e_50e0853fce2drow10_col3 {\n",
       "            background-color:  #e1f4f6;\n",
       "            color:  #000000;\n",
       "        }    #T_5ef8a800_ab68_11eb_be1e_50e0853fce2drow10_col4 {\n",
       "            background-color:  #e7f6f9;\n",
       "            color:  #000000;\n",
       "        }    #T_5ef8a800_ab68_11eb_be1e_50e0853fce2drow10_col5 {\n",
       "            background-color:  #e0f3f5;\n",
       "            color:  #000000;\n",
       "        }    #T_5ef8a800_ab68_11eb_be1e_50e0853fce2drow10_col6 {\n",
       "            background-color:  #f4fbfc;\n",
       "            color:  #000000;\n",
       "        }    #T_5ef8a800_ab68_11eb_be1e_50e0853fce2drow10_col7 {\n",
       "            background-color:  #f7fcfd;\n",
       "            color:  #000000;\n",
       "        }    #T_5ef8a800_ab68_11eb_be1e_50e0853fce2drow10_col8 {\n",
       "            background-color:  #c4e9e1;\n",
       "            color:  #000000;\n",
       "        }    #T_5ef8a800_ab68_11eb_be1e_50e0853fce2drow10_col9 {\n",
       "            background-color:  #f5fbfc;\n",
       "            color:  #000000;\n",
       "        }    #T_5ef8a800_ab68_11eb_be1e_50e0853fce2drow10_col10 {\n",
       "            background-color:  #00441b;\n",
       "            color:  #f1f1f1;\n",
       "        }    #T_5ef8a800_ab68_11eb_be1e_50e0853fce2drow10_col11 {\n",
       "            background-color:  #f6fcfd;\n",
       "            color:  #000000;\n",
       "        }    #T_5ef8a800_ab68_11eb_be1e_50e0853fce2drow11_col0 {\n",
       "            background-color:  #f1fafc;\n",
       "            color:  #000000;\n",
       "        }    #T_5ef8a800_ab68_11eb_be1e_50e0853fce2drow11_col1 {\n",
       "            background-color:  #f1fafc;\n",
       "            color:  #000000;\n",
       "        }    #T_5ef8a800_ab68_11eb_be1e_50e0853fce2drow11_col2 {\n",
       "            background-color:  #4eb586;\n",
       "            color:  #000000;\n",
       "        }    #T_5ef8a800_ab68_11eb_be1e_50e0853fce2drow11_col3 {\n",
       "            background-color:  #d8f0ef;\n",
       "            color:  #000000;\n",
       "        }    #T_5ef8a800_ab68_11eb_be1e_50e0853fce2drow11_col4 {\n",
       "            background-color:  #7dccb5;\n",
       "            color:  #000000;\n",
       "        }    #T_5ef8a800_ab68_11eb_be1e_50e0853fce2drow11_col5 {\n",
       "            background-color:  #c4e9e1;\n",
       "            color:  #000000;\n",
       "        }    #T_5ef8a800_ab68_11eb_be1e_50e0853fce2drow11_col6 {\n",
       "            background-color:  #dcf2f2;\n",
       "            color:  #000000;\n",
       "        }    #T_5ef8a800_ab68_11eb_be1e_50e0853fce2drow11_col7 {\n",
       "            background-color:  #f2fafc;\n",
       "            color:  #000000;\n",
       "        }    #T_5ef8a800_ab68_11eb_be1e_50e0853fce2drow11_col8 {\n",
       "            background-color:  #b4e2d8;\n",
       "            color:  #000000;\n",
       "        }    #T_5ef8a800_ab68_11eb_be1e_50e0853fce2drow11_col9 {\n",
       "            background-color:  #f4fbfc;\n",
       "            color:  #000000;\n",
       "        }    #T_5ef8a800_ab68_11eb_be1e_50e0853fce2drow11_col10 {\n",
       "            background-color:  #f5fbfc;\n",
       "            color:  #000000;\n",
       "        }    #T_5ef8a800_ab68_11eb_be1e_50e0853fce2drow11_col11 {\n",
       "            background-color:  #00441b;\n",
       "            color:  #f1f1f1;\n",
       "        }</style><table id=\"T_5ef8a800_ab68_11eb_be1e_50e0853fce2d\" ><thead>    <tr>        <th class=\"blank level0\" ></th>        <th class=\"col_heading level0 col0\" >Age</th>        <th class=\"col_heading level0 col1\" >CustomerSince</th>        <th class=\"col_heading level0 col2\" >HighestSpend</th>        <th class=\"col_heading level0 col3\" >HiddenScore</th>        <th class=\"col_heading level0 col4\" >MonthlyAverageSpend</th>        <th class=\"col_heading level0 col5\" >Level</th>        <th class=\"col_heading level0 col6\" >Mortgage</th>        <th class=\"col_heading level0 col7\" >Security</th>        <th class=\"col_heading level0 col8\" >FixedDepositAccount</th>        <th class=\"col_heading level0 col9\" >InternetBanking</th>        <th class=\"col_heading level0 col10\" >CreditCard</th>        <th class=\"col_heading level0 col11\" >LoanOnCard</th>    </tr></thead><tbody>\n",
       "                <tr>\n",
       "                        <th id=\"T_5ef8a800_ab68_11eb_be1e_50e0853fce2dlevel0_row0\" class=\"row_heading level0 row0\" >Age</th>\n",
       "                        <td id=\"T_5ef8a800_ab68_11eb_be1e_50e0853fce2drow0_col0\" class=\"data row0 col0\" >1.000000</td>\n",
       "                        <td id=\"T_5ef8a800_ab68_11eb_be1e_50e0853fce2drow0_col1\" class=\"data row0 col1\" >0.994215</td>\n",
       "                        <td id=\"T_5ef8a800_ab68_11eb_be1e_50e0853fce2drow0_col2\" class=\"data row0 col2\" >-0.055269</td>\n",
       "                        <td id=\"T_5ef8a800_ab68_11eb_be1e_50e0853fce2drow0_col3\" class=\"data row0 col3\" >-0.046418</td>\n",
       "                        <td id=\"T_5ef8a800_ab68_11eb_be1e_50e0853fce2drow0_col4\" class=\"data row0 col4\" >-0.052012</td>\n",
       "                        <td id=\"T_5ef8a800_ab68_11eb_be1e_50e0853fce2drow0_col5\" class=\"data row0 col5\" >0.041334</td>\n",
       "                        <td id=\"T_5ef8a800_ab68_11eb_be1e_50e0853fce2drow0_col6\" class=\"data row0 col6\" >-0.012539</td>\n",
       "                        <td id=\"T_5ef8a800_ab68_11eb_be1e_50e0853fce2drow0_col7\" class=\"data row0 col7\" >-0.000436</td>\n",
       "                        <td id=\"T_5ef8a800_ab68_11eb_be1e_50e0853fce2drow0_col8\" class=\"data row0 col8\" >0.008043</td>\n",
       "                        <td id=\"T_5ef8a800_ab68_11eb_be1e_50e0853fce2drow0_col9\" class=\"data row0 col9\" >0.013702</td>\n",
       "                        <td id=\"T_5ef8a800_ab68_11eb_be1e_50e0853fce2drow0_col10\" class=\"data row0 col10\" >0.007681</td>\n",
       "                        <td id=\"T_5ef8a800_ab68_11eb_be1e_50e0853fce2drow0_col11\" class=\"data row0 col11\" >-0.007726</td>\n",
       "            </tr>\n",
       "            <tr>\n",
       "                        <th id=\"T_5ef8a800_ab68_11eb_be1e_50e0853fce2dlevel0_row1\" class=\"row_heading level0 row1\" >CustomerSince</th>\n",
       "                        <td id=\"T_5ef8a800_ab68_11eb_be1e_50e0853fce2drow1_col0\" class=\"data row1 col0\" >0.994215</td>\n",
       "                        <td id=\"T_5ef8a800_ab68_11eb_be1e_50e0853fce2drow1_col1\" class=\"data row1 col1\" >1.000000</td>\n",
       "                        <td id=\"T_5ef8a800_ab68_11eb_be1e_50e0853fce2drow1_col2\" class=\"data row1 col2\" >-0.046574</td>\n",
       "                        <td id=\"T_5ef8a800_ab68_11eb_be1e_50e0853fce2drow1_col3\" class=\"data row1 col3\" >-0.052563</td>\n",
       "                        <td id=\"T_5ef8a800_ab68_11eb_be1e_50e0853fce2drow1_col4\" class=\"data row1 col4\" >-0.050077</td>\n",
       "                        <td id=\"T_5ef8a800_ab68_11eb_be1e_50e0853fce2drow1_col5\" class=\"data row1 col5\" >0.013152</td>\n",
       "                        <td id=\"T_5ef8a800_ab68_11eb_be1e_50e0853fce2drow1_col6\" class=\"data row1 col6\" >-0.010582</td>\n",
       "                        <td id=\"T_5ef8a800_ab68_11eb_be1e_50e0853fce2drow1_col7\" class=\"data row1 col7\" >-0.001232</td>\n",
       "                        <td id=\"T_5ef8a800_ab68_11eb_be1e_50e0853fce2drow1_col8\" class=\"data row1 col8\" >0.010353</td>\n",
       "                        <td id=\"T_5ef8a800_ab68_11eb_be1e_50e0853fce2drow1_col9\" class=\"data row1 col9\" >0.013898</td>\n",
       "                        <td id=\"T_5ef8a800_ab68_11eb_be1e_50e0853fce2drow1_col10\" class=\"data row1 col10\" >0.008967</td>\n",
       "                        <td id=\"T_5ef8a800_ab68_11eb_be1e_50e0853fce2drow1_col11\" class=\"data row1 col11\" >-0.007413</td>\n",
       "            </tr>\n",
       "            <tr>\n",
       "                        <th id=\"T_5ef8a800_ab68_11eb_be1e_50e0853fce2dlevel0_row2\" class=\"row_heading level0 row2\" >HighestSpend</th>\n",
       "                        <td id=\"T_5ef8a800_ab68_11eb_be1e_50e0853fce2drow2_col0\" class=\"data row2 col0\" >-0.055269</td>\n",
       "                        <td id=\"T_5ef8a800_ab68_11eb_be1e_50e0853fce2drow2_col1\" class=\"data row2 col1\" >-0.046574</td>\n",
       "                        <td id=\"T_5ef8a800_ab68_11eb_be1e_50e0853fce2drow2_col2\" class=\"data row2 col2\" >1.000000</td>\n",
       "                        <td id=\"T_5ef8a800_ab68_11eb_be1e_50e0853fce2drow2_col3\" class=\"data row2 col3\" >-0.157501</td>\n",
       "                        <td id=\"T_5ef8a800_ab68_11eb_be1e_50e0853fce2drow2_col4\" class=\"data row2 col4\" >0.645984</td>\n",
       "                        <td id=\"T_5ef8a800_ab68_11eb_be1e_50e0853fce2drow2_col5\" class=\"data row2 col5\" >-0.187524</td>\n",
       "                        <td id=\"T_5ef8a800_ab68_11eb_be1e_50e0853fce2drow2_col6\" class=\"data row2 col6\" >0.206806</td>\n",
       "                        <td id=\"T_5ef8a800_ab68_11eb_be1e_50e0853fce2drow2_col7\" class=\"data row2 col7\" >-0.002616</td>\n",
       "                        <td id=\"T_5ef8a800_ab68_11eb_be1e_50e0853fce2drow2_col8\" class=\"data row2 col8\" >0.169738</td>\n",
       "                        <td id=\"T_5ef8a800_ab68_11eb_be1e_50e0853fce2drow2_col9\" class=\"data row2 col9\" >0.014206</td>\n",
       "                        <td id=\"T_5ef8a800_ab68_11eb_be1e_50e0853fce2drow2_col10\" class=\"data row2 col10\" >-0.002385</td>\n",
       "                        <td id=\"T_5ef8a800_ab68_11eb_be1e_50e0853fce2drow2_col11\" class=\"data row2 col11\" >0.502462</td>\n",
       "            </tr>\n",
       "            <tr>\n",
       "                        <th id=\"T_5ef8a800_ab68_11eb_be1e_50e0853fce2dlevel0_row3\" class=\"row_heading level0 row3\" >HiddenScore</th>\n",
       "                        <td id=\"T_5ef8a800_ab68_11eb_be1e_50e0853fce2drow3_col0\" class=\"data row3 col0\" >-0.046418</td>\n",
       "                        <td id=\"T_5ef8a800_ab68_11eb_be1e_50e0853fce2drow3_col1\" class=\"data row3 col1\" >-0.052563</td>\n",
       "                        <td id=\"T_5ef8a800_ab68_11eb_be1e_50e0853fce2drow3_col2\" class=\"data row3 col2\" >-0.157501</td>\n",
       "                        <td id=\"T_5ef8a800_ab68_11eb_be1e_50e0853fce2drow3_col3\" class=\"data row3 col3\" >1.000000</td>\n",
       "                        <td id=\"T_5ef8a800_ab68_11eb_be1e_50e0853fce2drow3_col4\" class=\"data row3 col4\" >-0.109275</td>\n",
       "                        <td id=\"T_5ef8a800_ab68_11eb_be1e_50e0853fce2drow3_col5\" class=\"data row3 col5\" >0.064929</td>\n",
       "                        <td id=\"T_5ef8a800_ab68_11eb_be1e_50e0853fce2drow3_col6\" class=\"data row3 col6\" >-0.020445</td>\n",
       "                        <td id=\"T_5ef8a800_ab68_11eb_be1e_50e0853fce2drow3_col7\" class=\"data row3 col7\" >0.019994</td>\n",
       "                        <td id=\"T_5ef8a800_ab68_11eb_be1e_50e0853fce2drow3_col8\" class=\"data row3 col8\" >0.014110</td>\n",
       "                        <td id=\"T_5ef8a800_ab68_11eb_be1e_50e0853fce2drow3_col9\" class=\"data row3 col9\" >0.010354</td>\n",
       "                        <td id=\"T_5ef8a800_ab68_11eb_be1e_50e0853fce2drow3_col10\" class=\"data row3 col10\" >0.011588</td>\n",
       "                        <td id=\"T_5ef8a800_ab68_11eb_be1e_50e0853fce2drow3_col11\" class=\"data row3 col11\" >0.061367</td>\n",
       "            </tr>\n",
       "            <tr>\n",
       "                        <th id=\"T_5ef8a800_ab68_11eb_be1e_50e0853fce2dlevel0_row4\" class=\"row_heading level0 row4\" >MonthlyAverageSpend</th>\n",
       "                        <td id=\"T_5ef8a800_ab68_11eb_be1e_50e0853fce2drow4_col0\" class=\"data row4 col0\" >-0.052012</td>\n",
       "                        <td id=\"T_5ef8a800_ab68_11eb_be1e_50e0853fce2drow4_col1\" class=\"data row4 col1\" >-0.050077</td>\n",
       "                        <td id=\"T_5ef8a800_ab68_11eb_be1e_50e0853fce2drow4_col2\" class=\"data row4 col2\" >0.645984</td>\n",
       "                        <td id=\"T_5ef8a800_ab68_11eb_be1e_50e0853fce2drow4_col3\" class=\"data row4 col3\" >-0.109275</td>\n",
       "                        <td id=\"T_5ef8a800_ab68_11eb_be1e_50e0853fce2drow4_col4\" class=\"data row4 col4\" >1.000000</td>\n",
       "                        <td id=\"T_5ef8a800_ab68_11eb_be1e_50e0853fce2drow4_col5\" class=\"data row4 col5\" >-0.136124</td>\n",
       "                        <td id=\"T_5ef8a800_ab68_11eb_be1e_50e0853fce2drow4_col6\" class=\"data row4 col6\" >0.109905</td>\n",
       "                        <td id=\"T_5ef8a800_ab68_11eb_be1e_50e0853fce2drow4_col7\" class=\"data row4 col7\" >0.015086</td>\n",
       "                        <td id=\"T_5ef8a800_ab68_11eb_be1e_50e0853fce2drow4_col8\" class=\"data row4 col8\" >0.136534</td>\n",
       "                        <td id=\"T_5ef8a800_ab68_11eb_be1e_50e0853fce2drow4_col9\" class=\"data row4 col9\" >-0.003611</td>\n",
       "                        <td id=\"T_5ef8a800_ab68_11eb_be1e_50e0853fce2drow4_col10\" class=\"data row4 col10\" >-0.006689</td>\n",
       "                        <td id=\"T_5ef8a800_ab68_11eb_be1e_50e0853fce2drow4_col11\" class=\"data row4 col11\" >0.366889</td>\n",
       "            </tr>\n",
       "            <tr>\n",
       "                        <th id=\"T_5ef8a800_ab68_11eb_be1e_50e0853fce2dlevel0_row5\" class=\"row_heading level0 row5\" >Level</th>\n",
       "                        <td id=\"T_5ef8a800_ab68_11eb_be1e_50e0853fce2drow5_col0\" class=\"data row5 col0\" >0.041334</td>\n",
       "                        <td id=\"T_5ef8a800_ab68_11eb_be1e_50e0853fce2drow5_col1\" class=\"data row5 col1\" >0.013152</td>\n",
       "                        <td id=\"T_5ef8a800_ab68_11eb_be1e_50e0853fce2drow5_col2\" class=\"data row5 col2\" >-0.187524</td>\n",
       "                        <td id=\"T_5ef8a800_ab68_11eb_be1e_50e0853fce2drow5_col3\" class=\"data row5 col3\" >0.064929</td>\n",
       "                        <td id=\"T_5ef8a800_ab68_11eb_be1e_50e0853fce2drow5_col4\" class=\"data row5 col4\" >-0.136124</td>\n",
       "                        <td id=\"T_5ef8a800_ab68_11eb_be1e_50e0853fce2drow5_col5\" class=\"data row5 col5\" >1.000000</td>\n",
       "                        <td id=\"T_5ef8a800_ab68_11eb_be1e_50e0853fce2drow5_col6\" class=\"data row5 col6\" >-0.033327</td>\n",
       "                        <td id=\"T_5ef8a800_ab68_11eb_be1e_50e0853fce2drow5_col7\" class=\"data row5 col7\" >-0.010812</td>\n",
       "                        <td id=\"T_5ef8a800_ab68_11eb_be1e_50e0853fce2drow5_col8\" class=\"data row5 col8\" >0.013934</td>\n",
       "                        <td id=\"T_5ef8a800_ab68_11eb_be1e_50e0853fce2drow5_col9\" class=\"data row5 col9\" >-0.015004</td>\n",
       "                        <td id=\"T_5ef8a800_ab68_11eb_be1e_50e0853fce2drow5_col10\" class=\"data row5 col10\" >-0.011014</td>\n",
       "                        <td id=\"T_5ef8a800_ab68_11eb_be1e_50e0853fce2drow5_col11\" class=\"data row5 col11\" >0.136722</td>\n",
       "            </tr>\n",
       "            <tr>\n",
       "                        <th id=\"T_5ef8a800_ab68_11eb_be1e_50e0853fce2dlevel0_row6\" class=\"row_heading level0 row6\" >Mortgage</th>\n",
       "                        <td id=\"T_5ef8a800_ab68_11eb_be1e_50e0853fce2drow6_col0\" class=\"data row6 col0\" >-0.012539</td>\n",
       "                        <td id=\"T_5ef8a800_ab68_11eb_be1e_50e0853fce2drow6_col1\" class=\"data row6 col1\" >-0.010582</td>\n",
       "                        <td id=\"T_5ef8a800_ab68_11eb_be1e_50e0853fce2drow6_col2\" class=\"data row6 col2\" >0.206806</td>\n",
       "                        <td id=\"T_5ef8a800_ab68_11eb_be1e_50e0853fce2drow6_col3\" class=\"data row6 col3\" >-0.020445</td>\n",
       "                        <td id=\"T_5ef8a800_ab68_11eb_be1e_50e0853fce2drow6_col4\" class=\"data row6 col4\" >0.109905</td>\n",
       "                        <td id=\"T_5ef8a800_ab68_11eb_be1e_50e0853fce2drow6_col5\" class=\"data row6 col5\" >-0.033327</td>\n",
       "                        <td id=\"T_5ef8a800_ab68_11eb_be1e_50e0853fce2drow6_col6\" class=\"data row6 col6\" >1.000000</td>\n",
       "                        <td id=\"T_5ef8a800_ab68_11eb_be1e_50e0853fce2drow6_col7\" class=\"data row6 col7\" >-0.005411</td>\n",
       "                        <td id=\"T_5ef8a800_ab68_11eb_be1e_50e0853fce2drow6_col8\" class=\"data row6 col8\" >0.089311</td>\n",
       "                        <td id=\"T_5ef8a800_ab68_11eb_be1e_50e0853fce2drow6_col9\" class=\"data row6 col9\" >-0.005995</td>\n",
       "                        <td id=\"T_5ef8a800_ab68_11eb_be1e_50e0853fce2drow6_col10\" class=\"data row6 col10\" >-0.007231</td>\n",
       "                        <td id=\"T_5ef8a800_ab68_11eb_be1e_50e0853fce2drow6_col11\" class=\"data row6 col11\" >0.142095</td>\n",
       "            </tr>\n",
       "            <tr>\n",
       "                        <th id=\"T_5ef8a800_ab68_11eb_be1e_50e0853fce2dlevel0_row7\" class=\"row_heading level0 row7\" >Security</th>\n",
       "                        <td id=\"T_5ef8a800_ab68_11eb_be1e_50e0853fce2drow7_col0\" class=\"data row7 col0\" >-0.000436</td>\n",
       "                        <td id=\"T_5ef8a800_ab68_11eb_be1e_50e0853fce2drow7_col1\" class=\"data row7 col1\" >-0.001232</td>\n",
       "                        <td id=\"T_5ef8a800_ab68_11eb_be1e_50e0853fce2drow7_col2\" class=\"data row7 col2\" >-0.002616</td>\n",
       "                        <td id=\"T_5ef8a800_ab68_11eb_be1e_50e0853fce2drow7_col3\" class=\"data row7 col3\" >0.019994</td>\n",
       "                        <td id=\"T_5ef8a800_ab68_11eb_be1e_50e0853fce2drow7_col4\" class=\"data row7 col4\" >0.015086</td>\n",
       "                        <td id=\"T_5ef8a800_ab68_11eb_be1e_50e0853fce2drow7_col5\" class=\"data row7 col5\" >-0.010812</td>\n",
       "                        <td id=\"T_5ef8a800_ab68_11eb_be1e_50e0853fce2drow7_col6\" class=\"data row7 col6\" >-0.005411</td>\n",
       "                        <td id=\"T_5ef8a800_ab68_11eb_be1e_50e0853fce2drow7_col7\" class=\"data row7 col7\" >1.000000</td>\n",
       "                        <td id=\"T_5ef8a800_ab68_11eb_be1e_50e0853fce2drow7_col8\" class=\"data row7 col8\" >0.317034</td>\n",
       "                        <td id=\"T_5ef8a800_ab68_11eb_be1e_50e0853fce2drow7_col9\" class=\"data row7 col9\" >0.012627</td>\n",
       "                        <td id=\"T_5ef8a800_ab68_11eb_be1e_50e0853fce2drow7_col10\" class=\"data row7 col10\" >-0.015028</td>\n",
       "                        <td id=\"T_5ef8a800_ab68_11eb_be1e_50e0853fce2drow7_col11\" class=\"data row7 col11\" >0.021954</td>\n",
       "            </tr>\n",
       "            <tr>\n",
       "                        <th id=\"T_5ef8a800_ab68_11eb_be1e_50e0853fce2dlevel0_row8\" class=\"row_heading level0 row8\" >FixedDepositAccount</th>\n",
       "                        <td id=\"T_5ef8a800_ab68_11eb_be1e_50e0853fce2drow8_col0\" class=\"data row8 col0\" >0.008043</td>\n",
       "                        <td id=\"T_5ef8a800_ab68_11eb_be1e_50e0853fce2drow8_col1\" class=\"data row8 col1\" >0.010353</td>\n",
       "                        <td id=\"T_5ef8a800_ab68_11eb_be1e_50e0853fce2drow8_col2\" class=\"data row8 col2\" >0.169738</td>\n",
       "                        <td id=\"T_5ef8a800_ab68_11eb_be1e_50e0853fce2drow8_col3\" class=\"data row8 col3\" >0.014110</td>\n",
       "                        <td id=\"T_5ef8a800_ab68_11eb_be1e_50e0853fce2drow8_col4\" class=\"data row8 col4\" >0.136534</td>\n",
       "                        <td id=\"T_5ef8a800_ab68_11eb_be1e_50e0853fce2drow8_col5\" class=\"data row8 col5\" >0.013934</td>\n",
       "                        <td id=\"T_5ef8a800_ab68_11eb_be1e_50e0853fce2drow8_col6\" class=\"data row8 col6\" >0.089311</td>\n",
       "                        <td id=\"T_5ef8a800_ab68_11eb_be1e_50e0853fce2drow8_col7\" class=\"data row8 col7\" >0.317034</td>\n",
       "                        <td id=\"T_5ef8a800_ab68_11eb_be1e_50e0853fce2drow8_col8\" class=\"data row8 col8\" >1.000000</td>\n",
       "                        <td id=\"T_5ef8a800_ab68_11eb_be1e_50e0853fce2drow8_col9\" class=\"data row8 col9\" >0.175880</td>\n",
       "                        <td id=\"T_5ef8a800_ab68_11eb_be1e_50e0853fce2drow8_col10\" class=\"data row8 col10\" >0.278644</td>\n",
       "                        <td id=\"T_5ef8a800_ab68_11eb_be1e_50e0853fce2drow8_col11\" class=\"data row8 col11\" >0.316355</td>\n",
       "            </tr>\n",
       "            <tr>\n",
       "                        <th id=\"T_5ef8a800_ab68_11eb_be1e_50e0853fce2dlevel0_row9\" class=\"row_heading level0 row9\" >InternetBanking</th>\n",
       "                        <td id=\"T_5ef8a800_ab68_11eb_be1e_50e0853fce2drow9_col0\" class=\"data row9 col0\" >0.013702</td>\n",
       "                        <td id=\"T_5ef8a800_ab68_11eb_be1e_50e0853fce2drow9_col1\" class=\"data row9 col1\" >0.013898</td>\n",
       "                        <td id=\"T_5ef8a800_ab68_11eb_be1e_50e0853fce2drow9_col2\" class=\"data row9 col2\" >0.014206</td>\n",
       "                        <td id=\"T_5ef8a800_ab68_11eb_be1e_50e0853fce2drow9_col3\" class=\"data row9 col3\" >0.010354</td>\n",
       "                        <td id=\"T_5ef8a800_ab68_11eb_be1e_50e0853fce2drow9_col4\" class=\"data row9 col4\" >-0.003611</td>\n",
       "                        <td id=\"T_5ef8a800_ab68_11eb_be1e_50e0853fce2drow9_col5\" class=\"data row9 col5\" >-0.015004</td>\n",
       "                        <td id=\"T_5ef8a800_ab68_11eb_be1e_50e0853fce2drow9_col6\" class=\"data row9 col6\" >-0.005995</td>\n",
       "                        <td id=\"T_5ef8a800_ab68_11eb_be1e_50e0853fce2drow9_col7\" class=\"data row9 col7\" >0.012627</td>\n",
       "                        <td id=\"T_5ef8a800_ab68_11eb_be1e_50e0853fce2drow9_col8\" class=\"data row9 col8\" >0.175880</td>\n",
       "                        <td id=\"T_5ef8a800_ab68_11eb_be1e_50e0853fce2drow9_col9\" class=\"data row9 col9\" >1.000000</td>\n",
       "                        <td id=\"T_5ef8a800_ab68_11eb_be1e_50e0853fce2drow9_col10\" class=\"data row9 col10\" >0.004210</td>\n",
       "                        <td id=\"T_5ef8a800_ab68_11eb_be1e_50e0853fce2drow9_col11\" class=\"data row9 col11\" >0.006278</td>\n",
       "            </tr>\n",
       "            <tr>\n",
       "                        <th id=\"T_5ef8a800_ab68_11eb_be1e_50e0853fce2dlevel0_row10\" class=\"row_heading level0 row10\" >CreditCard</th>\n",
       "                        <td id=\"T_5ef8a800_ab68_11eb_be1e_50e0853fce2drow10_col0\" class=\"data row10 col0\" >0.007681</td>\n",
       "                        <td id=\"T_5ef8a800_ab68_11eb_be1e_50e0853fce2drow10_col1\" class=\"data row10 col1\" >0.008967</td>\n",
       "                        <td id=\"T_5ef8a800_ab68_11eb_be1e_50e0853fce2drow10_col2\" class=\"data row10 col2\" >-0.002385</td>\n",
       "                        <td id=\"T_5ef8a800_ab68_11eb_be1e_50e0853fce2drow10_col3\" class=\"data row10 col3\" >0.011588</td>\n",
       "                        <td id=\"T_5ef8a800_ab68_11eb_be1e_50e0853fce2drow10_col4\" class=\"data row10 col4\" >-0.006689</td>\n",
       "                        <td id=\"T_5ef8a800_ab68_11eb_be1e_50e0853fce2drow10_col5\" class=\"data row10 col5\" >-0.011014</td>\n",
       "                        <td id=\"T_5ef8a800_ab68_11eb_be1e_50e0853fce2drow10_col6\" class=\"data row10 col6\" >-0.007231</td>\n",
       "                        <td id=\"T_5ef8a800_ab68_11eb_be1e_50e0853fce2drow10_col7\" class=\"data row10 col7\" >-0.015028</td>\n",
       "                        <td id=\"T_5ef8a800_ab68_11eb_be1e_50e0853fce2drow10_col8\" class=\"data row10 col8\" >0.278644</td>\n",
       "                        <td id=\"T_5ef8a800_ab68_11eb_be1e_50e0853fce2drow10_col9\" class=\"data row10 col9\" >0.004210</td>\n",
       "                        <td id=\"T_5ef8a800_ab68_11eb_be1e_50e0853fce2drow10_col10\" class=\"data row10 col10\" >1.000000</td>\n",
       "                        <td id=\"T_5ef8a800_ab68_11eb_be1e_50e0853fce2drow10_col11\" class=\"data row10 col11\" >0.002802</td>\n",
       "            </tr>\n",
       "            <tr>\n",
       "                        <th id=\"T_5ef8a800_ab68_11eb_be1e_50e0853fce2dlevel0_row11\" class=\"row_heading level0 row11\" >LoanOnCard</th>\n",
       "                        <td id=\"T_5ef8a800_ab68_11eb_be1e_50e0853fce2drow11_col0\" class=\"data row11 col0\" >-0.007726</td>\n",
       "                        <td id=\"T_5ef8a800_ab68_11eb_be1e_50e0853fce2drow11_col1\" class=\"data row11 col1\" >-0.007413</td>\n",
       "                        <td id=\"T_5ef8a800_ab68_11eb_be1e_50e0853fce2drow11_col2\" class=\"data row11 col2\" >0.502462</td>\n",
       "                        <td id=\"T_5ef8a800_ab68_11eb_be1e_50e0853fce2drow11_col3\" class=\"data row11 col3\" >0.061367</td>\n",
       "                        <td id=\"T_5ef8a800_ab68_11eb_be1e_50e0853fce2drow11_col4\" class=\"data row11 col4\" >0.366889</td>\n",
       "                        <td id=\"T_5ef8a800_ab68_11eb_be1e_50e0853fce2drow11_col5\" class=\"data row11 col5\" >0.136722</td>\n",
       "                        <td id=\"T_5ef8a800_ab68_11eb_be1e_50e0853fce2drow11_col6\" class=\"data row11 col6\" >0.142095</td>\n",
       "                        <td id=\"T_5ef8a800_ab68_11eb_be1e_50e0853fce2drow11_col7\" class=\"data row11 col7\" >0.021954</td>\n",
       "                        <td id=\"T_5ef8a800_ab68_11eb_be1e_50e0853fce2drow11_col8\" class=\"data row11 col8\" >0.316355</td>\n",
       "                        <td id=\"T_5ef8a800_ab68_11eb_be1e_50e0853fce2drow11_col9\" class=\"data row11 col9\" >0.006278</td>\n",
       "                        <td id=\"T_5ef8a800_ab68_11eb_be1e_50e0853fce2drow11_col10\" class=\"data row11 col10\" >0.002802</td>\n",
       "                        <td id=\"T_5ef8a800_ab68_11eb_be1e_50e0853fce2drow11_col11\" class=\"data row11 col11\" >1.000000</td>\n",
       "            </tr>\n",
       "    </tbody></table>"
      ],
      "text/plain": [
       "<pandas.io.formats.style.Styler at 0x1ca78d68488>"
      ]
     },
     "execution_count": 331,
     "metadata": {},
     "output_type": "execute_result"
    }
   ],
   "source": [
    "data.corr().style.background_gradient(cmap='BuGn')"
   ]
  },
  {
   "cell_type": "markdown",
   "metadata": {},
   "source": [
    "1. The highest correlation is among the 'Age' and the 'CustomerSince' columns since the customers that have longer association with the bank tend be the older people. \n",
    "2. Also, there is a significant correlation between the 'HighestSpend' and the 'MonthlyAverageSpend' which also seems appropriate since people who spend high tend to have more monthly expense. \n",
    "3.  Finally, the target variable 'LoanOnCard' is highly correlated with 'HighestSpend', 'MonthlyAverageSpend' and 'FixedDepositAccount' columns. This is because the people who spend more tend to take loan from bank frequently. Also, people who have a fixed deposit account may also take a loan against it as it may result in net positive interest. "
   ]
  },
  {
   "cell_type": "markdown",
   "metadata": {},
   "source": [
    "<span style=\"font-family: Arial; font-weight:bold;font-size:1em;color:#00b3e5;\"> • Perform a detailed univariate, bivariate and multivariate analysis with appropriate detailed comments after each\n",
    "analysis"
   ]
  },
  {
   "cell_type": "code",
   "execution_count": 190,
   "metadata": {},
   "outputs": [
    {
     "data": {
      "text/plain": [
       "Text(0.5, 1.0, 'CustomerSince')"
      ]
     },
     "execution_count": 190,
     "metadata": {},
     "output_type": "execute_result"
    },
    {
     "data": {
      "image/png": "[encoded data removed]",
      "text/plain": [
       "<Figure size 1080x360 with 2 Axes>"
      ]
     },
     "metadata": {
      "needs_background": "light"
     },
     "output_type": "display_data"
    },
    {
     "data": {
      "image/png": "[encoded data removed]",
      "text/plain": [
       "<Figure size 1080x360 with 2 Axes>"
      ]
     },
     "metadata": {
      "needs_background": "light"
     },
     "output_type": "display_data"
    }
   ],
   "source": [
    "fig, ax = plt.subplots(1, 2)\n",
    "\n",
    "fig.set_figheight(5)\n",
    "fig.set_figwidth(15)\n",
    "\n",
    "sns.histplot(data['Age'], ax = ax[0])\n",
    "sns.histplot(data['CustomerSince'], ax = ax[1])\n",
    "\n",
    "ax[0].set_title('Age')\n",
    "ax[1].set_title('CustomerSince')\n",
    "\n",
    "fig, ax = plt.subplots(1, 2)\n",
    "\n",
    "fig.set_figheight(5)\n",
    "fig.set_figwidth(15)\n",
    "\n",
    "sns.boxplot(y = \"Age\",data=data, ax = ax[0])\n",
    "sns.boxplot(y = \"CustomerSince\",data=data, ax = ax[1])\n",
    "\n",
    "ax[0].set_title('Age')\n",
    "ax[1].set_title('CustomerSince')"
   ]
  },
  {
   "cell_type": "markdown",
   "metadata": {},
   "source": [
    "1. Most of the people belong to the age group of 35-55.\n",
    "2. Most of the customers seems to have 10-30 units of association with the bank."
   ]
  },
  {
   "cell_type": "code",
   "execution_count": 191,
   "metadata": {},
   "outputs": [
    {
     "data": {
      "text/plain": [
       "Text(0.5, 1.0, 'MonthlyAverageSpend')"
      ]
     },
     "execution_count": 191,
     "metadata": {},
     "output_type": "execute_result"
    },
    {
     "data": {
      "image/png": "[encoded data removed]",
      "text/plain": [
       "<Figure size 1080x360 with 2 Axes>"
      ]
     },
     "metadata": {
      "needs_background": "light"
     },
     "output_type": "display_data"
    },
    {
     "data": {
      "image/png": "[encoded data removed]",
      "text/plain": [
       "<Figure size 1080x360 with 2 Axes>"
      ]
     },
     "metadata": {
      "needs_background": "light"
     },
     "output_type": "display_data"
    }
   ],
   "source": [
    "fig, ax = plt.subplots(1, 2)\n",
    "\n",
    "fig.set_figheight(5)\n",
    "fig.set_figwidth(15)\n",
    "\n",
    "sns.histplot(data['HighestSpend'], ax = ax[0])\n",
    "sns.histplot(data['MonthlyAverageSpend'], ax = ax[1])\n",
    "\n",
    "ax[0].set_title('HighestSpend')\n",
    "ax[1].set_title('MonthlyAverageSpend')\n",
    "\n",
    "fig, ax = plt.subplots(1, 2)\n",
    "\n",
    "fig.set_figheight(5)\n",
    "fig.set_figwidth(15)\n",
    "\n",
    "sns.boxplot(y = \"HighestSpend\",data=data, ax = ax[0])\n",
    "sns.boxplot(y = \"MonthlyAverageSpend\",data=data, ax = ax[1])\n",
    "\n",
    "ax[0].set_title('HighestSpend')\n",
    "ax[1].set_title('MonthlyAverageSpend')"
   ]
  },
  {
   "cell_type": "markdown",
   "metadata": {},
   "source": [
    "1. Most of the people spend at their highest between 30 and 90 units.\n",
    "2. Most of the people spend between 1 and 3 units on an average per month."
   ]
  },
  {
   "cell_type": "code",
   "execution_count": 192,
   "metadata": {},
   "outputs": [
    {
     "data": {
      "text/plain": [
       "Text(0.5, 1.0, 'Mortgage')"
      ]
     },
     "execution_count": 192,
     "metadata": {},
     "output_type": "execute_result"
    },
    {
     "data": {
      "image/png": "[encoded data removed]",
      "text/plain": [
       "<Figure size 1080x360 with 2 Axes>"
      ]
     },
     "metadata": {
      "needs_background": "light"
     },
     "output_type": "display_data"
    }
   ],
   "source": [
    "fig, ax = plt.subplots(1, 2)\n",
    "\n",
    "fig.set_figheight(5)\n",
    "fig.set_figwidth(15)\n",
    "\n",
    "sns.histplot(data['Mortgage'],ax = ax[0])\n",
    "sns.boxplot(y = \"Mortgage\",data=data, ax = ax[1])\n",
    "\n",
    "ax[0].set_title('Mortgage')\n",
    "ax[1].set_title('Mortgage')\n"
   ]
  },
  {
   "cell_type": "markdown",
   "metadata": {},
   "source": [
    "The number of people who took mortgage is little more than 30% of the customers. "
   ]
  },
  {
   "cell_type": "code",
   "execution_count": 193,
   "metadata": {},
   "outputs": [
    {
     "data": {
      "text/html": [
       "<div>\n",
       "<style scoped>\n",
       "    .dataframe tbody tr th:only-of-type {\n",
       "        vertical-align: middle;\n",
       "    }\n",
       "\n",
       "    .dataframe tbody tr th {\n",
       "        vertical-align: top;\n",
       "    }\n",
       "\n",
       "    .dataframe thead th {\n",
       "        text-align: right;\n",
       "    }\n",
       "</style>\n",
       "<table border=\"1\" class=\"dataframe\">\n",
       "  <thead>\n",
       "    <tr style=\"text-align: right;\">\n",
       "      <th></th>\n",
       "      <th>Mean</th>\n",
       "      <th>Count_less_than_mean</th>\n",
       "      <th>Count_greater_than_mean</th>\n",
       "      <th>Median</th>\n",
       "    </tr>\n",
       "  </thead>\n",
       "  <tbody>\n",
       "    <tr>\n",
       "      <th>Not opted</th>\n",
       "      <td>45.367257</td>\n",
       "      <td>2271 (50.24%)</td>\n",
       "      <td>2249 (49.76%)</td>\n",
       "      <td>45.0</td>\n",
       "    </tr>\n",
       "    <tr>\n",
       "      <th>Opted</th>\n",
       "      <td>45.066667</td>\n",
       "      <td>248 (51.67%)</td>\n",
       "      <td>232 (48.33%)</td>\n",
       "      <td>45.0</td>\n",
       "    </tr>\n",
       "  </tbody>\n",
       "</table>\n",
       "</div>"
      ],
      "text/plain": [
       "                Mean Count_less_than_mean Count_greater_than_mean  Median\n",
       "Not opted  45.367257        2271 (50.24%)           2249 (49.76%)    45.0\n",
       "Opted      45.066667         248 (51.67%)            232 (48.33%)    45.0"
      ]
     },
     "execution_count": 193,
     "metadata": {},
     "output_type": "execute_result"
    }
   ],
   "source": [
    "mean_age_opted = np.mean(data['Age'][data['LoanOnCard']==0])\n",
    "mean_age_not_opted = np.mean(data['Age'][data['LoanOnCard']==1])\n",
    "\n",
    "count_age_opted_less_than_mean = data['Age'][(data['Age']<mean_age_opted) & (data['LoanOnCard']==0)].count()\n",
    "count_age_opted_greater_than_mean = data['Age'][(data['Age']>mean_age_opted) & (data['LoanOnCard']==0)].count()\n",
    "per_age_opted_less_than_mean = round(count_age_opted_less_than_mean/(count_age_opted_less_than_mean+count_age_opted_greater_than_mean)*100,2)\n",
    "per_age_opted_greater_than_mean = round(count_age_opted_greater_than_mean/(count_age_opted_less_than_mean+count_age_opted_greater_than_mean)*100,2)\n",
    "\n",
    "count_age_not_opted_less_than_mean = data['Age'][(data['Age']<mean_age_not_opted) & (data['LoanOnCard']==1)].count()\n",
    "count_age_not_opted_greater_than_mean = data['Age'][(data['Age']>mean_age_not_opted) & (data['LoanOnCard']==1)].count()\n",
    "per_age_not_opted_less_than_mean = round(count_age_not_opted_less_than_mean/(count_age_not_opted_less_than_mean+count_age_not_opted_greater_than_mean)*100,2)\n",
    "per_age_not_opted_greater_than_mean = round(count_age_not_opted_greater_than_mean/(count_age_not_opted_less_than_mean+count_age_not_opted_greater_than_mean)*100,2)\n",
    "\n",
    "\n",
    "####\n",
    "median_age_opted = np.median(data['Age'][data['LoanOnCard']==0])\n",
    "median_age_not_opted = np.median(data['Age'][data['LoanOnCard']==1])\n",
    "\n",
    "df_temp = pd.DataFrame({'Mean':[mean_age_opted,mean_age_not_opted],\n",
    "                       'Count_less_than_mean':[str(count_age_opted_less_than_mean)+' (' + str(per_age_opted_less_than_mean)+'%)',str(count_age_not_opted_less_than_mean)+' (' + str(per_age_not_opted_less_than_mean)+'%)'],\n",
    "                       'Count_greater_than_mean':[str(count_age_opted_greater_than_mean)+' (' + str(per_age_opted_greater_than_mean)+'%)',str(count_age_not_opted_greater_than_mean)+' (' + str(per_age_not_opted_greater_than_mean)+'%)'],\n",
    "                       'Median':[median_age_opted,median_age_not_opted]},index=['Not opted','Opted'])\n",
    "df_temp"
   ]
  },
  {
   "cell_type": "code",
   "execution_count": 194,
   "metadata": {},
   "outputs": [
    {
     "data": {
      "text/plain": [
       "<matplotlib.axes._subplots.AxesSubplot at 0x1ca7a46edc8>"
      ]
     },
     "execution_count": 194,
     "metadata": {},
     "output_type": "execute_result"
    },
    {
     "data": {
      "image/png": "[encoded data removed]",
      "text/plain": [
       "<Figure size 432x288 with 1 Axes>"
      ]
     },
     "metadata": {
      "needs_background": "light"
     },
     "output_type": "display_data"
    }
   ],
   "source": [
    "sns.barplot(x=\"LoanOnCard\",y = \"Age\",data=data)"
   ]
  },
  {
   "cell_type": "code",
   "execution_count": 195,
   "metadata": {},
   "outputs": [
    {
     "data": {
      "text/plain": [
       "<matplotlib.axes._subplots.AxesSubplot at 0x1ca7a4aa9c8>"
      ]
     },
     "execution_count": 195,
     "metadata": {},
     "output_type": "execute_result"
    },
    {
     "data": {
      "image/png": "[encoded data removed]",
      "text/plain": [
       "<Figure size 432x288 with 1 Axes>"
      ]
     },
     "metadata": {
      "needs_background": "light"
     },
     "output_type": "display_data"
    }
   ],
   "source": [
    "sns.boxplot(x=\"LoanOnCard\",y = \"Age\",data=data)"
   ]
  },
  {
   "cell_type": "markdown",
   "metadata": {},
   "source": [
    "1. The age of the people who took loan is between 35-55 approximately.\n",
    "2. Also, the mean and the median age of the people who opted for a loan and not opted for a loan is the same."
   ]
  },
  {
   "cell_type": "code",
   "execution_count": 196,
   "metadata": {},
   "outputs": [
    {
     "data": {
      "text/html": [
       "<div>\n",
       "<style scoped>\n",
       "    .dataframe tbody tr th:only-of-type {\n",
       "        vertical-align: middle;\n",
       "    }\n",
       "\n",
       "    .dataframe tbody tr th {\n",
       "        vertical-align: top;\n",
       "    }\n",
       "\n",
       "    .dataframe thead th {\n",
       "        text-align: right;\n",
       "    }\n",
       "</style>\n",
       "<table border=\"1\" class=\"dataframe\">\n",
       "  <thead>\n",
       "    <tr style=\"text-align: right;\">\n",
       "      <th></th>\n",
       "      <th>Mean</th>\n",
       "      <th>Count_less_than_mean</th>\n",
       "      <th>Count_greater_than_mean</th>\n",
       "      <th>Median</th>\n",
       "    </tr>\n",
       "  </thead>\n",
       "  <tbody>\n",
       "    <tr>\n",
       "      <th>Not opted</th>\n",
       "      <td>20.132301</td>\n",
       "      <td>2291 (50.69%)</td>\n",
       "      <td>2229 (49.31%)</td>\n",
       "      <td>20.0</td>\n",
       "    </tr>\n",
       "    <tr>\n",
       "      <th>Opted</th>\n",
       "      <td>19.843750</td>\n",
       "      <td>234 (48.75%)</td>\n",
       "      <td>246 (51.25%)</td>\n",
       "      <td>20.0</td>\n",
       "    </tr>\n",
       "  </tbody>\n",
       "</table>\n",
       "</div>"
      ],
      "text/plain": [
       "                Mean Count_less_than_mean Count_greater_than_mean  Median\n",
       "Not opted  20.132301        2291 (50.69%)           2229 (49.31%)    20.0\n",
       "Opted      19.843750         234 (48.75%)            246 (51.25%)    20.0"
      ]
     },
     "execution_count": 196,
     "metadata": {},
     "output_type": "execute_result"
    }
   ],
   "source": [
    "mean_CustomerSince_opted = np.mean(data['CustomerSince'][data['LoanOnCard']==0])\n",
    "mean_CustomerSince_not_opted = np.mean(data['CustomerSince'][data['LoanOnCard']==1])\n",
    "\n",
    "count_CustomerSince_opted_less_than_mean = data['CustomerSince'][(data['CustomerSince']<mean_CustomerSince_opted) & (data['LoanOnCard']==0)].count()\n",
    "count_CustomerSince_opted_greater_than_mean = data['CustomerSince'][(data['CustomerSince']>mean_CustomerSince_opted) & (data['LoanOnCard']==0)].count()\n",
    "per_CustomerSince_opted_less_than_mean = round(count_CustomerSince_opted_less_than_mean/(count_CustomerSince_opted_less_than_mean+count_CustomerSince_opted_greater_than_mean)*100,2)\n",
    "per_CustomerSince_opted_greater_than_mean = round(count_CustomerSince_opted_greater_than_mean/(count_CustomerSince_opted_less_than_mean+count_CustomerSince_opted_greater_than_mean)*100,2)\n",
    "\n",
    "count_CustomerSince_not_opted_less_than_mean = data['CustomerSince'][(data['CustomerSince']<mean_CustomerSince_not_opted) & (data['LoanOnCard']==1)].count()\n",
    "count_CustomerSince_not_opted_greater_than_mean = data['CustomerSince'][(data['CustomerSince']>mean_CustomerSince_not_opted) & (data['LoanOnCard']==1)].count()\n",
    "per_CustomerSince_not_opted_less_than_mean = round(count_CustomerSince_not_opted_less_than_mean/(count_CustomerSince_not_opted_less_than_mean+count_CustomerSince_not_opted_greater_than_mean)*100,2)\n",
    "per_CustomerSince_not_opted_greater_than_mean = round(count_CustomerSince_not_opted_greater_than_mean/(count_CustomerSince_not_opted_less_than_mean+count_CustomerSince_not_opted_greater_than_mean)*100,2)\n",
    "\n",
    "\n",
    "####\n",
    "median_CustomerSince_opted = np.median(data['CustomerSince'][data['LoanOnCard']==0])\n",
    "median_CustomerSince_not_opted = np.median(data['CustomerSince'][data['LoanOnCard']==1])\n",
    "\n",
    "df_temp = pd.DataFrame({'Mean':[mean_CustomerSince_opted,mean_CustomerSince_not_opted],\n",
    "                       'Count_less_than_mean':[str(count_CustomerSince_opted_less_than_mean)+' (' + str(per_CustomerSince_opted_less_than_mean)+'%)',str(count_CustomerSince_not_opted_less_than_mean)+' (' + str(per_CustomerSince_not_opted_less_than_mean)+'%)'],\n",
    "                       'Count_greater_than_mean':[str(count_CustomerSince_opted_greater_than_mean)+' (' + str(per_CustomerSince_opted_greater_than_mean)+'%)',str(count_CustomerSince_not_opted_greater_than_mean)+' (' + str(per_CustomerSince_not_opted_greater_than_mean)+'%)'],\n",
    "                       'Median':[median_CustomerSince_opted,median_CustomerSince_not_opted]},index=['Not opted','Opted'])\n",
    "df_temp"
   ]
  },
  {
   "cell_type": "code",
   "execution_count": 197,
   "metadata": {},
   "outputs": [
    {
     "data": {
      "text/plain": [
       "<matplotlib.axes._subplots.AxesSubplot at 0x1ca7a78cac8>"
      ]
     },
     "execution_count": 197,
     "metadata": {},
     "output_type": "execute_result"
    },
    {
     "data": {
      "image/png": "[encoded data removed]",
      "text/plain": [
       "<Figure size 432x288 with 1 Axes>"
      ]
     },
     "metadata": {
      "needs_background": "light"
     },
     "output_type": "display_data"
    }
   ],
   "source": [
    "sns.barplot(x=\"LoanOnCard\",y = \"CustomerSince\",data=data)"
   ]
  },
  {
   "cell_type": "code",
   "execution_count": 198,
   "metadata": {},
   "outputs": [
    {
     "data": {
      "text/plain": [
       "<matplotlib.axes._subplots.AxesSubplot at 0x1ca7a7d4bc8>"
      ]
     },
     "execution_count": 198,
     "metadata": {},
     "output_type": "execute_result"
    },
    {
     "data": {
      "image/png": "[encoded data removed]",
      "text/plain": [
       "<Figure size 432x288 with 1 Axes>"
      ]
     },
     "metadata": {
      "needs_background": "light"
     },
     "output_type": "display_data"
    }
   ],
   "source": [
    "sns.boxplot(x=\"LoanOnCard\",y = \"CustomerSince\",data=data)\n"
   ]
  },
  {
   "cell_type": "markdown",
   "metadata": {},
   "source": [
    "1. The people who took loan are associated between 10 and 30 units.\n",
    "2. Also, similar to the previous case, the mean and the median units of association of the people who opted for a loan and not opted for a loan is the same."
   ]
  },
  {
   "cell_type": "code",
   "execution_count": 199,
   "metadata": {},
   "outputs": [
    {
     "data": {
      "text/html": [
       "<div>\n",
       "<style scoped>\n",
       "    .dataframe tbody tr th:only-of-type {\n",
       "        vertical-align: middle;\n",
       "    }\n",
       "\n",
       "    .dataframe tbody tr th {\n",
       "        vertical-align: top;\n",
       "    }\n",
       "\n",
       "    .dataframe thead th {\n",
       "        text-align: right;\n",
       "    }\n",
       "</style>\n",
       "<table border=\"1\" class=\"dataframe\">\n",
       "  <thead>\n",
       "    <tr style=\"text-align: right;\">\n",
       "      <th></th>\n",
       "      <th>Mean</th>\n",
       "      <th>Count_less_than_mean</th>\n",
       "      <th>Count_greater_than_mean</th>\n",
       "      <th>Median</th>\n",
       "    </tr>\n",
       "  </thead>\n",
       "  <tbody>\n",
       "    <tr>\n",
       "      <th>Not opted</th>\n",
       "      <td>66.237389</td>\n",
       "      <td>2607 (57.68%)</td>\n",
       "      <td>1913 (42.32%)</td>\n",
       "      <td>59.0</td>\n",
       "    </tr>\n",
       "    <tr>\n",
       "      <th>Opted</th>\n",
       "      <td>144.745833</td>\n",
       "      <td>246 (51.25%)</td>\n",
       "      <td>234 (48.75%)</td>\n",
       "      <td>142.5</td>\n",
       "    </tr>\n",
       "  </tbody>\n",
       "</table>\n",
       "</div>"
      ],
      "text/plain": [
       "                 Mean Count_less_than_mean Count_greater_than_mean  Median\n",
       "Not opted   66.237389        2607 (57.68%)           1913 (42.32%)    59.0\n",
       "Opted      144.745833         246 (51.25%)            234 (48.75%)   142.5"
      ]
     },
     "execution_count": 199,
     "metadata": {},
     "output_type": "execute_result"
    }
   ],
   "source": [
    "mean_HighestSpend_opted = np.mean(data['HighestSpend'][data['LoanOnCard']==0])\n",
    "mean_HighestSpend_not_opted = np.mean(data['HighestSpend'][data['LoanOnCard']==1])\n",
    "\n",
    "count_HighestSpend_opted_less_than_mean = data['HighestSpend'][(data['HighestSpend']<mean_HighestSpend_opted) & (data['LoanOnCard']==0)].count()\n",
    "count_HighestSpend_opted_greater_than_mean = data['HighestSpend'][(data['HighestSpend']>mean_HighestSpend_opted) & (data['LoanOnCard']==0)].count()\n",
    "per_HighestSpend_opted_less_than_mean = round(count_HighestSpend_opted_less_than_mean/(count_HighestSpend_opted_less_than_mean+count_HighestSpend_opted_greater_than_mean)*100,2)\n",
    "per_HighestSpend_opted_greater_than_mean = round(count_HighestSpend_opted_greater_than_mean/(count_HighestSpend_opted_less_than_mean+count_HighestSpend_opted_greater_than_mean)*100,2)\n",
    "\n",
    "count_HighestSpend_not_opted_less_than_mean = data['HighestSpend'][(data['HighestSpend']<mean_HighestSpend_not_opted) & (data['LoanOnCard']==1)].count()\n",
    "count_HighestSpend_not_opted_greater_than_mean = data['HighestSpend'][(data['HighestSpend']>mean_HighestSpend_not_opted) & (data['LoanOnCard']==1)].count()\n",
    "per_HighestSpend_not_opted_less_than_mean = round(count_HighestSpend_not_opted_less_than_mean/(count_HighestSpend_not_opted_less_than_mean+count_HighestSpend_not_opted_greater_than_mean)*100,2)\n",
    "per_HighestSpend_not_opted_greater_than_mean = round(count_HighestSpend_not_opted_greater_than_mean/(count_HighestSpend_not_opted_less_than_mean+count_HighestSpend_not_opted_greater_than_mean)*100,2)\n",
    "\n",
    "\n",
    "####\n",
    "median_HighestSpend_opted = np.median(data['HighestSpend'][data['LoanOnCard']==0])\n",
    "median_HighestSpend_not_opted = np.median(data['HighestSpend'][data['LoanOnCard']==1])\n",
    "\n",
    "df_temp = pd.DataFrame({'Mean':[mean_HighestSpend_opted,mean_HighestSpend_not_opted],\n",
    "                       'Count_less_than_mean':[str(count_HighestSpend_opted_less_than_mean)+' (' + str(per_HighestSpend_opted_less_than_mean)+'%)',str(count_HighestSpend_not_opted_less_than_mean)+' (' + str(per_HighestSpend_not_opted_less_than_mean)+'%)'],\n",
    "                       'Count_greater_than_mean':[str(count_HighestSpend_opted_greater_than_mean)+' (' + str(per_HighestSpend_opted_greater_than_mean)+'%)',str(count_HighestSpend_not_opted_greater_than_mean)+' (' + str(per_HighestSpend_not_opted_greater_than_mean)+'%)'],\n",
    "                       'Median':[median_HighestSpend_opted,median_HighestSpend_not_opted]},index=['Not opted','Opted'])\n",
    "df_temp"
   ]
  },
  {
   "cell_type": "code",
   "execution_count": 200,
   "metadata": {},
   "outputs": [
    {
     "data": {
      "text/plain": [
       "<matplotlib.axes._subplots.AxesSubplot at 0x1ca7a86b8c8>"
      ]
     },
     "execution_count": 200,
     "metadata": {},
     "output_type": "execute_result"
    },
    {
     "data": {
      "image/png": "[encoded data removed]",
      "text/plain": [
       "<Figure size 432x288 with 1 Axes>"
      ]
     },
     "metadata": {
      "needs_background": "light"
     },
     "output_type": "display_data"
    }
   ],
   "source": [
    "sns.barplot(x=\"LoanOnCard\",y = \"HighestSpend\",data=data)"
   ]
  },
  {
   "cell_type": "code",
   "execution_count": 201,
   "metadata": {},
   "outputs": [
    {
     "data": {
      "text/plain": [
       "<matplotlib.axes._subplots.AxesSubplot at 0x1ca7a7cf148>"
      ]
     },
     "execution_count": 201,
     "metadata": {},
     "output_type": "execute_result"
    },
    {
     "data": {
      "image/png": "[encoded data removed]",
      "text/plain": [
       "<Figure size 432x288 with 1 Axes>"
      ]
     },
     "metadata": {
      "needs_background": "light"
     },
     "output_type": "display_data"
    }
   ],
   "source": [
    "sns.boxplot(x=\"LoanOnCard\",y = \"HighestSpend\",data=data)"
   ]
  },
  {
   "cell_type": "markdown",
   "metadata": {},
   "source": [
    "1. The mean and the median highest spend of the people who took loan is significantly higher than the ones of the people who did not took the loan.\n",
    "2. Also, the people who spend highest are on both the sides (opted and not opted).     "
   ]
  },
  {
   "cell_type": "code",
   "execution_count": 202,
   "metadata": {},
   "outputs": [
    {
     "data": {
      "text/html": [
       "<div>\n",
       "<style scoped>\n",
       "    .dataframe tbody tr th:only-of-type {\n",
       "        vertical-align: middle;\n",
       "    }\n",
       "\n",
       "    .dataframe tbody tr th {\n",
       "        vertical-align: top;\n",
       "    }\n",
       "\n",
       "    .dataframe thead th {\n",
       "        text-align: right;\n",
       "    }\n",
       "</style>\n",
       "<table border=\"1\" class=\"dataframe\">\n",
       "  <thead>\n",
       "    <tr style=\"text-align: right;\">\n",
       "      <th></th>\n",
       "      <th>Mean</th>\n",
       "      <th>Count_less_than_mean</th>\n",
       "      <th>Count_greater_than_mean</th>\n",
       "      <th>Median</th>\n",
       "    </tr>\n",
       "  </thead>\n",
       "  <tbody>\n",
       "    <tr>\n",
       "      <th>Not opted</th>\n",
       "      <td>1.729009</td>\n",
       "      <td>2707 (59.89%)</td>\n",
       "      <td>1813 (40.11%)</td>\n",
       "      <td>1.4</td>\n",
       "    </tr>\n",
       "    <tr>\n",
       "      <th>Opted</th>\n",
       "      <td>3.905354</td>\n",
       "      <td>252 (52.5%)</td>\n",
       "      <td>228 (47.5%)</td>\n",
       "      <td>3.8</td>\n",
       "    </tr>\n",
       "  </tbody>\n",
       "</table>\n",
       "</div>"
      ],
      "text/plain": [
       "               Mean Count_less_than_mean Count_greater_than_mean  Median\n",
       "Not opted  1.729009        2707 (59.89%)           1813 (40.11%)     1.4\n",
       "Opted      3.905354          252 (52.5%)             228 (47.5%)     3.8"
      ]
     },
     "execution_count": 202,
     "metadata": {},
     "output_type": "execute_result"
    }
   ],
   "source": [
    "mean_MonthlyAverageSpend_opted = np.mean(data['MonthlyAverageSpend'][data['LoanOnCard']==0])\n",
    "mean_MonthlyAverageSpend_not_opted = np.mean(data['MonthlyAverageSpend'][data['LoanOnCard']==1])\n",
    "\n",
    "count_MonthlyAverageSpend_opted_less_than_mean = data['MonthlyAverageSpend'][(data['MonthlyAverageSpend']<mean_MonthlyAverageSpend_opted) & (data['LoanOnCard']==0)].count()\n",
    "count_MonthlyAverageSpend_opted_greater_than_mean = data['MonthlyAverageSpend'][(data['MonthlyAverageSpend']>mean_MonthlyAverageSpend_opted) & (data['LoanOnCard']==0)].count()\n",
    "per_MonthlyAverageSpend_opted_less_than_mean = round(count_MonthlyAverageSpend_opted_less_than_mean/(count_MonthlyAverageSpend_opted_less_than_mean+count_MonthlyAverageSpend_opted_greater_than_mean)*100,2)\n",
    "per_MonthlyAverageSpend_opted_greater_than_mean = round(count_MonthlyAverageSpend_opted_greater_than_mean/(count_MonthlyAverageSpend_opted_less_than_mean+count_MonthlyAverageSpend_opted_greater_than_mean)*100,2)\n",
    "\n",
    "count_MonthlyAverageSpend_not_opted_less_than_mean = data['MonthlyAverageSpend'][(data['MonthlyAverageSpend']<mean_MonthlyAverageSpend_not_opted) & (data['LoanOnCard']==1)].count()\n",
    "count_MonthlyAverageSpend_not_opted_greater_than_mean = data['MonthlyAverageSpend'][(data['MonthlyAverageSpend']>mean_MonthlyAverageSpend_not_opted) & (data['LoanOnCard']==1)].count()\n",
    "per_MonthlyAverageSpend_not_opted_less_than_mean = round(count_MonthlyAverageSpend_not_opted_less_than_mean/(count_MonthlyAverageSpend_not_opted_less_than_mean+count_MonthlyAverageSpend_not_opted_greater_than_mean)*100,2)\n",
    "per_MonthlyAverageSpend_not_opted_greater_than_mean = round(count_MonthlyAverageSpend_not_opted_greater_than_mean/(count_MonthlyAverageSpend_not_opted_less_than_mean+count_MonthlyAverageSpend_not_opted_greater_than_mean)*100,2)\n",
    "\n",
    "\n",
    "####\n",
    "median_MonthlyAverageSpend_opted = np.median(data['MonthlyAverageSpend'][data['LoanOnCard']==0])\n",
    "median_MonthlyAverageSpend_not_opted = np.median(data['MonthlyAverageSpend'][data['LoanOnCard']==1])\n",
    "\n",
    "df_temp = pd.DataFrame({'Mean':[mean_MonthlyAverageSpend_opted,mean_MonthlyAverageSpend_not_opted],\n",
    "                       'Count_less_than_mean':[str(count_MonthlyAverageSpend_opted_less_than_mean)+' (' + str(per_MonthlyAverageSpend_opted_less_than_mean)+'%)',str(count_MonthlyAverageSpend_not_opted_less_than_mean)+' (' + str(per_MonthlyAverageSpend_not_opted_less_than_mean)+'%)'],\n",
    "                       'Count_greater_than_mean':[str(count_MonthlyAverageSpend_opted_greater_than_mean)+' (' + str(per_MonthlyAverageSpend_opted_greater_than_mean)+'%)',str(count_MonthlyAverageSpend_not_opted_greater_than_mean)+' (' + str(per_MonthlyAverageSpend_not_opted_greater_than_mean)+'%)'],\n",
    "                       'Median':[median_MonthlyAverageSpend_opted,median_MonthlyAverageSpend_not_opted]},index=['Not opted','Opted'])\n",
    "df_temp"
   ]
  },
  {
   "cell_type": "code",
   "execution_count": 203,
   "metadata": {},
   "outputs": [
    {
     "data": {
      "text/plain": [
       "<matplotlib.axes._subplots.AxesSubplot at 0x1ca7aa7ffc8>"
      ]
     },
     "execution_count": 203,
     "metadata": {},
     "output_type": "execute_result"
    },
    {
     "data": {
      "image/png": "[encoded data removed]",
      "text/plain": [
       "<Figure size 432x288 with 1 Axes>"
      ]
     },
     "metadata": {
      "needs_background": "light"
     },
     "output_type": "display_data"
    }
   ],
   "source": [
    "sns.barplot(x=\"LoanOnCard\",y = \"MonthlyAverageSpend\",data=data)"
   ]
  },
  {
   "cell_type": "code",
   "execution_count": 204,
   "metadata": {},
   "outputs": [
    {
     "data": {
      "text/plain": [
       "<matplotlib.axes._subplots.AxesSubplot at 0x1ca7aac3488>"
      ]
     },
     "execution_count": 204,
     "metadata": {},
     "output_type": "execute_result"
    },
    {
     "data": {
      "image/png": "[encoded data removed]",
      "text/plain": [
       "<Figure size 432x288 with 1 Axes>"
      ]
     },
     "metadata": {
      "needs_background": "light"
     },
     "output_type": "display_data"
    }
   ],
   "source": [
    "sns.boxplot(x=\"LoanOnCard\",y = \"MonthlyAverageSpend\",data=data)"
   ]
  },
  {
   "cell_type": "markdown",
   "metadata": {},
   "source": [
    "1. On average, the people who are associated longer tend to take a loan from the bank\n",
    "2. However, it is difficult to say this at the extremeties, since the data suggests that there are people who are associated longer with the bank but did not take a loan.    "
   ]
  },
  {
   "cell_type": "code",
   "execution_count": 205,
   "metadata": {},
   "outputs": [
    {
     "data": {
      "text/html": [
       "<div>\n",
       "<style scoped>\n",
       "    .dataframe tbody tr th:only-of-type {\n",
       "        vertical-align: middle;\n",
       "    }\n",
       "\n",
       "    .dataframe tbody tr th {\n",
       "        vertical-align: top;\n",
       "    }\n",
       "\n",
       "    .dataframe thead th {\n",
       "        text-align: right;\n",
       "    }\n",
       "</style>\n",
       "<table border=\"1\" class=\"dataframe\">\n",
       "  <thead>\n",
       "    <tr style=\"text-align: right;\">\n",
       "      <th></th>\n",
       "      <th>Mean</th>\n",
       "      <th>Count_less_than_mean</th>\n",
       "      <th>Count_greater_than_mean</th>\n",
       "      <th>Median</th>\n",
       "    </tr>\n",
       "  </thead>\n",
       "  <tbody>\n",
       "    <tr>\n",
       "      <th>Not opted</th>\n",
       "      <td>51.789381</td>\n",
       "      <td>3150 (69.69%)</td>\n",
       "      <td>1370 (30.31%)</td>\n",
       "      <td>0.0</td>\n",
       "    </tr>\n",
       "    <tr>\n",
       "      <th>Opted</th>\n",
       "      <td>100.845833</td>\n",
       "      <td>325 (67.71%)</td>\n",
       "      <td>155 (32.29%)</td>\n",
       "      <td>0.0</td>\n",
       "    </tr>\n",
       "  </tbody>\n",
       "</table>\n",
       "</div>"
      ],
      "text/plain": [
       "                 Mean Count_less_than_mean Count_greater_than_mean  Median\n",
       "Not opted   51.789381        3150 (69.69%)           1370 (30.31%)     0.0\n",
       "Opted      100.845833         325 (67.71%)            155 (32.29%)     0.0"
      ]
     },
     "execution_count": 205,
     "metadata": {},
     "output_type": "execute_result"
    }
   ],
   "source": [
    "mean_Mortgage_opted = np.mean(data['Mortgage'][data['LoanOnCard']==0])\n",
    "mean_Mortgage_not_opted = np.mean(data['Mortgage'][data['LoanOnCard']==1])\n",
    "\n",
    "count_Mortgage_opted_less_than_mean = data['Mortgage'][(data['Mortgage']<mean_Mortgage_opted) & (data['LoanOnCard']==0)].count()\n",
    "count_Mortgage_opted_greater_than_mean = data['Mortgage'][(data['Mortgage']>mean_Mortgage_opted) & (data['LoanOnCard']==0)].count()\n",
    "per_Mortgage_opted_less_than_mean = round(count_Mortgage_opted_less_than_mean/(count_Mortgage_opted_less_than_mean+count_Mortgage_opted_greater_than_mean)*100,2)\n",
    "per_Mortgage_opted_greater_than_mean = round(count_Mortgage_opted_greater_than_mean/(count_Mortgage_opted_less_than_mean+count_Mortgage_opted_greater_than_mean)*100,2)\n",
    "\n",
    "count_Mortgage_not_opted_less_than_mean = data['Mortgage'][(data['Mortgage']<mean_Mortgage_not_opted) & (data['LoanOnCard']==1)].count()\n",
    "count_Mortgage_not_opted_greater_than_mean = data['Mortgage'][(data['Mortgage']>mean_Mortgage_not_opted) & (data['LoanOnCard']==1)].count()\n",
    "per_Mortgage_not_opted_less_than_mean = round(count_Mortgage_not_opted_less_than_mean/(count_Mortgage_not_opted_less_than_mean+count_Mortgage_not_opted_greater_than_mean)*100,2)\n",
    "per_Mortgage_not_opted_greater_than_mean = round(count_Mortgage_not_opted_greater_than_mean/(count_Mortgage_not_opted_less_than_mean+count_Mortgage_not_opted_greater_than_mean)*100,2)\n",
    "\n",
    "\n",
    "####\n",
    "median_Mortgage_opted = np.median(data['Mortgage'][data['LoanOnCard']==0])\n",
    "median_Mortgage_not_opted = np.median(data['Mortgage'][data['LoanOnCard']==1])\n",
    "\n",
    "df_temp = pd.DataFrame({'Mean':[mean_Mortgage_opted,mean_Mortgage_not_opted],\n",
    "                       'Count_less_than_mean':[str(count_Mortgage_opted_less_than_mean)+' (' + str(per_Mortgage_opted_less_than_mean)+'%)',str(count_Mortgage_not_opted_less_than_mean)+' (' + str(per_Mortgage_not_opted_less_than_mean)+'%)'],\n",
    "                       'Count_greater_than_mean':[str(count_Mortgage_opted_greater_than_mean)+' (' + str(per_Mortgage_opted_greater_than_mean)+'%)',str(count_Mortgage_not_opted_greater_than_mean)+' (' + str(per_Mortgage_not_opted_greater_than_mean)+'%)'],\n",
    "                       'Median':[median_Mortgage_opted,median_Mortgage_not_opted]},index=['Not opted','Opted'])\n",
    "df_temp"
   ]
  },
  {
   "cell_type": "code",
   "execution_count": 206,
   "metadata": {},
   "outputs": [
    {
     "data": {
      "text/plain": [
       "<matplotlib.axes._subplots.AxesSubplot at 0x1ca789c7bc8>"
      ]
     },
     "execution_count": 206,
     "metadata": {},
     "output_type": "execute_result"
    },
    {
     "data": {
      "image/png": "[encoded data removed]",
      "text/plain": [
       "<Figure size 432x288 with 1 Axes>"
      ]
     },
     "metadata": {
      "needs_background": "light"
     },
     "output_type": "display_data"
    }
   ],
   "source": [
    "sns.barplot(x=\"LoanOnCard\",y = \"Mortgage\",data=data)"
   ]
  },
  {
   "cell_type": "code",
   "execution_count": 207,
   "metadata": {},
   "outputs": [
    {
     "data": {
      "text/plain": [
       "<matplotlib.axes._subplots.AxesSubplot at 0x1ca79f15b48>"
      ]
     },
     "execution_count": 207,
     "metadata": {},
     "output_type": "execute_result"
    },
    {
     "data": {
      "image/png": "[encoded data removed]",
      "text/plain": [
       "<Figure size 432x288 with 1 Axes>"
      ]
     },
     "metadata": {
      "needs_background": "light"
     },
     "output_type": "display_data"
    }
   ],
   "source": [
    "sns.boxplot(x=\"LoanOnCard\",y = \"Mortgage\",data=data)"
   ]
  },
  {
   "cell_type": "markdown",
   "metadata": {},
   "source": [
    "1. The mean motagage units of the people who took the loan is higher than that of the people who did not took the loan.\n",
    "2. It is convenient to say that the people with less mortagage units tend not to take a loan from the bank. However, the people with higher mortgage units may or may not take the loan. "
   ]
  },
  {
   "cell_type": "code",
   "execution_count": 332,
   "metadata": {},
   "outputs": [
    {
     "data": {
      "image/png": "[encoded data removed]",
      "text/plain": [
       "<Figure size 429.625x360 with 1 Axes>"
      ]
     },
     "metadata": {
      "needs_background": "light"
     },
     "output_type": "display_data"
    }
   ],
   "source": [
    "hdn_scr_per = data.groupby('HiddenScore')['LoanOnCard'].value_counts(normalize=True)\n",
    "hdn_scr_per = hdn_scr_per.mul(100)\n",
    "hdn_scr_per = hdn_scr_per.rename('percent').reset_index()\n",
    "\n",
    "g = sns.catplot(x='HiddenScore',y='percent',hue='LoanOnCard',kind='bar',data=hdn_scr_per)\n",
    "g.ax.set_ylim(0,100)\n",
    "\n",
    "for p in g.ax.patches:\n",
    "    anot = str(p.get_height().round(2)) + '%'\n",
    "    anot_pos_x = p.get_x() \n",
    "    anot_pos_y = p.get_height()\n",
    "    g.ax.text(anot_pos_x,anot_pos_y/2,anot)"
   ]
  },
  {
   "cell_type": "markdown",
   "metadata": {},
   "source": [
    "The people belonging to the hidden score class of 3 tend to take a loan than the others."
   ]
  },
  {
   "cell_type": "code",
   "execution_count": 209,
   "metadata": {},
   "outputs": [
    {
     "data": {
      "image/png": "[encoded data removed]",
      "text/plain": [
       "<Figure size 429.625x360 with 1 Axes>"
      ]
     },
     "metadata": {
      "needs_background": "light"
     },
     "output_type": "display_data"
    }
   ],
   "source": [
    "level_per = data.groupby('Level')['LoanOnCard'].value_counts(normalize=True)\n",
    "level_per = level_per.mul(100)\n",
    "level_per = level_per.rename('percent').reset_index()\n",
    "\n",
    "g = sns.catplot(x='Level',y='percent',hue='LoanOnCard',kind='bar',data=level_per)\n",
    "g.ax.set_ylim(0,100)\n",
    "\n",
    "for p in g.ax.patches:\n",
    "    anot = str(p.get_height().round(2)) + '%'\n",
    "    anot_pos_x = p.get_x() \n",
    "    anot_pos_y = p.get_height()\n",
    "    g.ax.text(anot_pos_x,anot_pos_y/2,anot)"
   ]
  },
  {
   "cell_type": "markdown",
   "metadata": {},
   "source": [
    "The people belonging to the level 1 less likely to take a loan than the people belonging to the other levels. "
   ]
  },
  {
   "cell_type": "code",
   "execution_count": 210,
   "metadata": {},
   "outputs": [
    {
     "data": {
      "image/png": "[encoded data removed]",
      "text/plain": [
       "<Figure size 429.625x360 with 1 Axes>"
      ]
     },
     "metadata": {
      "needs_background": "light"
     },
     "output_type": "display_data"
    }
   ],
   "source": [
    "security_per = data.groupby('Security')['LoanOnCard'].value_counts(normalize=True)\n",
    "security_per = security_per.mul(100)\n",
    "security_per = security_per.rename('percent').reset_index()\n",
    "\n",
    "g = sns.catplot(x='Security',y='percent',hue='LoanOnCard',kind='bar',data=security_per)\n",
    "g.ax.set_ylim(0,100)\n",
    "\n",
    "for p in g.ax.patches:\n",
    "    anot = str(p.get_height().round(2)) + '%'\n",
    "    anot_pos_x = p.get_x() \n",
    "    anot_pos_y = p.get_height()\n",
    "    g.ax.text(anot_pos_x,anot_pos_y/2,anot)"
   ]
  },
  {
   "cell_type": "markdown",
   "metadata": {},
   "source": [
    "The people who have a security asset with the bank have a very slight chance of taking loan than the others."
   ]
  },
  {
   "cell_type": "code",
   "execution_count": 211,
   "metadata": {},
   "outputs": [
    {
     "data": {
      "image/png": "[encoded data removed]",
      "text/plain": [
       "<Figure size 429.625x360 with 1 Axes>"
      ]
     },
     "metadata": {
      "needs_background": "light"
     },
     "output_type": "display_data"
    }
   ],
   "source": [
    "fd_per = data.groupby('FixedDepositAccount')['LoanOnCard'].value_counts(normalize=True)\n",
    "fd_per = fd_per.mul(100)\n",
    "fd_per = fd_per.rename('percent').reset_index()\n",
    "\n",
    "g = sns.catplot(x='FixedDepositAccount',y='percent',hue='LoanOnCard',kind='bar',data=fd_per)\n",
    "g.ax.set_ylim(0,100)\n",
    "\n",
    "for p in g.ax.patches:\n",
    "    anot = str(p.get_height().round(2)) + '%'\n",
    "    anot_pos_x = p.get_x() \n",
    "    anot_pos_y = p.get_height()\n",
    "    g.ax.text(anot_pos_x,anot_pos_y/2,anot)"
   ]
  },
  {
   "cell_type": "markdown",
   "metadata": {},
   "source": [
    "The people who opened a fixed deposit account with the bank have a significantly higher chance of taking a loan than the people who do not have one. "
   ]
  },
  {
   "cell_type": "code",
   "execution_count": 212,
   "metadata": {},
   "outputs": [
    {
     "data": {
      "image/png": "[encoded data removed]",
      "text/plain": [
       "<Figure size 429.625x360 with 1 Axes>"
      ]
     },
     "metadata": {
      "needs_background": "light"
     },
     "output_type": "display_data"
    }
   ],
   "source": [
    "ib_per = data.groupby('InternetBanking')['LoanOnCard'].value_counts(normalize=True)\n",
    "ib_per = ib_per.mul(100)\n",
    "ib_per = ib_per.rename('percent').reset_index()\n",
    "\n",
    "g = sns.catplot(x='InternetBanking',y='percent',hue='LoanOnCard',kind='bar',data=ib_per)\n",
    "g.ax.set_ylim(0,100)\n",
    "\n",
    "for p in g.ax.patches:\n",
    "    anot = str(p.get_height().round(2)) + '%'\n",
    "    anot_pos_x = p.get_x() \n",
    "    anot_pos_y = p.get_height()\n",
    "    g.ax.text(anot_pos_x,anot_pos_y/2,anot)"
   ]
  },
  {
   "cell_type": "markdown",
   "metadata": {},
   "source": [
    "1. It is very difficult to say if the people who opted for internet banking will take a loan. \n",
    "2. Also, it is equally difficult to say that the people who did not opted for internet banking will not take a loan."
   ]
  },
  {
   "cell_type": "code",
   "execution_count": 213,
   "metadata": {},
   "outputs": [
    {
     "data": {
      "image/png": "[encoded data removed]",
      "text/plain": [
       "<Figure size 429.625x360 with 1 Axes>"
      ]
     },
     "metadata": {
      "needs_background": "light"
     },
     "output_type": "display_data"
    }
   ],
   "source": [
    "cc_per = data.groupby('CreditCard')['LoanOnCard'].value_counts(normalize=True)\n",
    "cc_per = cc_per.mul(100)\n",
    "cc_per = cc_per.rename('percent').reset_index()\n",
    "\n",
    "g = sns.catplot(x='CreditCard',y='percent',hue='LoanOnCard',kind='bar',data=cc_per)\n",
    "g.ax.set_ylim(0,100)\n",
    "\n",
    "for p in g.ax.patches:\n",
    "    anot = str(p.get_height().round(2)) + '%'\n",
    "    anot_pos_x = p.get_x() \n",
    "    anot_pos_y = p.get_height()\n",
    "    g.ax.text(anot_pos_x,anot_pos_y/2,anot)"
   ]
  },
  {
   "cell_type": "markdown",
   "metadata": {},
   "source": [
    "1. Large percentage of the people who did not took a credit card, also, did not take a loan.\n",
    "2. The percentage of the people who took a credit card and also took a loan is very small.  "
   ]
  },
  {
   "cell_type": "markdown",
   "metadata": {},
   "source": [
    "<span style=\"font-family: Arial; font-weight:bold;font-size:2em;color:#00b3e5;\"> 4 Data pre-processing"
   ]
  },
  {
   "cell_type": "markdown",
   "metadata": {},
   "source": [
    "<span style=\"font-family: Arial; font-weight:bold;font-size:1em;color:#00b3e5;\"> • Segregate predictors vs target attributes"
   ]
  },
  {
   "cell_type": "code",
   "execution_count": 214,
   "metadata": {},
   "outputs": [],
   "source": [
    "X = data.drop('LoanOnCard',axis=1)\n",
    "Y = data['LoanOnCard']"
   ]
  },
  {
   "cell_type": "markdown",
   "metadata": {},
   "source": [
    "<span style=\"font-family: Arial; font-weight:bold;font-size:1em;color:#00b3e5;\"> • Check for target balancing"
   ]
  },
  {
   "cell_type": "code",
   "execution_count": 215,
   "metadata": {},
   "outputs": [
    {
     "data": {
      "text/plain": [
       "0.0    0.904\n",
       "1.0    0.096\n",
       "Name: LoanOnCard, dtype: float64"
      ]
     },
     "execution_count": 215,
     "metadata": {},
     "output_type": "execute_result"
    }
   ],
   "source": [
    "data['LoanOnCard'].value_counts(normalize='True')"
   ]
  },
  {
   "cell_type": "code",
   "execution_count": 216,
   "metadata": {},
   "outputs": [
    {
     "data": {
      "text/plain": [
       "<matplotlib.axes._subplots.AxesSubplot at 0x1ca792b6948>"
      ]
     },
     "execution_count": 216,
     "metadata": {},
     "output_type": "execute_result"
    },
    {
     "data": {
      "image/png": "[encoded data removed]",
      "text/plain": [
       "<Figure size 432x288 with 1 Axes>"
      ]
     },
     "metadata": {
      "needs_background": "light"
     },
     "output_type": "display_data"
    }
   ],
   "source": [
    "pd.value_counts(data[\"LoanOnCard\"]).plot(kind=\"bar\")"
   ]
  },
  {
   "cell_type": "markdown",
   "metadata": {},
   "source": [
    "Here, we see that the target variable is not balanced. However, we proceed to the machine learning step."
   ]
  },
  {
   "cell_type": "markdown",
   "metadata": {},
   "source": [
    "<span style=\"font-family: Arial; font-weight:bold;font-size:1em;color:#00b3e5;\"> • Perform train-test split"
   ]
  },
  {
   "cell_type": "code",
   "execution_count": 217,
   "metadata": {},
   "outputs": [
    {
     "data": {
      "text/html": [
       "<div>\n",
       "<style scoped>\n",
       "    .dataframe tbody tr th:only-of-type {\n",
       "        vertical-align: middle;\n",
       "    }\n",
       "\n",
       "    .dataframe tbody tr th {\n",
       "        vertical-align: top;\n",
       "    }\n",
       "\n",
       "    .dataframe thead th {\n",
       "        text-align: right;\n",
       "    }\n",
       "</style>\n",
       "<table border=\"1\" class=\"dataframe\">\n",
       "  <thead>\n",
       "    <tr style=\"text-align: right;\">\n",
       "      <th></th>\n",
       "      <th>Age</th>\n",
       "      <th>CustomerSince</th>\n",
       "      <th>HighestSpend</th>\n",
       "      <th>HiddenScore</th>\n",
       "      <th>MonthlyAverageSpend</th>\n",
       "      <th>Level</th>\n",
       "      <th>Mortgage</th>\n",
       "      <th>Security</th>\n",
       "      <th>FixedDepositAccount</th>\n",
       "      <th>InternetBanking</th>\n",
       "      <th>CreditCard</th>\n",
       "    </tr>\n",
       "  </thead>\n",
       "  <tbody>\n",
       "    <tr>\n",
       "      <th>1334</th>\n",
       "      <td>47.0</td>\n",
       "      <td>22.0</td>\n",
       "      <td>35.0</td>\n",
       "      <td>2.0</td>\n",
       "      <td>1.3</td>\n",
       "      <td>1.0</td>\n",
       "      <td>0.0</td>\n",
       "      <td>0.0</td>\n",
       "      <td>0.0</td>\n",
       "      <td>1.0</td>\n",
       "      <td>0.0</td>\n",
       "    </tr>\n",
       "    <tr>\n",
       "      <th>4768</th>\n",
       "      <td>38.0</td>\n",
       "      <td>14.0</td>\n",
       "      <td>39.0</td>\n",
       "      <td>1.0</td>\n",
       "      <td>2.0</td>\n",
       "      <td>2.0</td>\n",
       "      <td>0.0</td>\n",
       "      <td>0.0</td>\n",
       "      <td>0.0</td>\n",
       "      <td>1.0</td>\n",
       "      <td>0.0</td>\n",
       "    </tr>\n",
       "    <tr>\n",
       "      <th>65</th>\n",
       "      <td>59.0</td>\n",
       "      <td>35.0</td>\n",
       "      <td>131.0</td>\n",
       "      <td>1.0</td>\n",
       "      <td>3.8</td>\n",
       "      <td>1.0</td>\n",
       "      <td>0.0</td>\n",
       "      <td>0.0</td>\n",
       "      <td>0.0</td>\n",
       "      <td>1.0</td>\n",
       "      <td>1.0</td>\n",
       "    </tr>\n",
       "    <tr>\n",
       "      <th>177</th>\n",
       "      <td>29.0</td>\n",
       "      <td>3.0</td>\n",
       "      <td>65.0</td>\n",
       "      <td>4.0</td>\n",
       "      <td>1.8</td>\n",
       "      <td>2.0</td>\n",
       "      <td>244.0</td>\n",
       "      <td>0.0</td>\n",
       "      <td>0.0</td>\n",
       "      <td>0.0</td>\n",
       "      <td>0.0</td>\n",
       "    </tr>\n",
       "    <tr>\n",
       "      <th>4489</th>\n",
       "      <td>39.0</td>\n",
       "      <td>13.0</td>\n",
       "      <td>21.0</td>\n",
       "      <td>3.0</td>\n",
       "      <td>0.2</td>\n",
       "      <td>2.0</td>\n",
       "      <td>0.0</td>\n",
       "      <td>0.0</td>\n",
       "      <td>0.0</td>\n",
       "      <td>1.0</td>\n",
       "      <td>0.0</td>\n",
       "    </tr>\n",
       "  </tbody>\n",
       "</table>\n",
       "</div>"
      ],
      "text/plain": [
       "       Age  CustomerSince  HighestSpend  HiddenScore  MonthlyAverageSpend  \\\n",
       "1334  47.0           22.0          35.0          2.0                  1.3   \n",
       "4768  38.0           14.0          39.0          1.0                  2.0   \n",
       "65    59.0           35.0         131.0          1.0                  3.8   \n",
       "177   29.0            3.0          65.0          4.0                  1.8   \n",
       "4489  39.0           13.0          21.0          3.0                  0.2   \n",
       "\n",
       "      Level  Mortgage  Security  FixedDepositAccount  InternetBanking  \\\n",
       "1334    1.0       0.0       0.0                  0.0              1.0   \n",
       "4768    2.0       0.0       0.0                  0.0              1.0   \n",
       "65      1.0       0.0       0.0                  0.0              1.0   \n",
       "177     2.0     244.0       0.0                  0.0              0.0   \n",
       "4489    2.0       0.0       0.0                  0.0              1.0   \n",
       "\n",
       "      CreditCard  \n",
       "1334         0.0  \n",
       "4768         0.0  \n",
       "65           1.0  \n",
       "177          0.0  \n",
       "4489         0.0  "
      ]
     },
     "execution_count": 217,
     "metadata": {},
     "output_type": "execute_result"
    }
   ],
   "source": [
    "x_train, x_test, y_train, y_test = train_test_split(X, Y, test_size=0.3, random_state=1)\n",
    "x_train.head()"
   ]
  },
  {
   "cell_type": "code",
   "execution_count": 218,
   "metadata": {},
   "outputs": [
    {
     "data": {
      "text/plain": [
       "0.0    0.905429\n",
       "1.0    0.094571\n",
       "Name: LoanOnCard, dtype: float64"
      ]
     },
     "execution_count": 218,
     "metadata": {},
     "output_type": "execute_result"
    }
   ],
   "source": [
    "y_train.value_counts(normalize='True')"
   ]
  },
  {
   "cell_type": "code",
   "execution_count": 219,
   "metadata": {},
   "outputs": [
    {
     "data": {
      "text/plain": [
       "0.0    0.900667\n",
       "1.0    0.099333\n",
       "Name: LoanOnCard, dtype: float64"
      ]
     },
     "execution_count": 219,
     "metadata": {},
     "output_type": "execute_result"
    }
   ],
   "source": [
    "y_test.value_counts(normalize='True')"
   ]
  },
  {
   "cell_type": "markdown",
   "metadata": {},
   "source": [
    "Here, we see that the training and the testing variables, also are imbalanced. However, the proportion of different classes is close to that of the original data."
   ]
  },
  {
   "cell_type": "markdown",
   "metadata": {},
   "source": [
    "<span style=\"font-family: Arial; font-weight:bold;font-size:2em;color:#00b3e5;\"> 5 Model training, testing and tuning"
   ]
  },
  {
   "cell_type": "markdown",
   "metadata": {},
   "source": [
    "<span style=\"font-family: Arial; font-weight:bold;font-size:1em;color:#00b3e5;\"> • Design and train a Logistic regression "
   ]
  },
  {
   "cell_type": "code",
   "execution_count": 220,
   "metadata": {},
   "outputs": [],
   "source": [
    "model = LogisticRegression(solver=\"liblinear\")\n",
    "model.fit(x_train, y_train)\n",
    "\n",
    "y_predict = model.predict(x_test)"
   ]
  },
  {
   "cell_type": "markdown",
   "metadata": {},
   "source": [
    "<span style=\"font-family: Arial; font-weight:bold;font-size:1em;color:#00b3e5;\">  • Display the classification accuracies for train and test data"
   ]
  },
  {
   "cell_type": "code",
   "execution_count": 221,
   "metadata": {},
   "outputs": [
    {
     "name": "stdout",
     "output_type": "stream",
     "text": [
      "Classification accuracy of the test data : 0.952\n"
     ]
    }
   ],
   "source": [
    "print('Classification accuracy of the train data :',model.score(x_train, y_train))"
   ]
  },
  {
   "cell_type": "code",
   "execution_count": 222,
   "metadata": {},
   "outputs": [
    {
     "name": "stdout",
     "output_type": "stream",
     "text": [
      "Classification accuracy of the test data : 0.9446666666666667\n"
     ]
    }
   ],
   "source": [
    "print('Classification accuracy of the test data :',model.score(x_test, y_test))"
   ]
  },
  {
   "cell_type": "code",
   "execution_count": 223,
   "metadata": {},
   "outputs": [
    {
     "data": {
      "text/plain": [
       "<matplotlib.axes._subplots.AxesSubplot at 0x1ca7a5253c8>"
      ]
     },
     "execution_count": 223,
     "metadata": {},
     "output_type": "execute_result"
    },
    {
     "data": {
      "image/png": "[encoded data removed]",
      "text/plain": [
       "<Figure size 432x288 with 2 Axes>"
      ]
     },
     "metadata": {
      "needs_background": "light"
     },
     "output_type": "display_data"
    }
   ],
   "source": [
    "conf_mat = metrics.confusion_matrix(y_test,y_predict)\n",
    "df_conf_mat = pd.DataFrame(conf_mat)\n",
    "sns.heatmap(df_conf_mat,annot=True,cmap='Blues',fmt='g')"
   ]
  },
  {
   "cell_type": "markdown",
   "metadata": {},
   "source": [
    "From the confusion matrix we can say that:\n",
    "1. True Positives (TP): we correctly predicted that they took loan are 84\n",
    "2. True Negatives (TN): we correctly predicted that they they did not take loan are 1333\n",
    "3. False Positives (FP): we incorrectly predicted that they they took loan are 18 - Type I error\n",
    "4. False Negatives (FN): we incorrectly predicted that they they did not took loan are 65 - Type II error"
   ]
  },
  {
   "cell_type": "markdown",
   "metadata": {},
   "source": [
    "<span style=\"font-family: Arial; font-weight:bold;font-size:1em;color:#00b3e5;\">  • Classification report"
   ]
  },
  {
   "cell_type": "code",
   "execution_count": 224,
   "metadata": {},
   "outputs": [
    {
     "name": "stdout",
     "output_type": "stream",
     "text": [
      "              precision    recall  f1-score   support\n",
      "\n",
      "         0.0       0.95      0.99      0.97      1351\n",
      "         1.0       0.82      0.56      0.67       149\n",
      "\n",
      "    accuracy                           0.94      1500\n",
      "   macro avg       0.89      0.78      0.82      1500\n",
      "weighted avg       0.94      0.94      0.94      1500\n",
      "\n"
     ]
    }
   ],
   "source": [
    "print(metrics.classification_report(y_test,y_predict,digits=2))"
   ]
  },
  {
   "cell_type": "markdown",
   "metadata": {},
   "source": [
    "Using the solver 'liblinear': \n",
    "1. We observe that 95% and 82% of the testing varaibles is correctly identified as opted for loan out of the total identified positives of opted and not opted respectively.\n",
    "2.  We observe that 99% and 56% of the testing varaibles is correctly identified as opted for loan out of the total true actual positives of opted and not opted respectively.\n",
    "3. Also, we observe that 94% of the testing varaibles is correctly identified as either opted for loan or not opted for loan of all the testing varaibles."
   ]
  },
  {
   "cell_type": "markdown",
   "metadata": {},
   "source": [
    "<span style=\"font-family: Arial; font-weight:bold;font-size:2em;color:#00b3e5;\"> • Design and train a Naive Bayes classifiers"
   ]
  },
  {
   "cell_type": "code",
   "execution_count": 225,
   "metadata": {},
   "outputs": [],
   "source": [
    "model_NB = GaussianNB()\n",
    "model_NB.fit(x_train, y_train)\n",
    "y_predict_NB = model_NB.predict(x_test)"
   ]
  },
  {
   "cell_type": "markdown",
   "metadata": {},
   "source": [
    "<span style=\"font-family: Arial; font-weight:bold;font-size:1em;color:#00b3e5;\">  • Classification accuracies for train and test data"
   ]
  },
  {
   "cell_type": "code",
   "execution_count": 226,
   "metadata": {},
   "outputs": [
    {
     "name": "stdout",
     "output_type": "stream",
     "text": [
      "Classification accuracy of the test data : 0.89\n"
     ]
    }
   ],
   "source": [
    "print('Classification accuracy of the test data :',model_NB.score(x_train, y_train))"
   ]
  },
  {
   "cell_type": "code",
   "execution_count": 227,
   "metadata": {},
   "outputs": [
    {
     "name": "stdout",
     "output_type": "stream",
     "text": [
      "Classification accuracy of the test data : 0.8746666666666667\n"
     ]
    }
   ],
   "source": [
    "print('Classification accuracy of the test data :',model_NB.score(x_test, y_test))"
   ]
  },
  {
   "cell_type": "code",
   "execution_count": 228,
   "metadata": {},
   "outputs": [
    {
     "data": {
      "text/plain": [
       "<matplotlib.axes._subplots.AxesSubplot at 0x1ca78b80d88>"
      ]
     },
     "execution_count": 228,
     "metadata": {},
     "output_type": "execute_result"
    },
    {
     "data": {
      "image/png": "[encoded data removed]",
      "text/plain": [
       "<Figure size 432x288 with 2 Axes>"
      ]
     },
     "metadata": {
      "needs_background": "light"
     },
     "output_type": "display_data"
    }
   ],
   "source": [
    "conf_mat = metrics.confusion_matrix(y_test,y_predict_NB)\n",
    "df_conf_mat = pd.DataFrame(conf_mat)\n",
    "sns.heatmap(df_conf_mat,annot=True,cmap='Blues',fmt='g')"
   ]
  },
  {
   "cell_type": "markdown",
   "metadata": {},
   "source": [
    "From the confusion matrix we can say that:\n",
    "1. True Positives (TP): we correctly predicted that they took loan are 84\n",
    "2. True Negatives (TN): we correctly predicted that they they did not take loan are 1228\n",
    "3. False Positives (FP): we incorrectly predicted that they they took loan are 123 - Type I error\n",
    "4. False Negatives (FN): we incorrectly predicted that they they did not took loan are 65 - Type II error"
   ]
  },
  {
   "cell_type": "markdown",
   "metadata": {},
   "source": [
    "<span style=\"font-family: Arial; font-weight:bold;font-size:1em;color:#00b3e5;\">  • Display and explain the classification report in detail"
   ]
  },
  {
   "cell_type": "code",
   "execution_count": 229,
   "metadata": {},
   "outputs": [
    {
     "name": "stdout",
     "output_type": "stream",
     "text": [
      "              precision    recall  f1-score   support\n",
      "\n",
      "         0.0       0.95      0.91      0.93      1351\n",
      "         1.0       0.41      0.56      0.47       149\n",
      "\n",
      "    accuracy                           0.87      1500\n",
      "   macro avg       0.68      0.74      0.70      1500\n",
      "weighted avg       0.90      0.87      0.88      1500\n",
      "\n"
     ]
    }
   ],
   "source": [
    "print(metrics.classification_report(y_test,y_predict_NB,digits=2))"
   ]
  },
  {
   "cell_type": "markdown",
   "metadata": {},
   "source": [
    "Using the Naive Bayes classifier: \n",
    "1. We observe that 95% and 41% of the testing varaibles is correctly identified as opted for loan out of the total identified positives of opted and not opted respectively.\n",
    "2.  We observe that 91% and 56% of the testing varaibles is correctly identified as opted for loan out of the total true actual positives of opted and not opted respectively.\n",
    "3. Also, we observe that 87% of the testing varaibles is correctly identified as either opted for loan or not opted for loan of all the testing varaibles."
   ]
  },
  {
   "cell_type": "markdown",
   "metadata": {},
   "source": [
    "<span style=\"font-family: Arial; font-weight:bold;font-size:1em;color:#00b3e5;\"> • Apply all the possible tuning techniques to train the best model for the given data"
   ]
  },
  {
   "cell_type": "code",
   "execution_count": 230,
   "metadata": {},
   "outputs": [
    {
     "name": "stdout",
     "output_type": "stream",
     "text": [
      "Best solver:  liblinear\n",
      "Best penalty:  l2\n",
      "Best c_values:  100\n",
      "Best accuracy:  0.9524761904761904\n"
     ]
    }
   ],
   "source": [
    "solvers = ['newton-cg', 'liblinear']\n",
    "c_values = [100,10,1,0.1,0.01]\n",
    "\n",
    "hyperparameters = dict(solver=solvers,C=c_values)\n",
    "cv = RepeatedStratifiedKFold(n_splits=10,n_repeats=3,random_state=1)\n",
    "grid_search = GridSearchCV(LogisticRegression(),hyperparameters,cv=cv,scoring='accuracy')\n",
    "best_model = grid_search.fit(x_train,y_train)\n",
    "\n",
    "print('Best solver: ', (best_model.best_estimator_.get_params()['solver']))\n",
    "print('Best penalty: ', (best_model.best_estimator_.get_params()['penalty']))\n",
    "print('Best c_values: ', (best_model.best_estimator_.get_params()['C']))\n",
    "print('Best accuracy: ', (best_model.best_score_))"
   ]
  },
  {
   "cell_type": "markdown",
   "metadata": {},
   "source": [
    "Using grid search, we find that the best accuracy of 95.24% is obtained using liblinear and a c_value of 100. "
   ]
  },
  {
   "cell_type": "markdown",
   "metadata": {},
   "source": [
    "<span style=\"font-family: Arial; font-weight:bold;font-size:2em;color:#00b3e5;\"> 6 Conclusion"
   ]
  },
  {
   "cell_type": "markdown",
   "metadata": {},
   "source": [
    "1. The given classification problem consists of target advertisements to improve the conversion ratio of a bank.\n",
    "2. From the EDA, it is observed that the age, association with the bank have negative correlation with the target variable.\n",
    "3. Also, the mostly correlated variables are the highest spend and the monthly average spend.\n",
    "4. Other variables like internet banking and credit card are not that influential on the target variable.\n",
    "5. Using logistic regression, we are able to obtain 94% classification accuracy. \n",
    "6. Using grid search, there is only marginal increase in the accuracy of the logistic regression model.\n",
    "7. However, using Naive Bayes classifier, we are able to obtain only 87.5% classification accuracy. "
   ]
  },
  {
   "cell_type": "markdown",
   "metadata": {},
   "source": [
    "<span style=\"font-family: Arial; font-weight:bold;font-size:2em;color:#00b3e5;\"> 7 Improvisation"
   ]
  },
  {
   "cell_type": "markdown",
   "metadata": {},
   "source": [
    "1. Given the binary classification problem one should try SVM, Decision tree etc... to obtain better results.\n",
    "2. The given data seem to be well collected but for improvisation purposes, one can also look at other attributes like the personal income, number of dependents, personal loan etc..."
   ]
  }
 ],
 "metadata": {
  "kernelspec": {
   "display_name": "Python 3",
   "language": "python",
   "name": "python3"
  },
  "language_info": {
   "codemirror_mode": {
    "name": "ipython",
    "version": 3
   },
   "file_extension": ".py",
   "mimetype": "text/x-python",
   "name": "python",
   "nbconvert_exporter": "python",
   "pygments_lexer": "ipython3",
   "version": "3.7.6"
  }
 },
 "nbformat": 4,
 "nbformat_minor": 4
}
